{
 "cells": [
  {
   "cell_type": "markdown",
   "id": "2d4444c8-b5cf-40eb-984c-2e37c971943b",
   "metadata": {},
   "source": [
    "# 2. Uproot - iteration and writing"
   ]
  },
  {
   "cell_type": "markdown",
   "id": "8fb79b2b-1074-4ccb-9b10-7cc607cd8dee",
   "metadata": {},
   "source": [
    "<br><br><br><br><br>\n",
    "\n",
    "## Managing work with Uproot.iterate and writing data to root files"
   ]
  },
  {
   "cell_type": "code",
   "execution_count": null,
   "id": "1f3d34b3-9b80-4727-ba81-9e231f05907b",
   "metadata": {},
   "outputs": [],
   "source": [
    "import numpy as np\n",
    "import awkward as ak\n",
    "import uproot\n",
    "import hist\n",
    "\n",
    "import IPython\n",
    "import matplotlib.pyplot as plt\n",
    "import matplotlib.pylab"
   ]
  },
  {
   "cell_type": "markdown",
   "id": "cf71a6c2-6195-4105-a760-e1fde4308838",
   "metadata": {},
   "source": [
    "<br><br><br>\n",
    "\n",
    "### Get arrays in manageable chunks\n",
    "\n",
    "The [iterate](https://uproot.readthedocs.io/en/latest/uproot.behaviors.TBranch.HasBranches.html#iterate) method is like [arrays](https://uproot.readthedocs.io/en/latest/uproot.behaviors.TBranch.HasBranches.html#arrays), but it can be used in a loop over chunks of the array.\n",
    "\n",
    "How large are the chunks? You should set that with `step_size`."
   ]
  },
  {
   "cell_type": "code",
   "execution_count": null,
   "id": "519763dd",
   "metadata": {},
   "outputs": [],
   "source": [
    "events = uproot.open(\"data/Zmumu.root\")[\"events\"]"
   ]
  },
  {
   "cell_type": "code",
   "execution_count": null,
   "id": "7bfca46d-9370-4d94-9aee-e74af0a787ad",
   "metadata": {},
   "outputs": [],
   "source": [
    "for arrays in events.iterate(step_size=\"50 kB\"):   # 50 kB is very small! for illustrative purposes only!\n",
    "    print(repr(arrays))"
   ]
  },
  {
   "cell_type": "markdown",
   "id": "a25bccb4-4ec7-4beb-a941-2fcef6265c5b",
   "metadata": {},
   "source": [
    "<br><br><br>\n",
    "\n",
    "### Collections of files (like TChain)\n",
    "\n",
    "If you want to read a bunch of files in one call, it has to be a function, rather than a method of [TTree](https://uproot.readthedocs.io/en/latest/uproot.behaviors.TTree.TTree.html).\n",
    "\n",
    "   * The equivalent of [TTree](https://uproot.readthedocs.io/en/latest/uproot.behaviors.TTree.TTree.html) [arrays](https://uproot.readthedocs.io/en/latest/uproot.behaviors.TTree.TTree.html#arrays) is [uproot.concatenate](https://uproot.readthedocs.io/en/latest/uproot.behaviors.TBranch.concatenate.html). _(Reads everything at once: use this as a convenience on datasets you know are small!)_\n",
    "   * The equivalent of [TTree](https://uproot.readthedocs.io/en/latest/uproot.behaviors.TTree.TTree.html) [iterate](https://uproot.readthedocs.io/en/latest/uproot.behaviors.TTree.TTree.html#iterate) is [uproot.iterate](https://uproot.readthedocs.io/en/latest/uproot.behaviors.TBranch.iterate.html). _(This is the most useful one.)_\n",
    "   * There's also an [uproot.lazy](https://uproot.readthedocs.io/en/latest/uproot.behaviors.TBranch.lazy.html) _(More on this below.)_"
   ]
  },
  {
   "cell_type": "code",
   "execution_count": null,
   "id": "73eda65a-136b-44c8-b994-3e41204f11cb",
   "metadata": {
    "tags": []
   },
   "outputs": [],
   "source": [
    "h1 = hist.Hist.new.Reg(500, 0, 500, name=\"mass\").Double()\n",
    "h3 = hist.Hist(\n",
    "    hist.axis.Regular(250, 0, 500, name=\"mass\", label=\"$m_{ll}$ [GeV]\"),\n",
    "    hist.axis.Integer(-2, 3, name=\"chargesum\", label=\"$\\Sigma \\text{charge}_\\mu$\"),\n",
    "    hist.axis.Variable([0, 0.2, 0.5, 1.0, 2.0, 5.0], name=\"deta\", label=\"$\\Delta\\eta(m_1,m_2)$\"),\n",
    "    hist.storage.Double()\n",
    ")\n",
    "drawables = []\n",
    "\n",
    "for muons in uproot.iterate(\n",
    "    # filename(s)\n",
    "    [\"root://eospublic.cern.ch//eos/opendata/cms/derived-data/AOD2NanoAODOutreachTool/Run2012BC_DoubleMuParked_Muons.root:Events\"],\n",
    "\n",
    "    # branches to read as expressions\n",
    "    [\"Muon_pt\", \"Muon_eta\", \"Muon_phi\", \"Muon_charge\"],\n",
    "\n",
    "    # cut to apply to expressions\n",
    "    cut=\"nMuon >= 2\",\n",
    "\n",
    "    # library dependent; for library=\"ak\", try to split branch names at underscore and make nested records (poor man's NanoEvents)\n",
    "    how=\"zip\",\n",
    "\n",
    "    # the all-important step_size!\n",
    "    step_size=\"1 MB\",\n",
    "\n",
    "    # options you would normally pass to uproot.open\n",
    "    xrootd_handler=uproot.MultithreadedXRootDSource,\n",
    "    num_workers=10,\n",
    "):\n",
    "    # do everything you're going to do to this array\n",
    "    os_cut = muons[:, \"Muon\", \"charge\", 0] != muons[:, \"Muon\", \"charge\", 1]\n",
    "    mu1 = muons[os_cut, 0, \"Muon\"]\n",
    "    mu2 = muons[os_cut, 1, \"Muon\"]\n",
    "    \n",
    "    # such as filling a histogram\n",
    "    h1.fill(np.sqrt(2*mu1.pt*mu2.pt*(np.cosh(mu1.eta - mu2.eta) - np.cos(mu1.phi - mu2.phi))))\n",
    "    \n",
    "    # we can also look at same-sign events\n",
    "    ss_cut = ~os_cut\n",
    "    mu1 = muons[ss_cut, 0, \"Muon\"]\n",
    "    mu2 = muons[ss_cut, 1, \"Muon\"]\n",
    "    \n",
    "    ss_invmass = np.sqrt(2*mu1.pt*mu2.pt*(np.cosh(mu1.eta - mu2.eta) - np.cos(mu1.phi - mu2.phi)))\n",
    "    ss_deta = np.abs(mu1.eta - mu2.eta)\n",
    "    ss_charge = mu1.charge + mu2.charge\n",
    "    \n",
    "    # filling a 3-dim histogram\n",
    "    h3.fill(mass=ss_invmass, chargesum=ss_charge, deta=ss_deta)\n",
    "\n",
    "    # a little magic to animate it; hardest part is removing the previous plots\n",
    "    for drawable in drawables:\n",
    "        drawable.stairs.remove()\n",
    "        drawable.errorbar.remove()\n",
    "        drawable.legend_artist.remove()\n",
    "    drawables = h1.plot(color=\"blue\")\n",
    "    plt.yscale(\"log\")\n",
    "    IPython.display.display(matplotlib.pylab.gcf())\n",
    "    IPython.display.clear_output(wait=True)"
   ]
  },
  {
   "cell_type": "markdown",
   "id": "67265d3c-34ea-44b3-9132-a885e9598cf7",
   "metadata": {},
   "source": [
    "<br><br><br>\n",
    "\n",
    "### Lazy arrays\n",
    "\n",
    "Lazy arrays were introduced so that you can explore a large dataset without knowing ahead of time what parts you're going to read."
   ]
  },
  {
   "cell_type": "code",
   "execution_count": null,
   "id": "ba9b57d0-58f7-4c01-a5be-9b568a8cd87e",
   "metadata": {},
   "outputs": [],
   "source": [
    "events = uproot.lazy(\n",
    "    # filename(s)\n",
    "    [\"root://eospublic.cern.ch//eos/opendata/cms/derived-data/AOD2NanoAODOutreachTool/Run2012BC_DoubleMuParked_Muons.root:Events\"],\n",
    "    # step_size is still important\n",
    "    step_size=\"1 MB\",\n",
    ")\n",
    "events"
   ]
  },
  {
   "cell_type": "code",
   "execution_count": null,
   "id": "c93fd314-b1d4-47ce-bdbe-52e632b1180a",
   "metadata": {},
   "outputs": [],
   "source": [
    "events.type"
   ]
  },
  {
   "cell_type": "code",
   "execution_count": null,
   "id": "099bc0d7-e4c9-4d45-bec7-d51b06c30084",
   "metadata": {},
   "outputs": [],
   "source": [
    "len(events)"
   ]
  },
  {
   "cell_type": "markdown",
   "id": "7d0725a0-2103-4a0f-a597-29a2b0f4da93",
   "metadata": {},
   "source": [
    "It _looks like_ we've read that big remote file.\n",
    "\n",
    "But actually (if we peek in the lazy array's cache), we've only read 3 TBaskets."
   ]
  },
  {
   "cell_type": "code",
   "execution_count": null,
   "id": "5536866c-694e-4d5a-aaa1-5740f993a1be",
   "metadata": {},
   "outputs": [],
   "source": [
    "events._caches[0].keys()"
   ]
  },
  {
   "cell_type": "code",
   "execution_count": null,
   "id": "791537dc-482d-4f56-896e-f3109b7a0440",
   "metadata": {},
   "outputs": [],
   "source": [
    "events.Muon_pt"
   ]
  },
  {
   "cell_type": "markdown",
   "id": "99da44b3-1c50-4d35-a898-e353c98736d7",
   "metadata": {},
   "source": [
    "Now 4 TBaskets..."
   ]
  },
  {
   "cell_type": "code",
   "execution_count": null,
   "id": "f01a6c87-6a9d-4990-a55e-49deea3f3dcf",
   "metadata": {},
   "outputs": [],
   "source": [
    "events._caches[0].keys()"
   ]
  },
  {
   "cell_type": "markdown",
   "id": "43dfae28-46bb-4311-92bc-4bcc1cffcefd",
   "metadata": {},
   "source": [
    "<div style=\"font-size: 25px; margin: 10px; padding: 30px; border: 1px dashed black;\">\n",
    "    Big important warning: <b>this access pattern is not read or memory efficient!</b>\n",
    "</div>"
   ]
  },
  {
   "cell_type": "markdown",
   "id": "d98ea07d-36ef-4b16-b36c-9c217de3e1b1",
   "metadata": {},
   "source": [
    "This pattern is much better for exploration, to compute quantities without having to decide ahead of time which branches you'll need.\n",
    "\n",
    "**Recommendation:** develop with lazy arrays, but then put the calculation into an [iterate](https://uproot.readthedocs.io/en/latest/uproot.behaviors.TBranch.iterate.html) loop or a [Coffea Processor](https://coffeateam.github.io/coffea/notebooks/processor.html)."
   ]
  },
  {
   "cell_type": "markdown",
   "id": "b995e278",
   "metadata": {},
   "source": [
    "<br><br><br>\n",
    "\n",
    "### Writing histograms to root files\n",
    "\n",
    "Writing histograms to root files is possible with a simple key-value syntax. np.histogram and hist/boost-histograms can be written without any wrapping code\n",
    "\n",
    "[WritableDirectory](https://uproot.readthedocs.io/en/latest/uproot.writing.writable.WritableDirectory.html)\n",
    "\n",
    "We use [uproot.recreate](https://uproot.readthedocs.io/en/latest/uproot.writing.writable.recreate.html) (which, like ROOT's \"recreate\" mode, will create or overwrite an existing file with the given name; [uproot.update](https://uproot.readthedocs.io/en/latest/uproot.writing.writable.update.html) is also available)"
   ]
  },
  {
   "cell_type": "code",
   "execution_count": null,
   "id": "86d48882",
   "metadata": {},
   "outputs": [],
   "source": [
    "with uproot.recreate(\"histos.root\") as hfile:\n",
    "    # we can write histograms in 3 dimensions (-> TH3D)\n",
    "    hfile[\"threeD/hist\"] = h3\n",
    "    \n",
    "    # project and save in 2 dimensions\n",
    "    hfile[\"twoD/mass_deta\"] = h3.project(\"mass\", \"deta\")\n",
    "    hfile[\"twoD/mass_charge\"] = h3.project(\"mass\", \"chargesum\")\n",
    "    \n",
    "    # slice and save the opposite-sign and same-sign invariant mass distributions\n",
    "    hfile[\"oneD/mass_SS\"] = h3.project(\"mass\")\n",
    "    hfile[\"oneD/mass_OS\"] = h1"
   ]
  },
  {
   "cell_type": "markdown",
   "id": "8817910c",
   "metadata": {},
   "source": [
    "Lets open the file and check the contents"
   ]
  },
  {
   "cell_type": "code",
   "execution_count": null,
   "id": "ba3a5203",
   "metadata": {},
   "outputs": [],
   "source": [
    "hfo = uproot.open(\"histos.root\")\n",
    "hfo.keys(cycle=False)"
   ]
  },
  {
   "cell_type": "markdown",
   "id": "9b440830",
   "metadata": {},
   "source": [
    "How were our hist-histograms stored? \n",
    "\n",
    "As TH3, TH2, and TH1 types. "
   ]
  },
  {
   "cell_type": "code",
   "execution_count": null,
   "id": "21e551ca",
   "metadata": {},
   "outputs": [],
   "source": [
    "hfo.classnames()"
   ]
  },
  {
   "cell_type": "markdown",
   "id": "79b293e8",
   "metadata": {},
   "source": [
    "We can convert back to hist and plot the two invariant mass projections, for same-sign and opposite-sign muon pairs:"
   ]
  },
  {
   "cell_type": "code",
   "execution_count": null,
   "id": "e4de007c",
   "metadata": {},
   "outputs": [],
   "source": [
    "hfo[\"oneD/mass_SS\"].to_hist().plot(), hfo[\"oneD/mass_OS\"].to_hist().plot()\n",
    "plt.yscale(\"log\")"
   ]
  },
  {
   "cell_type": "markdown",
   "id": "d8bdd267",
   "metadata": {},
   "source": [
    "And here's the fraction of two-muon and two anti-muons events"
   ]
  },
  {
   "cell_type": "code",
   "execution_count": null,
   "id": "6178d9bd",
   "metadata": {},
   "outputs": [],
   "source": [
    "hfo[\"threeD/hist\"].to_hist().project(\"chargesum\").plot(density=True)"
   ]
  },
  {
   "cell_type": "markdown",
   "id": "af50c9bf",
   "metadata": {},
   "source": [
    "<br><br><br>\n",
    "\n",
    "### Writing TTrees to root files\n",
    "\n",
    "uproot supports writing multiple data types as TTrees, including numpy arrays and awkward arrays\n",
    "\n",
    "[uproot.WritableTree](https://uproot.readthedocs.io/en/latest/uproot.writing.writable.WritableTree.html)"
   ]
  },
  {
   "cell_type": "code",
   "execution_count": null,
   "id": "d555cc65",
   "metadata": {},
   "outputs": [],
   "source": [
    "# first we'll open a file\n",
    "tree_file = uproot.recreate(\"tree.root\")\n",
    "\n",
    "for idx, muons in enumerate(uproot.iterate(\n",
    "    # filename(s)\n",
    "    [\"root://eospublic.cern.ch//eos/opendata/cms/derived-data/AOD2NanoAODOutreachTool/Run2012BC_DoubleMuParked_Muons.root:Events\"],\n",
    "    # branches to read as expressions\n",
    "    [\"Muon_pt\", \"Muon_eta\", \"Muon_phi\", \"Muon_charge\"],\n",
    "    cut=\"nMuon >= 2\",\n",
    "    how=\"zip\",\n",
    "    step_size=\"10 MB\",\n",
    "    xrootd_handler=uproot.MultithreadedXRootDSource,\n",
    "    num_workers=10,\n",
    "    )):\n",
    "    \n",
    "        # OS muons again\n",
    "        os_cut = muons[:, \"Muon\", \"charge\", 0] != muons[:, \"Muon\", \"charge\", 1]\n",
    "        mu1 = muons[:, 0, \"Muon\"]\n",
    "        mu2 = muons[:, 1, \"Muon\"]\n",
    "        \n",
    "        # calculate the invariant mass again\n",
    "        invmass = np.sqrt(2*mu1.pt*mu2.pt*(np.cosh(mu1.eta - mu2.eta) - np.cos(mu1.phi - mu2.phi)))\n",
    "        \n",
    "        # compose two cuts to reduce data\n",
    "        final_cut = os_cut & (invmass > 75)\n",
    "        \n",
    "        # lets create arrays with only the opposite-sign muons with invariant mass over 75\n",
    "        final_muons = muons[final_cut].Muon\n",
    "        final_mass = invmass[final_cut]\n",
    "        \n",
    "        # pack the arrays into a dictionary, keeping final_muons as an ak.array and final_mass as an np.array\n",
    "        contents = {\"Muon\": final_muons, \"InvMass\": final_mass}\n",
    "        \n",
    "        # if this is the first write, assign directly \n",
    "        if idx == 0:\n",
    "            tree_file[\"OSMuonEvents\"] = contents\n",
    "        # otherwise we extend\n",
    "        else:\n",
    "            tree_file[\"OSMuonEvents\"].extend(contents)\n",
    "tree_file.close()"
   ]
  },
  {
   "cell_type": "markdown",
   "id": "5e856b22",
   "metadata": {},
   "source": [
    "What data types were stored?"
   ]
  },
  {
   "cell_type": "code",
   "execution_count": null,
   "id": "6a79b08e",
   "metadata": {},
   "outputs": [],
   "source": [
    "tf = uproot.open(\"tree.root\")\n",
    "tree = tf['OSMuonEvents']\n",
    "tree.show()"
   ]
  }
 ],
 "metadata": {
  "kernelspec": {
   "display_name": "Python 3",
   "language": "python",
   "name": "python3"
  },
  "language_info": {
   "codemirror_mode": {
    "name": "ipython",
    "version": 3
   },
   "file_extension": ".py",
   "mimetype": "text/x-python",
   "name": "python",
   "nbconvert_exporter": "python",
   "pygments_lexer": "ipython3",
   "version": "3.9.12"
  }
 },
 "nbformat": 4,
 "nbformat_minor": 5
}
