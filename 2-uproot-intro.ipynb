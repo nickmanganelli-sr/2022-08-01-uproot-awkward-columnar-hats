{
 "cells": [
  {
   "cell_type": "markdown",
   "id": "2d4444c8-b5cf-40eb-984c-2e37c971943b",
   "metadata": {},
   "source": [
    "# 2. Uproot"
   ]
  },
  {
   "cell_type": "markdown",
   "id": "8fb79b2b-1074-4ccb-9b10-7cc607cd8dee",
   "metadata": {},
   "source": [
    "<br><br><br><br><br>\n",
    "\n",
    "## What a ~complete analysis looks like in Uproot/Awkward Array\n",
    "\n",
    "Instead of starting with small steps, let's look at where this is going, what a sample analysis looks like with these tools."
   ]
  },
  {
   "cell_type": "code",
   "execution_count": null,
   "id": "73e240fe-2e64-4132-b7a8-617b57b11c7d",
   "metadata": {},
   "outputs": [],
   "source": [
    "import matplotlib.pyplot as plt\n",
    "import numpy as np\n",
    "import awkward as ak\n",
    "\n",
    "import uproot\n",
    "import hist"
   ]
  },
  {
   "cell_type": "code",
   "execution_count": null,
   "id": "002f8b6a-ae14-43be-bab7-1cebb3fc67c1",
   "metadata": {},
   "outputs": [],
   "source": [
    "upfile = uproot.open(\"root://eospublic.cern.ch//eos/opendata/cms/derived-data/AOD2NanoAODOutreachTool/Run2012BC_DoubleMuParked_Muons.root\")\n",
    "uptree = upfile[\"Events\"]\n",
    "uptree.show()"
   ]
  },
  {
   "cell_type": "markdown",
   "id": "fea3ab0f-371f-41eb-b561-f89c96d347f4",
   "metadata": {},
   "source": [
    "The general strategy is to get arrays in one function call (usually slow, has to read) and use them interactively afterward."
   ]
  },
  {
   "cell_type": "code",
   "execution_count": null,
   "id": "70b2a144-b6cb-4d30-bdd9-0cc56bce4379",
   "metadata": {},
   "outputs": [],
   "source": [
    "muons = uptree.arrays([\"Muon_pt\", \"Muon_eta\", \"Muon_phi\", \"Muon_charge\"], cut=\"nMuon >= 2\", how=\"zip\", entry_stop=100000)"
   ]
  },
  {
   "cell_type": "markdown",
   "id": "579fea6c-f7b6-4fcc-9a68-3adab807e3c7",
   "metadata": {},
   "source": [
    "We've already applied an `nMuon >= 2` cut, but we can define additional cuts."
   ]
  },
  {
   "cell_type": "code",
   "execution_count": null,
   "id": "ff2f64c9-bd11-4227-9ca7-c3c8f01e304d",
   "metadata": {},
   "outputs": [],
   "source": [
    "os_cut = muons[:, \"Muon\", \"charge\", 0] != muons[:, \"Muon\", \"charge\", 1]\n",
    "os_cut"
   ]
  },
  {
   "cell_type": "markdown",
   "id": "9806eaab-8cec-473d-8d5c-fd04e97a304f",
   "metadata": {},
   "source": [
    "Slicing (to be described in more detail later) can remove data and reduce the structure of an array."
   ]
  },
  {
   "cell_type": "code",
   "execution_count": null,
   "id": "6e588fd2-3f61-43fd-9c69-f9c1a9efa5de",
   "metadata": {},
   "outputs": [],
   "source": [
    "mu1 = muons[os_cut, 0, \"Muon\"]\n",
    "mu2 = muons[os_cut, 1, \"Muon\"]\n",
    "mu1, mu2"
   ]
  },
  {
   "cell_type": "markdown",
   "id": "b58cfc7d-57ae-4107-826b-0fbe1bd93f9a",
   "metadata": {},
   "source": [
    "Make a histogram and fill it with a calculation from the array. The mini-plot is just the way this histogram type is visualized in Jupyter."
   ]
  },
  {
   "cell_type": "code",
   "execution_count": null,
   "id": "e3c16710-82ff-4ef5-b7f8-b2b70afad43e",
   "metadata": {},
   "outputs": [],
   "source": [
    "h1 = hist.Hist.new.Reg(120, 0, 120, name=\"mass\").Double()"
   ]
  },
  {
   "cell_type": "code",
   "execution_count": null,
   "id": "6bc993fc-4dcf-4b02-ad6c-9e265e3df60c",
   "metadata": {},
   "outputs": [],
   "source": [
    "h1.fill(np.sqrt(2*mu1.pt*mu2.pt*(np.cosh(mu1.eta - mu2.eta) - np.cos(mu1.phi - mu2.phi))))"
   ]
  },
  {
   "cell_type": "markdown",
   "id": "b712a638-69b4-4a3b-b6fc-9aeddea3d988",
   "metadata": {},
   "source": [
    "Plot it using Matplotlib (for logscale)."
   ]
  },
  {
   "cell_type": "code",
   "execution_count": null,
   "id": "2d3fde17-8acc-47e7-bc7e-c50ba80c7977",
   "metadata": {},
   "outputs": [],
   "source": [
    "h1.plot()\n",
    "plt.yscale(\"log\")"
   ]
  },
  {
   "cell_type": "markdown",
   "id": "4be99cf3-da49-4e95-8032-81e9325fda9b",
   "metadata": {},
   "source": [
    "<br><br><br><br><br>\n",
    "\n",
    "## What a the same analysis looks like in PyROOT"
   ]
  },
  {
   "cell_type": "code",
   "execution_count": null,
   "id": "8069076d-3892-4c71-9e9c-be81bc50794b",
   "metadata": {},
   "outputs": [],
   "source": [
    "import ROOT\n",
    "c1 = ROOT.TCanvas()"
   ]
  },
  {
   "cell_type": "code",
   "execution_count": null,
   "id": "93794a0b-3480-423c-abf0-b80517c46937",
   "metadata": {},
   "outputs": [],
   "source": [
    "rootfile = ROOT.TFile.Open(\"root://eospublic.cern.ch//eos/opendata/cms/derived-data/AOD2NanoAODOutreachTool/Run2012BC_DoubleMuParked_Muons.root\")\n",
    "roottree = rootfile.Get(\"Events\")"
   ]
  },
  {
   "cell_type": "markdown",
   "id": "c104115a-a9ef-488e-876f-ef5b3f9b139b",
   "metadata": {},
   "source": [
    "ROOT analyses (before RDataFrame; see below) are based on an event loop. Reading and calculations are done in the loop.\n",
    "\n",
    "This is not following the \"one weird trick.\" That's why it's slow."
   ]
  },
  {
   "cell_type": "code",
   "execution_count": null,
   "id": "ea1b97ea-48a2-48ff-a074-9e114f828640",
   "metadata": {},
   "outputs": [],
   "source": [
    "h2 = ROOT.TH1D(\"h2\", \"mass\", 120, 0, 120)\n",
    "\n",
    "for index, event in enumerate(roottree):\n",
    "    # Analyzing a subsample means breaking out of the loop early.\n",
    "    if index == 100000:\n",
    "        break\n",
    "    # Applying cuts means if-statements.\n",
    "    if event.nMuon >= 2 and event.Muon_charge[0] != event.Muon_charge[1]:\n",
    "        mu1_pt = event.Muon_pt[0]\n",
    "        mu2_pt = event.Muon_pt[1]\n",
    "        mu1_eta = event.Muon_eta[0]\n",
    "        mu2_eta = event.Muon_eta[1]\n",
    "        mu1_phi = event.Muon_phi[0]\n",
    "        mu2_phi = event.Muon_phi[1]\n",
    "        h2.Fill(np.sqrt(2*mu1_pt*mu2_pt*(np.cosh(mu1_eta - mu2_eta) - np.cos(mu1_phi - mu2_phi))))"
   ]
  },
  {
   "cell_type": "code",
   "execution_count": null,
   "id": "2b1dc8bb-58a1-4609-85c6-2ea6d051e7aa",
   "metadata": {},
   "outputs": [],
   "source": [
    "h2.Draw()\n",
    "c1.SetLogy()\n",
    "c1.Draw()"
   ]
  },
  {
   "cell_type": "markdown",
   "id": "8358a124-4b4a-488d-89a9-07431143cabc",
   "metadata": {},
   "source": [
    "<br><br><br><br><br>\n",
    "\n",
    "## What a the same analysis looks like in old C++\n",
    "\n",
    "By \"old C++,\" I mean `TTree::GetEntry`. This is also a reading + calculating loop over events.\n",
    "\n",
    "Use `ROOT.gInterpreter.Declare` to define a C++ function in Python that we can use through PyROOT."
   ]
  },
  {
   "cell_type": "code",
   "execution_count": null,
   "id": "5c28ca22-406b-422d-a980-055027f3c02a",
   "metadata": {},
   "outputs": [],
   "source": [
    "ROOT.gInterpreter.Declare('''\n",
    "void compute(TH1D& h3, TTree& roottree) {\n",
    "    UInt_t nMuon;\n",
    "    float Muon_pt[50];\n",
    "    float Muon_eta[50];\n",
    "    float Muon_phi[50];\n",
    "    int32_t Muon_charge[50];\n",
    "\n",
    "    roottree.SetBranchStatus(\"*\", 0);\n",
    "    roottree.SetBranchStatus(\"nMuon\", 1);\n",
    "    roottree.SetBranchStatus(\"Muon_pt\", 1);\n",
    "    roottree.SetBranchStatus(\"Muon_eta\", 1);\n",
    "    roottree.SetBranchStatus(\"Muon_phi\", 1);\n",
    "    roottree.SetBranchStatus(\"Muon_charge\", 1);\n",
    "\n",
    "    roottree.SetBranchAddress(\"nMuon\", &nMuon);\n",
    "    roottree.SetBranchAddress(\"Muon_pt\", Muon_pt);\n",
    "    roottree.SetBranchAddress(\"Muon_eta\", Muon_eta);\n",
    "    roottree.SetBranchAddress(\"Muon_phi\", Muon_phi);\n",
    "    roottree.SetBranchAddress(\"Muon_charge\", Muon_charge);\n",
    "    \n",
    "    for (int index = 0; index < 100000; index++) {\n",
    "        roottree.GetEntry(index);\n",
    "        if (nMuon >= 2 && Muon_charge[0] != Muon_charge[1]) {\n",
    "            float mu1_pt = Muon_pt[0];\n",
    "            float mu2_pt = Muon_pt[1];\n",
    "            float mu1_eta = Muon_eta[0];\n",
    "            float mu2_eta = Muon_eta[1];\n",
    "            float mu1_phi = Muon_phi[0];\n",
    "            float mu2_phi = Muon_phi[1];\n",
    "            h3.Fill(sqrt(2*mu1_pt*mu2_pt*(cosh(mu1_eta - mu2_eta) - cos(mu1_phi - mu2_phi))));\n",
    "        }\n",
    "    }\n",
    "}\n",
    "''')"
   ]
  },
  {
   "cell_type": "code",
   "execution_count": null,
   "id": "c91cb692-ff46-40c8-bbde-1562073ba00d",
   "metadata": {},
   "outputs": [],
   "source": [
    "rootfile = ROOT.TFile.Open(\"root://eospublic.cern.ch//eos/opendata/cms/derived-data/AOD2NanoAODOutreachTool/Run2012BC_DoubleMuParked_Muons.root\")\n",
    "roottree = rootfile.Get(\"Events\")\n",
    "\n",
    "h3 = ROOT.TH1D(\"h3\", \"mass\", 120, 0, 120)\n",
    "\n",
    "ROOT.compute(h3, roottree)"
   ]
  },
  {
   "cell_type": "code",
   "execution_count": null,
   "id": "15d58a70-bad4-4a61-b37b-5ceee648cc63",
   "metadata": {},
   "outputs": [],
   "source": [
    "h3.Draw()\n",
    "c1.SetLogy()\n",
    "c1.Draw()"
   ]
  },
  {
   "cell_type": "markdown",
   "id": "df57ee78-c6e5-42b0-99bb-14c1524764b2",
   "metadata": {},
   "source": [
    "<br><br><br><br><br>\n",
    "\n",
    "## What a the same analysis looks like in modern RDataFrame\n",
    "\n",
    "This case mixes Python (for organization) with C++ (for speed).\n",
    "\n",
    "<img src=\"img/rdataframe-flow.svg\" style=\"width: 800px\">"
   ]
  },
  {
   "cell_type": "code",
   "execution_count": null,
   "id": "323bbb86-ce99-47da-a8f3-4f1ad6f33e13",
   "metadata": {},
   "outputs": [],
   "source": [
    "df = ROOT.RDataFrame(\"Events\", \"root://eospublic.cern.ch//eos/opendata/cms/derived-data/AOD2NanoAODOutreachTool/Run2012BC_DoubleMuParked_Muons.root\")\n",
    "\n",
    "# Each node is connected to the previous, in a chain (which can split and recombine).\n",
    "df_limit = df.Range(100000)\n",
    "df_2mu = df_limit.Filter(\"nMuon >= 2\")\n",
    "df_os = df_2mu.Filter(\"Muon_charge[0] != Muon_charge[1]\")\n",
    "\n",
    "# This node is a big C++ block.\n",
    "df_mass = df_os.Define(\"Dimuon_mass\", '''\n",
    "float mu1_pt = Muon_pt[0];\n",
    "float mu2_pt = Muon_pt[1];\n",
    "float mu1_eta = Muon_eta[0];\n",
    "float mu2_eta = Muon_eta[1];\n",
    "float mu1_phi = Muon_phi[0];\n",
    "float mu2_phi = Muon_phi[1];\n",
    "return sqrt(2*mu1_pt*mu2_pt*(cosh(mu1_eta - mu2_eta) - cos(mu1_phi - mu2_phi)));\n",
    "''')\n",
    "\n",
    "# This one is an endpoint (action).\n",
    "h4 = df_mass.Histo1D((\"h3\", \"mass\", 120, 0, 120), \"Dimuon_mass\")"
   ]
  },
  {
   "cell_type": "markdown",
   "id": "244af2ce-e5fa-4d69-aa1f-90e0960ce539",
   "metadata": {},
   "source": [
    "The above just sets up the calculation (compiling the C++ strings). It runs when you evaluate `h4.Draw`."
   ]
  },
  {
   "cell_type": "code",
   "execution_count": null,
   "id": "11751fad-285b-455a-a3d4-45e024a239b2",
   "metadata": {},
   "outputs": [],
   "source": [
    "h4.Draw()   # <--- This is the line that computes everything.\n",
    "c1.SetLogy()\n",
    "c1.Draw()"
   ]
  },
  {
   "cell_type": "markdown",
   "id": "6729a12b-0437-4a3b-873c-c1dfead35d46",
   "metadata": {},
   "source": [
    "For more on RDataFrame, see [this tutorial](https://cms-opendata-workshop.github.io/workshop-lesson-root/05-rdataframe/index.html)."
   ]
  },
  {
   "cell_type": "markdown",
   "id": "2cb428fd-13c5-4c77-b441-36c9bb74d6be",
   "metadata": {},
   "source": [
    "<br><br><br><br><br>\n",
    "\n",
    "## Ways to get data from Uproot\n",
    "\n",
    "Uproot provides a rather low-level view into a ROOT file, so let's start with terminology.\n",
    "\n",
    "All of the links below go to [the documentation](https://uproot.readthedocs.io/en/latest/).\n",
    "\n",
    "<img src=\"img/terminology.svg\" style=\"width: 800px\">"
   ]
  },
  {
   "cell_type": "markdown",
   "id": "1af6eb65-36c0-4db7-8dd3-b8d4404184b6",
   "metadata": {},
   "source": [
    "<br><br><br>\n",
    "\n",
    "### Navigating TDirectories\n",
    "\n",
    "When you [open](https://uproot.readthedocs.io/en/latest/uproot.reading.open.html) a [TFile](https://uproot.readthedocs.io/en/latest/uproot.reading.ReadOnlyFile.html) in Uproot, you actually get a [TDirectory](https://uproot.readthedocs.io/en/latest/uproot.reading.ReadOnlyDirectory.html) object."
   ]
  },
  {
   "cell_type": "code",
   "execution_count": null,
   "id": "230a4ab2-fe3b-464e-a265-494d7e48d3f1",
   "metadata": {},
   "outputs": [],
   "source": [
    "import numpy as np\n",
    "import awkward as ak\n",
    "import uproot"
   ]
  },
  {
   "cell_type": "code",
   "execution_count": null,
   "id": "a1b64609-8f77-41fa-a64b-c9e34b24f083",
   "metadata": {},
   "outputs": [],
   "source": [
    "directory = uproot.open(\"data/nesteddirs.root\")\n",
    "directory"
   ]
  },
  {
   "cell_type": "markdown",
   "id": "043d7fbb-eec5-4433-9604-6ac5c890d9f1",
   "metadata": {},
   "source": [
    "That's because it's the [TDirectory](https://uproot.readthedocs.io/en/latest/uproot.reading.ReadOnlyDirectory.html) that shows you all the objects that could be read.\n",
    "\n",
    "You'll rarely need it, but the [TFile](https://uproot.readthedocs.io/en/latest/uproot.reading.ReadOnlyFile.html) itself is accessible from every object."
   ]
  },
  {
   "cell_type": "code",
   "execution_count": null,
   "id": "f436dfe5-b58f-4cd1-b153-793f676b44ca",
   "metadata": {},
   "outputs": [],
   "source": [
    "file = directory.file\n",
    "file"
   ]
  },
  {
   "cell_type": "code",
   "execution_count": null,
   "id": "8f9f517b-4763-48fb-bb88-590e2f814b4d",
   "metadata": {},
   "outputs": [],
   "source": [
    "file.file_path"
   ]
  },
  {
   "cell_type": "code",
   "execution_count": null,
   "id": "90ae49f0-f3b0-4ec8-8dd5-1521e6753e0f",
   "metadata": {},
   "outputs": [],
   "source": [
    "file.root_version"
   ]
  },
  {
   "cell_type": "code",
   "execution_count": null,
   "id": "016dc926-d154-4930-91de-15fbf21cb8ce",
   "metadata": {},
   "outputs": [],
   "source": [
    "file.uuid"
   ]
  },
  {
   "cell_type": "markdown",
   "id": "d66cf1c7-96d5-42bf-8dba-fc7e30989ffc",
   "metadata": {},
   "source": [
    "The [TDirectory](https://uproot.readthedocs.io/en/latest/uproot.reading.ReadOnlyDirectory.html) acts like a Python [Mapping](https://docs.python.org/3/library/collections.abc.html#collections.abc.Mapping), meaning that it has [keys](https://uproot.readthedocs.io/en/latest/uproot.reading.ReadOnlyDirectory.html#keys), [values](https://uproot.readthedocs.io/en/latest/uproot.reading.ReadOnlyDirectory.html#values), and [items](https://uproot.readthedocs.io/en/latest/uproot.reading.ReadOnlyDirectory.html#items), and you can get any value with `directory[key_name]`."
   ]
  },
  {
   "cell_type": "code",
   "execution_count": null,
   "id": "82fa917a-d773-4cb2-b32e-f0889eb9456e",
   "metadata": {},
   "outputs": [],
   "source": [
    "directory.keys()"
   ]
  },
  {
   "cell_type": "code",
   "execution_count": null,
   "id": "945bdc23-c50e-4ba4-98b6-05dcc09f6fac",
   "metadata": {},
   "outputs": [],
   "source": [
    "directory[\"one\"]"
   ]
  },
  {
   "cell_type": "code",
   "execution_count": null,
   "id": "22e58948-f11f-4bbc-8a6e-ae8881a4e20c",
   "metadata": {},
   "outputs": [],
   "source": [
    "directory[\"one/two/tree\"]"
   ]
  },
  {
   "cell_type": "code",
   "execution_count": null,
   "id": "be5e4eb6-20b5-4d8a-b42b-9433ac8e7f32",
   "metadata": {},
   "outputs": [],
   "source": [
    "directory[\"one\"][\"two\"][\"tree\"]"
   ]
  },
  {
   "cell_type": "code",
   "execution_count": null,
   "id": "0d1ca29f-f99f-437b-af6b-7dc9940c3d7f",
   "metadata": {},
   "outputs": [],
   "source": [
    "directory.values()"
   ]
  },
  {
   "cell_type": "code",
   "execution_count": null,
   "id": "5030a783-df16-4795-8cc1-a2dcceaba80f",
   "metadata": {},
   "outputs": [],
   "source": [
    "directory.items()"
   ]
  },
  {
   "cell_type": "markdown",
   "id": "7630820c-6576-49dd-8a34-9d48c374c0ba",
   "metadata": {},
   "source": [
    "Since you'll likely want to find objects by class name without reading them, there's a fourth method: [classnames](https://uproot.readthedocs.io/en/latest/uproot.reading.ReadOnlyDirectory.html#classnames)."
   ]
  },
  {
   "cell_type": "code",
   "execution_count": null,
   "id": "741af101-97cb-4cab-a55a-ce5d1628caf2",
   "metadata": {},
   "outputs": [],
   "source": [
    "directory.classnames()"
   ]
  },
  {
   "cell_type": "markdown",
   "id": "40196939-078c-4dde-b77a-79732249f6e9",
   "metadata": {},
   "source": [
    "See the documentation; there are ways to filter the output. You might need that if you have a file with a lot of histograms in it."
   ]
  },
  {
   "cell_type": "code",
   "execution_count": null,
   "id": "726e450c-101b-42e3-a9c6-649db340ae07",
   "metadata": {},
   "outputs": [],
   "source": [
    "directory.classnames(recursive=False)"
   ]
  },
  {
   "cell_type": "code",
   "execution_count": null,
   "id": "c9080aea-48bc-414e-9bd7-3898ba929355",
   "metadata": {},
   "outputs": [],
   "source": [
    "directory.keys(filter_classname=\"TT*\")"
   ]
  },
  {
   "cell_type": "markdown",
   "id": "134cf02e-87ca-49a3-a8a7-3aed524bc5ab",
   "metadata": {},
   "source": [
    "<br><br><br>\n",
    "\n",
    "### Generic objects\n",
    "\n",
    "ROOT (probably) has thousands of classes. Uproot does not have specialized code to recognize them all.\n",
    "\n",
    "However, most objects are readable anyway thanks to the [TStreamerInfo](https://uproot.readthedocs.io/en/latest/uproot.streamers.Model_TStreamerInfo.html) in every ROOT file. Here's one with custom classes that Uproot couldn't possibly know about."
   ]
  },
  {
   "cell_type": "code",
   "execution_count": null,
   "id": "1d1992f6-f296-475c-a15f-ebc65bb6e2a1",
   "metadata": {},
   "outputs": [],
   "source": [
    "directory = uproot.open(\"data/icecube-supernovae.root\")\n",
    "directory.classnames()"
   ]
  },
  {
   "cell_type": "markdown",
   "id": "5e04db0c-fe5f-49de-b043-06aa85b12475",
   "metadata": {},
   "source": [
    "The classes `SN_Analysis_Configuration_t`, `I3Eval_t`, `SN_File_t` were generated from the [TStreamerInfo](https://uproot.readthedocs.io/en/latest/uproot.streamers.Model_TStreamerInfo.html)."
   ]
  },
  {
   "cell_type": "code",
   "execution_count": null,
   "id": "2f8ee803-73b9-465b-82cc-2e1f2aa1cf8d",
   "metadata": {},
   "outputs": [],
   "source": [
    "directory.streamer_of(\"config/detector\")"
   ]
  },
  {
   "cell_type": "code",
   "execution_count": null,
   "id": "ffe79857-3895-4473-8090-b3057d9a16fa",
   "metadata": {},
   "outputs": [],
   "source": [
    "directory.file.show_streamers(\"I3Eval_t\")"
   ]
  },
  {
   "cell_type": "markdown",
   "id": "986466b5-c775-40a0-84a4-7680fd1cbcb9",
   "metadata": {},
   "source": [
    "You can read these objects, but they have no specialized methods and all members have to be accessed through [has_member](https://uproot.readthedocs.io/en/latest/uproot.model.Model.html#has-member)/[member](https://uproot.readthedocs.io/en/latest/uproot.model.Model.html#member)/[all_members](https://uproot.readthedocs.io/en/latest/uproot.model.Model.html#all-members)."
   ]
  },
  {
   "cell_type": "code",
   "execution_count": null,
   "id": "e4376fd8-760f-49eb-8fea-40deaef12b97",
   "metadata": {},
   "outputs": [],
   "source": [
    "directory[\"config/detector\"]"
   ]
  },
  {
   "cell_type": "code",
   "execution_count": null,
   "id": "1ba7d568-4493-4e52-95ea-28171021a8aa",
   "metadata": {},
   "outputs": [],
   "source": [
    "directory[\"config/detector\"].all_members"
   ]
  },
  {
   "cell_type": "code",
   "execution_count": null,
   "id": "261187e9-c756-4b29-9143-616501a907ac",
   "metadata": {},
   "outputs": [],
   "source": [
    "directory[\"config/detector\"].member(\"ChannelIDMap\")"
   ]
  },
  {
   "cell_type": "markdown",
   "id": "c6fa5f34-d528-4d22-a99c-161c39ba4d77",
   "metadata": {},
   "source": [
    "If a class has \"Unknown\" in its name or `isinstance(obj, (uproot.model.UnknownClass, uproot.model.UnknownClassVersion)`, that means that it could not be read.\n",
    "\n",
    "(I don't know of any examples of that at the moment.)"
   ]
  },
  {
   "cell_type": "markdown",
   "id": "821ac8ad-c657-4762-82e2-4ceb27d5f7ff",
   "metadata": {},
   "source": [
    "<br><br><br>\n",
    "\n",
    "### Histograms and graphs\n",
    "\n",
    "Other classes have specialized interfaces, like histograms and some graphs. You can view the [axis](https://uproot.readthedocs.io/en/latest/uproot.behaviors.TH1.TH1.html#axis) [edges](https://uproot.readthedocs.io/en/latest/uproot.behaviors.TAxis.TAxis.html#edges) and the [values](https://uproot.readthedocs.io/en/latest/uproot.behaviors.TH1.TH1.html#values), but this interface is minimal.\n",
    "\n",
    "Normally, you'd convert\n",
    "\n",
    "   * [to_numpy](https://uproot.readthedocs.io/en/latest/uproot.behaviors.TH1.TH1.html#to-numpy): tuple of arrays (values and edges)\n",
    "   * [to_boost](https://uproot.readthedocs.io/en/latest/uproot.behaviors.TH1.TH1.html#to-boost): `boost_histogram` object\n",
    "   * [to_hist](https://uproot.readthedocs.io/en/latest/uproot.behaviors.TH1.TH1.html#to-hist): `hist` object (more fully featured subclass of `boost_histogram`)"
   ]
  },
  {
   "cell_type": "code",
   "execution_count": null,
   "id": "84f37a6b-41c1-45d3-8057-b520249981ab",
   "metadata": {},
   "outputs": [],
   "source": [
    "directory = uproot.open(\"data/hepdata-example.root\")\n",
    "directory.classnames()"
   ]
  },
  {
   "cell_type": "code",
   "execution_count": null,
   "id": "cd895fec-3369-4cbe-963e-e5fb8bd9686b",
   "metadata": {},
   "outputs": [],
   "source": [
    "directory[\"hpx\"].to_numpy()"
   ]
  },
  {
   "cell_type": "code",
   "execution_count": null,
   "id": "4a5bfa34-ba8b-4baf-a89c-9dd4d6378548",
   "metadata": {},
   "outputs": [],
   "source": [
    "directory[\"hpx\"].to_hist()"
   ]
  },
  {
   "cell_type": "code",
   "execution_count": null,
   "id": "65fa7186-ee5c-42c8-9723-035683c05003",
   "metadata": {},
   "outputs": [],
   "source": [
    "directory[\"hpxpy\"].to_hist()"
   ]
  },
  {
   "cell_type": "code",
   "execution_count": null,
   "id": "4a8cd869-45ed-4d90-b183-d3906f47d8d4",
   "metadata": {},
   "outputs": [],
   "source": [
    "directory[\"hprof\"].to_hist()"
   ]
  },
  {
   "cell_type": "markdown",
   "id": "289c90cb-43aa-4131-b0d5-7a9adcc3a35e",
   "metadata": {},
   "source": [
    "<br><br><br>\n",
    "\n",
    "### TTrees\n",
    "\n",
    "That's what you're here for, most likely."
   ]
  },
  {
   "cell_type": "code",
   "execution_count": null,
   "id": "84668ca7-e2f0-4bcf-b469-a6599dd95bef",
   "metadata": {},
   "outputs": [],
   "source": [
    "directory = uproot.open(\"data/Zmumu.root\")\n",
    "directory.classnames()"
   ]
  },
  {
   "cell_type": "code",
   "execution_count": null,
   "id": "8840a0f7-47fd-452f-a71f-f647aa92a838",
   "metadata": {},
   "outputs": [],
   "source": [
    "events = directory[\"events\"]\n",
    "events.show()"
   ]
  },
  {
   "cell_type": "markdown",
   "id": "838cfcf9-44d9-4b72-890f-65b2957b3a0c",
   "metadata": {},
   "source": [
    "I've been advertising the above as a way to get a first look at a TTree, but you know you can get more detail through [keys](https://uproot.readthedocs.io/en/latest/uproot.behaviors.TTree.TTree.html#keys), [typenames](https://uproot.readthedocs.io/en/latest/uproot.behaviors.TTree.TTree.html#typenames), and [TBranch](https://uproot.readthedocs.io/en/latest/uproot.behaviors.TBranch.TBranch.html) [interpretation](https://uproot.readthedocs.io/en/latest/uproot.behaviors.TBranch.TBranch.html#interpretation)."
   ]
  },
  {
   "cell_type": "code",
   "execution_count": null,
   "id": "ac188328-c3a6-429a-b06c-330108c373f4",
   "metadata": {},
   "outputs": [],
   "source": [
    "events.keys()"
   ]
  },
  {
   "cell_type": "code",
   "execution_count": null,
   "id": "55d5fe28-6c57-4355-8222-37efa362d917",
   "metadata": {},
   "outputs": [],
   "source": [
    "events.keys(filter_typename=\"/int.*/\")"
   ]
  },
  {
   "cell_type": "code",
   "execution_count": null,
   "id": "c241cbc1-4dbf-41eb-9d10-8bcb16edd910",
   "metadata": {},
   "outputs": [],
   "source": [
    "events.typenames()"
   ]
  },
  {
   "cell_type": "code",
   "execution_count": null,
   "id": "56078339-36f6-4c3c-b295-e6bf10facc11",
   "metadata": {},
   "outputs": [],
   "source": [
    "{name: branch.interpretation for name, branch in events.items()}"
   ]
  },
  {
   "cell_type": "markdown",
   "id": "911a62d6-6e17-4402-905e-99f155f189b5",
   "metadata": {},
   "source": [
    "<br><br><br>\n",
    "\n",
    "### Get one array from one TBranch\n",
    "\n",
    "This is the simplest method: [array](https://uproot.readthedocs.io/en/latest/uproot.behaviors.TBranch.TBranch.html#array) (singular)."
   ]
  },
  {
   "cell_type": "code",
   "execution_count": null,
   "id": "5b795434-72f3-41de-97b7-1adbcd1c5600",
   "metadata": {},
   "outputs": [],
   "source": [
    "events[\"M\"].array()"
   ]
  },
  {
   "cell_type": "markdown",
   "id": "f059b7f6-293c-4a74-894a-dd946ad914ab",
   "metadata": {},
   "source": [
    "Some important parameters:\n",
    "\n",
    "   * `entry_start`, `entry_stop` to limit how much you read (if it's big)\n",
    "   * `library=\"np\"` for NumPy arrays, `library=\"ak\"` for Awkward Arrays, and `library=\"pd\"` for Pandas (Series or DataFrame)"
   ]
  },
  {
   "cell_type": "code",
   "execution_count": null,
   "id": "5b8bd269-7663-4469-9e73-97c871f9edad",
   "metadata": {},
   "outputs": [],
   "source": [
    "events[\"M\"].array(entry_stop=5)"
   ]
  },
  {
   "cell_type": "code",
   "execution_count": null,
   "id": "c4c02b40-9e23-4a62-8729-be2417fb5db4",
   "metadata": {},
   "outputs": [],
   "source": [
    "events[\"M\"].array(library=\"np\")"
   ]
  },
  {
   "cell_type": "code",
   "execution_count": null,
   "id": "34eee328-0853-4ef1-b1c0-a6c442239ead",
   "metadata": {},
   "outputs": [],
   "source": [
    "events[\"M\"].array(library=\"ak\")   # default"
   ]
  },
  {
   "cell_type": "code",
   "execution_count": null,
   "id": "8b75733b-e17d-4777-b7b0-43dfcc33661d",
   "metadata": {},
   "outputs": [],
   "source": [
    "events[\"M\"].array(library=\"pd\")"
   ]
  },
  {
   "cell_type": "markdown",
   "id": "8051d41d-5651-4a54-b2e6-9af765553984",
   "metadata": {},
   "source": [
    "<br><br><br>\n",
    "\n",
    "### Get several TBranches as one array/array group\n",
    "\n",
    "[TTrees](https://uproot.readthedocs.io/en/latest/uproot.behaviors.TTree.TTree.html) and [TBranches](https://uproot.readthedocs.io/en/latest/uproot.behaviors.TBranch.TBranch.html) with subbranches have an [arrays](https://uproot.readthedocs.io/en/latest/uproot.behaviors.TBranch.HasBranches.html#arrays) (plural) method."
   ]
  },
  {
   "cell_type": "code",
   "execution_count": null,
   "id": "f21ff375-80b0-4d82-8aee-e84482fd2b28",
   "metadata": {},
   "outputs": [],
   "source": [
    "events.arrays()"
   ]
  },
  {
   "cell_type": "markdown",
   "id": "76c0cbd5-b7dc-4272-8380-18679cc0173f",
   "metadata": {},
   "source": [
    "(Don't do that if your file is large.)"
   ]
  },
  {
   "cell_type": "markdown",
   "id": "6df3e524-3156-4c6a-b39a-58c7b0e7b0fa",
   "metadata": {},
   "source": [
    "The return type is an \"array group,\" which has a different meaning for each of the backends: NumPy, Awkward Array, and Pandas."
   ]
  },
  {
   "cell_type": "code",
   "execution_count": null,
   "id": "9da39831-9a56-4bed-a928-1d0d918da14b",
   "metadata": {},
   "outputs": [],
   "source": [
    "events.arrays(library=\"np\")"
   ]
  },
  {
   "cell_type": "code",
   "execution_count": null,
   "id": "4d960610-3e52-44d3-83b4-e275aff57c5d",
   "metadata": {},
   "outputs": [],
   "source": [
    "events.arrays(library=\"ak\")"
   ]
  },
  {
   "cell_type": "code",
   "execution_count": null,
   "id": "54c33e36-d66b-4afb-a321-afab4f122e26",
   "metadata": {},
   "outputs": [],
   "source": [
    "events.arrays(library=\"pd\")"
   ]
  },
  {
   "cell_type": "markdown",
   "id": "7de6739f-1dae-475e-9cd8-7b6500d85dc1",
   "metadata": {},
   "source": [
    "The first argument of this method takes a list of _expressions_, which could just be branch names:"
   ]
  },
  {
   "cell_type": "code",
   "execution_count": null,
   "id": "8de31367-3dfc-4155-934b-fc7e19fb4bff",
   "metadata": {},
   "outputs": [],
   "source": [
    "events.arrays([\"px1\", \"py1\", \"px2\", \"py2\"], library=\"pd\")"
   ]
  },
  {
   "cell_type": "markdown",
   "id": "e287d362-567d-4130-ab79-523aefde8085",
   "metadata": {},
   "source": [
    "Or it can be computed expressions."
   ]
  },
  {
   "cell_type": "code",
   "execution_count": null,
   "id": "1748c362-f86c-4cb5-9fb0-f6dde13b0311",
   "metadata": {},
   "outputs": [],
   "source": [
    "events.arrays([\"sqrt(px1**2 + py1**2)\", \"sqrt(px2**2 + py2**2)\"], library=\"pd\")"
   ]
  },
  {
   "cell_type": "markdown",
   "id": "9b2921cb-a826-4f22-bdf0-e2284ea22fcc",
   "metadata": {},
   "source": [
    "This is to support any [aliases](https://uproot.readthedocs.io/en/latest/uproot.behaviors.TTree.TTree.html#aliases) that might be in the [TTree](https://uproot.readthedocs.io/en/latest/uproot.behaviors.TTree.TTree.html), but you can make up your own `aliases` on the spot."
   ]
  },
  {
   "cell_type": "code",
   "execution_count": null,
   "id": "68963c00-7435-48f9-b989-d33388498ad1",
   "metadata": {},
   "outputs": [],
   "source": [
    "events.arrays([\"pt1\", \"pt2\"], {\"pt1\": \"sqrt(px1**2 + py1**2)\", \"pt2\": \"sqrt(px2**2 + py2**2)\"}, library=\"pd\")"
   ]
  },
  {
   "cell_type": "markdown",
   "id": "a8440c30-fc83-4383-b453-2912f8d4e1b0",
   "metadata": {},
   "source": [
    "The `expressions` parameter is not a good way to select branches by name.\n",
    "\n",
    "   * nested branches, paths with \"`/`\", _would be interpreted as division!_\n",
    "   * wildcards, paths with \"`*`\", _would be interpreted as multiplication!_\n",
    "\n",
    "To select branches by name, use `filter_name`, `filter_typename`, `filter_branch` (all in the [arrays](https://uproot.readthedocs.io/en/latest/uproot.behaviors.TBranch.HasBranches.html#arrays) documentation)."
   ]
  },
  {
   "cell_type": "code",
   "execution_count": null,
   "id": "41291a31-b592-48ca-b50f-e76ec77cef8e",
   "metadata": {},
   "outputs": [],
   "source": [
    "events.arrays(filter_name=\"p[xyz]*\", library=\"pd\")"
   ]
  },
  {
   "cell_type": "markdown",
   "id": "c5f4731f-0ecf-4d97-b1c2-88e3392fad89",
   "metadata": {},
   "source": [
    "(These filters have the same meaning as in [keys](https://uproot.readthedocs.io/en/latest/uproot.behaviors.TBranch.HasBranches.html#keys) and [typenames](https://uproot.readthedocs.io/en/latest/uproot.behaviors.TBranch.HasBranches.html#typenames), but those methods do not read potentially large datasets.)"
   ]
  },
  {
   "cell_type": "code",
   "execution_count": null,
   "id": "ad9eb821-5e9e-449d-8fc1-0be9e41e3a32",
   "metadata": {},
   "outputs": [],
   "source": [
    "events.keys(filter_name=\"p[xyz]*\")"
   ]
  },
  {
   "cell_type": "code",
   "execution_count": null,
   "id": "6cbfef35-c602-44a3-89cf-405b459774bd",
   "metadata": {},
   "outputs": [],
   "source": [
    "events.typenames(filter_name=\"p[xyz]*\")"
   ]
  },
  {
   "cell_type": "markdown",
   "id": "cf71a6c2-6195-4105-a760-e1fde4308838",
   "metadata": {},
   "source": [
    "<br><br><br>\n",
    "\n",
    "### Get arrays in manageable chunks\n",
    "\n",
    "The [iterate](https://uproot.readthedocs.io/en/latest/uproot.behaviors.TBranch.HasBranches.html#iterate) method is like [arrays](https://uproot.readthedocs.io/en/latest/uproot.behaviors.TBranch.HasBranches.html#arrays), but it can be used in a loop over chunks of the array.\n",
    "\n",
    "How large are the chunks? You should set that with `step_size`."
   ]
  },
  {
   "cell_type": "code",
   "execution_count": null,
   "id": "c4ef6f3c-928e-4c8e-b6de-f64b354614e5",
   "metadata": {},
   "outputs": [],
   "source": [
    "for arrays in events.iterate(step_size=300):\n",
    "    print(repr(arrays))"
   ]
  },
  {
   "cell_type": "code",
   "execution_count": null,
   "id": "7bfca46d-9370-4d94-9aee-e74af0a787ad",
   "metadata": {},
   "outputs": [],
   "source": [
    "for arrays in events.iterate(step_size=\"50 kB\"):   # 50 kB is very small! for illustrative purposes only!\n",
    "    print(repr(arrays))"
   ]
  },
  {
   "cell_type": "markdown",
   "id": "a25bccb4-4ec7-4beb-a941-2fcef6265c5b",
   "metadata": {},
   "source": [
    "<br><br><br>\n",
    "\n",
    "### Collections of files (like TChain)\n",
    "\n",
    "If you want to read a bunch of files in one call, it has to be a function, rather than a method of [TTree](https://uproot.readthedocs.io/en/latest/uproot.behaviors.TTree.TTree.html).\n",
    "\n",
    "   * The equivalent of [TTree](https://uproot.readthedocs.io/en/latest/uproot.behaviors.TTree.TTree.html) [arrays](https://uproot.readthedocs.io/en/latest/uproot.behaviors.TTree.TTree.html#arrays) is [uproot.concatenate](https://uproot.readthedocs.io/en/latest/uproot.behaviors.TBranch.concatenate.html). _(Reads everything at once: use this as a convenience on datasets you know are small!)_\n",
    "   * The equivalent of [TTree](https://uproot.readthedocs.io/en/latest/uproot.behaviors.TTree.TTree.html) [iterate](https://uproot.readthedocs.io/en/latest/uproot.behaviors.TTree.TTree.html#iterate) is [uproot.iterate](https://uproot.readthedocs.io/en/latest/uproot.behaviors.TBranch.iterate.html). _(This is the most useful one.)_\n",
    "   * There's also an [uproot.lazy](https://uproot.readthedocs.io/en/latest/uproot.behaviors.TBranch.lazy.html) _(More on this below.)_"
   ]
  },
  {
   "cell_type": "code",
   "execution_count": null,
   "id": "1f3d34b3-9b80-4727-ba81-9e231f05907b",
   "metadata": {},
   "outputs": [],
   "source": [
    "import IPython\n",
    "import matplotlib.pyplot as plt\n",
    "import matplotlib.pylab\n",
    "\n",
    "import hist"
   ]
  },
  {
   "cell_type": "code",
   "execution_count": null,
   "id": "73eda65a-136b-44c8-b994-3e41204f11cb",
   "metadata": {
    "tags": []
   },
   "outputs": [],
   "source": [
    "h1 = hist.Hist.new.Reg(500, 0, 500, name=\"mass\").Double()\n",
    "drawables = []\n",
    "\n",
    "for muons in uproot.iterate(\n",
    "    # filename(s)\n",
    "    [\"root://eospublic.cern.ch//eos/opendata/cms/derived-data/AOD2NanoAODOutreachTool/Run2012BC_DoubleMuParked_Muons.root:Events\"],\n",
    "\n",
    "    # branches to read as expressions\n",
    "    [\"Muon_pt\", \"Muon_eta\", \"Muon_phi\", \"Muon_charge\"],\n",
    "\n",
    "    # cut to apply to expressions\n",
    "    cut=\"nMuon >= 2\",\n",
    "\n",
    "    # library dependent; for library=\"ak\", try to split branch names at underscore and make nested records (poor man's NanoEvents)\n",
    "    how=\"zip\",\n",
    "\n",
    "    # the all-important step_size!\n",
    "    step_size=\"1 MB\",\n",
    "\n",
    "    # options you would normally pass to uproot.open\n",
    "    xrootd_handler=uproot.MultithreadedXRootDSource,\n",
    "    num_workers=10,\n",
    "):\n",
    "    # do everything you're going to do to this array\n",
    "    os_cut = muons[:, \"Muon\", \"charge\", 0] != muons[:, \"Muon\", \"charge\", 1]\n",
    "    mu1 = muons[os_cut, 0, \"Muon\"]\n",
    "    mu2 = muons[os_cut, 1, \"Muon\"]\n",
    "\n",
    "    # such as filling a histogram\n",
    "    h1.fill(np.sqrt(2*mu1.pt*mu2.pt*(np.cosh(mu1.eta - mu2.eta) - np.cos(mu1.phi - mu2.phi))))\n",
    "\n",
    "    # a little magic to animate it; hardest part is removing the previous plots\n",
    "    for drawable in drawables:\n",
    "        drawable.stairs.remove()\n",
    "        drawable.errorbar.remove()\n",
    "        drawable.legend_artist.remove()\n",
    "    drawables = h1.plot(color=\"blue\")\n",
    "    plt.yscale(\"log\")\n",
    "    IPython.display.display(matplotlib.pylab.gcf())\n",
    "    IPython.display.clear_output(wait=True)"
   ]
  },
  {
   "cell_type": "markdown",
   "id": "67265d3c-34ea-44b3-9132-a885e9598cf7",
   "metadata": {},
   "source": [
    "<br><br><br>\n",
    "\n",
    "### Lazy arrays\n",
    "\n",
    "Lazy arrays were introduced so that you can explore a large dataset without knowing ahead of time what parts you're going to read."
   ]
  },
  {
   "cell_type": "code",
   "execution_count": null,
   "id": "ba9b57d0-58f7-4c01-a5be-9b568a8cd87e",
   "metadata": {},
   "outputs": [],
   "source": [
    "events = uproot.lazy(\n",
    "    # filename(s)\n",
    "    [\"root://eospublic.cern.ch//eos/opendata/cms/derived-data/AOD2NanoAODOutreachTool/Run2012BC_DoubleMuParked_Muons.root:Events\"],\n",
    "    # step_size is still important\n",
    "    step_size=\"1 MB\",\n",
    ")\n",
    "events"
   ]
  },
  {
   "cell_type": "code",
   "execution_count": null,
   "id": "c93fd314-b1d4-47ce-bdbe-52e632b1180a",
   "metadata": {},
   "outputs": [],
   "source": [
    "events.type"
   ]
  },
  {
   "cell_type": "code",
   "execution_count": null,
   "id": "099bc0d7-e4c9-4d45-bec7-d51b06c30084",
   "metadata": {},
   "outputs": [],
   "source": [
    "len(events)"
   ]
  },
  {
   "cell_type": "markdown",
   "id": "7d0725a0-2103-4a0f-a597-29a2b0f4da93",
   "metadata": {},
   "source": [
    "It _looks like_ we've read that big remote file.\n",
    "\n",
    "But actually (if we peek in the lazy array's cache), we've only read 3 TBaskets."
   ]
  },
  {
   "cell_type": "code",
   "execution_count": null,
   "id": "5536866c-694e-4d5a-aaa1-5740f993a1be",
   "metadata": {},
   "outputs": [],
   "source": [
    "events._caches[0].keys()"
   ]
  },
  {
   "cell_type": "code",
   "execution_count": null,
   "id": "791537dc-482d-4f56-896e-f3109b7a0440",
   "metadata": {},
   "outputs": [],
   "source": [
    "events.Muon_pt"
   ]
  },
  {
   "cell_type": "markdown",
   "id": "99da44b3-1c50-4d35-a898-e353c98736d7",
   "metadata": {},
   "source": [
    "Now 4 TBaskets..."
   ]
  },
  {
   "cell_type": "code",
   "execution_count": null,
   "id": "f01a6c87-6a9d-4990-a55e-49deea3f3dcf",
   "metadata": {},
   "outputs": [],
   "source": [
    "events._caches[0].keys()"
   ]
  },
  {
   "cell_type": "markdown",
   "id": "43dfae28-46bb-4311-92bc-4bcc1cffcefd",
   "metadata": {},
   "source": [
    "<div style=\"font-size: 25px; margin: 10px; padding: 30px; border: 1px dashed black;\">\n",
    "    Big important warning: <b>this access pattern is not read or memory efficient!</b>\n",
    "</div>"
   ]
  },
  {
   "cell_type": "markdown",
   "id": "d98ea07d-36ef-4b16-b36c-9c217de3e1b1",
   "metadata": {},
   "source": [
    "This pattern is much better for exploration, to compute quantities without having to decide ahead of time which branches you'll need.\n",
    "\n",
    "**Recommendation:** develop with lazy arrays, but then put the calculation into an [iterate](https://uproot.readthedocs.io/en/latest/uproot.behaviors.TBranch.iterate.html) loop or a [Coffea Processor](https://coffeateam.github.io/coffea/notebooks/processor.html)."
   ]
  }
 ],
 "metadata": {
  "kernelspec": {
   "display_name": "Python 3",
   "language": "python",
   "name": "python3"
  },
  "language_info": {
   "codemirror_mode": {
    "name": "ipython",
    "version": 3
   },
   "file_extension": ".py",
   "mimetype": "text/x-python",
   "name": "python",
   "nbconvert_exporter": "python",
   "pygments_lexer": "ipython3",
   "version": "3.8.10"
  }
 },
 "nbformat": 4,
 "nbformat_minor": 5
}
