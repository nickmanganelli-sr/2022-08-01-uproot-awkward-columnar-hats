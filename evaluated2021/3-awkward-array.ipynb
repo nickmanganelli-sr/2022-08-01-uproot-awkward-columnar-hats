{
 "cells": [
  {
   "cell_type": "markdown",
   "id": "ae14d3ce-0dc5-4a62-bed2-a0f75e72887c",
   "metadata": {},
   "source": [
    "# 3. Awkward Array"
   ]
  },
  {
   "cell_type": "markdown",
   "id": "55d53194-2a5f-4d99-93c5-8751e00adfed",
   "metadata": {},
   "source": [
    "<br><br><br><br><br>\n",
    "\n",
    "## What about an array of lists?"
   ]
  },
  {
   "cell_type": "code",
   "execution_count": 1,
   "id": "c8e59475-25c6-41b1-a37c-3553517b3a98",
   "metadata": {},
   "outputs": [],
   "source": [
    "import awkward as ak\n",
    "import numpy as np\n",
    "import uproot"
   ]
  },
  {
   "cell_type": "code",
   "execution_count": 2,
   "id": "b3a79fec-71a0-40fd-83c6-0c3369cf7597",
   "metadata": {},
   "outputs": [
    {
     "name": "stdout",
     "output_type": "stream",
     "text": [
      "name                 | typename                 | interpretation                \n",
      "---------------------+--------------------------+-------------------------------\n",
      "NJet                 | int32_t                  | AsDtype('>i4')\n",
      "Jet_Px               | float[]                  | AsJagged(AsDtype('>f4'))\n",
      "Jet_Py               | float[]                  | AsJagged(AsDtype('>f4'))\n",
      "Jet_Pz               | float[]                  | AsJagged(AsDtype('>f4'))\n",
      "Jet_E                | float[]                  | AsJagged(AsDtype('>f4'))\n",
      "Jet_btag             | float[]                  | AsJagged(AsDtype('>f4'))\n",
      "Jet_ID               | bool[]                   | AsJagged(AsDtype('bool'))\n",
      "NMuon                | int32_t                  | AsDtype('>i4')\n",
      "Muon_Px              | float[]                  | AsJagged(AsDtype('>f4'))\n",
      "Muon_Py              | float[]                  | AsJagged(AsDtype('>f4'))\n",
      "Muon_Pz              | float[]                  | AsJagged(AsDtype('>f4'))\n",
      "Muon_E               | float[]                  | AsJagged(AsDtype('>f4'))\n",
      "Muon_Charge          | int32_t[]                | AsJagged(AsDtype('>i4'))\n",
      "Muon_Iso             | float[]                  | AsJagged(AsDtype('>f4'))\n",
      "NElectron            | int32_t                  | AsDtype('>i4')\n",
      "Electron_Px          | float[]                  | AsJagged(AsDtype('>f4'))\n",
      "Electron_Py          | float[]                  | AsJagged(AsDtype('>f4'))\n",
      "Electron_Pz          | float[]                  | AsJagged(AsDtype('>f4'))\n",
      "Electron_E           | float[]                  | AsJagged(AsDtype('>f4'))\n",
      "Electron_Charge      | int32_t[]                | AsJagged(AsDtype('>i4'))\n",
      "Electron_Iso         | float[]                  | AsJagged(AsDtype('>f4'))\n",
      "NPhoton              | int32_t                  | AsDtype('>i4')\n",
      "Photon_Px            | float[]                  | AsJagged(AsDtype('>f4'))\n",
      "Photon_Py            | float[]                  | AsJagged(AsDtype('>f4'))\n",
      "Photon_Pz            | float[]                  | AsJagged(AsDtype('>f4'))\n",
      "Photon_E             | float[]                  | AsJagged(AsDtype('>f4'))\n",
      "Photon_Iso           | float[]                  | AsJagged(AsDtype('>f4'))\n",
      "MET_px               | float                    | AsDtype('>f4')\n",
      "MET_py               | float                    | AsDtype('>f4')\n",
      "MChadronicBottom_px  | float                    | AsDtype('>f4')\n",
      "MChadronicBottom_py  | float                    | AsDtype('>f4')\n",
      "MChadronicBottom_pz  | float                    | AsDtype('>f4')\n",
      "MCleptonicBottom_px  | float                    | AsDtype('>f4')\n",
      "MCleptonicBottom_py  | float                    | AsDtype('>f4')\n",
      "MCleptonicBottom_pz  | float                    | AsDtype('>f4')\n",
      "MChadronicWDecayQ... | float                    | AsDtype('>f4')\n",
      "MChadronicWDecayQ... | float                    | AsDtype('>f4')\n",
      "MChadronicWDecayQ... | float                    | AsDtype('>f4')\n",
      "MChadronicWDecayQ... | float                    | AsDtype('>f4')\n",
      "MChadronicWDecayQ... | float                    | AsDtype('>f4')\n",
      "MChadronicWDecayQ... | float                    | AsDtype('>f4')\n",
      "MClepton_px          | float                    | AsDtype('>f4')\n",
      "MClepton_py          | float                    | AsDtype('>f4')\n",
      "MClepton_pz          | float                    | AsDtype('>f4')\n",
      "MCleptonPDGid        | int32_t                  | AsDtype('>i4')\n",
      "MCneutrino_px        | float                    | AsDtype('>f4')\n",
      "MCneutrino_py        | float                    | AsDtype('>f4')\n",
      "MCneutrino_pz        | float                    | AsDtype('>f4')\n",
      "NPrimaryVertices     | int32_t                  | AsDtype('>i4')\n",
      "triggerIsoMu24       | bool                     | AsDtype('bool')\n",
      "EventWeight          | float                    | AsDtype('>f4')\n"
     ]
    }
   ],
   "source": [
    "events = uproot.open(\"data/HZZ.root:events\")\n",
    "events.show()"
   ]
  },
  {
   "cell_type": "code",
   "execution_count": 3,
   "id": "39208788-6a41-4afe-be49-9b42321a899f",
   "metadata": {},
   "outputs": [
    {
     "data": {
      "text/plain": [
       "<Array [[-52.9, 37.7], ... 1.14], [23.9]] type='2421 * var * float32'>"
      ]
     },
     "execution_count": 3,
     "metadata": {},
     "output_type": "execute_result"
    }
   ],
   "source": [
    "events[\"Muon_Px\"].array()"
   ]
  },
  {
   "cell_type": "code",
   "execution_count": 5,
   "id": "98d28d9b-96bd-4316-b26c-42f12db10614",
   "metadata": {},
   "outputs": [
    {
     "data": {
      "text/plain": [
       "[[-52.89945602416992, 37.7377815246582],\n",
       " [-0.8164593577384949],\n",
       " [48.987831115722656, 0.8275666832923889],\n",
       " [22.08833122253418, 76.6919174194336],\n",
       " [45.171321868896484, 39.75095748901367],\n",
       " [9.228110313415527, -5.793715000152588],\n",
       " [12.538717269897461, 29.541839599609375],\n",
       " [34.883758544921875],\n",
       " [-53.16697311401367, 11.491869926452637],\n",
       " [-67.01485443115234, -18.118755340576172],\n",
       " [15.983028411865234, 34.68440628051758],\n",
       " [-70.51190948486328, -38.028743743896484],\n",
       " [58.94381332397461],\n",
       " [-15.587870597839355],\n",
       " [-122.33011627197266, -1.0597527027130127],\n",
       " [-46.70415496826172, 39.020023345947266],\n",
       " [51.29465866088867, 17.45092010498047],\n",
       " [43.28120040893555],\n",
       " [-45.92393493652344, 22.549766540527344],\n",
       " [43.29360580444336, -33.28158187866211, -4.376191139221191]]"
      ]
     },
     "execution_count": 5,
     "metadata": {},
     "output_type": "execute_result"
    }
   ],
   "source": [
    "events[\"Muon_Px\"].array(entry_stop=20).tolist()"
   ]
  },
  {
   "cell_type": "markdown",
   "id": "e163f018-cd77-47eb-be1a-e90e8252a796",
   "metadata": {},
   "source": [
    "This is what Awkward Array was made for. NumPy's equivalent is cumbersome and inefficient."
   ]
  },
  {
   "cell_type": "code",
   "execution_count": 6,
   "id": "6a406416-f5b6-49aa-afb9-720446a8b990",
   "metadata": {},
   "outputs": [
    {
     "data": {
      "text/plain": [
       "array([array([-52.899456,  37.73778 ], dtype=float32),\n",
       "       array([-0.81645936], dtype=float32),\n",
       "       array([48.98783  ,  0.8275667], dtype=float32),\n",
       "       array([22.088331, 76.69192 ], dtype=float32),\n",
       "       array([45.17132 , 39.750957], dtype=float32),\n",
       "       array([ 9.22811 , -5.793715], dtype=float32),\n",
       "       array([12.538717, 29.54184 ], dtype=float32),\n",
       "       array([34.88376], dtype=float32),\n",
       "       array([-53.166973,  11.49187 ], dtype=float32),\n",
       "       array([-67.014854, -18.118755], dtype=float32),\n",
       "       array([15.983028, 34.684406], dtype=float32),\n",
       "       array([-70.51191 , -38.028744], dtype=float32),\n",
       "       array([58.943813], dtype=float32),\n",
       "       array([-15.587871], dtype=float32),\n",
       "       array([-122.33012  ,   -1.0597527], dtype=float32),\n",
       "       array([-46.704155,  39.020023], dtype=float32),\n",
       "       array([51.29466, 17.45092], dtype=float32),\n",
       "       array([43.2812], dtype=float32),\n",
       "       array([-45.923935,  22.549767], dtype=float32),\n",
       "       array([ 43.293606, -33.28158 ,  -4.376191], dtype=float32)],\n",
       "      dtype=object)"
      ]
     },
     "execution_count": 6,
     "metadata": {},
     "output_type": "execute_result"
    }
   ],
   "source": [
    "jagged_numpy = events[\"Muon_Px\"].array(entry_stop=20, library=\"np\")\n",
    "jagged_numpy"
   ]
  },
  {
   "cell_type": "markdown",
   "id": "0f6366b4-a61f-4b59-9574-ce2a203d6d39",
   "metadata": {},
   "source": [
    "What if I want the first item in each list as an array?"
   ]
  },
  {
   "cell_type": "code",
   "execution_count": 7,
   "id": "d93944f5-cdc2-4280-82a3-9bc4865e2f25",
   "metadata": {},
   "outputs": [
    {
     "data": {
      "text/plain": [
       "array([ -52.899456  ,   -0.81645936,   48.98783   ,   22.088331  ,\n",
       "         45.17132   ,    9.22811   ,   12.538717  ,   34.88376   ,\n",
       "        -53.166973  ,  -67.014854  ,   15.983028  ,  -70.51191   ,\n",
       "         58.943813  ,  -15.587871  , -122.33012   ,  -46.704155  ,\n",
       "         51.29466   ,   43.2812    ,  -45.923935  ,   43.293606  ],\n",
       "      dtype=float32)"
      ]
     },
     "execution_count": 7,
     "metadata": {},
     "output_type": "execute_result"
    }
   ],
   "source": [
    "np.array([x[0] for x in jagged_numpy])"
   ]
  },
  {
   "cell_type": "markdown",
   "id": "f611c7ac-aa33-4446-aea9-4dc1224e488a",
   "metadata": {},
   "source": [
    "This violates the rule from [1-python-performance.ipynb](1-python-performance.ipynb): don't iterate in Python."
   ]
  },
  {
   "cell_type": "code",
   "execution_count": 10,
   "id": "5a7e1858-48f5-414d-9e2e-35803f5b45d3",
   "metadata": {},
   "outputs": [
    {
     "ename": "IndexError",
     "evalue": "too many indices for array: array is 1-dimensional, but 2 were indexed",
     "output_type": "error",
     "traceback": [
      "\u001b[0;31m---------------------------------------------------------------------------\u001b[0m",
      "\u001b[0;31mIndexError\u001b[0m                                Traceback (most recent call last)",
      "\u001b[0;32m<ipython-input-10-164d264387f1>\u001b[0m in \u001b[0;36m<module>\u001b[0;34m\u001b[0m\n\u001b[0;32m----> 1\u001b[0;31m \u001b[0mjagged_numpy\u001b[0m\u001b[0;34m[\u001b[0m\u001b[0;34m:\u001b[0m\u001b[0;34m,\u001b[0m \u001b[0;36m0\u001b[0m\u001b[0;34m]\u001b[0m\u001b[0;34m\u001b[0m\u001b[0;34m\u001b[0m\u001b[0m\n\u001b[0m",
      "\u001b[0;31mIndexError\u001b[0m: too many indices for array: array is 1-dimensional, but 2 were indexed"
     ]
    }
   ],
   "source": [
    "jagged_numpy[:, 0]"
   ]
  },
  {
   "cell_type": "code",
   "execution_count": 8,
   "id": "e8bb7a35-4a43-4956-ab78-613742726ae5",
   "metadata": {},
   "outputs": [
    {
     "data": {
      "text/plain": [
       "<Array [[-52.9, 37.7], ... 43.3, -33.3, -4.38]] type='20 * var * float32'>"
      ]
     },
     "execution_count": 8,
     "metadata": {},
     "output_type": "execute_result"
    }
   ],
   "source": [
    "jagged_awkward = events[\"Muon_Px\"].array(entry_stop=20, library=\"ak\")\n",
    "jagged_awkward"
   ]
  },
  {
   "cell_type": "code",
   "execution_count": 9,
   "id": "73d7617c-5951-448b-8202-77ee6ae4354b",
   "metadata": {},
   "outputs": [
    {
     "data": {
      "text/plain": [
       "<Array [-52.9, -0.816, 49, ... -45.9, 43.3] type='20 * float32'>"
      ]
     },
     "execution_count": 9,
     "metadata": {},
     "output_type": "execute_result"
    }
   ],
   "source": [
    "jagged_awkward[:, 0]"
   ]
  },
  {
   "cell_type": "code",
   "execution_count": 18,
   "id": "113080c1-146c-4836-be35-03bc59760197",
   "metadata": {},
   "outputs": [
    {
     "data": {
      "text/plain": [
       "<Array [[-52.9], [-0.816], ... [22.1], [45.2]] type='5 * var * float32'>"
      ]
     },
     "execution_count": 18,
     "metadata": {},
     "output_type": "execute_result"
    }
   ],
   "source": [
    "jagged_awkward[:5, :1]"
   ]
  },
  {
   "cell_type": "markdown",
   "id": "ede0d789-769a-4e69-8483-63b0ef6e4d47",
   "metadata": {},
   "source": [
    "<br><br><br><br><br>\n",
    "\n",
    "### Jaggedness in Pandas\n",
    "\n",
    "It can be done by putting the distinction between events in the DataFrame index."
   ]
  },
  {
   "cell_type": "code",
   "execution_count": 19,
   "id": "b1dd3a93-74cd-4db6-a2ff-8b13ee0e34f2",
   "metadata": {},
   "outputs": [
    {
     "data": {
      "text/html": [
       "<div>\n",
       "<style scoped>\n",
       "    .dataframe tbody tr th:only-of-type {\n",
       "        vertical-align: middle;\n",
       "    }\n",
       "\n",
       "    .dataframe tbody tr th {\n",
       "        vertical-align: top;\n",
       "    }\n",
       "\n",
       "    .dataframe thead th {\n",
       "        text-align: right;\n",
       "    }\n",
       "</style>\n",
       "<table border=\"1\" class=\"dataframe\">\n",
       "  <thead>\n",
       "    <tr style=\"text-align: right;\">\n",
       "      <th></th>\n",
       "      <th></th>\n",
       "      <th>Muon_Px</th>\n",
       "      <th>Muon_Py</th>\n",
       "      <th>Muon_Pz</th>\n",
       "      <th>Muon_E</th>\n",
       "      <th>Muon_Charge</th>\n",
       "      <th>Muon_Iso</th>\n",
       "    </tr>\n",
       "    <tr>\n",
       "      <th>entry</th>\n",
       "      <th>subentry</th>\n",
       "      <th></th>\n",
       "      <th></th>\n",
       "      <th></th>\n",
       "      <th></th>\n",
       "      <th></th>\n",
       "      <th></th>\n",
       "    </tr>\n",
       "  </thead>\n",
       "  <tbody>\n",
       "    <tr>\n",
       "      <th rowspan=\"2\" valign=\"top\">0</th>\n",
       "      <th>0</th>\n",
       "      <td>-52.899456</td>\n",
       "      <td>-11.654672</td>\n",
       "      <td>-8.160793</td>\n",
       "      <td>54.779499</td>\n",
       "      <td>1</td>\n",
       "      <td>4.200153</td>\n",
       "    </tr>\n",
       "    <tr>\n",
       "      <th>1</th>\n",
       "      <td>37.737782</td>\n",
       "      <td>0.693474</td>\n",
       "      <td>-11.307582</td>\n",
       "      <td>39.401695</td>\n",
       "      <td>-1</td>\n",
       "      <td>2.151061</td>\n",
       "    </tr>\n",
       "    <tr>\n",
       "      <th>1</th>\n",
       "      <th>0</th>\n",
       "      <td>-0.816459</td>\n",
       "      <td>-24.404259</td>\n",
       "      <td>20.199968</td>\n",
       "      <td>31.690445</td>\n",
       "      <td>1</td>\n",
       "      <td>2.188047</td>\n",
       "    </tr>\n",
       "    <tr>\n",
       "      <th rowspan=\"2\" valign=\"top\">2</th>\n",
       "      <th>0</th>\n",
       "      <td>48.987831</td>\n",
       "      <td>-21.723139</td>\n",
       "      <td>11.168285</td>\n",
       "      <td>54.739788</td>\n",
       "      <td>1</td>\n",
       "      <td>1.412822</td>\n",
       "    </tr>\n",
       "    <tr>\n",
       "      <th>1</th>\n",
       "      <td>0.827567</td>\n",
       "      <td>29.800508</td>\n",
       "      <td>36.965191</td>\n",
       "      <td>47.488857</td>\n",
       "      <td>-1</td>\n",
       "      <td>3.383504</td>\n",
       "    </tr>\n",
       "    <tr>\n",
       "      <th>...</th>\n",
       "      <th>...</th>\n",
       "      <td>...</td>\n",
       "      <td>...</td>\n",
       "      <td>...</td>\n",
       "      <td>...</td>\n",
       "      <td>...</td>\n",
       "      <td>...</td>\n",
       "    </tr>\n",
       "    <tr>\n",
       "      <th>2416</th>\n",
       "      <th>0</th>\n",
       "      <td>-39.285824</td>\n",
       "      <td>-14.607491</td>\n",
       "      <td>61.715790</td>\n",
       "      <td>74.602982</td>\n",
       "      <td>-1</td>\n",
       "      <td>1.080880</td>\n",
       "    </tr>\n",
       "    <tr>\n",
       "      <th>2417</th>\n",
       "      <th>0</th>\n",
       "      <td>35.067146</td>\n",
       "      <td>-14.150043</td>\n",
       "      <td>160.817917</td>\n",
       "      <td>165.203949</td>\n",
       "      <td>-1</td>\n",
       "      <td>3.427752</td>\n",
       "    </tr>\n",
       "    <tr>\n",
       "      <th>2418</th>\n",
       "      <th>0</th>\n",
       "      <td>-29.756786</td>\n",
       "      <td>-15.303859</td>\n",
       "      <td>-52.663750</td>\n",
       "      <td>62.395161</td>\n",
       "      <td>-1</td>\n",
       "      <td>3.762945</td>\n",
       "    </tr>\n",
       "    <tr>\n",
       "      <th>2419</th>\n",
       "      <th>0</th>\n",
       "      <td>1.141870</td>\n",
       "      <td>63.609570</td>\n",
       "      <td>162.176315</td>\n",
       "      <td>174.208633</td>\n",
       "      <td>-1</td>\n",
       "      <td>0.550811</td>\n",
       "    </tr>\n",
       "    <tr>\n",
       "      <th>2420</th>\n",
       "      <th>0</th>\n",
       "      <td>23.913206</td>\n",
       "      <td>-35.665077</td>\n",
       "      <td>54.719437</td>\n",
       "      <td>69.556213</td>\n",
       "      <td>-1</td>\n",
       "      <td>0.000000</td>\n",
       "    </tr>\n",
       "  </tbody>\n",
       "</table>\n",
       "<p>3825 rows × 6 columns</p>\n",
       "</div>"
      ],
      "text/plain": [
       "                  Muon_Px    Muon_Py     Muon_Pz      Muon_E  Muon_Charge  \\\n",
       "entry subentry                                                              \n",
       "0     0        -52.899456 -11.654672   -8.160793   54.779499            1   \n",
       "      1         37.737782   0.693474  -11.307582   39.401695           -1   \n",
       "1     0         -0.816459 -24.404259   20.199968   31.690445            1   \n",
       "2     0         48.987831 -21.723139   11.168285   54.739788            1   \n",
       "      1          0.827567  29.800508   36.965191   47.488857           -1   \n",
       "...                   ...        ...         ...         ...          ...   \n",
       "2416  0        -39.285824 -14.607491   61.715790   74.602982           -1   \n",
       "2417  0         35.067146 -14.150043  160.817917  165.203949           -1   \n",
       "2418  0        -29.756786 -15.303859  -52.663750   62.395161           -1   \n",
       "2419  0          1.141870  63.609570  162.176315  174.208633           -1   \n",
       "2420  0         23.913206 -35.665077   54.719437   69.556213           -1   \n",
       "\n",
       "                Muon_Iso  \n",
       "entry subentry            \n",
       "0     0         4.200153  \n",
       "      1         2.151061  \n",
       "1     0         2.188047  \n",
       "2     0         1.412822  \n",
       "      1         3.383504  \n",
       "...                  ...  \n",
       "2416  0         1.080880  \n",
       "2417  0         3.427752  \n",
       "2418  0         3.762945  \n",
       "2419  0         0.550811  \n",
       "2420  0         0.000000  \n",
       "\n",
       "[3825 rows x 6 columns]"
      ]
     },
     "execution_count": 19,
     "metadata": {},
     "output_type": "execute_result"
    }
   ],
   "source": [
    "events.arrays(filter_name=\"Muon_*\", library=\"pd\")"
   ]
  },
  {
   "cell_type": "markdown",
   "id": "d5cef5ac-c0b7-40a4-b9ee-65cf5001ab27",
   "metadata": {},
   "source": [
    "But if you want multiple particles, they can't be in the same DataFrame.\n",
    "\n",
    "(A DataFrame has only one index; how would you relate jet subentry #1 with muon subentry #1?)"
   ]
  },
  {
   "cell_type": "code",
   "execution_count": 20,
   "id": "ffa314ca-00f2-435e-bff4-3ee22772f578",
   "metadata": {},
   "outputs": [],
   "source": [
    "dataframes = events.arrays(filter_name=\"/(Muon_|Jet_).*/\", library=\"pd\")"
   ]
  },
  {
   "cell_type": "code",
   "execution_count": 21,
   "id": "f7d986e5-bc1c-4bb8-a83c-61470589046f",
   "metadata": {},
   "outputs": [
    {
     "data": {
      "text/plain": [
       "2"
      ]
     },
     "execution_count": 21,
     "metadata": {},
     "output_type": "execute_result"
    }
   ],
   "source": [
    "len(dataframes)"
   ]
  },
  {
   "cell_type": "code",
   "execution_count": 22,
   "id": "1415debd-d11d-4eec-93c0-9d8777e61a40",
   "metadata": {},
   "outputs": [
    {
     "data": {
      "text/html": [
       "<div>\n",
       "<style scoped>\n",
       "    .dataframe tbody tr th:only-of-type {\n",
       "        vertical-align: middle;\n",
       "    }\n",
       "\n",
       "    .dataframe tbody tr th {\n",
       "        vertical-align: top;\n",
       "    }\n",
       "\n",
       "    .dataframe thead th {\n",
       "        text-align: right;\n",
       "    }\n",
       "</style>\n",
       "<table border=\"1\" class=\"dataframe\">\n",
       "  <thead>\n",
       "    <tr style=\"text-align: right;\">\n",
       "      <th></th>\n",
       "      <th></th>\n",
       "      <th>Jet_Px</th>\n",
       "      <th>Jet_Py</th>\n",
       "      <th>Jet_Pz</th>\n",
       "      <th>Jet_E</th>\n",
       "      <th>Jet_btag</th>\n",
       "      <th>Jet_ID</th>\n",
       "    </tr>\n",
       "    <tr>\n",
       "      <th>entry</th>\n",
       "      <th>subentry</th>\n",
       "      <th></th>\n",
       "      <th></th>\n",
       "      <th></th>\n",
       "      <th></th>\n",
       "      <th></th>\n",
       "      <th></th>\n",
       "    </tr>\n",
       "  </thead>\n",
       "  <tbody>\n",
       "    <tr>\n",
       "      <th>1</th>\n",
       "      <th>0</th>\n",
       "      <td>-38.874714</td>\n",
       "      <td>19.863453</td>\n",
       "      <td>-0.894942</td>\n",
       "      <td>44.137363</td>\n",
       "      <td>-1.0</td>\n",
       "      <td>True</td>\n",
       "    </tr>\n",
       "    <tr>\n",
       "      <th rowspan=\"3\" valign=\"top\">3</th>\n",
       "      <th>0</th>\n",
       "      <td>-71.695213</td>\n",
       "      <td>93.571579</td>\n",
       "      <td>196.296432</td>\n",
       "      <td>230.346008</td>\n",
       "      <td>-1.0</td>\n",
       "      <td>True</td>\n",
       "    </tr>\n",
       "    <tr>\n",
       "      <th>1</th>\n",
       "      <td>36.606369</td>\n",
       "      <td>21.838793</td>\n",
       "      <td>91.666283</td>\n",
       "      <td>101.358841</td>\n",
       "      <td>-1.0</td>\n",
       "      <td>True</td>\n",
       "    </tr>\n",
       "    <tr>\n",
       "      <th>2</th>\n",
       "      <td>-28.866419</td>\n",
       "      <td>9.320708</td>\n",
       "      <td>51.243221</td>\n",
       "      <td>60.084141</td>\n",
       "      <td>-1.0</td>\n",
       "      <td>True</td>\n",
       "    </tr>\n",
       "    <tr>\n",
       "      <th>4</th>\n",
       "      <th>0</th>\n",
       "      <td>3.880162</td>\n",
       "      <td>-75.234055</td>\n",
       "      <td>-359.601624</td>\n",
       "      <td>367.585480</td>\n",
       "      <td>-1.0</td>\n",
       "      <td>True</td>\n",
       "    </tr>\n",
       "    <tr>\n",
       "      <th>...</th>\n",
       "      <th>...</th>\n",
       "      <td>...</td>\n",
       "      <td>...</td>\n",
       "      <td>...</td>\n",
       "      <td>...</td>\n",
       "      <td>...</td>\n",
       "      <td>...</td>\n",
       "    </tr>\n",
       "    <tr>\n",
       "      <th rowspan=\"2\" valign=\"top\">2417</th>\n",
       "      <th>0</th>\n",
       "      <td>-33.196457</td>\n",
       "      <td>-59.664749</td>\n",
       "      <td>-29.040150</td>\n",
       "      <td>74.944725</td>\n",
       "      <td>-1.0</td>\n",
       "      <td>True</td>\n",
       "    </tr>\n",
       "    <tr>\n",
       "      <th>1</th>\n",
       "      <td>-26.086025</td>\n",
       "      <td>-19.068407</td>\n",
       "      <td>26.774284</td>\n",
       "      <td>42.481457</td>\n",
       "      <td>-1.0</td>\n",
       "      <td>True</td>\n",
       "    </tr>\n",
       "    <tr>\n",
       "      <th>2418</th>\n",
       "      <th>0</th>\n",
       "      <td>-3.714818</td>\n",
       "      <td>-37.202377</td>\n",
       "      <td>41.012222</td>\n",
       "      <td>55.950581</td>\n",
       "      <td>-1.0</td>\n",
       "      <td>True</td>\n",
       "    </tr>\n",
       "    <tr>\n",
       "      <th rowspan=\"2\" valign=\"top\">2419</th>\n",
       "      <th>0</th>\n",
       "      <td>-36.361286</td>\n",
       "      <td>10.173571</td>\n",
       "      <td>226.429214</td>\n",
       "      <td>229.577988</td>\n",
       "      <td>-1.0</td>\n",
       "      <td>True</td>\n",
       "    </tr>\n",
       "    <tr>\n",
       "      <th>1</th>\n",
       "      <td>-15.256871</td>\n",
       "      <td>-27.175364</td>\n",
       "      <td>12.119683</td>\n",
       "      <td>33.920349</td>\n",
       "      <td>-1.0</td>\n",
       "      <td>True</td>\n",
       "    </tr>\n",
       "  </tbody>\n",
       "</table>\n",
       "<p>2773 rows × 6 columns</p>\n",
       "</div>"
      ],
      "text/plain": [
       "                   Jet_Px     Jet_Py      Jet_Pz       Jet_E  Jet_btag  Jet_ID\n",
       "entry subentry                                                                \n",
       "1     0        -38.874714  19.863453   -0.894942   44.137363      -1.0    True\n",
       "3     0        -71.695213  93.571579  196.296432  230.346008      -1.0    True\n",
       "      1         36.606369  21.838793   91.666283  101.358841      -1.0    True\n",
       "      2        -28.866419   9.320708   51.243221   60.084141      -1.0    True\n",
       "4     0          3.880162 -75.234055 -359.601624  367.585480      -1.0    True\n",
       "...                   ...        ...         ...         ...       ...     ...\n",
       "2417  0        -33.196457 -59.664749  -29.040150   74.944725      -1.0    True\n",
       "      1        -26.086025 -19.068407   26.774284   42.481457      -1.0    True\n",
       "2418  0         -3.714818 -37.202377   41.012222   55.950581      -1.0    True\n",
       "2419  0        -36.361286  10.173571  226.429214  229.577988      -1.0    True\n",
       "      1        -15.256871 -27.175364   12.119683   33.920349      -1.0    True\n",
       "\n",
       "[2773 rows x 6 columns]"
      ]
     },
     "execution_count": 22,
     "metadata": {},
     "output_type": "execute_result"
    }
   ],
   "source": [
    "dataframes[0]"
   ]
  },
  {
   "cell_type": "code",
   "execution_count": 23,
   "id": "40094424-c024-40ec-9995-24196c802438",
   "metadata": {},
   "outputs": [
    {
     "data": {
      "text/html": [
       "<div>\n",
       "<style scoped>\n",
       "    .dataframe tbody tr th:only-of-type {\n",
       "        vertical-align: middle;\n",
       "    }\n",
       "\n",
       "    .dataframe tbody tr th {\n",
       "        vertical-align: top;\n",
       "    }\n",
       "\n",
       "    .dataframe thead th {\n",
       "        text-align: right;\n",
       "    }\n",
       "</style>\n",
       "<table border=\"1\" class=\"dataframe\">\n",
       "  <thead>\n",
       "    <tr style=\"text-align: right;\">\n",
       "      <th></th>\n",
       "      <th></th>\n",
       "      <th>Muon_Px</th>\n",
       "      <th>Muon_Py</th>\n",
       "      <th>Muon_Pz</th>\n",
       "      <th>Muon_E</th>\n",
       "      <th>Muon_Charge</th>\n",
       "      <th>Muon_Iso</th>\n",
       "    </tr>\n",
       "    <tr>\n",
       "      <th>entry</th>\n",
       "      <th>subentry</th>\n",
       "      <th></th>\n",
       "      <th></th>\n",
       "      <th></th>\n",
       "      <th></th>\n",
       "      <th></th>\n",
       "      <th></th>\n",
       "    </tr>\n",
       "  </thead>\n",
       "  <tbody>\n",
       "    <tr>\n",
       "      <th rowspan=\"2\" valign=\"top\">0</th>\n",
       "      <th>0</th>\n",
       "      <td>-52.899456</td>\n",
       "      <td>-11.654672</td>\n",
       "      <td>-8.160793</td>\n",
       "      <td>54.779499</td>\n",
       "      <td>1</td>\n",
       "      <td>4.200153</td>\n",
       "    </tr>\n",
       "    <tr>\n",
       "      <th>1</th>\n",
       "      <td>37.737782</td>\n",
       "      <td>0.693474</td>\n",
       "      <td>-11.307582</td>\n",
       "      <td>39.401695</td>\n",
       "      <td>-1</td>\n",
       "      <td>2.151061</td>\n",
       "    </tr>\n",
       "    <tr>\n",
       "      <th>1</th>\n",
       "      <th>0</th>\n",
       "      <td>-0.816459</td>\n",
       "      <td>-24.404259</td>\n",
       "      <td>20.199968</td>\n",
       "      <td>31.690445</td>\n",
       "      <td>1</td>\n",
       "      <td>2.188047</td>\n",
       "    </tr>\n",
       "    <tr>\n",
       "      <th rowspan=\"2\" valign=\"top\">2</th>\n",
       "      <th>0</th>\n",
       "      <td>48.987831</td>\n",
       "      <td>-21.723139</td>\n",
       "      <td>11.168285</td>\n",
       "      <td>54.739788</td>\n",
       "      <td>1</td>\n",
       "      <td>1.412822</td>\n",
       "    </tr>\n",
       "    <tr>\n",
       "      <th>1</th>\n",
       "      <td>0.827567</td>\n",
       "      <td>29.800508</td>\n",
       "      <td>36.965191</td>\n",
       "      <td>47.488857</td>\n",
       "      <td>-1</td>\n",
       "      <td>3.383504</td>\n",
       "    </tr>\n",
       "    <tr>\n",
       "      <th>...</th>\n",
       "      <th>...</th>\n",
       "      <td>...</td>\n",
       "      <td>...</td>\n",
       "      <td>...</td>\n",
       "      <td>...</td>\n",
       "      <td>...</td>\n",
       "      <td>...</td>\n",
       "    </tr>\n",
       "    <tr>\n",
       "      <th>2416</th>\n",
       "      <th>0</th>\n",
       "      <td>-39.285824</td>\n",
       "      <td>-14.607491</td>\n",
       "      <td>61.715790</td>\n",
       "      <td>74.602982</td>\n",
       "      <td>-1</td>\n",
       "      <td>1.080880</td>\n",
       "    </tr>\n",
       "    <tr>\n",
       "      <th>2417</th>\n",
       "      <th>0</th>\n",
       "      <td>35.067146</td>\n",
       "      <td>-14.150043</td>\n",
       "      <td>160.817917</td>\n",
       "      <td>165.203949</td>\n",
       "      <td>-1</td>\n",
       "      <td>3.427752</td>\n",
       "    </tr>\n",
       "    <tr>\n",
       "      <th>2418</th>\n",
       "      <th>0</th>\n",
       "      <td>-29.756786</td>\n",
       "      <td>-15.303859</td>\n",
       "      <td>-52.663750</td>\n",
       "      <td>62.395161</td>\n",
       "      <td>-1</td>\n",
       "      <td>3.762945</td>\n",
       "    </tr>\n",
       "    <tr>\n",
       "      <th>2419</th>\n",
       "      <th>0</th>\n",
       "      <td>1.141870</td>\n",
       "      <td>63.609570</td>\n",
       "      <td>162.176315</td>\n",
       "      <td>174.208633</td>\n",
       "      <td>-1</td>\n",
       "      <td>0.550811</td>\n",
       "    </tr>\n",
       "    <tr>\n",
       "      <th>2420</th>\n",
       "      <th>0</th>\n",
       "      <td>23.913206</td>\n",
       "      <td>-35.665077</td>\n",
       "      <td>54.719437</td>\n",
       "      <td>69.556213</td>\n",
       "      <td>-1</td>\n",
       "      <td>0.000000</td>\n",
       "    </tr>\n",
       "  </tbody>\n",
       "</table>\n",
       "<p>3825 rows × 6 columns</p>\n",
       "</div>"
      ],
      "text/plain": [
       "                  Muon_Px    Muon_Py     Muon_Pz      Muon_E  Muon_Charge  \\\n",
       "entry subentry                                                              \n",
       "0     0        -52.899456 -11.654672   -8.160793   54.779499            1   \n",
       "      1         37.737782   0.693474  -11.307582   39.401695           -1   \n",
       "1     0         -0.816459 -24.404259   20.199968   31.690445            1   \n",
       "2     0         48.987831 -21.723139   11.168285   54.739788            1   \n",
       "      1          0.827567  29.800508   36.965191   47.488857           -1   \n",
       "...                   ...        ...         ...         ...          ...   \n",
       "2416  0        -39.285824 -14.607491   61.715790   74.602982           -1   \n",
       "2417  0         35.067146 -14.150043  160.817917  165.203949           -1   \n",
       "2418  0        -29.756786 -15.303859  -52.663750   62.395161           -1   \n",
       "2419  0          1.141870  63.609570  162.176315  174.208633           -1   \n",
       "2420  0         23.913206 -35.665077   54.719437   69.556213           -1   \n",
       "\n",
       "                Muon_Iso  \n",
       "entry subentry            \n",
       "0     0         4.200153  \n",
       "      1         2.151061  \n",
       "1     0         2.188047  \n",
       "2     0         1.412822  \n",
       "      1         3.383504  \n",
       "...                  ...  \n",
       "2416  0         1.080880  \n",
       "2417  0         3.427752  \n",
       "2418  0         3.762945  \n",
       "2419  0         0.550811  \n",
       "2420  0         0.000000  \n",
       "\n",
       "[3825 rows x 6 columns]"
      ]
     },
     "execution_count": 23,
     "metadata": {},
     "output_type": "execute_result"
    }
   ],
   "source": [
    "dataframes[1]"
   ]
  },
  {
   "cell_type": "markdown",
   "id": "91bed99b-4a2d-4234-999d-a7575bb9aeb5",
   "metadata": {},
   "source": [
    "Again, that's why we have Awkward Array."
   ]
  },
  {
   "cell_type": "code",
   "execution_count": 24,
   "id": "cfb10799-a890-4175-b261-6d4bf5491d8d",
   "metadata": {},
   "outputs": [
    {
     "data": {
      "text/plain": [
       "<Array [{Jet: [], Muon: [, ... Iso: 0}]}] type='2421 * {\"Jet\": var * {\"Px\": floa...'>"
      ]
     },
     "execution_count": 24,
     "metadata": {},
     "output_type": "execute_result"
    }
   ],
   "source": [
    "array = events.arrays(filter_name=\"/(Muon_|Jet_).*/\", library=\"ak\", how=\"zip\")\n",
    "array"
   ]
  },
  {
   "cell_type": "code",
   "execution_count": 34,
   "id": "313d41a0-af04-4757-952c-8edd0760cd84",
   "metadata": {},
   "outputs": [
    {
     "data": {
      "text/plain": [
       "<Array [None, {Px: -38.9, ... ID: True}, None] type='2421 * ?{\"Px\": float32, \"Py...'>"
      ]
     },
     "execution_count": 34,
     "metadata": {},
     "output_type": "execute_result"
    }
   ],
   "source": [
    "ak.firsts(array.Jet)"
   ]
  },
  {
   "cell_type": "code",
   "execution_count": 26,
   "id": "231efbed-a89f-4c65-90d8-6079290667e3",
   "metadata": {},
   "outputs": [
    {
     "data": {
      "text/plain": [
       "<Array [[], [-38.9], ... [-36.4, -15.3], []] type='2421 * var * float32'>"
      ]
     },
     "execution_count": 26,
     "metadata": {},
     "output_type": "execute_result"
    }
   ],
   "source": [
    "array.Jet.Px"
   ]
  },
  {
   "cell_type": "code",
   "execution_count": 27,
   "id": "93cae795-5082-41eb-98ec-9e99a899f50c",
   "metadata": {},
   "outputs": [
    {
     "data": {
      "text/plain": [
       "<Array [[{Px: -52.9, Py: -11.7, ... Iso: 0}]] type='2421 * var * {\"Px\": float32,...'>"
      ]
     },
     "execution_count": 27,
     "metadata": {},
     "output_type": "execute_result"
    }
   ],
   "source": [
    "array.Muon"
   ]
  },
  {
   "cell_type": "code",
   "execution_count": 28,
   "id": "b9d3f14f-1587-48f3-b021-1f686ec43267",
   "metadata": {},
   "outputs": [
    {
     "data": {
      "text/plain": [
       "<Array [[-52.9, 37.7], ... 1.14], [23.9]] type='2421 * var * float32'>"
      ]
     },
     "execution_count": 28,
     "metadata": {},
     "output_type": "execute_result"
    }
   ],
   "source": [
    "array.Muon.Px"
   ]
  },
  {
   "cell_type": "code",
   "execution_count": 29,
   "id": "d6e828ce-f5e8-4ed0-b456-ff65cc638808",
   "metadata": {},
   "outputs": [
    {
     "data": {
      "text/plain": [
       "(<Array [0, 1, 0, 3, 2, 2, ... 0, 1, 2, 1, 2, 0] type='2421 * int64'>,\n",
       " <Array [2, 1, 2, 2, 2, 2, ... 2, 1, 1, 1, 1, 1] type='2421 * int64'>)"
      ]
     },
     "execution_count": 29,
     "metadata": {},
     "output_type": "execute_result"
    }
   ],
   "source": [
    "ak.num(array.Jet), ak.num(array.Muon)"
   ]
  },
  {
   "cell_type": "markdown",
   "id": "e99681d5-db86-459a-8620-6c303bef1c20",
   "metadata": {},
   "source": [
    "<br><br><br><br><br>\n",
    "\n",
    "## Awkward Array is a general-purpose library: NumPy-like idioms on JSON-like data"
   ]
  },
  {
   "cell_type": "markdown",
   "id": "9eaca985-580b-4564-a9be-a05cf434fb89",
   "metadata": {},
   "source": [
    "<img src=\"img/pivarski-one-slide-summary.svg\" style=\"width: 70%\">"
   ]
  },
  {
   "cell_type": "markdown",
   "id": "4709c99c-370c-4ab9-adfe-6b1b434793e6",
   "metadata": {},
   "source": [
    "<br><br><br><br><br>\n",
    "\n",
    "## Main idea: slicing through structure is computationally inexpensive\n",
    "\n",
    "Slicing by field name doesn't modify any large buffers and [ak.zip](https://awkward-array.readthedocs.io/en/latest/_auto/ak.zip.html) only scans them to ensure they're compatible (not even that if `depth_limit=1`)."
   ]
  },
  {
   "cell_type": "code",
   "execution_count": 35,
   "id": "c272052a-1a9e-4fe3-951b-db38a6cceb40",
   "metadata": {},
   "outputs": [
    {
     "data": {
      "text/plain": [
       "<Array [{NJet: 0, ... EventWeight: 0.00876}] type='2421 * {\"NJet\": int32, \"Jet_P...'>"
      ]
     },
     "execution_count": 35,
     "metadata": {},
     "output_type": "execute_result"
    }
   ],
   "source": [
    "array = events.arrays()\n",
    "array"
   ]
  },
  {
   "cell_type": "markdown",
   "id": "d93d9d83-a5f6-49d2-a1d6-9e985b94465c",
   "metadata": {},
   "source": [
    "Think of this as zero-cost:"
   ]
  },
  {
   "cell_type": "code",
   "execution_count": 36,
   "id": "8c6f8d39-75f3-4d6e-867f-c60bd16d83ba",
   "metadata": {},
   "outputs": [
    {
     "data": {
      "text/plain": [
       "(<Array [[-52.9, 37.7], ... 1.14], [23.9]] type='2421 * var * float32'>,\n",
       " <Array [[-11.7, 0.693], ... 63.6], [-35.7]] type='2421 * var * float32'>,\n",
       " <Array [[-8.16, -11.3], ... 162], [54.7]] type='2421 * var * float32'>)"
      ]
     },
     "execution_count": 36,
     "metadata": {},
     "output_type": "execute_result"
    }
   ],
   "source": [
    "array.Muon_Px, array.Muon_Py, array.Muon_Pz"
   ]
  },
  {
   "cell_type": "markdown",
   "id": "e2ed505d-6eca-4807-b43b-880ed4c4fd0c",
   "metadata": {},
   "source": [
    "Think of this as zero-cost:"
   ]
  },
  {
   "cell_type": "code",
   "execution_count": 37,
   "id": "684275da-c070-4523-ab77-1f4e1727cf0e",
   "metadata": {},
   "outputs": [
    {
     "data": {
      "text/plain": [
       "<Array [[{px: -52.9, py: -11.7, ... pz: 54.7}]] type='2421 * var * {\"px\": float3...'>"
      ]
     },
     "execution_count": 37,
     "metadata": {},
     "output_type": "execute_result"
    }
   ],
   "source": [
    "ak.zip({\"px\": array.Muon_Px, \"py\": array.Muon_Py, \"pz\": array.Muon_Pz})"
   ]
  },
  {
   "cell_type": "markdown",
   "id": "f534ea92-4d94-4265-9166-c3789548cfb1",
   "metadata": {},
   "source": [
    "(The above is a manual version of `how=\"zip\"`.)"
   ]
  },
  {
   "cell_type": "markdown",
   "id": "74f6e268-26ff-45ff-af49-24e1fc4be70c",
   "metadata": {},
   "source": [
    "<br><br><br>\n",
    "\n",
    "NumPy ufuncs work on these arrays (if they're \"[broadcastable](https://awkward-array.readthedocs.io/en/latest/_auto/ak.broadcast_arrays.html)\")."
   ]
  },
  {
   "cell_type": "code",
   "execution_count": 38,
   "id": "c107261e-e687-4844-aad3-65ce162531c3",
   "metadata": {},
   "outputs": [
    {
     "data": {
      "text/plain": [
       "<Array [[54.2, 37.7], [24.4, ... 63.6], [42.9]] type='2421 * var * float32'>"
      ]
     },
     "execution_count": 38,
     "metadata": {},
     "output_type": "execute_result"
    }
   ],
   "source": [
    "np.sqrt(array.Muon_Px**2 + array.Muon_Py**2)"
   ]
  },
  {
   "cell_type": "code",
   "execution_count": 43,
   "id": "fcefc96f-7589-434d-bc05-16d65f429e5d",
   "metadata": {},
   "outputs": [
    {
     "data": {
      "text/plain": [
       "<ufunc 'add'>"
      ]
     },
     "execution_count": 43,
     "metadata": {},
     "output_type": "execute_result"
    }
   ],
   "source": [
    "np.add"
   ]
  },
  {
   "cell_type": "code",
   "execution_count": 46,
   "id": "1ce8c083-6c3f-408d-89cb-0d321ee73db3",
   "metadata": {},
   "outputs": [
    {
     "data": {
      "text/plain": [
       "<Array [[-64.6, 38.4], ... 64.8], [-11.8]] type='2421 * var * float32'>"
      ]
     },
     "execution_count": 46,
     "metadata": {},
     "output_type": "execute_result"
    }
   ],
   "source": [
    "array.Muon_Px + array.Muon_Py"
   ]
  },
  {
   "cell_type": "code",
   "execution_count": 48,
   "id": "ab7b4203-5555-48b9-8a19-30c0a6dad759",
   "metadata": {},
   "outputs": [],
   "source": [
    "import numba as nb"
   ]
  },
  {
   "cell_type": "code",
   "execution_count": 62,
   "id": "73212967-b96c-4bf0-af64-29ba2c67a6cd",
   "metadata": {},
   "outputs": [],
   "source": [
    "@nb.vectorize([nb.float32(nb.float32, nb.float32)])\n",
    "def add(x, y):\n",
    "    return x + y"
   ]
  },
  {
   "cell_type": "code",
   "execution_count": 59,
   "id": "cf8fbfac-c10b-4c9e-acb9-6239c9ed86f2",
   "metadata": {},
   "outputs": [
    {
     "data": {
      "text/plain": [
       "<numba._DUFunc 'add'>"
      ]
     },
     "execution_count": 59,
     "metadata": {},
     "output_type": "execute_result"
    }
   ],
   "source": [
    "add"
   ]
  },
  {
   "cell_type": "code",
   "execution_count": 60,
   "id": "077fb0ad-5f47-47ca-b885-b3d9b35c5b57",
   "metadata": {},
   "outputs": [
    {
     "data": {
      "text/plain": [
       "<Array [[-64.6, 38.4], ... 64.8], [-11.8]] type='2421 * var * float32'>"
      ]
     },
     "execution_count": 60,
     "metadata": {},
     "output_type": "execute_result"
    }
   ],
   "source": [
    "add(array.Muon_Px, array.Muon_Py)"
   ]
  },
  {
   "cell_type": "code",
   "execution_count": 57,
   "id": "74294114-b170-4662-ac6f-9145956b4699",
   "metadata": {},
   "outputs": [],
   "source": [
    "@nb.jit\n",
    "def anything_else(asdf):\n",
    "    asdf"
   ]
  },
  {
   "cell_type": "markdown",
   "id": "9f96c45a-dac4-4bf8-bc0d-e8e539129ee4",
   "metadata": {},
   "source": [
    "<br><br><br>\n",
    "\n",
    "And there are specialized operations that only make sense in a variable-length context.\n",
    "\n",
    "<table style=\"margin-left: 0px\">\n",
    "    <tr style=\"background: white\"><td style=\"font-size: 1.75em; font-weight: bold; text-align: center\"><a href=\"https://awkward-array.readthedocs.io/en/latest/_auto/ak.cartesian.html\">ak.cartesian</a></td><td style=\"font-size: 1.75em; font-weight: bold; text-align: center\"><a href=\"https://awkward-array.readthedocs.io/en/latest/_auto/ak.combinations.html\">ak.combinations</a></td></tr>\n",
    "    <tr style=\"background: white\"><td><img src=\"img/cartoon-cartesian.png\"></td><td><img src=\"img/cartoon-combinations.png\"></td></tr>\n",
    "</table>"
   ]
  },
  {
   "cell_type": "code",
   "execution_count": 63,
   "id": "020c5f92-13d5-48b6-a29d-8ae19827becf",
   "metadata": {},
   "outputs": [
    {
     "data": {
      "text/plain": [
       "<Array [[], [(-0.816, -38.9, ... -15.3)], []] type='2421 * var * (float32, float32)'>"
      ]
     },
     "execution_count": 63,
     "metadata": {},
     "output_type": "execute_result"
    }
   ],
   "source": [
    "ak.cartesian((array.Muon_Px, array.Jet_Px))"
   ]
  },
  {
   "cell_type": "code",
   "execution_count": 65,
   "id": "f7976a9d-4e14-4f71-821b-b07659701bec",
   "metadata": {},
   "outputs": [
    {
     "data": {
      "text/plain": [
       "<Array [[], [], [], [], ... [], [], [], []] type='2421 * var * (float32, float32...'>"
      ]
     },
     "execution_count": 65,
     "metadata": {},
     "output_type": "execute_result"
    }
   ],
   "source": [
    "ak.combinations(array.Muon_Px, 3)"
   ]
  },
  {
   "cell_type": "markdown",
   "id": "b73c7c6d-41cb-4297-bc32-19c5642fbf42",
   "metadata": {},
   "source": [
    "<br><br><br><br><br>\n",
    "\n",
    "## Arrays can have custom [behavior](https://awkward-array.readthedocs.io/en/latest/ak.behavior.html)\n",
    "\n",
    "The following come from the new [Vector](https://github.com/scikit-hep/vector#readme) library."
   ]
  },
  {
   "cell_type": "code",
   "execution_count": 66,
   "id": "a09f2884-dc3b-4f15-a4e0-3afbcd77a984",
   "metadata": {},
   "outputs": [],
   "source": [
    "import vector\n",
    "vector.register_awkward()"
   ]
  },
  {
   "cell_type": "code",
   "execution_count": 67,
   "id": "0f497377-398d-4c11-ad08-8483c61f2239",
   "metadata": {},
   "outputs": [
    {
     "data": {
      "text/plain": [
       "<MomentumArray4D [[{px: -52.9, py: -11.7, ... E: 69.6}]] type='2421 * var * Mome...'>"
      ]
     },
     "execution_count": 67,
     "metadata": {},
     "output_type": "execute_result"
    }
   ],
   "source": [
    "muons = ak.zip({\"px\": array.Muon_Px, \"py\": array.Muon_Py, \"pz\": array.Muon_Pz, \"E\": array.Muon_E}, with_name=\"Momentum4D\")\n",
    "muons"
   ]
  },
  {
   "cell_type": "markdown",
   "id": "3099e3d5-2dc6-41ec-8cb9-372923904c45",
   "metadata": {},
   "source": [
    "This is an array of lists of vectors, and methods like `pt`, `eta`, `phi` apply through the whole array."
   ]
  },
  {
   "cell_type": "code",
   "execution_count": 68,
   "id": "877cac01-693b-435d-9e6f-f67325cbe9d0",
   "metadata": {},
   "outputs": [
    {
     "data": {
      "text/plain": [
       "<Array [[54.2, 37.7], [24.4, ... 63.6], [42.9]] type='2421 * var * float32'>"
      ]
     },
     "execution_count": 68,
     "metadata": {},
     "output_type": "execute_result"
    }
   ],
   "source": [
    "muons.pt"
   ]
  },
  {
   "cell_type": "code",
   "execution_count": 69,
   "id": "67d0cb46-a576-4de4-8968-f7734a049fad",
   "metadata": {},
   "outputs": [
    {
     "data": {
      "text/plain": [
       "<Array [[-0.15, -0.295], ... 1.67], [1.06]] type='2421 * var * float32'>"
      ]
     },
     "execution_count": 69,
     "metadata": {},
     "output_type": "execute_result"
    }
   ],
   "source": [
    "muons.eta"
   ]
  },
  {
   "cell_type": "code",
   "execution_count": 70,
   "id": "830140bb-fe03-4c78-8178-f15a8748dd60",
   "metadata": {},
   "outputs": [
    {
     "data": {
      "text/plain": [
       "<Array [[-2.92, 0.0184], ... 1.55], [-0.98]] type='2421 * var * float32'>"
      ]
     },
     "execution_count": 70,
     "metadata": {},
     "output_type": "execute_result"
    }
   ],
   "source": [
    "muons.phi"
   ]
  },
  {
   "cell_type": "code",
   "execution_count": 73,
   "id": "5e9e7911-1fcb-4498-9cc4-3bea553c1f9c",
   "metadata": {},
   "outputs": [
    {
     "data": {
      "text/plain": [
       "<Array [[-0.15, -0.295], ... 1.67], [1.06]] type='2421 * var * float32'>"
      ]
     },
     "execution_count": 73,
     "metadata": {},
     "output_type": "execute_result"
    }
   ],
   "source": [
    "muons.rapidity"
   ]
  },
  {
   "cell_type": "code",
   "execution_count": 75,
   "id": "4db9adc1-1305-47e3-bae3-57fe7965a3f0",
   "metadata": {},
   "outputs": [
    {
     "data": {
      "text/plain": [
       "54.16810703140204"
      ]
     },
     "execution_count": 75,
     "metadata": {},
     "output_type": "execute_result"
    }
   ],
   "source": [
    "muons[0, 0].pt"
   ]
  },
  {
   "cell_type": "markdown",
   "id": "84c01a24-8888-4797-a00d-491c983ad4b4",
   "metadata": {},
   "source": [
    "<br><br><br>\n",
    "\n",
    "Let's try an example: ΔR(muons, jets)"
   ]
  },
  {
   "cell_type": "code",
   "execution_count": 76,
   "id": "0646a94b-7e04-48e5-b1b9-cf347e0b16d7",
   "metadata": {},
   "outputs": [
    {
     "data": {
      "text/plain": [
       "<MomentumArray4D [[], [{px: -38.9, ... E: 33.9}], []] type='2421 * var * Momentu...'>"
      ]
     },
     "execution_count": 76,
     "metadata": {},
     "output_type": "execute_result"
    }
   ],
   "source": [
    "jets = ak.zip({\"px\": array.Jet_Px, \"py\": array.Jet_Py, \"pz\": array.Jet_Pz, \"E\": array.Jet_E}, with_name=\"Momentum4D\")\n",
    "jets"
   ]
  },
  {
   "cell_type": "code",
   "execution_count": 77,
   "id": "38732ecc-4850-4e11-956e-7413a0845cbb",
   "metadata": {},
   "outputs": [
    {
     "data": {
      "text/plain": [
       "(<Array [2, 1, 2, 2, 2, 2, ... 2, 1, 1, 1, 1, 1] type='2421 * int64'>,\n",
       " <Array [0, 1, 0, 3, 2, 2, ... 0, 1, 2, 1, 2, 0] type='2421 * int64'>)"
      ]
     },
     "execution_count": 77,
     "metadata": {},
     "output_type": "execute_result"
    }
   ],
   "source": [
    "ak.num(muons), ak.num(jets)"
   ]
  },
  {
   "cell_type": "code",
   "execution_count": 79,
   "id": "2d1d780f-afa2-4fa0-a197-d8af931b0504",
   "metadata": {},
   "outputs": [
    {
     "data": {
      "text/plain": [
       "2421 * var * (Momentum4D[\"px\": float32, \"py\": float32, \"pz\": float32, \"E\": float32], Momentum4D[\"px\": float32, \"py\": float32, \"pz\": float32, \"E\": float32])"
      ]
     },
     "execution_count": 79,
     "metadata": {},
     "output_type": "execute_result"
    }
   ],
   "source": [
    "ak.cartesian((muons, jets)).type"
   ]
  },
  {
   "cell_type": "code",
   "execution_count": 80,
   "id": "1933b22d-42fe-45dd-a0cd-cfbf949053bc",
   "metadata": {},
   "outputs": [
    {
     "data": {
      "text/plain": [
       "(<MomentumArray4D [[], [{px: -0.816, ... E: 174}], []] type='2421 * var * Momentu...'>,\n",
       " <MomentumArray4D [[], [{px: -38.9, ... E: 33.9}], []] type='2421 * var * Momentu...'>)"
      ]
     },
     "execution_count": 80,
     "metadata": {},
     "output_type": "execute_result"
    }
   ],
   "source": [
    "ms, js = ak.unzip(ak.cartesian((muons, jets)))\n",
    "ms, js"
   ]
  },
  {
   "cell_type": "code",
   "execution_count": 81,
   "id": "ac76799e-b86d-4872-a09f-aeb9d3ed6fb7",
   "metadata": {},
   "outputs": [
    {
     "data": {
      "text/plain": [
       "(<Array [0, 1, 0, 6, 4, 4, ... 0, 1, 2, 1, 2, 0] type='2421 * int64'>,\n",
       " <Array [0, 1, 0, 6, 4, 4, ... 0, 1, 2, 1, 2, 0] type='2421 * int64'>)"
      ]
     },
     "execution_count": 81,
     "metadata": {},
     "output_type": "execute_result"
    }
   ],
   "source": [
    "ak.num(ms), ak.num(js)"
   ]
  },
  {
   "cell_type": "code",
   "execution_count": 82,
   "id": "0206ebe6-b580-4872-9b16-58d606e92b09",
   "metadata": {},
   "outputs": [
    {
     "data": {
      "text/plain": [
       "<Array [[], [2.15], [], ... [1.55, 2.94], []] type='2421 * var * float32'>"
      ]
     },
     "execution_count": 82,
     "metadata": {},
     "output_type": "execute_result"
    }
   ],
   "source": [
    "ms.deltaR(js)"
   ]
  },
  {
   "cell_type": "markdown",
   "id": "12b2c1e7-5cfd-44b8-8870-d37878422a28",
   "metadata": {},
   "source": [
    "<br><br><br>\n",
    "\n",
    "And another: muon pairs (all combinations, not just the first two per event)."
   ]
  },
  {
   "cell_type": "code",
   "execution_count": 99,
   "id": "b366c0b7-a4e3-4ebc-b4e2-a6150019ca16",
   "metadata": {},
   "outputs": [
    {
     "data": {
      "text/plain": [
       "<Array [2, 1, 2, 2, 2, 2, ... 2, 1, 1, 1, 1, 1] type='2421 * int64'>"
      ]
     },
     "execution_count": 99,
     "metadata": {},
     "output_type": "execute_result"
    }
   ],
   "source": [
    "ak.num(muons)"
   ]
  },
  {
   "cell_type": "code",
   "execution_count": 85,
   "id": "207bf9a9-84c0-428a-815e-6de6fb8694a3",
   "metadata": {},
   "outputs": [
    {
     "data": {
      "text/plain": [
       "(<MomentumArray4D [[{px: -52.9, py: -11.7, ... [], []] type='2421 * var * Momentu...'>,\n",
       " <MomentumArray4D [[{px: 37.7, py: 0.693, ... [], []] type='2421 * var * Momentum...'>)"
      ]
     },
     "execution_count": 85,
     "metadata": {},
     "output_type": "execute_result"
    }
   ],
   "source": [
    "m1, m2 = ak.unzip(ak.combinations(muons, 2))\n",
    "m1, m2"
   ]
  },
  {
   "cell_type": "code",
   "execution_count": 86,
   "id": "a3b698ef-989d-4185-8de0-62a70087072c",
   "metadata": {},
   "outputs": [
    {
     "data": {
      "text/plain": [
       "(<Array [1, 0, 1, 1, 1, 1, ... 1, 0, 0, 0, 0, 0] type='2421 * int64'>,\n",
       " <Array [1, 0, 1, 1, 1, 1, ... 1, 0, 0, 0, 0, 0] type='2421 * int64'>)"
      ]
     },
     "execution_count": 86,
     "metadata": {},
     "output_type": "execute_result"
    }
   ],
   "source": [
    "ak.num(m1), ak.num(m2)"
   ]
  },
  {
   "cell_type": "code",
   "execution_count": 87,
   "id": "6d2444a8-a7ef-4731-b3cd-923c0ed0c7ea",
   "metadata": {},
   "outputs": [
    {
     "data": {
      "text/plain": [
       "<MomentumArray4D [[{x: -15.2, y: -11, ... [], []] type='2421 * var * Momentum4D[...'>"
      ]
     },
     "execution_count": 87,
     "metadata": {},
     "output_type": "execute_result"
    }
   ],
   "source": [
    "m1 + m2"
   ]
  },
  {
   "cell_type": "code",
   "execution_count": 88,
   "id": "9bc067cb-a97e-4333-92b4-48d705fe5107",
   "metadata": {},
   "outputs": [
    {
     "data": {
      "text/plain": [
       "<Array [[90.2], [], [74.7], ... [], [], [], []] type='2421 * var * float32'>"
      ]
     },
     "execution_count": 88,
     "metadata": {},
     "output_type": "execute_result"
    }
   ],
   "source": [
    "(m1 + m2).mass"
   ]
  },
  {
   "cell_type": "code",
   "execution_count": 89,
   "id": "2722fa73-649d-43f2-8312-2703776a9433",
   "metadata": {},
   "outputs": [
    {
     "data": {
      "text/plain": [
       "[StairsArtists(stairs=<matplotlib.patches.StepPatch object at 0x7ff01fb27d90>, errorbar=<ErrorbarContainer object of 3 artists>, legend_artist=<ErrorbarContainer object of 3 artists>)]"
      ]
     },
     "execution_count": 89,
     "metadata": {},
     "output_type": "execute_result"
    },
    {
     "data": {
      "image/png": "[encoded data removed]",
      "text/plain": [
       "<Figure size 432x288 with 1 Axes>"
      ]
     },
     "metadata": {
      "needs_background": "light"
     },
     "output_type": "display_data"
    }
   ],
   "source": [
    "import hist\n",
    "\n",
    "hist.Hist.new.Reg(120, 0, 120, name=\"mass\").Double().fill(\n",
    "    ak.flatten((m1 + m2).mass)\n",
    ").plot()"
   ]
  },
  {
   "cell_type": "markdown",
   "id": "4db9bbdf-188f-4cba-b355-07c1a617b637",
   "metadata": {},
   "source": [
    "<br><br><br>\n",
    "\n",
    "### It doesn't matter which coordinates were used to construct it"
   ]
  },
  {
   "cell_type": "code",
   "execution_count": 90,
   "id": "118fd5b1-894f-486d-9e23-548ba1c84c63",
   "metadata": {},
   "outputs": [],
   "source": [
    "array2 = uproot.open(\n",
    "    \"root://eospublic.cern.ch//eos/opendata/cms/derived-data/AOD2NanoAODOutreachTool/Run2012BC_DoubleMuParked_Muons.root:Events\"\n",
    ").arrays([\"Muon_pt\", \"Muon_eta\", \"Muon_phi\", \"Muon_charge\"], entry_stop=100000)"
   ]
  },
  {
   "cell_type": "code",
   "execution_count": 92,
   "id": "8a98a3dc-b708-4ad4-ae20-ba69cce5e860",
   "metadata": {},
   "outputs": [
    {
     "data": {
      "text/plain": [
       "100000 * {\"Muon_pt\": var * float32, \"Muon_eta\": var * float32, \"Muon_phi\": var * float32, \"Muon_charge\": var * int32}"
      ]
     },
     "execution_count": 92,
     "metadata": {},
     "output_type": "execute_result"
    }
   ],
   "source": [
    "array2.type"
   ]
  },
  {
   "cell_type": "code",
   "execution_count": 93,
   "id": "d266244f-461d-4590-9214-1d4380a8866d",
   "metadata": {},
   "outputs": [
    {
     "data": {
      "text/plain": [
       "<MomentumArray4D [[{pt: 10.8, ... mass: 0.106}]] type='100000 * var * Momentum4D...'>"
      ]
     },
     "execution_count": 93,
     "metadata": {},
     "output_type": "execute_result"
    }
   ],
   "source": [
    "import particle\n",
    "\n",
    "muons2 = ak.zip({\"pt\": array2.Muon_pt, \"eta\": array2.Muon_eta, \"phi\": array2.Muon_phi, \"q\": array2.Muon_charge}, with_name=\"Momentum4D\")\n",
    "muons2[\"mass\"] = particle.Particle.from_string(\"mu\").mass / 1000.0\n",
    "muons2"
   ]
  },
  {
   "cell_type": "code",
   "execution_count": 94,
   "id": "77afb012-9d69-4472-8e90-0434f17e06e7",
   "metadata": {},
   "outputs": [
    {
     "data": {
      "text/plain": [
       "100000 * var * Momentum4D[\"pt\": float32, \"eta\": float32, \"phi\": float32, \"q\": int32, \"mass\": float64]"
      ]
     },
     "execution_count": 94,
     "metadata": {},
     "output_type": "execute_result"
    }
   ],
   "source": [
    "muons2.type"
   ]
  },
  {
   "cell_type": "markdown",
   "id": "d0391ff6-7281-46ff-801e-0b8928347fc3",
   "metadata": {},
   "source": [
    "As long as you use properties (dots, not strings in brackets), you don't need to care what coordinates it's based on."
   ]
  },
  {
   "cell_type": "code",
   "execution_count": 95,
   "id": "7eb3b75b-f5a3-4658-a9cc-c0b29d1b0e4b",
   "metadata": {},
   "outputs": [
    {
     "data": {
      "text/plain": [
       "<Array [[10.8, -13], ... [10.2, -2.02, 4.2]] type='100000 * var * float32'>"
      ]
     },
     "execution_count": 95,
     "metadata": {},
     "output_type": "execute_result"
    }
   ],
   "source": [
    "muons2.px"
   ]
  },
  {
   "cell_type": "code",
   "execution_count": 96,
   "id": "6566a49c-4ce4-481a-9931-b8c2e95e80a6",
   "metadata": {},
   "outputs": [
    {
     "data": {
      "text/plain": [
       "<Array [[-0.369, 8.87], ... -5.28, 2.33, 2.65]] type='100000 * var * float32'>"
      ]
     },
     "execution_count": 96,
     "metadata": {},
     "output_type": "execute_result"
    }
   ],
   "source": [
    "muons2.py"
   ]
  },
  {
   "cell_type": "code",
   "execution_count": 97,
   "id": "8d13dc67-35b1-4fad-8e98-f0d9733f577d",
   "metadata": {},
   "outputs": [
    {
     "data": {
      "text/plain": [
       "<Array [[13.8, -9.35], ... 5.25, -8.11, 4.18]] type='100000 * var * float32'>"
      ]
     },
     "execution_count": 97,
     "metadata": {},
     "output_type": "execute_result"
    }
   ],
   "source": [
    "muons2.pz"
   ]
  },
  {
   "cell_type": "code",
   "execution_count": 98,
   "id": "7eef9466-6d63-4e9e-b1c9-c0ea896a6118",
   "metadata": {},
   "outputs": [
    {
     "data": {
      "text/plain": [
       "<Array [[17.5, 18.3], ... 12.6, 8.67, 6.49]] type='100000 * var * float64'>"
      ]
     },
     "execution_count": 98,
     "metadata": {},
     "output_type": "execute_result"
    }
   ],
   "source": [
    "muons2.E"
   ]
  },
  {
   "cell_type": "code",
   "execution_count": 100,
   "id": "0da4eb75-6b02-4cca-b770-0944f40a5da8",
   "metadata": {},
   "outputs": [
    {
     "data": {
      "text/plain": [
       "[StairsArtists(stairs=<matplotlib.patches.StepPatch object at 0x7fefeffcc220>, errorbar=<ErrorbarContainer object of 3 artists>, legend_artist=<ErrorbarContainer object of 3 artists>)]"
      ]
     },
     "execution_count": 100,
     "metadata": {},
     "output_type": "execute_result"
    },
    {
     "data": {
      "image/png": "[encoded data removed]",
      "text/plain": [
       "<Figure size 432x288 with 1 Axes>"
      ]
     },
     "metadata": {
      "needs_background": "light"
     },
     "output_type": "display_data"
    }
   ],
   "source": [
    "m1, m2 = ak.unzip(ak.combinations(muons2, 2))\n",
    "hist.Hist.new.Log(200, 0.1, 120, name=\"mass\").Double().fill(\n",
    "    ak.flatten((m1 + m2).mass)\n",
    ").plot()"
   ]
  },
  {
   "cell_type": "markdown",
   "id": "a6a9d1e2-e208-40d2-9878-edbc4a017b5e",
   "metadata": {},
   "source": [
    "<br><br><br>\n",
    "\n",
    "## Awkward Arrays and Vector in Numba\n",
    "\n",
    "Remember Numba, the JIT-compiler from [1-python-performance.ipynb](1-python-performance.ipynb)? Awkward Array and Vector have been implemented in Numba's compiler."
   ]
  },
  {
   "cell_type": "code",
   "execution_count": 101,
   "id": "27f91719-7143-47d1-bc93-ece0e14d1515",
   "metadata": {},
   "outputs": [],
   "source": [
    "import numba as nb\n",
    "\n",
    "@nb.njit\n",
    "def first_big_dimuon(events):\n",
    "    for event in events:\n",
    "        for i in range(len(event)):\n",
    "            mu1 = event[i]\n",
    "            for j in range(i + 1, len(event)):\n",
    "                mu2 = event[j]\n",
    "                dimuon = mu1 + mu2\n",
    "                if dimuon.mass > 10:\n",
    "                    return dimuon"
   ]
  },
  {
   "cell_type": "code",
   "execution_count": 102,
   "id": "aa36234f-f1f8-432d-80e4-697072a8be85",
   "metadata": {},
   "outputs": [
    {
     "data": {
      "text/plain": [
       "vector.obj(pt=8.79338264465332, phi=1.8283271789550781, eta=0.48550859093666077, mass=34.41546777888355)"
      ]
     },
     "execution_count": 102,
     "metadata": {},
     "output_type": "execute_result"
    }
   ],
   "source": [
    "first_big_dimuon(muons2)"
   ]
  },
  {
   "cell_type": "code",
   "execution_count": 105,
   "id": "70f3e92c-a0f0-42f3-88ce-a7d1555c0e01",
   "metadata": {},
   "outputs": [
    {
     "data": {
      "text/plain": [
       "<Array [{NJet: 0, ... EventWeight: 0.00876}] type='2421 * {\"NJet\": int32, \"Jet_P...'>"
      ]
     },
     "execution_count": 105,
     "metadata": {},
     "output_type": "execute_result"
    }
   ],
   "source": [
    "array"
   ]
  },
  {
   "cell_type": "code",
   "execution_count": 106,
   "id": "74df2d44-66a3-45a3-91fa-01accd7f5b0f",
   "metadata": {},
   "outputs": [
    {
     "data": {
      "text/plain": [
       "2421 * {\"NJet\": int32, \"Jet_Px\": var * float32, \"Jet_Py\": var * float32, \"Jet_Pz\": var * float32, \"Jet_E\": var * float32, \"Jet_btag\": var * float32, \"Jet_ID\": var * bool, \"NMuon\": int32, \"Muon_Px\": var * float32, \"Muon_Py\": var * float32, \"Muon_Pz\": var * float32, \"Muon_E\": var * float32, \"Muon_Charge\": var * int32, \"Muon_Iso\": var * float32, \"NElectron\": int32, \"Electron_Px\": var * float32, \"Electron_Py\": var * float32, \"Electron_Pz\": var * float32, \"Electron_E\": var * float32, \"Electron_Charge\": var * int32, \"Electron_Iso\": var * float32, \"NPhoton\": int32, \"Photon_Px\": var * float32, \"Photon_Py\": var * float32, \"Photon_Pz\": var * float32, \"Photon_E\": var * float32, \"Photon_Iso\": var * float32, \"MET_px\": float32, \"MET_py\": float32, \"MChadronicBottom_px\": float32, \"MChadronicBottom_py\": float32, \"MChadronicBottom_pz\": float32, \"MCleptonicBottom_px\": float32, \"MCleptonicBottom_py\": float32, \"MCleptonicBottom_pz\": float32, \"MChadronicWDecayQuark_px\": float32, \"MChadronicWDecayQuark_py\": float32, \"MChadronicWDecayQuark_pz\": float32, \"MChadronicWDecayQuarkBar_px\": float32, \"MChadronicWDecayQuarkBar_py\": float32, \"MChadronicWDecayQuarkBar_pz\": float32, \"MClepton_px\": float32, \"MClepton_py\": float32, \"MClepton_pz\": float32, \"MCleptonPDGid\": int32, \"MCneutrino_px\": float32, \"MCneutrino_py\": float32, \"MCneutrino_pz\": float32, \"NPrimaryVertices\": int32, \"triggerIsoMu24\": bool, \"EventWeight\": float32}"
      ]
     },
     "execution_count": 106,
     "metadata": {},
     "output_type": "execute_result"
    }
   ],
   "source": [
    "array.type"
   ]
  },
  {
   "cell_type": "code",
   "execution_count": 107,
   "id": "998b5a33-ecb0-41c4-a39d-407f67af4d0b",
   "metadata": {},
   "outputs": [
    {
     "data": {
      "text/plain": [
       "<MomentumArray4D [[{px: -52.9, py: -11.7, ... E: 69.6}]] type='2421 * var * Mome...'>"
      ]
     },
     "execution_count": 107,
     "metadata": {},
     "output_type": "execute_result"
    }
   ],
   "source": [
    "muons"
   ]
  },
  {
   "cell_type": "code",
   "execution_count": 108,
   "id": "c4bb014d-ca1d-4b63-a97a-efb980bb6d22",
   "metadata": {},
   "outputs": [
    {
     "data": {
      "text/plain": [
       "2421 * var * Momentum4D[\"px\": float32, \"py\": float32, \"pz\": float32, \"E\": float32]"
      ]
     },
     "execution_count": 108,
     "metadata": {},
     "output_type": "execute_result"
    }
   ],
   "source": [
    "muons.type"
   ]
  },
  {
   "cell_type": "code",
   "execution_count": 109,
   "id": "3282f43e-15f1-45b5-811f-c36ca1116fc7",
   "metadata": {},
   "outputs": [
    {
     "data": {
      "text/html": [
       "<div>\n",
       "<style scoped>\n",
       "    .dataframe tbody tr th:only-of-type {\n",
       "        vertical-align: middle;\n",
       "    }\n",
       "\n",
       "    .dataframe tbody tr th {\n",
       "        vertical-align: top;\n",
       "    }\n",
       "\n",
       "    .dataframe thead th {\n",
       "        text-align: right;\n",
       "    }\n",
       "</style>\n",
       "<table border=\"1\" class=\"dataframe\">\n",
       "  <thead>\n",
       "    <tr style=\"text-align: right;\">\n",
       "      <th></th>\n",
       "      <th></th>\n",
       "      <th>px</th>\n",
       "      <th>py</th>\n",
       "      <th>pz</th>\n",
       "      <th>E</th>\n",
       "    </tr>\n",
       "    <tr>\n",
       "      <th>entry</th>\n",
       "      <th>subentry</th>\n",
       "      <th></th>\n",
       "      <th></th>\n",
       "      <th></th>\n",
       "      <th></th>\n",
       "    </tr>\n",
       "  </thead>\n",
       "  <tbody>\n",
       "    <tr>\n",
       "      <th rowspan=\"2\" valign=\"top\">0</th>\n",
       "      <th>0</th>\n",
       "      <td>-52.899456</td>\n",
       "      <td>-11.654672</td>\n",
       "      <td>-8.160793</td>\n",
       "      <td>54.779499</td>\n",
       "    </tr>\n",
       "    <tr>\n",
       "      <th>1</th>\n",
       "      <td>37.737782</td>\n",
       "      <td>0.693474</td>\n",
       "      <td>-11.307582</td>\n",
       "      <td>39.401695</td>\n",
       "    </tr>\n",
       "    <tr>\n",
       "      <th>1</th>\n",
       "      <th>0</th>\n",
       "      <td>-0.816459</td>\n",
       "      <td>-24.404259</td>\n",
       "      <td>20.199968</td>\n",
       "      <td>31.690445</td>\n",
       "    </tr>\n",
       "    <tr>\n",
       "      <th rowspan=\"2\" valign=\"top\">2</th>\n",
       "      <th>0</th>\n",
       "      <td>48.987831</td>\n",
       "      <td>-21.723139</td>\n",
       "      <td>11.168285</td>\n",
       "      <td>54.739788</td>\n",
       "    </tr>\n",
       "    <tr>\n",
       "      <th>1</th>\n",
       "      <td>0.827567</td>\n",
       "      <td>29.800508</td>\n",
       "      <td>36.965191</td>\n",
       "      <td>47.488857</td>\n",
       "    </tr>\n",
       "    <tr>\n",
       "      <th>...</th>\n",
       "      <th>...</th>\n",
       "      <td>...</td>\n",
       "      <td>...</td>\n",
       "      <td>...</td>\n",
       "      <td>...</td>\n",
       "    </tr>\n",
       "    <tr>\n",
       "      <th>2416</th>\n",
       "      <th>0</th>\n",
       "      <td>-39.285824</td>\n",
       "      <td>-14.607491</td>\n",
       "      <td>61.715790</td>\n",
       "      <td>74.602982</td>\n",
       "    </tr>\n",
       "    <tr>\n",
       "      <th>2417</th>\n",
       "      <th>0</th>\n",
       "      <td>35.067146</td>\n",
       "      <td>-14.150043</td>\n",
       "      <td>160.817917</td>\n",
       "      <td>165.203949</td>\n",
       "    </tr>\n",
       "    <tr>\n",
       "      <th>2418</th>\n",
       "      <th>0</th>\n",
       "      <td>-29.756786</td>\n",
       "      <td>-15.303859</td>\n",
       "      <td>-52.663750</td>\n",
       "      <td>62.395161</td>\n",
       "    </tr>\n",
       "    <tr>\n",
       "      <th>2419</th>\n",
       "      <th>0</th>\n",
       "      <td>1.141870</td>\n",
       "      <td>63.609570</td>\n",
       "      <td>162.176315</td>\n",
       "      <td>174.208633</td>\n",
       "    </tr>\n",
       "    <tr>\n",
       "      <th>2420</th>\n",
       "      <th>0</th>\n",
       "      <td>23.913206</td>\n",
       "      <td>-35.665077</td>\n",
       "      <td>54.719437</td>\n",
       "      <td>69.556213</td>\n",
       "    </tr>\n",
       "  </tbody>\n",
       "</table>\n",
       "<p>3825 rows × 4 columns</p>\n",
       "</div>"
      ],
      "text/plain": [
       "                       px         py          pz           E\n",
       "entry subentry                                              \n",
       "0     0        -52.899456 -11.654672   -8.160793   54.779499\n",
       "      1         37.737782   0.693474  -11.307582   39.401695\n",
       "1     0         -0.816459 -24.404259   20.199968   31.690445\n",
       "2     0         48.987831 -21.723139   11.168285   54.739788\n",
       "      1          0.827567  29.800508   36.965191   47.488857\n",
       "...                   ...        ...         ...         ...\n",
       "2416  0        -39.285824 -14.607491   61.715790   74.602982\n",
       "2417  0         35.067146 -14.150043  160.817917  165.203949\n",
       "2418  0        -29.756786 -15.303859  -52.663750   62.395161\n",
       "2419  0          1.141870  63.609570  162.176315  174.208633\n",
       "2420  0         23.913206 -35.665077   54.719437   69.556213\n",
       "\n",
       "[3825 rows x 4 columns]"
      ]
     },
     "execution_count": 109,
     "metadata": {},
     "output_type": "execute_result"
    }
   ],
   "source": [
    "ak.to_pandas(muons)"
   ]
  }
 ],
 "metadata": {
  "kernelspec": {
   "display_name": "Python 3",
   "language": "python",
   "name": "python3"
  },
  "language_info": {
   "codemirror_mode": {
    "name": "ipython",
    "version": 3
   },
   "file_extension": ".py",
   "mimetype": "text/x-python",
   "name": "python",
   "nbconvert_exporter": "python",
   "pygments_lexer": "ipython3",
   "version": "3.8.10"
  }
 },
 "nbformat": 4,
 "nbformat_minor": 5
}
