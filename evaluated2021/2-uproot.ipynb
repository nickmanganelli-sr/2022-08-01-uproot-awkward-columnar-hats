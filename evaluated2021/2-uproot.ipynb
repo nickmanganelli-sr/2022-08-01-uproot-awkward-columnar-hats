{
 "cells": [
  {
   "cell_type": "markdown",
   "id": "2d4444c8-b5cf-40eb-984c-2e37c971943b",
   "metadata": {},
   "source": [
    "# 2. Uproot"
   ]
  },
  {
   "cell_type": "markdown",
   "id": "8fb79b2b-1074-4ccb-9b10-7cc607cd8dee",
   "metadata": {},
   "source": [
    "<br><br><br><br><br>\n",
    "\n",
    "## What a ~complete analysis looks like in Uproot/Awkward Array\n",
    "\n",
    "Instead of starting with small steps, let's look at where this is going, what a sample analysis looks like with these tools."
   ]
  },
  {
   "cell_type": "code",
   "execution_count": 1,
   "id": "73e240fe-2e64-4132-b7a8-617b57b11c7d",
   "metadata": {},
   "outputs": [],
   "source": [
    "import matplotlib.pyplot as plt\n",
    "import numpy as np\n",
    "import awkward as ak\n",
    "\n",
    "import uproot\n",
    "import hist"
   ]
  },
  {
   "cell_type": "code",
   "execution_count": 2,
   "id": "002f8b6a-ae14-43be-bab7-1cebb3fc67c1",
   "metadata": {},
   "outputs": [
    {
     "name": "stdout",
     "output_type": "stream",
     "text": [
      "name                 | typename                 | interpretation                \n",
      "---------------------+--------------------------+-------------------------------\n",
      "nMuon                | uint32_t                 | AsDtype('>u4')\n",
      "Muon_pt              | float[]                  | AsJagged(AsDtype('>f4'))\n",
      "Muon_eta             | float[]                  | AsJagged(AsDtype('>f4'))\n",
      "Muon_phi             | float[]                  | AsJagged(AsDtype('>f4'))\n",
      "Muon_mass            | float[]                  | AsJagged(AsDtype('>f4'))\n",
      "Muon_charge          | int32_t[]                | AsJagged(AsDtype('>i4'))\n"
     ]
    }
   ],
   "source": [
    "upfile = uproot.open(\"root://eospublic.cern.ch//eos/opendata/cms/derived-data/AOD2NanoAODOutreachTool/Run2012BC_DoubleMuParked_Muons.root\")\n",
    "uptree = upfile[\"Events\"]\n",
    "uptree.show()"
   ]
  },
  {
   "cell_type": "markdown",
   "id": "fea3ab0f-371f-41eb-b561-f89c96d347f4",
   "metadata": {},
   "source": [
    "The general strategy is to get arrays in one function call (usually slow, has to read) and use them interactively afterward."
   ]
  },
  {
   "cell_type": "code",
   "execution_count": 3,
   "id": "70b2a144-b6cb-4d30-bdd9-0cc56bce4379",
   "metadata": {},
   "outputs": [],
   "source": [
    "muons = uptree.arrays([\"Muon_pt\", \"Muon_eta\", \"Muon_phi\", \"Muon_charge\"], cut=\"nMuon >= 2\", how=\"zip\", entry_stop=100000)"
   ]
  },
  {
   "cell_type": "code",
   "execution_count": 4,
   "id": "0c9b9fce-57e3-4aa5-be91-33b0472bffb1",
   "metadata": {},
   "outputs": [
    {
     "data": {
      "text/plain": [
       "<Array [{Muon: [{pt: 10.8, ... charge: 1}]}] type='83343 * {\"Muon\": var * {\"pt\":...'>"
      ]
     },
     "execution_count": 4,
     "metadata": {},
     "output_type": "execute_result"
    }
   ],
   "source": [
    "muons"
   ]
  },
  {
   "cell_type": "markdown",
   "id": "579fea6c-f7b6-4fcc-9a68-3adab807e3c7",
   "metadata": {},
   "source": [
    "We've already applied an `nMuon >= 2` cut, but we can define additional cuts."
   ]
  },
  {
   "cell_type": "code",
   "execution_count": 5,
   "id": "ff2f64c9-bd11-4227-9ca7-c3c8f01e304d",
   "metadata": {},
   "outputs": [
    {
     "data": {
      "text/plain": [
       "<Array [False, True, False, ... True, True] type='83343 * bool'>"
      ]
     },
     "execution_count": 5,
     "metadata": {},
     "output_type": "execute_result"
    }
   ],
   "source": [
    "os_cut = muons[:, \"Muon\", \"charge\", 0] != muons[:, \"Muon\", \"charge\", 1]\n",
    "os_cut"
   ]
  },
  {
   "cell_type": "markdown",
   "id": "9806eaab-8cec-473d-8d5c-fd04e97a304f",
   "metadata": {},
   "source": [
    "Slicing (to be described in more detail later) can remove data and reduce the structure of an array."
   ]
  },
  {
   "cell_type": "code",
   "execution_count": 6,
   "id": "6e588fd2-3f61-43fd-9c69-f9c1a9efa5de",
   "metadata": {},
   "outputs": [
    {
     "data": {
      "text/plain": [
       "(<Array [{pt: 10.5, eta: -0.428, ... charge: 1}] type='60216 * {\"pt\": float32, \"e...'>,\n",
       " <Array [{pt: 16.3, eta: 0.349, ... charge: -1}] type='60216 * {\"pt\": float32, \"e...'>)"
      ]
     },
     "execution_count": 6,
     "metadata": {},
     "output_type": "execute_result"
    }
   ],
   "source": [
    "mu1 = muons[os_cut, 0, \"Muon\"]\n",
    "mu2 = muons[os_cut, 1, \"Muon\"]\n",
    "mu1, mu2"
   ]
  },
  {
   "cell_type": "markdown",
   "id": "b58cfc7d-57ae-4107-826b-0fbe1bd93f9a",
   "metadata": {},
   "source": [
    "Make a histogram and fill it with a calculation from the array. The mini-plot is just the way this histogram type is visualized in Jupyter."
   ]
  },
  {
   "cell_type": "code",
   "execution_count": 7,
   "id": "e3c16710-82ff-4ef5-b7f8-b2b70afad43e",
   "metadata": {},
   "outputs": [],
   "source": [
    "h1 = hist.Hist.new.Reg(120, 0, 120, name=\"mass\").Double()"
   ]
  },
  {
   "cell_type": "code",
   "execution_count": 8,
   "id": "f56baf91-8119-4133-9a24-b6d565e60da2",
   "metadata": {},
   "outputs": [
    {
     "data": {
      "text/html": [
       "<html>\n",
       "<div style=\"display:flex; align-items:center;\">\n",
       "<div style=\"width:290px;\">\n",
       "<svg xmlns=\"http://www.w3.org/2000/svg\" viewBox=\"-10 -105 270 120\">\n",
       "<line x1=\"-5\" y1=\"0\" x2=\"255\" y2=\"0\" style=\"fill:none;stroke-width:2;stroke:currentColor\"/>\n",
       "<text text-anchor=\"middle\" x=\"0\" y=\"15\" style=\"fill:currentColor;\">\n",
       "0\n",
       "</text>\n",
       "<text text-anchor=\"middle\" x=\"250\" y=\"15\" style=\"fill:currentColor;\">\n",
       "120\n",
       "</text>\n",
       "<text text-anchor=\"middle\" x=\"125.0\" y=\"15\" style=\"fill:currentColor;\">\n",
       "mass\n",
       "</text>\n",
       "<polyline points=\"  0,0   0,-0 2.08333,-0 2.08333,-0 4.16667,-0 4.16667,-0 6.25,-0 6.25,-0 8.33333,-0 8.33333,-0 10.4167,-0 10.4167,-0 12.5,-0 12.5,-0 14.5833,-0 14.5833,-0 16.6667,-0 16.6667,-0 18.75,-0 18.75,-0 20.8333,-0 20.8333,-0 22.9167,-0 22.9167,-0  25,-0  25,-0 27.0833,-0 27.0833,-0 29.1667,-0 29.1667,-0 31.25,-0 31.25,-0 33.3333,-0 33.3333,-0 35.4167,-0 35.4167,-0 37.5,-0 37.5,-0 39.5833,-0 39.5833,-0 41.6667,-0 41.6667,-0 43.75,-0 43.75,-0 45.8333,-0 45.8333,-0 47.9167,-0 47.9167,-0  50,-0  50,-0 52.0833,-0 52.0833,-0 54.1667,-0 54.1667,-0 56.25,-0 56.25,-0 58.3333,-0 58.3333,-0 60.4167,-0 60.4167,-0 62.5,-0 62.5,-0 64.5833,-0 64.5833,-0 66.6667,-0 66.6667,-0 68.75,-0 68.75,-0 70.8333,-0 70.8333,-0 72.9167,-0 72.9167,-0  75,-0  75,-0 77.0833,-0 77.0833,-0 79.1667,-0 79.1667,-0 81.25,-0 81.25,-0 83.3333,-0 83.3333,-0 85.4167,-0 85.4167,-0 87.5,-0 87.5,-0 89.5833,-0 89.5833,-0 91.6667,-0 91.6667,-0 93.75,-0 93.75,-0 95.8333,-0 95.8333,-0 97.9167,-0 97.9167,-0 100,-0 100,-0 102.083,-0 102.083,-0 104.167,-0 104.167,-0 106.25,-0 106.25,-0 108.333,-0 108.333,-0 110.417,-0 110.417,-0 112.5,-0 112.5,-0 114.583,-0 114.583,-0 116.667,-0 116.667,-0 118.75,-0 118.75,-0 120.833,-0 120.833,-0 122.917,-0 122.917,-0 125,-0 125,-0 127.083,-0 127.083,-0 129.167,-0 129.167,-0 131.25,-0 131.25,-0 133.333,-0 133.333,-0 135.417,-0 135.417,-0 137.5,-0 137.5,-0 139.583,-0 139.583,-0 141.667,-0 141.667,-0 143.75,-0 143.75,-0 145.833,-0 145.833,-0 147.917,-0 147.917,-0 150,-0 150,-0 152.083,-0 152.083,-0 154.167,-0 154.167,-0 156.25,-0 156.25,-0 158.333,-0 158.333,-0 160.417,-0 160.417,-0 162.5,-0 162.5,-0 164.583,-0 164.583,-0 166.667,-0 166.667,-0 168.75,-0 168.75,-0 170.833,-0 170.833,-0 172.917,-0 172.917,-0 175,-0 175,-0 177.083,-0 177.083,-0 179.167,-0 179.167,-0 181.25,-0 181.25,-0 183.333,-0 183.333,-0 185.417,-0 185.417,-0 187.5,-0 187.5,-0 189.583,-0 189.583,-0 191.667,-0 191.667,-0 193.75,-0 193.75,-0 195.833,-0 195.833,-0 197.917,-0 197.917,-0 200,-0 200,-0 202.083,-0 202.083,-0 204.167,-0 204.167,-0 206.25,-0 206.25,-0 208.333,-0 208.333,-0 210.417,-0 210.417,-0 212.5,-0 212.5,-0 214.583,-0 214.583,-0 216.667,-0 216.667,-0 218.75,-0 218.75,-0 220.833,-0 220.833,-0 222.917,-0 222.917,-0 225,-0 225,-0 227.083,-0 227.083,-0 229.167,-0 229.167,-0 231.25,-0 231.25,-0 233.333,-0 233.333,-0 235.417,-0 235.417,-0 237.5,-0 237.5,-0 239.583,-0 239.583,-0 241.667,-0 241.667,-0 243.75,-0 243.75,-0 245.833,-0 245.833,-0 247.917,-0 247.917,-0 250,-0 250,0\" style=\"fill:none; stroke:currentColor;\"/>\n",
       "</svg>\n",
       "</div>\n",
       "<div style=\"flex=grow:1;\">\n",
       "Regular(120, 0, 120, name='mass', label='mass')<br/>\n",
       "<hr style=\"margin-top:.2em; margin-bottom:.2em;\"/>\n",
       "Double() Σ=0.0\n",
       "\n",
       "</div>\n",
       "</div>\n",
       "</html>"
      ],
      "text/plain": [
       "Hist(Regular(120, 0, 120, name='mass', label='mass'), storage=Double())"
      ]
     },
     "execution_count": 8,
     "metadata": {},
     "output_type": "execute_result"
    }
   ],
   "source": [
    "h1"
   ]
  },
  {
   "cell_type": "code",
   "execution_count": 9,
   "id": "6bc993fc-4dcf-4b02-ad6c-9e265e3df60c",
   "metadata": {},
   "outputs": [
    {
     "data": {
      "text/html": [
       "<html>\n",
       "<div style=\"display:flex; align-items:center;\">\n",
       "<div style=\"width:290px;\">\n",
       "<svg xmlns=\"http://www.w3.org/2000/svg\" viewBox=\"-10 -105 270 120\">\n",
       "<line x1=\"-5\" y1=\"0\" x2=\"255\" y2=\"0\" style=\"fill:none;stroke-width:2;stroke:currentColor\"/>\n",
       "<text text-anchor=\"middle\" x=\"0\" y=\"15\" style=\"fill:currentColor;\">\n",
       "0\n",
       "</text>\n",
       "<text text-anchor=\"middle\" x=\"250\" y=\"15\" style=\"fill:currentColor;\">\n",
       "120\n",
       "</text>\n",
       "<text text-anchor=\"middle\" x=\"125.0\" y=\"15\" style=\"fill:currentColor;\">\n",
       "mass\n",
       "</text>\n",
       "<polyline points=\"  0,0   0,-78.2 2.08333,-78.2 2.08333,-88.7 4.16667,-88.7 4.16667,-66.7 6.25,-66.7 6.25,-100 8.33333,-100 8.33333,-11.9 10.4167,-11.9 10.4167,-11.2 12.5,-11.2 12.5,-11.2 14.5833,-11.2 14.5833,-10.5 16.6667,-10.5 16.6667,-9.45 18.75,-9.45 18.75,-17.8 20.8333,-17.8 20.8333,-13.8 22.9167,-13.8 22.9167,-8.34  25,-8.34  25,-8.25 27.0833,-8.25 27.0833,-8.74 29.1667,-8.74 29.1667,-8.58 31.25,-8.58 31.25,-8.98 33.3333,-8.98 33.3333,-8.79 35.4167,-8.79 35.4167,-8.84 37.5,-8.84 37.5,-8.04 39.5833,-8.04 39.5833,-8.07 41.6667,-8.07 41.6667,-9.42 43.75,-9.42 43.75,-11.3 45.8333,-11.3 45.8333,-12.9 47.9167,-12.9 47.9167,-13.6  50,-13.6  50,-13.5 52.0833,-13.5 52.0833,-13.7 54.1667,-13.7 54.1667,-14.8 56.25,-14.8 56.25,-14.7 58.3333,-14.7 58.3333,-13.1 60.4167,-13.1 60.4167,-13 62.5,-13 62.5,-11.5 64.5833,-11.5 64.5833,-11.3 66.6667,-11.3 66.6667,-10.3 68.75,-10.3 68.75,-9.95 70.8333,-9.95 70.8333,-8.78 72.9167,-8.78 72.9167,-8.98  75,-8.98  75,-7.98 77.0833,-7.98 77.0833,-7.66 79.1667,-7.66 79.1667,-7.42 81.25,-7.42 81.25,-6.47 83.3333,-6.47 83.3333,-6.34 85.4167,-6.34 85.4167,-5.94 87.5,-5.94 87.5,-5.09 89.5833,-5.09 89.5833,-5.22 91.6667,-5.22 91.6667,-4.64 93.75,-4.64 93.75,-4.52 95.8333,-4.52 95.8333,-4.1 97.9167,-4.1 97.9167,-4.16 100,-4.16 100,-3.6 102.083,-3.6 102.083,-3.59 104.167,-3.59 104.167,-2.98 106.25,-2.98 106.25,-2.88 108.333,-2.88 108.333,-3.12 110.417,-3.12 110.417,-2.98 112.5,-2.98 112.5,-2.39 114.583,-2.39 114.583,-3.16 116.667,-3.16 116.667,-2.53 118.75,-2.53 118.75,-1.59 120.833,-1.59 120.833,-2.02 122.917,-2.02 122.917,-2.07 125,-2.07 125,-1.94 127.083,-1.94 127.083,-1.73 129.167,-1.73 129.167,-1.65 131.25,-1.65 131.25,-1.67 133.333,-1.67 133.333,-1.79 135.417,-1.79 135.417,-1.41 137.5,-1.41 137.5,-1.46 139.583,-1.46 139.583,-1.09 141.667,-1.09 141.667,-1.51 143.75,-1.51 143.75,-1.54 145.833,-1.54 145.833,-1.36 147.917,-1.36 147.917,-1.3 150,-1.3 150,-1.27 152.083,-1.27 152.083,-1.41 154.167,-1.41 154.167,-1.38 156.25,-1.38 156.25,-1.3 158.333,-1.3 158.333,-1.43 160.417,-1.43 160.417,-1.49 162.5,-1.49 162.5,-1.43 164.583,-1.43 164.583,-1.59 166.667,-1.59 166.667,-1.67 168.75,-1.67 168.75,-1.97 170.833,-1.97 170.833,-2.1 172.917,-2.1 172.917,-2.31 175,-2.31 175,-3.17 177.083,-3.17 177.083,-4.29 179.167,-4.29 179.167,-5.41 181.25,-5.41 181.25,-7.09 183.333,-7.09 183.333,-10.1 185.417,-10.1 185.417,-15.5 187.5,-15.5 187.5,-20.4 189.583,-20.4 189.583,-19.4 191.667,-19.4 191.667,-14.2 193.75,-14.2 193.75,-9.58 195.833,-9.58 195.833,-5.7 197.917,-5.7 197.917,-3.44 200,-3.44 200,-2.39 202.083,-2.39 202.083,-1.71 204.167,-1.71 204.167,-1.27 206.25,-1.27 206.25,-0.849 208.333,-0.849 208.333,-1.17 210.417,-1.17 210.417,-0.785 212.5,-0.785 212.5,-0.849 214.583,-0.849 214.583,-0.561 216.667,-0.561 216.667,-0.4 218.75,-0.4 218.75,-0.561 220.833,-0.561 220.833,-0.464 222.917,-0.464 222.917,-0.288 225,-0.288 225,-0.224 227.083,-0.224 227.083,-0.272 229.167,-0.272 229.167,-0.224 231.25,-0.224 231.25,-0.224 233.333,-0.224 233.333,-0.224 235.417,-0.224 235.417,-0.336 237.5,-0.336 237.5,-0.24 239.583,-0.24 239.583,-0.224 241.667,-0.224 241.667,-0.208 243.75,-0.208 243.75,-0.208 245.833,-0.208 245.833,-0.224 247.917,-0.224 247.917,-0.176 250,-0.176 250,0\" style=\"fill:none; stroke:currentColor;\"/>\n",
       "</svg>\n",
       "</div>\n",
       "<div style=\"flex=grow:1;\">\n",
       "Regular(120, 0, 120, name='mass', label='mass')<br/>\n",
       "<hr style=\"margin-top:.2em; margin-bottom:.2em;\"/>\n",
       "Double() Σ=59917.0 <em>(60216.0 with flow)</em>\n",
       "\n",
       "</div>\n",
       "</div>\n",
       "</html>"
      ],
      "text/plain": [
       "Hist(Regular(120, 0, 120, name='mass', label='mass'), storage=Double()) # Sum: 59917.0 (60216.0 with flow)"
      ]
     },
     "execution_count": 9,
     "metadata": {},
     "output_type": "execute_result"
    }
   ],
   "source": [
    "h1.fill(np.sqrt(2*mu1.pt*mu2.pt*(np.cosh(mu1.eta - mu2.eta) - np.cos(mu1.phi - mu2.phi))))"
   ]
  },
  {
   "cell_type": "markdown",
   "id": "b712a638-69b4-4a3b-b6fc-9aeddea3d988",
   "metadata": {},
   "source": [
    "Plot it using Matplotlib (for logscale)."
   ]
  },
  {
   "cell_type": "code",
   "execution_count": 10,
   "id": "2d3fde17-8acc-47e7-bc7e-c50ba80c7977",
   "metadata": {},
   "outputs": [
    {
     "data": {
      "image/png": "[encoded data removed]",
      "text/plain": [
       "<Figure size 432x288 with 1 Axes>"
      ]
     },
     "metadata": {
      "needs_background": "light"
     },
     "output_type": "display_data"
    }
   ],
   "source": [
    "h1.plot()\n",
    "plt.yscale(\"log\")"
   ]
  },
  {
   "cell_type": "markdown",
   "id": "4be99cf3-da49-4e95-8032-81e9325fda9b",
   "metadata": {},
   "source": [
    "<br><br><br><br><br>\n",
    "\n",
    "## What a the same analysis looks like in PyROOT"
   ]
  },
  {
   "cell_type": "code",
   "execution_count": 11,
   "id": "8069076d-3892-4c71-9e9c-be81bc50794b",
   "metadata": {},
   "outputs": [
    {
     "name": "stdout",
     "output_type": "stream",
     "text": [
      "Welcome to JupyROOT 6.22/08\n"
     ]
    }
   ],
   "source": [
    "import ROOT\n",
    "c1 = ROOT.TCanvas()"
   ]
  },
  {
   "cell_type": "code",
   "execution_count": 12,
   "id": "93794a0b-3480-423c-abf0-b80517c46937",
   "metadata": {},
   "outputs": [],
   "source": [
    "rootfile = ROOT.TFile.Open(\"root://eospublic.cern.ch//eos/opendata/cms/derived-data/AOD2NanoAODOutreachTool/Run2012BC_DoubleMuParked_Muons.root\")\n",
    "roottree = rootfile.Get(\"Events\")"
   ]
  },
  {
   "cell_type": "markdown",
   "id": "c104115a-a9ef-488e-876f-ef5b3f9b139b",
   "metadata": {},
   "source": [
    "ROOT analyses (before RDataFrame; see below) are based on an event loop. Reading and calculations are done in the loop.\n",
    "\n",
    "This is not following the \"one weird trick.\" That's why it's slow."
   ]
  },
  {
   "cell_type": "code",
   "execution_count": 13,
   "id": "ea1b97ea-48a2-48ff-a074-9e114f828640",
   "metadata": {},
   "outputs": [],
   "source": [
    "h2 = ROOT.TH1D(\"h2\", \"mass\", 120, 0, 120)\n",
    "\n",
    "for index, event in enumerate(roottree):\n",
    "    # Analyzing a subsample means breaking out of the loop early.\n",
    "    if index == 100000:\n",
    "        break\n",
    "    # Applying cuts means if-statements.\n",
    "    if event.nMuon >= 2 and event.Muon_charge[0] != event.Muon_charge[1]:\n",
    "        mu1_pt = event.Muon_pt[0]\n",
    "        mu2_pt = event.Muon_pt[1]\n",
    "        mu1_eta = event.Muon_eta[0]\n",
    "        mu2_eta = event.Muon_eta[1]\n",
    "        mu1_phi = event.Muon_phi[0]\n",
    "        mu2_phi = event.Muon_phi[1]\n",
    "        h2.Fill(np.sqrt(2*mu1_pt*mu2_pt*(np.cosh(mu1_eta - mu2_eta) - np.cos(mu1_phi - mu2_phi))))"
   ]
  },
  {
   "cell_type": "code",
   "execution_count": 14,
   "id": "2b1dc8bb-58a1-4609-85c6-2ea6d051e7aa",
   "metadata": {},
   "outputs": [
    {
     "data": {
      "image/png": "[encoded data removed]",
      "text/plain": [
       "<IPython.core.display.Image object>"
      ]
     },
     "metadata": {},
     "output_type": "display_data"
    }
   ],
   "source": [
    "h2.Draw()\n",
    "c1.SetLogy()\n",
    "c1.Draw()"
   ]
  },
  {
   "cell_type": "markdown",
   "id": "8358a124-4b4a-488d-89a9-07431143cabc",
   "metadata": {},
   "source": [
    "<br><br><br><br><br>\n",
    "\n",
    "## What a the same analysis looks like in old C++\n",
    "\n",
    "By \"old C++,\" I mean `TTree::GetEntry`. This is also a reading + calculating loop over events.\n",
    "\n",
    "Use `ROOT.gInterpreter.Declare` to define a C++ function in Python that we can use through PyROOT."
   ]
  },
  {
   "cell_type": "code",
   "execution_count": 15,
   "id": "5c28ca22-406b-422d-a980-055027f3c02a",
   "metadata": {},
   "outputs": [
    {
     "data": {
      "text/plain": [
       "True"
      ]
     },
     "execution_count": 15,
     "metadata": {},
     "output_type": "execute_result"
    }
   ],
   "source": [
    "ROOT.gInterpreter.Declare('''\n",
    "void compute(TH1D& h3, TTree& roottree) {\n",
    "    UInt_t nMuon;\n",
    "    float Muon_pt[50];\n",
    "    float Muon_eta[50];\n",
    "    float Muon_phi[50];\n",
    "    int32_t Muon_charge[50];\n",
    "\n",
    "    roottree.SetBranchStatus(\"*\", 0);\n",
    "    roottree.SetBranchStatus(\"nMuon\", 1);\n",
    "    roottree.SetBranchStatus(\"Muon_pt\", 1);\n",
    "    roottree.SetBranchStatus(\"Muon_eta\", 1);\n",
    "    roottree.SetBranchStatus(\"Muon_phi\", 1);\n",
    "    roottree.SetBranchStatus(\"Muon_charge\", 1);\n",
    "\n",
    "    roottree.SetBranchAddress(\"nMuon\", &nMuon);\n",
    "    roottree.SetBranchAddress(\"Muon_pt\", Muon_pt);\n",
    "    roottree.SetBranchAddress(\"Muon_eta\", Muon_eta);\n",
    "    roottree.SetBranchAddress(\"Muon_phi\", Muon_phi);\n",
    "    roottree.SetBranchAddress(\"Muon_charge\", Muon_charge);\n",
    "    \n",
    "    for (int index = 0; index < 100000; index++) {\n",
    "        roottree.GetEntry(index);\n",
    "        if (nMuon >= 2 && Muon_charge[0] != Muon_charge[1]) {\n",
    "            float mu1_pt = Muon_pt[0];\n",
    "            float mu2_pt = Muon_pt[1];\n",
    "            float mu1_eta = Muon_eta[0];\n",
    "            float mu2_eta = Muon_eta[1];\n",
    "            float mu1_phi = Muon_phi[0];\n",
    "            float mu2_phi = Muon_phi[1];\n",
    "            h3.Fill(sqrt(2*mu1_pt*mu2_pt*(cosh(mu1_eta - mu2_eta) - cos(mu1_phi - mu2_phi))));\n",
    "        }\n",
    "    }\n",
    "}\n",
    "''')"
   ]
  },
  {
   "cell_type": "code",
   "execution_count": 16,
   "id": "c91cb692-ff46-40c8-bbde-1562073ba00d",
   "metadata": {},
   "outputs": [],
   "source": [
    "rootfile = ROOT.TFile.Open(\"root://eospublic.cern.ch//eos/opendata/cms/derived-data/AOD2NanoAODOutreachTool/Run2012BC_DoubleMuParked_Muons.root\")\n",
    "roottree = rootfile.Get(\"Events\")\n",
    "\n",
    "h3 = ROOT.TH1D(\"h3\", \"mass\", 120, 0, 120)\n",
    "\n",
    "ROOT.compute(h3, roottree)"
   ]
  },
  {
   "cell_type": "code",
   "execution_count": 17,
   "id": "15d58a70-bad4-4a61-b37b-5ceee648cc63",
   "metadata": {},
   "outputs": [
    {
     "data": {
      "image/png": "[encoded data removed]",
      "text/plain": [
       "<IPython.core.display.Image object>"
      ]
     },
     "metadata": {},
     "output_type": "display_data"
    }
   ],
   "source": [
    "h3.Draw()\n",
    "c1.SetLogy()\n",
    "c1.Draw()"
   ]
  },
  {
   "cell_type": "markdown",
   "id": "df57ee78-c6e5-42b0-99bb-14c1524764b2",
   "metadata": {},
   "source": [
    "<br><br><br><br><br>\n",
    "\n",
    "## What a the same analysis looks like in modern RDataFrame\n",
    "\n",
    "This case mixes Python (for organization) with C++ (for speed).\n",
    "\n",
    "<img src=\"img/rdataframe-flow.svg\" style=\"width: 800px\">"
   ]
  },
  {
   "cell_type": "code",
   "execution_count": 18,
   "id": "323bbb86-ce99-47da-a8f3-4f1ad6f33e13",
   "metadata": {},
   "outputs": [],
   "source": [
    "df = ROOT.RDataFrame(\"Events\", \"root://eospublic.cern.ch//eos/opendata/cms/derived-data/AOD2NanoAODOutreachTool/Run2012BC_DoubleMuParked_Muons.root\")\n",
    "\n",
    "# Each node is connected to the previous, in a chain (which can split and recombine).\n",
    "df_limit = df.Range(100000)\n",
    "df_2mu = df_limit.Filter(\"nMuon >= 2\")\n",
    "df_os = df_2mu.Filter(\"Muon_charge[0] != Muon_charge[1]\")\n",
    "\n",
    "# This node is a big C++ block.\n",
    "df_mass = df_os.Define(\"Dimuon_mass\", '''\n",
    "float mu1_pt = Muon_pt[0];\n",
    "float mu2_pt = Muon_pt[1];\n",
    "float mu1_eta = Muon_eta[0];\n",
    "float mu2_eta = Muon_eta[1];\n",
    "float mu1_phi = Muon_phi[0];\n",
    "float mu2_phi = Muon_phi[1];\n",
    "return sqrt(2*mu1_pt*mu2_pt*(cosh(mu1_eta - mu2_eta) - cos(mu1_phi - mu2_phi)));\n",
    "''')\n",
    "\n",
    "# This one is an endpoint (action).\n",
    "h4 = df_mass.Histo1D((\"h3\", \"mass\", 120, 0, 120), \"Dimuon_mass\")"
   ]
  },
  {
   "cell_type": "markdown",
   "id": "244af2ce-e5fa-4d69-aa1f-90e0960ce539",
   "metadata": {},
   "source": [
    "The above just sets up the calculation (compiling the C++ strings). It runs when you evaluate `h4.Draw`."
   ]
  },
  {
   "cell_type": "code",
   "execution_count": 19,
   "id": "11751fad-285b-455a-a3d4-45e024a239b2",
   "metadata": {},
   "outputs": [
    {
     "data": {
      "image/png": "[encoded data removed]",
      "text/plain": [
       "<IPython.core.display.Image object>"
      ]
     },
     "metadata": {},
     "output_type": "display_data"
    }
   ],
   "source": [
    "h4.Draw()   # <--- This is the line that computes everything.\n",
    "c1.SetLogy()\n",
    "c1.Draw()"
   ]
  },
  {
   "cell_type": "markdown",
   "id": "6729a12b-0437-4a3b-873c-c1dfead35d46",
   "metadata": {},
   "source": [
    "For more on RDataFrame, see [this tutorial](https://cms-opendata-workshop.github.io/workshop-lesson-root/05-rdataframe/index.html)."
   ]
  },
  {
   "cell_type": "markdown",
   "id": "2cb428fd-13c5-4c77-b441-36c9bb74d6be",
   "metadata": {},
   "source": [
    "<br><br><br><br><br>\n",
    "\n",
    "## Ways to get data from Uproot\n",
    "\n",
    "Uproot provides a rather low-level view into a ROOT file, so let's start with terminology.\n",
    "\n",
    "All of the links below go to [the documentation](https://uproot.readthedocs.io/en/latest/).\n",
    "\n",
    "<img src=\"img/terminology.svg\" style=\"width: 800px\">"
   ]
  },
  {
   "cell_type": "markdown",
   "id": "1af6eb65-36c0-4db7-8dd3-b8d4404184b6",
   "metadata": {},
   "source": [
    "<br><br><br>\n",
    "\n",
    "### Navigating TDirectories\n",
    "\n",
    "When you [open](https://uproot.readthedocs.io/en/latest/uproot.reading.open.html) a [TFile](https://uproot.readthedocs.io/en/latest/uproot.reading.ReadOnlyFile.html) in Uproot, you actually get a [TDirectory](https://uproot.readthedocs.io/en/latest/uproot.reading.ReadOnlyDirectory.html) object."
   ]
  },
  {
   "cell_type": "code",
   "execution_count": 20,
   "id": "230a4ab2-fe3b-464e-a265-494d7e48d3f1",
   "metadata": {},
   "outputs": [],
   "source": [
    "import numpy as np\n",
    "import awkward as ak\n",
    "import uproot"
   ]
  },
  {
   "cell_type": "code",
   "execution_count": 21,
   "id": "a1b64609-8f77-41fa-a64b-c9e34b24f083",
   "metadata": {},
   "outputs": [
    {
     "data": {
      "text/plain": [
       "<ReadOnlyDirectory '/' at 0x7fad549617c0>"
      ]
     },
     "execution_count": 21,
     "metadata": {},
     "output_type": "execute_result"
    }
   ],
   "source": [
    "directory = uproot.open(\"data/nesteddirs.root\")\n",
    "directory"
   ]
  },
  {
   "cell_type": "markdown",
   "id": "043d7fbb-eec5-4433-9604-6ac5c890d9f1",
   "metadata": {},
   "source": [
    "That's because it's the [TDirectory](https://uproot.readthedocs.io/en/latest/uproot.reading.ReadOnlyDirectory.html) that shows you all the objects that could be read.\n",
    "\n",
    "You'll rarely need it, but the [TFile](https://uproot.readthedocs.io/en/latest/uproot.reading.ReadOnlyFile.html) itself is accessible from every object."
   ]
  },
  {
   "cell_type": "code",
   "execution_count": 22,
   "id": "f436dfe5-b58f-4cd1-b153-793f676b44ca",
   "metadata": {},
   "outputs": [
    {
     "data": {
      "text/plain": [
       "<ReadOnlyFile 'data/nesteddirs.root' at 0x7fad54961880>"
      ]
     },
     "execution_count": 22,
     "metadata": {},
     "output_type": "execute_result"
    }
   ],
   "source": [
    "file = directory.file\n",
    "file"
   ]
  },
  {
   "cell_type": "code",
   "execution_count": 23,
   "id": "8f9f517b-4763-48fb-bb88-590e2f814b4d",
   "metadata": {},
   "outputs": [
    {
     "data": {
      "text/plain": [
       "'data/nesteddirs.root'"
      ]
     },
     "execution_count": 23,
     "metadata": {},
     "output_type": "execute_result"
    }
   ],
   "source": [
    "file.file_path"
   ]
  },
  {
   "cell_type": "code",
   "execution_count": 24,
   "id": "90ae49f0-f3b0-4ec8-8dd5-1521e6753e0f",
   "metadata": {},
   "outputs": [
    {
     "data": {
      "text/plain": [
       "'6.08/04'"
      ]
     },
     "execution_count": 24,
     "metadata": {},
     "output_type": "execute_result"
    }
   ],
   "source": [
    "file.root_version"
   ]
  },
  {
   "cell_type": "code",
   "execution_count": 25,
   "id": "016dc926-d154-4930-91de-15fbf21cb8ce",
   "metadata": {},
   "outputs": [
    {
     "data": {
      "text/plain": [
       "UUID('ac63575a-9ca4-11e7-9607-0100007fbeef')"
      ]
     },
     "execution_count": 25,
     "metadata": {},
     "output_type": "execute_result"
    }
   ],
   "source": [
    "file.uuid"
   ]
  },
  {
   "cell_type": "code",
   "execution_count": 26,
   "id": "9d2a549f-a9ab-4436-a420-986834737938",
   "metadata": {},
   "outputs": [
    {
     "data": {
      "text/plain": [
       "['__class__',\n",
       " '__delattr__',\n",
       " '__dict__',\n",
       " '__dir__',\n",
       " '__doc__',\n",
       " '__enter__',\n",
       " '__eq__',\n",
       " '__exit__',\n",
       " '__format__',\n",
       " '__ge__',\n",
       " '__getattribute__',\n",
       " '__gt__',\n",
       " '__hash__',\n",
       " '__init__',\n",
       " '__init_subclass__',\n",
       " '__le__',\n",
       " '__lt__',\n",
       " '__module__',\n",
       " '__ne__',\n",
       " '__new__',\n",
       " '__reduce__',\n",
       " '__reduce_ex__',\n",
       " '__repr__',\n",
       " '__setattr__',\n",
       " '__sizeof__',\n",
       " '__str__',\n",
       " '__subclasshook__',\n",
       " '__weakref__',\n",
       " '_array_cache',\n",
       " '_begin_chunk',\n",
       " '_custom_classes',\n",
       " '_decompression_executor',\n",
       " '_fBEGIN',\n",
       " '_fCompress',\n",
       " '_fEND',\n",
       " '_fNbytesFree',\n",
       " '_fNbytesInfo',\n",
       " '_fNbytesName',\n",
       " '_fSeekFree',\n",
       " '_fSeekInfo',\n",
       " '_fUUID',\n",
       " '_fUUID_version',\n",
       " '_fUnits',\n",
       " '_fVersion',\n",
       " '_file_path',\n",
       " '_interpretation_executor',\n",
       " '_nfree',\n",
       " '_object_cache',\n",
       " '_options',\n",
       " '_source',\n",
       " '_streamer_rules',\n",
       " '_streamers',\n",
       " 'array_cache',\n",
       " 'begin_chunk',\n",
       " 'chunk',\n",
       " 'class_named',\n",
       " 'close',\n",
       " 'closed',\n",
       " 'compression',\n",
       " 'custom_classes',\n",
       " 'decompression_executor',\n",
       " 'detached',\n",
       " 'fBEGIN',\n",
       " 'fCompress',\n",
       " 'fEND',\n",
       " 'fNbytesFree',\n",
       " 'fNbytesInfo',\n",
       " 'fNbytesName',\n",
       " 'fSeekFree',\n",
       " 'fSeekInfo',\n",
       " 'fUUID',\n",
       " 'fUnits',\n",
       " 'fVersion',\n",
       " 'file_path',\n",
       " 'hex_uuid',\n",
       " 'hook_after_interpret',\n",
       " 'hook_after_interpret_streamers',\n",
       " 'hook_before_create_source',\n",
       " 'hook_before_get_chunks',\n",
       " 'hook_before_interpret',\n",
       " 'hook_before_interpret_streamers',\n",
       " 'hook_before_read_decompress_streamers',\n",
       " 'hook_before_read_streamer_key',\n",
       " 'interpretation_executor',\n",
       " 'is_64bit',\n",
       " 'nfree',\n",
       " 'object_cache',\n",
       " 'options',\n",
       " 'remove_class_definition',\n",
       " 'root_directory',\n",
       " 'root_version',\n",
       " 'root_version_tuple',\n",
       " 'show_streamers',\n",
       " 'source',\n",
       " 'streamer_dependencies',\n",
       " 'streamer_named',\n",
       " 'streamer_rules',\n",
       " 'streamers',\n",
       " 'streamers_named',\n",
       " 'uuid']"
      ]
     },
     "execution_count": 26,
     "metadata": {},
     "output_type": "execute_result"
    }
   ],
   "source": [
    "dir(file)"
   ]
  },
  {
   "cell_type": "markdown",
   "id": "d66cf1c7-96d5-42bf-8dba-fc7e30989ffc",
   "metadata": {},
   "source": [
    "The [TDirectory](https://uproot.readthedocs.io/en/latest/uproot.reading.ReadOnlyDirectory.html) acts like a Python [Mapping](https://docs.python.org/3/library/collections.abc.html#collections.abc.Mapping), meaning that it has [keys](https://uproot.readthedocs.io/en/latest/uproot.reading.ReadOnlyDirectory.html#keys), [values](https://uproot.readthedocs.io/en/latest/uproot.reading.ReadOnlyDirectory.html#values), and [items](https://uproot.readthedocs.io/en/latest/uproot.reading.ReadOnlyDirectory.html#items), and you can get any value with `directory[key_name]`."
   ]
  },
  {
   "cell_type": "code",
   "execution_count": 30,
   "id": "82fa917a-d773-4cb2-b32e-f0889eb9456e",
   "metadata": {},
   "outputs": [
    {
     "data": {
      "text/plain": [
       "\u001b[0;31mSignature:\u001b[0m\n",
       "\u001b[0mdirectory\u001b[0m\u001b[0;34m.\u001b[0m\u001b[0mkeys\u001b[0m\u001b[0;34m(\u001b[0m\u001b[0;34m\u001b[0m\n",
       "\u001b[0;34m\u001b[0m    \u001b[0mrecursive\u001b[0m\u001b[0;34m=\u001b[0m\u001b[0;32mTrue\u001b[0m\u001b[0;34m,\u001b[0m\u001b[0;34m\u001b[0m\n",
       "\u001b[0;34m\u001b[0m    \u001b[0mcycle\u001b[0m\u001b[0;34m=\u001b[0m\u001b[0;32mTrue\u001b[0m\u001b[0;34m,\u001b[0m\u001b[0;34m\u001b[0m\n",
       "\u001b[0;34m\u001b[0m    \u001b[0mfilter_name\u001b[0m\u001b[0;34m=\u001b[0m\u001b[0;34m<\u001b[0m\u001b[0mfunction\u001b[0m \u001b[0mno_filter\u001b[0m \u001b[0mat\u001b[0m \u001b[0;36m0x7fad96045700\u001b[0m\u001b[0;34m>\u001b[0m\u001b[0;34m,\u001b[0m\u001b[0;34m\u001b[0m\n",
       "\u001b[0;34m\u001b[0m    \u001b[0mfilter_classname\u001b[0m\u001b[0;34m=\u001b[0m\u001b[0;34m<\u001b[0m\u001b[0mfunction\u001b[0m \u001b[0mno_filter\u001b[0m \u001b[0mat\u001b[0m \u001b[0;36m0x7fad96045700\u001b[0m\u001b[0;34m>\u001b[0m\u001b[0;34m,\u001b[0m\u001b[0;34m\u001b[0m\n",
       "\u001b[0;34m\u001b[0m\u001b[0;34m)\u001b[0m\u001b[0;34m\u001b[0m\u001b[0;34m\u001b[0m\u001b[0m\n",
       "\u001b[0;31mDocstring:\u001b[0m\n",
       "Args:\n",
       "    recursive (bool): If True, descend into any nested subdirectories.\n",
       "        If False, only return the names of objects directly accessible\n",
       "        in this ``TDirectory``.\n",
       "    cycle (bool): If True, include the cycle numbers in those names.\n",
       "    filter_name (None, glob string, regex string in ``\"/pattern/i\"`` syntax, function of str → bool, or iterable of the above): A\n",
       "        filter to select keys by name.\n",
       "    filter_classname (None, glob string, regex string in ``\"/pattern/i\"`` syntax, function of str → bool, or iterable of the above): A\n",
       "        filter to select keys by C++ (decoded) classname.\n",
       "\n",
       "Returns the names of the objects in this ``TDirectory`` as a list of\n",
       "strings.\n",
       "\n",
       "Note that this does not read any data from the file.\n",
       "\u001b[0;31mFile:\u001b[0m      ~/irishep/uproot4/src/uproot/reading.py\n",
       "\u001b[0;31mType:\u001b[0m      method\n"
      ]
     },
     "metadata": {},
     "output_type": "display_data"
    }
   ],
   "source": [
    "?directory.keys"
   ]
  },
  {
   "cell_type": "code",
   "execution_count": 27,
   "id": "945bdc23-c50e-4ba4-98b6-05dcc09f6fac",
   "metadata": {},
   "outputs": [
    {
     "data": {
      "text/plain": [
       "<ReadOnlyDirectory '/one' at 0x7fad4f110cd0>"
      ]
     },
     "execution_count": 27,
     "metadata": {},
     "output_type": "execute_result"
    }
   ],
   "source": [
    "directory[\"one\"]"
   ]
  },
  {
   "cell_type": "code",
   "execution_count": 31,
   "id": "22e58948-f11f-4bbc-8a6e-ae8881a4e20c",
   "metadata": {},
   "outputs": [
    {
     "data": {
      "text/plain": [
       "<TTree 'tree' (20 branches) at 0x7fad4f163c70>"
      ]
     },
     "execution_count": 31,
     "metadata": {},
     "output_type": "execute_result"
    }
   ],
   "source": [
    "directory[\"one/two/tree\"]"
   ]
  },
  {
   "cell_type": "code",
   "execution_count": 36,
   "id": "be5e4eb6-20b5-4d8a-b42b-9433ac8e7f32",
   "metadata": {},
   "outputs": [
    {
     "data": {
      "text/plain": [
       "<TTree 'tree' (20 branches) at 0x7fad4f163c70>"
      ]
     },
     "execution_count": 36,
     "metadata": {},
     "output_type": "execute_result"
    }
   ],
   "source": [
    "directory[\"one;1\"][\"two\"][\"tree\"]"
   ]
  },
  {
   "cell_type": "code",
   "execution_count": 33,
   "id": "0d1ca29f-f99f-437b-af6b-7dc9940c3d7f",
   "metadata": {},
   "outputs": [
    {
     "data": {
      "text/plain": [
       "[<ReadOnlyDirectory '/one' at 0x7fad4f110cd0>,\n",
       " <ReadOnlyDirectory '/one/two' at 0x7fad4f110160>,\n",
       " <TTree 'tree' (20 branches) at 0x7fad4f163c70>,\n",
       " <TTree 'tree' (3 branches) at 0x7fad54e836d0>,\n",
       " <ReadOnlyDirectory '/three' at 0x7fad4f110c40>,\n",
       " <TTree 'tree' (1 branches) at 0x7fad4f163e50>]"
      ]
     },
     "execution_count": 33,
     "metadata": {},
     "output_type": "execute_result"
    }
   ],
   "source": [
    "directory.values()"
   ]
  },
  {
   "cell_type": "code",
   "execution_count": 34,
   "id": "5030a783-df16-4795-8cc1-a2dcceaba80f",
   "metadata": {},
   "outputs": [
    {
     "data": {
      "text/plain": [
       "[('one;1', <ReadOnlyDirectory '/one' at 0x7fad4f110cd0>),\n",
       " ('one/two;1', <ReadOnlyDirectory '/one/two' at 0x7fad4f110160>),\n",
       " ('one/two/tree;1', <TTree 'tree' (20 branches) at 0x7fad4f163c70>),\n",
       " ('one/tree;1', <TTree 'tree' (3 branches) at 0x7fad54e836d0>),\n",
       " ('three;1', <ReadOnlyDirectory '/three' at 0x7fad4f110c40>),\n",
       " ('three/tree;1', <TTree 'tree' (1 branches) at 0x7fad4f163e50>)]"
      ]
     },
     "execution_count": 34,
     "metadata": {},
     "output_type": "execute_result"
    }
   ],
   "source": [
    "directory.items()"
   ]
  },
  {
   "cell_type": "markdown",
   "id": "7630820c-6576-49dd-8a34-9d48c374c0ba",
   "metadata": {},
   "source": [
    "Since you'll likely want to find objects by class name without reading them, there's a fourth method: [classnames](https://uproot.readthedocs.io/en/latest/uproot.reading.ReadOnlyDirectory.html#classnames)."
   ]
  },
  {
   "cell_type": "code",
   "execution_count": 35,
   "id": "741af101-97cb-4cab-a55a-ce5d1628caf2",
   "metadata": {},
   "outputs": [
    {
     "data": {
      "text/plain": [
       "{'one;1': 'TDirectory',\n",
       " 'one/two;1': 'TDirectory',\n",
       " 'one/two/tree;1': 'TTree',\n",
       " 'one/tree;1': 'TTree',\n",
       " 'three;1': 'TDirectory',\n",
       " 'three/tree;1': 'TTree'}"
      ]
     },
     "execution_count": 35,
     "metadata": {},
     "output_type": "execute_result"
    }
   ],
   "source": [
    "directory.classnames()"
   ]
  },
  {
   "cell_type": "markdown",
   "id": "40196939-078c-4dde-b77a-79732249f6e9",
   "metadata": {},
   "source": [
    "See the documentation; there are ways to filter the output. You might need that if you have a file with a lot of histograms in it."
   ]
  },
  {
   "cell_type": "code",
   "execution_count": 37,
   "id": "726e450c-101b-42e3-a9c6-649db340ae07",
   "metadata": {},
   "outputs": [
    {
     "data": {
      "text/plain": [
       "{'one;1': 'TDirectory', 'three;1': 'TDirectory'}"
      ]
     },
     "execution_count": 37,
     "metadata": {},
     "output_type": "execute_result"
    }
   ],
   "source": [
    "directory.classnames(recursive=False)"
   ]
  },
  {
   "cell_type": "code",
   "execution_count": 39,
   "id": "c9080aea-48bc-414e-9bd7-3898ba929355",
   "metadata": {},
   "outputs": [
    {
     "data": {
      "text/plain": [
       "['one/two/tree;1', 'one/tree;1', 'three/tree;1']"
      ]
     },
     "execution_count": 39,
     "metadata": {},
     "output_type": "execute_result"
    }
   ],
   "source": [
    "directory.keys(filter_classname=\"TTree\")"
   ]
  },
  {
   "cell_type": "markdown",
   "id": "134cf02e-87ca-49a3-a8a7-3aed524bc5ab",
   "metadata": {},
   "source": [
    "<br><br><br>\n",
    "\n",
    "### Generic objects\n",
    "\n",
    "ROOT (probably) has thousands of classes. Uproot does not have specialized code to recognize them all.\n",
    "\n",
    "However, most objects are readable anyway thanks to the [TStreamerInfo](https://uproot.readthedocs.io/en/latest/uproot.streamers.Model_TStreamerInfo.html) in every ROOT file. Here's one with custom classes that Uproot couldn't possibly know about."
   ]
  },
  {
   "cell_type": "code",
   "execution_count": 40,
   "id": "1d1992f6-f296-475c-a15f-ebc65bb6e2a1",
   "metadata": {},
   "outputs": [
    {
     "data": {
      "text/plain": [
       "{'config;1': 'TDirectory',\n",
       " 'config/analysis;1': 'SN_Analysis_Configuration_t',\n",
       " 'config/detector;1': 'I3Eval_t',\n",
       " 'config/run;1': 'SN_File_t',\n",
       " 'sn_all;1': 'TTree',\n",
       " 'sn_gps;1': 'TTree',\n",
       " 'sn_range;1': 'TTree',\n",
       " 'sn_o2rout;1': 'TTree',\n",
       " 'sn_o2cand;1': 'TTree',\n",
       " 'sn_omwatch;1': 'TTree',\n",
       " 'sn_sigsim;1': 'TTree'}"
      ]
     },
     "execution_count": 40,
     "metadata": {},
     "output_type": "execute_result"
    }
   ],
   "source": [
    "directory = uproot.open(\"data/icecube-supernovae.root\")\n",
    "directory.classnames()"
   ]
  },
  {
   "cell_type": "markdown",
   "id": "5e04db0c-fe5f-49de-b043-06aa85b12475",
   "metadata": {},
   "source": [
    "The classes `SN_Analysis_Configuration_t`, `I3Eval_t`, `SN_File_t` were generated from the [TStreamerInfo](https://uproot.readthedocs.io/en/latest/uproot.streamers.Model_TStreamerInfo.html)."
   ]
  },
  {
   "cell_type": "code",
   "execution_count": 42,
   "id": "2f8ee803-73b9-465b-82cc-2e1f2aa1cf8d",
   "metadata": {},
   "outputs": [
    {
     "data": {
      "text/plain": [
       "<TStreamerInfo for I3Eval_t version 7 at 0x7fad4edd0dc0>"
      ]
     },
     "execution_count": 42,
     "metadata": {},
     "output_type": "execute_result"
    }
   ],
   "source": [
    "directory.streamer_of(\"config/detector\")"
   ]
  },
  {
   "cell_type": "code",
   "execution_count": 43,
   "id": "ffe79857-3895-4473-8090-b3057d9a16fa",
   "metadata": {},
   "outputs": [
    {
     "name": "stdout",
     "output_type": "stream",
     "text": [
      "I3Eval_t::ChannelContainer_t (v1)\n",
      "\n",
      "Sni3DataArray (v1)\n",
      "\n",
      "TObject (v1)\n",
      "    fUniqueID: unsigned int (TStreamerBasicType)\n",
      "    fBits: unsigned int (TStreamerBasicType)\n",
      "\n",
      "I3Eval_t (v7): TObject (v1)\n",
      "    theDataArray: Sni3DataArray* (TStreamerObjectAnyPointer)\n",
      "    NumberOfChannels: int (TStreamerBasicType)\n",
      "    NoAvailableSlices: int (TStreamerBasicType)\n",
      "    AvailableDataSize: int (TStreamerBasicType)\n",
      "    mGPSCardId: int (TStreamerBasicType)\n",
      "    mGPSPrescale: int (TStreamerBasicType)\n",
      "    mGPSEventNo: int (TStreamerBasicType)\n",
      "    mScalerCardId: int (TStreamerBasicType)\n",
      "    mScalerStartChannel: int (TStreamerBasicType)\n",
      "    StartUTC: long (TStreamerBasicType)\n",
      "    MaxChannels: int (TStreamerBasicType)\n",
      "    mMaxJitterLogs: int (TStreamerBasicType)\n",
      "    Channel: I3Eval_t::ChannelContainer_t* (TStreamerObjectAnyPointer)\n",
      "    ChannelIDMap: map<long,int> (TStreamerSTL)\n",
      "    BadChannelIDSet: set<long> (TStreamerSTL)\n",
      "    ChannelID: long* (TStreamerBasicPointer)\n",
      "    Deadtime: double* (TStreamerBasicPointer)\n",
      "    Efficiency: double* (TStreamerBasicPointer)\n"
     ]
    }
   ],
   "source": [
    "directory.file.show_streamers(\"I3Eval_t\")"
   ]
  },
  {
   "cell_type": "markdown",
   "id": "986466b5-c775-40a0-84a4-7680fd1cbcb9",
   "metadata": {},
   "source": [
    "You can read these objects, but they have no specialized methods and all members have to be accessed through [has_member](https://uproot.readthedocs.io/en/latest/uproot.model.Model.html#has-member)/[member](https://uproot.readthedocs.io/en/latest/uproot.model.Model.html#member)/[all_members](https://uproot.readthedocs.io/en/latest/uproot.model.Model.html#all-members)."
   ]
  },
  {
   "cell_type": "code",
   "execution_count": 41,
   "id": "e4376fd8-760f-49eb-8fea-40deaef12b97",
   "metadata": {},
   "outputs": [
    {
     "data": {
      "text/plain": [
       "<I3Eval_t (version 7) at 0x7fad4f109c40>"
      ]
     },
     "execution_count": 41,
     "metadata": {},
     "output_type": "execute_result"
    }
   ],
   "source": [
    "directory[\"config/detector\"]"
   ]
  },
  {
   "cell_type": "code",
   "execution_count": 44,
   "id": "1ba7d568-4493-4e52-95ea-28171021a8aa",
   "metadata": {},
   "outputs": [
    {
     "data": {
      "text/plain": [
       "{'@fUniqueID': 0,\n",
       " '@fBits': 50331648,\n",
       " 'theDataArray': <Sni3DataArray (version 1) at 0x7fad4ece2a90>,\n",
       " 'NumberOfChannels': 5160,\n",
       " 'NoAvailableSlices': -1,\n",
       " 'AvailableDataSize': 0,\n",
       " 'mGPSCardId': 0,\n",
       " 'mGPSPrescale': 20000000,\n",
       " 'mGPSEventNo': 92824,\n",
       " 'mScalerCardId': 0,\n",
       " 'mScalerStartChannel': 0,\n",
       " 'StartUTC': 272924620173109013,\n",
       " 'MaxChannels': 5160,\n",
       " 'mMaxJitterLogs': 20,\n",
       " 'Channel': <I3Eval_t::ChannelContainer_t (version 1) at 0x7fad4ece2ca0>,\n",
       " 'ChannelIDMap': <STLMap {46612627560: 896, ..., 281410180683757: 2689} at 0x7fad4ece2d00>,\n",
       " 'BadChannelIDSet': <STLSet {58348614635591, 60068372029697, ..., 258905191174588} at 0x7fad4ece2f70>,\n",
       " 'ChannelID': array([ 47303335284587,  20579555797555, 106634453247646, ...,\n",
       "        255380957221937, 107432791511293, 280205879548048]),\n",
       " 'Deadtime': array([250., 250., 250., ..., 250., 250., 250.]),\n",
       " 'Efficiency': array([1.  , 1.  , 1.  , ..., 1.35, 1.35, 1.35])}"
      ]
     },
     "execution_count": 44,
     "metadata": {},
     "output_type": "execute_result"
    }
   ],
   "source": [
    "directory[\"config/detector\"].all_members"
   ]
  },
  {
   "cell_type": "code",
   "execution_count": 45,
   "id": "261187e9-c756-4b29-9143-616501a907ac",
   "metadata": {},
   "outputs": [
    {
     "data": {
      "text/plain": [
       "<STLMap {46612627560: 896, ..., 281410180683757: 2689} at 0x7fad4ece2d00>"
      ]
     },
     "execution_count": 45,
     "metadata": {},
     "output_type": "execute_result"
    }
   ],
   "source": [
    "directory[\"config/detector\"].member(\"ChannelIDMap\")"
   ]
  },
  {
   "cell_type": "markdown",
   "id": "c6fa5f34-d528-4d22-a99c-161c39ba4d77",
   "metadata": {},
   "source": [
    "If a class has \"Unknown\" in its name or `isinstance(obj, (uproot.model.UnknownClass, uproot.model.UnknownClassVersion)`, that means that it could not be read.\n",
    "\n",
    "(I don't know of any examples of that at the moment.)"
   ]
  },
  {
   "cell_type": "markdown",
   "id": "821ac8ad-c657-4762-82e2-4ceb27d5f7ff",
   "metadata": {},
   "source": [
    "<br><br><br>\n",
    "\n",
    "### Histograms and graphs\n",
    "\n",
    "Other classes have specialized interfaces, like histograms and some graphs. You can view the [axis](https://uproot.readthedocs.io/en/latest/uproot.behaviors.TH1.TH1.html#axis) [edges](https://uproot.readthedocs.io/en/latest/uproot.behaviors.TAxis.TAxis.html#edges) and the [values](https://uproot.readthedocs.io/en/latest/uproot.behaviors.TH1.TH1.html#values), but this interface is minimal.\n",
    "\n",
    "Normally, you'd convert\n",
    "\n",
    "   * [to_numpy](https://uproot.readthedocs.io/en/latest/uproot.behaviors.TH1.TH1.html#to-numpy): tuple of arrays (values and edges)\n",
    "   * [to_boost](https://uproot.readthedocs.io/en/latest/uproot.behaviors.TH1.TH1.html#to-boost): `boost_histogram` object\n",
    "   * [to_hist](https://uproot.readthedocs.io/en/latest/uproot.behaviors.TH1.TH1.html#to-hist): `hist` object (more fully featured subclass of `boost_histogram`)"
   ]
  },
  {
   "cell_type": "code",
   "execution_count": 46,
   "id": "84f37a6b-41c1-45d3-8057-b520249981ab",
   "metadata": {},
   "outputs": [
    {
     "data": {
      "text/plain": [
       "{'hpx;1': 'TH1F',\n",
       " 'hpxpy;1': 'TH2F',\n",
       " 'hprof;1': 'TProfile',\n",
       " 'ntuple;1': 'TNtuple'}"
      ]
     },
     "execution_count": 46,
     "metadata": {},
     "output_type": "execute_result"
    }
   ],
   "source": [
    "directory = uproot.open(\"data/hepdata-example.root\")\n",
    "directory.classnames()"
   ]
  },
  {
   "cell_type": "code",
   "execution_count": 47,
   "id": "cd895fec-3369-4cbe-963e-e5fb8bd9686b",
   "metadata": {},
   "outputs": [
    {
     "data": {
      "text/plain": [
       "(array([2.000e+00, 3.000e+00, 1.000e+00, 1.000e+00, 2.000e+00, 4.000e+00,\n",
       "        6.000e+00, 1.200e+01, 8.000e+00, 9.000e+00, 1.500e+01, 1.500e+01,\n",
       "        3.100e+01, 3.500e+01, 4.000e+01, 6.400e+01, 6.400e+01, 8.100e+01,\n",
       "        1.080e+02, 1.240e+02, 1.560e+02, 1.650e+02, 2.090e+02, 2.620e+02,\n",
       "        2.970e+02, 3.920e+02, 4.320e+02, 4.660e+02, 5.210e+02, 6.040e+02,\n",
       "        6.570e+02, 7.880e+02, 9.030e+02, 1.079e+03, 1.135e+03, 1.160e+03,\n",
       "        1.383e+03, 1.458e+03, 1.612e+03, 1.770e+03, 1.868e+03, 1.861e+03,\n",
       "        1.946e+03, 2.114e+03, 2.175e+03, 2.207e+03, 2.273e+03, 2.276e+03,\n",
       "        2.329e+03, 2.325e+03, 2.381e+03, 2.417e+03, 2.364e+03, 2.284e+03,\n",
       "        2.188e+03, 2.164e+03, 2.130e+03, 1.940e+03, 1.859e+03, 1.763e+03,\n",
       "        1.700e+03, 1.611e+03, 1.459e+03, 1.390e+03, 1.237e+03, 1.083e+03,\n",
       "        1.046e+03, 8.880e+02, 7.520e+02, 7.420e+02, 6.730e+02, 5.550e+02,\n",
       "        5.330e+02, 3.660e+02, 3.780e+02, 2.720e+02, 2.560e+02, 2.000e+02,\n",
       "        1.740e+02, 1.320e+02, 1.180e+02, 1.000e+02, 8.900e+01, 8.600e+01,\n",
       "        3.900e+01, 3.700e+01, 2.500e+01, 2.300e+01, 2.000e+01, 1.600e+01,\n",
       "        1.400e+01, 9.000e+00, 1.300e+01, 8.000e+00, 2.000e+00, 2.000e+00,\n",
       "        6.000e+00, 1.000e+00, 0.000e+00, 1.000e+00], dtype=float32),\n",
       " array([-4.  , -3.92, -3.84, -3.76, -3.68, -3.6 , -3.52, -3.44, -3.36,\n",
       "        -3.28, -3.2 , -3.12, -3.04, -2.96, -2.88, -2.8 , -2.72, -2.64,\n",
       "        -2.56, -2.48, -2.4 , -2.32, -2.24, -2.16, -2.08, -2.  , -1.92,\n",
       "        -1.84, -1.76, -1.68, -1.6 , -1.52, -1.44, -1.36, -1.28, -1.2 ,\n",
       "        -1.12, -1.04, -0.96, -0.88, -0.8 , -0.72, -0.64, -0.56, -0.48,\n",
       "        -0.4 , -0.32, -0.24, -0.16, -0.08,  0.  ,  0.08,  0.16,  0.24,\n",
       "         0.32,  0.4 ,  0.48,  0.56,  0.64,  0.72,  0.8 ,  0.88,  0.96,\n",
       "         1.04,  1.12,  1.2 ,  1.28,  1.36,  1.44,  1.52,  1.6 ,  1.68,\n",
       "         1.76,  1.84,  1.92,  2.  ,  2.08,  2.16,  2.24,  2.32,  2.4 ,\n",
       "         2.48,  2.56,  2.64,  2.72,  2.8 ,  2.88,  2.96,  3.04,  3.12,\n",
       "         3.2 ,  3.28,  3.36,  3.44,  3.52,  3.6 ,  3.68,  3.76,  3.84,\n",
       "         3.92,  4.  ]))"
      ]
     },
     "execution_count": 47,
     "metadata": {},
     "output_type": "execute_result"
    }
   ],
   "source": [
    "directory[\"hpx\"].to_numpy()"
   ]
  },
  {
   "cell_type": "code",
   "execution_count": 48,
   "id": "4a5bfa34-ba8b-4baf-a89c-9dd4d6378548",
   "metadata": {},
   "outputs": [
    {
     "data": {
      "text/html": [
       "<html>\n",
       "<div style=\"display:flex; align-items:center;\">\n",
       "<div style=\"width:290px;\">\n",
       "<svg xmlns=\"http://www.w3.org/2000/svg\" viewBox=\"-10 -105 270 120\">\n",
       "<line x1=\"-5\" y1=\"0\" x2=\"255\" y2=\"0\" style=\"fill:none;stroke-width:2;stroke:currentColor\"/>\n",
       "<text text-anchor=\"middle\" x=\"0\" y=\"15\" style=\"fill:currentColor;\">\n",
       "-4\n",
       "</text>\n",
       "<text text-anchor=\"middle\" x=\"250\" y=\"15\" style=\"fill:currentColor;\">\n",
       "4\n",
       "</text>\n",
       "<text text-anchor=\"middle\" x=\"125.0\" y=\"15\" style=\"fill:currentColor;\">\n",
       "xaxis\n",
       "</text>\n",
       "<polyline points=\"  0,0   0,-0.0827 2.5,-0.0827 2.5,-0.124   5,-0.124   5,-0.0414 7.5,-0.0414 7.5,-0.0414  10,-0.0414  10,-0.0827 12.5,-0.0827 12.5,-0.165  15,-0.165  15,-0.248 17.5,-0.248 17.5,-0.496  20,-0.496  20,-0.331 22.5,-0.331 22.5,-0.372  25,-0.372  25,-0.621 27.5,-0.621 27.5,-0.621  30,-0.621  30,-1.28 32.5,-1.28 32.5,-1.45  35,-1.45  35,-1.65 37.5,-1.65 37.5,-2.65  40,-2.65  40,-2.65 42.5,-2.65 42.5,-3.35  45,-3.35  45,-4.47 47.5,-4.47 47.5,-5.13  50,-5.13  50,-6.45 52.5,-6.45 52.5,-6.83  55,-6.83  55,-8.65 57.5,-8.65 57.5,-10.8  60,-10.8  60,-12.3 62.5,-12.3 62.5,-16.2  65,-16.2  65,-17.9 67.5,-17.9 67.5,-19.3  70,-19.3  70,-21.6 72.5,-21.6 72.5,-25  75,-25  75,-27.2 77.5,-27.2 77.5,-32.6  80,-32.6  80,-37.4 82.5,-37.4 82.5,-44.6  85,-44.6  85,-47 87.5,-47 87.5,-48  90,-48  90,-57.2 92.5,-57.2 92.5,-60.3  95,-60.3  95,-66.7 97.5,-66.7 97.5,-73.2 100,-73.2 100,-77.3 102.5,-77.3 102.5,-77 105,-77 105,-80.5 107.5,-80.5 107.5,-87.5 110,-87.5 110,-90 112.5,-90 112.5,-91.3 115,-91.3 115,-94 117.5,-94 117.5,-94.2 120,-94.2 120,-96.4 122.5,-96.4 122.5,-96.2 125,-96.2 125,-98.5 127.5,-98.5 127.5,-100 130,-100 130,-97.8 132.5,-97.8 132.5,-94.5 135,-94.5 135,-90.5 137.5,-90.5 137.5,-89.5 140,-89.5 140,-88.1 142.5,-88.1 142.5,-80.3 145,-80.3 145,-76.9 147.5,-76.9 147.5,-72.9 150,-72.9 150,-70.3 152.5,-70.3 152.5,-66.7 155,-66.7 155,-60.4 157.5,-60.4 157.5,-57.5 160,-57.5 160,-51.2 162.5,-51.2 162.5,-44.8 165,-44.8 165,-43.3 167.5,-43.3 167.5,-36.7 170,-36.7 170,-31.1 172.5,-31.1 172.5,-30.7 175,-30.7 175,-27.8 177.5,-27.8 177.5,-23 180,-23 180,-22.1 182.5,-22.1 182.5,-15.1 185,-15.1 185,-15.6 187.5,-15.6 187.5,-11.3 190,-11.3 190,-10.6 192.5,-10.6 192.5,-8.27 195,-8.27 195,-7.2 197.5,-7.2 197.5,-5.46 200,-5.46 200,-4.88 202.5,-4.88 202.5,-4.14 205,-4.14 205,-3.68 207.5,-3.68 207.5,-3.56 210,-3.56 210,-1.61 212.5,-1.61 212.5,-1.53 215,-1.53 215,-1.03 217.5,-1.03 217.5,-0.952 220,-0.952 220,-0.827 222.5,-0.827 222.5,-0.662 225,-0.662 225,-0.579 227.5,-0.579 227.5,-0.372 230,-0.372 230,-0.538 232.5,-0.538 232.5,-0.331 235,-0.331 235,-0.0827 237.5,-0.0827 237.5,-0.0827 240,-0.0827 240,-0.248 242.5,-0.248 242.5,-0.0414 245,-0.0414 245,-0 247.5,-0 247.5,-0.0414 250,-0.0414 250,0\" style=\"fill:none; stroke:currentColor;\"/>\n",
       "</svg>\n",
       "</div>\n",
       "<div style=\"flex=grow:1;\">\n",
       "Regular(100, -4, 4, name='xaxis', label='xaxis')<br/>\n",
       "<hr style=\"margin-top:.2em; margin-bottom:.2em;\"/>\n",
       "Double() Σ=74994.0 <em>(75000.0 with flow)</em>\n",
       "\n",
       "</div>\n",
       "</div>\n",
       "</html>"
      ],
      "text/plain": [
       "Hist(Regular(100, -4, 4, name='xaxis', label='xaxis'), storage=Double()) # Sum: 74994.0 (75000.0 with flow)"
      ]
     },
     "execution_count": 48,
     "metadata": {},
     "output_type": "execute_result"
    }
   ],
   "source": [
    "directory[\"hpx\"].to_hist()"
   ]
  },
  {
   "cell_type": "code",
   "execution_count": 49,
   "id": "65fa7186-ee5c-42c8-9723-035683c05003",
   "metadata": {},
   "outputs": [
    {
     "data": {
      "text/html": [
       "<html>\n",
       "<div style=\"display:flex; align-items:center;\">\n",
       "<div style=\"width:290px;\">\n",
       "<svg xmlns=\"http://www.w3.org/2000/svg\" viewBox=\"-20 -270 290 290\">\n",
       "<text text-anchor=\"middle\" x=\"0\" y=\"13\" style=\"fill:currentColor;\">\n",
       "-4\n",
       "</text>\n",
       "<text text-anchor=\"middle\" x=\"250\" y=\"13\" style=\"fill:currentColor;\">\n",
       "4\n",
       "</text>\n",
       "<text text-anchor=\"middle\" x=\"-10\" y=\"0\" style=\"fill:currentColor;\">\n",
       "-4\n",
       "</text>\n",
       "<text text-anchor=\"middle\" x=\"-10\" y=\"-250\" style=\"fill:currentColor;\">\n",
       "4\n",
       "</text>\n",
       "<text text-anchor=\"middle\" x=\"125.0\" y=\"13\" style=\"fill:currentColor;\">\n",
       "xaxis\n",
       "</text>\n",
       "<text text-anchor=\"middle\" x=\"-10\" y=\"-125.0\" transform=\"rotate(-90,-10,-125.0)\" style=\"fill:currentColor;\">\n",
       "yaxis\n",
       "</text>\n",
       "<rect x=\"0.0\" y=\"-6.250000000000005\" width=\"6.25\" height=\"6.25\" opacity=\"0.0\" fill=\"currentColor\" stroke-width=\"0.1\"/>\n",
       "<rect x=\"6.250000000000005\" y=\"-6.250000000000005\" width=\"6.25\" height=\"6.25\" opacity=\"0.0\" fill=\"currentColor\" stroke-width=\"0.1\"/>\n",
       "<rect x=\"12.50000000000001\" y=\"-6.250000000000005\" width=\"6.25\" height=\"6.25\" opacity=\"0.0\" fill=\"currentColor\" stroke-width=\"0.1\"/>\n",
       "<rect x=\"18.74999999999999\" y=\"-6.250000000000005\" width=\"6.25\" height=\"6.25\" opacity=\"0.0\" fill=\"currentColor\" stroke-width=\"0.1\"/>\n",
       "<rect x=\"24.999999999999993\" y=\"-6.250000000000005\" width=\"6.25\" height=\"6.25\" opacity=\"0.0\" fill=\"currentColor\" stroke-width=\"0.1\"/>\n",
       "<rect x=\"31.25\" y=\"-6.250000000000005\" width=\"6.25\" height=\"6.25\" opacity=\"0.0\" fill=\"currentColor\" stroke-width=\"0.1\"/>\n",
       "<rect x=\"37.50000000000001\" y=\"-6.250000000000005\" width=\"6.25\" height=\"6.25\" opacity=\"0.0\" fill=\"currentColor\" stroke-width=\"0.1\"/>\n",
       "<rect x=\"43.750000000000014\" y=\"-6.250000000000005\" width=\"6.25\" height=\"6.25\" opacity=\"0.0\" fill=\"currentColor\" stroke-width=\"0.1\"/>\n",
       "<rect x=\"49.999999999999986\" y=\"-6.250000000000005\" width=\"6.25\" height=\"6.25\" opacity=\"0.0\" fill=\"currentColor\" stroke-width=\"0.1\"/>\n",
       "<rect x=\"56.24999999999999\" y=\"-6.250000000000005\" width=\"6.25\" height=\"6.25\" opacity=\"0.0\" fill=\"currentColor\" stroke-width=\"0.1\"/>\n",
       "<rect x=\"62.5\" y=\"-6.250000000000005\" width=\"6.25\" height=\"6.25\" opacity=\"0.0\" fill=\"currentColor\" stroke-width=\"0.1\"/>\n",
       "<rect x=\"68.75\" y=\"-6.250000000000005\" width=\"6.25\" height=\"6.25\" opacity=\"0.0020120724346076473\" fill=\"currentColor\" stroke-width=\"0.1\"/>\n",
       "<rect x=\"75.00000000000001\" y=\"-6.250000000000005\" width=\"6.25\" height=\"6.25\" opacity=\"0.0\" fill=\"currentColor\" stroke-width=\"0.1\"/>\n",
       "<rect x=\"81.24999999999999\" y=\"-6.250000000000005\" width=\"6.25\" height=\"6.25\" opacity=\"0.0\" fill=\"currentColor\" stroke-width=\"0.1\"/>\n",
       "<rect x=\"87.5\" y=\"-6.250000000000005\" width=\"6.25\" height=\"6.25\" opacity=\"0.0\" fill=\"currentColor\" stroke-width=\"0.1\"/>\n",
       "<rect x=\"93.75\" y=\"-6.250000000000005\" width=\"6.25\" height=\"6.25\" opacity=\"0.004024144869215291\" fill=\"currentColor\" stroke-width=\"0.1\"/>\n",
       "<rect x=\"100.0\" y=\"-6.250000000000005\" width=\"6.25\" height=\"6.25\" opacity=\"0.0\" fill=\"currentColor\" stroke-width=\"0.1\"/>\n",
       "<rect x=\"106.25000000000001\" y=\"-6.250000000000005\" width=\"6.25\" height=\"6.25\" opacity=\"0.0\" fill=\"currentColor\" stroke-width=\"0.1\"/>\n",
       "<rect x=\"112.49999999999999\" y=\"-6.250000000000005\" width=\"6.25\" height=\"6.25\" opacity=\"0.0\" fill=\"currentColor\" stroke-width=\"0.1\"/>\n",
       "<rect x=\"118.75\" y=\"-6.250000000000005\" width=\"6.25\" height=\"6.25\" opacity=\"0.0\" fill=\"currentColor\" stroke-width=\"0.1\"/>\n",
       "<rect x=\"125.0\" y=\"-6.250000000000005\" width=\"6.25\" height=\"6.25\" opacity=\"0.0\" fill=\"currentColor\" stroke-width=\"0.1\"/>\n",
       "<rect x=\"131.25\" y=\"-6.250000000000005\" width=\"6.25\" height=\"6.25\" opacity=\"0.0\" fill=\"currentColor\" stroke-width=\"0.1\"/>\n",
       "<rect x=\"137.5\" y=\"-6.250000000000005\" width=\"6.25\" height=\"6.25\" opacity=\"0.0\" fill=\"currentColor\" stroke-width=\"0.1\"/>\n",
       "<rect x=\"143.75\" y=\"-6.250000000000005\" width=\"6.25\" height=\"6.25\" opacity=\"0.0\" fill=\"currentColor\" stroke-width=\"0.1\"/>\n",
       "<rect x=\"150.0\" y=\"-6.250000000000005\" width=\"6.25\" height=\"6.25\" opacity=\"0.0020120724346076456\" fill=\"currentColor\" stroke-width=\"0.1\"/>\n",
       "<rect x=\"156.25\" y=\"-6.250000000000005\" width=\"6.25\" height=\"6.25\" opacity=\"0.0\" fill=\"currentColor\" stroke-width=\"0.1\"/>\n",
       "<rect x=\"162.5\" y=\"-6.250000000000005\" width=\"6.25\" height=\"6.25\" opacity=\"0.0020120724346076456\" fill=\"currentColor\" stroke-width=\"0.1\"/>\n",
       "<rect x=\"168.75\" y=\"-6.250000000000005\" width=\"6.25\" height=\"6.25\" opacity=\"0.0\" fill=\"currentColor\" stroke-width=\"0.1\"/>\n",
       "<rect x=\"175.0\" y=\"-6.250000000000005\" width=\"6.25\" height=\"6.25\" opacity=\"0.0\" fill=\"currentColor\" stroke-width=\"0.1\"/>\n",
       "<rect x=\"181.25\" y=\"-6.250000000000005\" width=\"6.25\" height=\"6.25\" opacity=\"0.0\" fill=\"currentColor\" stroke-width=\"0.1\"/>\n",
       "<rect x=\"187.5\" y=\"-6.250000000000005\" width=\"6.25\" height=\"6.25\" opacity=\"0.0\" fill=\"currentColor\" stroke-width=\"0.1\"/>\n",
       "<rect x=\"193.75\" y=\"-6.250000000000005\" width=\"6.25\" height=\"6.25\" opacity=\"0.0\" fill=\"currentColor\" stroke-width=\"0.1\"/>\n",
       "<rect x=\"200.0\" y=\"-6.250000000000005\" width=\"6.25\" height=\"6.25\" opacity=\"0.0\" fill=\"currentColor\" stroke-width=\"0.1\"/>\n",
       "<rect x=\"206.25\" y=\"-6.250000000000005\" width=\"6.25\" height=\"6.25\" opacity=\"0.0\" fill=\"currentColor\" stroke-width=\"0.1\"/>\n",
       "<rect x=\"212.5\" y=\"-6.250000000000005\" width=\"6.25\" height=\"6.25\" opacity=\"0.0\" fill=\"currentColor\" stroke-width=\"0.1\"/>\n",
       "<rect x=\"218.75\" y=\"-6.250000000000005\" width=\"6.25\" height=\"6.25\" opacity=\"0.0\" fill=\"currentColor\" stroke-width=\"0.1\"/>\n",
       "<rect x=\"225.0\" y=\"-6.250000000000005\" width=\"6.25\" height=\"6.25\" opacity=\"0.0\" fill=\"currentColor\" stroke-width=\"0.1\"/>\n",
       "<rect x=\"231.25\" y=\"-6.250000000000005\" width=\"6.25\" height=\"6.25\" opacity=\"0.0\" fill=\"currentColor\" stroke-width=\"0.1\"/>\n",
       "<rect x=\"237.5\" y=\"-6.250000000000005\" width=\"6.25\" height=\"6.25\" opacity=\"0.0\" fill=\"currentColor\" stroke-width=\"0.1\"/>\n",
       "<rect x=\"243.75\" y=\"-6.250000000000005\" width=\"6.25\" height=\"6.25\" opacity=\"0.0\" fill=\"currentColor\" stroke-width=\"0.1\"/>\n",
       "<rect x=\"0.0\" y=\"-12.50000000000001\" width=\"6.25\" height=\"6.25\" opacity=\"0.0\" fill=\"currentColor\" stroke-width=\"0.1\"/>\n",
       "<rect x=\"6.250000000000005\" y=\"-12.50000000000001\" width=\"6.25\" height=\"6.25\" opacity=\"0.0\" fill=\"currentColor\" stroke-width=\"0.1\"/>\n",
       "<rect x=\"12.50000000000001\" y=\"-12.50000000000001\" width=\"6.25\" height=\"6.25\" opacity=\"0.0\" fill=\"currentColor\" stroke-width=\"0.1\"/>\n",
       "<rect x=\"18.74999999999999\" y=\"-12.50000000000001\" width=\"6.25\" height=\"6.25\" opacity=\"0.0\" fill=\"currentColor\" stroke-width=\"0.1\"/>\n",
       "<rect x=\"24.999999999999993\" y=\"-12.50000000000001\" width=\"6.25\" height=\"6.25\" opacity=\"0.0\" fill=\"currentColor\" stroke-width=\"0.1\"/>\n",
       "<rect x=\"31.25\" y=\"-12.50000000000001\" width=\"6.25\" height=\"6.25\" opacity=\"0.0\" fill=\"currentColor\" stroke-width=\"0.1\"/>\n",
       "<rect x=\"37.50000000000001\" y=\"-12.50000000000001\" width=\"6.25\" height=\"6.25\" opacity=\"0.0\" fill=\"currentColor\" stroke-width=\"0.1\"/>\n",
       "<rect x=\"43.750000000000014\" y=\"-12.50000000000001\" width=\"6.25\" height=\"6.25\" opacity=\"0.0\" fill=\"currentColor\" stroke-width=\"0.1\"/>\n",
       "<rect x=\"49.999999999999986\" y=\"-12.50000000000001\" width=\"6.25\" height=\"6.25\" opacity=\"0.0\" fill=\"currentColor\" stroke-width=\"0.1\"/>\n",
       "<rect x=\"56.24999999999999\" y=\"-12.50000000000001\" width=\"6.25\" height=\"6.25\" opacity=\"0.0\" fill=\"currentColor\" stroke-width=\"0.1\"/>\n",
       "<rect x=\"62.5\" y=\"-12.50000000000001\" width=\"6.25\" height=\"6.25\" opacity=\"0.0\" fill=\"currentColor\" stroke-width=\"0.1\"/>\n",
       "<rect x=\"68.75\" y=\"-12.50000000000001\" width=\"6.25\" height=\"6.25\" opacity=\"0.0\" fill=\"currentColor\" stroke-width=\"0.1\"/>\n",
       "<rect x=\"75.00000000000001\" y=\"-12.50000000000001\" width=\"6.25\" height=\"6.25\" opacity=\"0.0\" fill=\"currentColor\" stroke-width=\"0.1\"/>\n",
       "<rect x=\"81.24999999999999\" y=\"-12.50000000000001\" width=\"6.25\" height=\"6.25\" opacity=\"0.0020120724346076473\" fill=\"currentColor\" stroke-width=\"0.1\"/>\n",
       "<rect x=\"87.5\" y=\"-12.50000000000001\" width=\"6.25\" height=\"6.25\" opacity=\"0.0\" fill=\"currentColor\" stroke-width=\"0.1\"/>\n",
       "<rect x=\"93.75\" y=\"-12.50000000000001\" width=\"6.25\" height=\"6.25\" opacity=\"0.0\" fill=\"currentColor\" stroke-width=\"0.1\"/>\n",
       "<rect x=\"100.0\" y=\"-12.50000000000001\" width=\"6.25\" height=\"6.25\" opacity=\"0.0\" fill=\"currentColor\" stroke-width=\"0.1\"/>\n",
       "<rect x=\"106.25000000000001\" y=\"-12.50000000000001\" width=\"6.25\" height=\"6.25\" opacity=\"0.0\" fill=\"currentColor\" stroke-width=\"0.1\"/>\n",
       "<rect x=\"112.49999999999999\" y=\"-12.50000000000001\" width=\"6.25\" height=\"6.25\" opacity=\"0.0\" fill=\"currentColor\" stroke-width=\"0.1\"/>\n",
       "<rect x=\"118.75\" y=\"-12.50000000000001\" width=\"6.25\" height=\"6.25\" opacity=\"0.0\" fill=\"currentColor\" stroke-width=\"0.1\"/>\n",
       "<rect x=\"125.0\" y=\"-12.50000000000001\" width=\"6.25\" height=\"6.25\" opacity=\"0.0\" fill=\"currentColor\" stroke-width=\"0.1\"/>\n",
       "<rect x=\"131.25\" y=\"-12.50000000000001\" width=\"6.25\" height=\"6.25\" opacity=\"0.0\" fill=\"currentColor\" stroke-width=\"0.1\"/>\n",
       "<rect x=\"137.5\" y=\"-12.50000000000001\" width=\"6.25\" height=\"6.25\" opacity=\"0.0\" fill=\"currentColor\" stroke-width=\"0.1\"/>\n",
       "<rect x=\"143.75\" y=\"-12.50000000000001\" width=\"6.25\" height=\"6.25\" opacity=\"0.0\" fill=\"currentColor\" stroke-width=\"0.1\"/>\n",
       "<rect x=\"150.0\" y=\"-12.50000000000001\" width=\"6.25\" height=\"6.25\" opacity=\"0.0\" fill=\"currentColor\" stroke-width=\"0.1\"/>\n",
       "<rect x=\"156.25\" y=\"-12.50000000000001\" width=\"6.25\" height=\"6.25\" opacity=\"0.0\" fill=\"currentColor\" stroke-width=\"0.1\"/>\n",
       "<rect x=\"162.5\" y=\"-12.50000000000001\" width=\"6.25\" height=\"6.25\" opacity=\"0.0\" fill=\"currentColor\" stroke-width=\"0.1\"/>\n",
       "<rect x=\"168.75\" y=\"-12.50000000000001\" width=\"6.25\" height=\"6.25\" opacity=\"0.0\" fill=\"currentColor\" stroke-width=\"0.1\"/>\n",
       "<rect x=\"175.0\" y=\"-12.50000000000001\" width=\"6.25\" height=\"6.25\" opacity=\"0.0\" fill=\"currentColor\" stroke-width=\"0.1\"/>\n",
       "<rect x=\"181.25\" y=\"-12.50000000000001\" width=\"6.25\" height=\"6.25\" opacity=\"0.0\" fill=\"currentColor\" stroke-width=\"0.1\"/>\n",
       "<rect x=\"187.5\" y=\"-12.50000000000001\" width=\"6.25\" height=\"6.25\" opacity=\"0.0\" fill=\"currentColor\" stroke-width=\"0.1\"/>\n",
       "<rect x=\"193.75\" y=\"-12.50000000000001\" width=\"6.25\" height=\"6.25\" opacity=\"0.0\" fill=\"currentColor\" stroke-width=\"0.1\"/>\n",
       "<rect x=\"200.0\" y=\"-12.50000000000001\" width=\"6.25\" height=\"6.25\" opacity=\"0.0\" fill=\"currentColor\" stroke-width=\"0.1\"/>\n",
       "<rect x=\"206.25\" y=\"-12.50000000000001\" width=\"6.25\" height=\"6.25\" opacity=\"0.0\" fill=\"currentColor\" stroke-width=\"0.1\"/>\n",
       "<rect x=\"212.5\" y=\"-12.50000000000001\" width=\"6.25\" height=\"6.25\" opacity=\"0.0\" fill=\"currentColor\" stroke-width=\"0.1\"/>\n",
       "<rect x=\"218.75\" y=\"-12.50000000000001\" width=\"6.25\" height=\"6.25\" opacity=\"0.0\" fill=\"currentColor\" stroke-width=\"0.1\"/>\n",
       "<rect x=\"225.0\" y=\"-12.50000000000001\" width=\"6.25\" height=\"6.25\" opacity=\"0.0\" fill=\"currentColor\" stroke-width=\"0.1\"/>\n",
       "<rect x=\"231.25\" y=\"-12.50000000000001\" width=\"6.25\" height=\"6.25\" opacity=\"0.0\" fill=\"currentColor\" stroke-width=\"0.1\"/>\n",
       "<rect x=\"237.5\" y=\"-12.50000000000001\" width=\"6.25\" height=\"6.25\" opacity=\"0.0\" fill=\"currentColor\" stroke-width=\"0.1\"/>\n",
       "<rect x=\"243.75\" y=\"-12.50000000000001\" width=\"6.25\" height=\"6.25\" opacity=\"0.0\" fill=\"currentColor\" stroke-width=\"0.1\"/>\n",
       "<rect x=\"0.0\" y=\"-18.74999999999999\" width=\"6.25\" height=\"6.25\" opacity=\"0.0\" fill=\"currentColor\" stroke-width=\"0.1\"/>\n",
       "<rect x=\"6.250000000000005\" y=\"-18.74999999999999\" width=\"6.25\" height=\"6.25\" opacity=\"0.0\" fill=\"currentColor\" stroke-width=\"0.1\"/>\n",
       "<rect x=\"12.50000000000001\" y=\"-18.74999999999999\" width=\"6.25\" height=\"6.25\" opacity=\"0.0\" fill=\"currentColor\" stroke-width=\"0.1\"/>\n",
       "<rect x=\"18.74999999999999\" y=\"-18.74999999999999\" width=\"6.25\" height=\"6.25\" opacity=\"0.0\" fill=\"currentColor\" stroke-width=\"0.1\"/>\n",
       "<rect x=\"24.999999999999993\" y=\"-18.74999999999999\" width=\"6.25\" height=\"6.25\" opacity=\"0.0\" fill=\"currentColor\" stroke-width=\"0.1\"/>\n",
       "<rect x=\"31.25\" y=\"-18.74999999999999\" width=\"6.25\" height=\"6.25\" opacity=\"0.0\" fill=\"currentColor\" stroke-width=\"0.1\"/>\n",
       "<rect x=\"37.50000000000001\" y=\"-18.74999999999999\" width=\"6.25\" height=\"6.25\" opacity=\"0.0\" fill=\"currentColor\" stroke-width=\"0.1\"/>\n",
       "<rect x=\"43.750000000000014\" y=\"-18.74999999999999\" width=\"6.25\" height=\"6.25\" opacity=\"0.0\" fill=\"currentColor\" stroke-width=\"0.1\"/>\n",
       "<rect x=\"49.999999999999986\" y=\"-18.74999999999999\" width=\"6.25\" height=\"6.25\" opacity=\"0.0\" fill=\"currentColor\" stroke-width=\"0.1\"/>\n",
       "<rect x=\"56.24999999999999\" y=\"-18.74999999999999\" width=\"6.25\" height=\"6.25\" opacity=\"0.0\" fill=\"currentColor\" stroke-width=\"0.1\"/>\n",
       "<rect x=\"62.5\" y=\"-18.74999999999999\" width=\"6.25\" height=\"6.25\" opacity=\"0.0\" fill=\"currentColor\" stroke-width=\"0.1\"/>\n",
       "<rect x=\"68.75\" y=\"-18.74999999999999\" width=\"6.25\" height=\"6.25\" opacity=\"0.0\" fill=\"currentColor\" stroke-width=\"0.1\"/>\n",
       "<rect x=\"75.00000000000001\" y=\"-18.74999999999999\" width=\"6.25\" height=\"6.25\" opacity=\"0.0\" fill=\"currentColor\" stroke-width=\"0.1\"/>\n",
       "<rect x=\"81.24999999999999\" y=\"-18.74999999999999\" width=\"6.25\" height=\"6.25\" opacity=\"0.0\" fill=\"currentColor\" stroke-width=\"0.1\"/>\n",
       "<rect x=\"87.5\" y=\"-18.74999999999999\" width=\"6.25\" height=\"6.25\" opacity=\"0.0\" fill=\"currentColor\" stroke-width=\"0.1\"/>\n",
       "<rect x=\"93.75\" y=\"-18.74999999999999\" width=\"6.25\" height=\"6.25\" opacity=\"0.004024144869215309\" fill=\"currentColor\" stroke-width=\"0.1\"/>\n",
       "<rect x=\"100.0\" y=\"-18.74999999999999\" width=\"6.25\" height=\"6.25\" opacity=\"0.0020120724346076565\" fill=\"currentColor\" stroke-width=\"0.1\"/>\n",
       "<rect x=\"106.25000000000001\" y=\"-18.74999999999999\" width=\"6.25\" height=\"6.25\" opacity=\"0.004024144869215318\" fill=\"currentColor\" stroke-width=\"0.1\"/>\n",
       "<rect x=\"112.49999999999999\" y=\"-18.74999999999999\" width=\"6.25\" height=\"6.25\" opacity=\"0.004024144869215313\" fill=\"currentColor\" stroke-width=\"0.1\"/>\n",
       "<rect x=\"118.75\" y=\"-18.74999999999999\" width=\"6.25\" height=\"6.25\" opacity=\"0.0\" fill=\"currentColor\" stroke-width=\"0.1\"/>\n",
       "<rect x=\"125.0\" y=\"-18.74999999999999\" width=\"6.25\" height=\"6.25\" opacity=\"0.0020120724346076543\" fill=\"currentColor\" stroke-width=\"0.1\"/>\n",
       "<rect x=\"131.25\" y=\"-18.74999999999999\" width=\"6.25\" height=\"6.25\" opacity=\"0.0\" fill=\"currentColor\" stroke-width=\"0.1\"/>\n",
       "<rect x=\"137.5\" y=\"-18.74999999999999\" width=\"6.25\" height=\"6.25\" opacity=\"0.004024144869215327\" fill=\"currentColor\" stroke-width=\"0.1\"/>\n",
       "<rect x=\"143.75\" y=\"-18.74999999999999\" width=\"6.25\" height=\"6.25\" opacity=\"0.0\" fill=\"currentColor\" stroke-width=\"0.1\"/>\n",
       "<rect x=\"150.0\" y=\"-18.74999999999999\" width=\"6.25\" height=\"6.25\" opacity=\"0.0\" fill=\"currentColor\" stroke-width=\"0.1\"/>\n",
       "<rect x=\"156.25\" y=\"-18.74999999999999\" width=\"6.25\" height=\"6.25\" opacity=\"0.0\" fill=\"currentColor\" stroke-width=\"0.1\"/>\n",
       "<rect x=\"162.5\" y=\"-18.74999999999999\" width=\"6.25\" height=\"6.25\" opacity=\"0.0\" fill=\"currentColor\" stroke-width=\"0.1\"/>\n",
       "<rect x=\"168.75\" y=\"-18.74999999999999\" width=\"6.25\" height=\"6.25\" opacity=\"0.0020120724346076634\" fill=\"currentColor\" stroke-width=\"0.1\"/>\n",
       "<rect x=\"175.0\" y=\"-18.74999999999999\" width=\"6.25\" height=\"6.25\" opacity=\"0.0\" fill=\"currentColor\" stroke-width=\"0.1\"/>\n",
       "<rect x=\"181.25\" y=\"-18.74999999999999\" width=\"6.25\" height=\"6.25\" opacity=\"0.0\" fill=\"currentColor\" stroke-width=\"0.1\"/>\n",
       "<rect x=\"187.5\" y=\"-18.74999999999999\" width=\"6.25\" height=\"6.25\" opacity=\"0.0\" fill=\"currentColor\" stroke-width=\"0.1\"/>\n",
       "<rect x=\"193.75\" y=\"-18.74999999999999\" width=\"6.25\" height=\"6.25\" opacity=\"0.0\" fill=\"currentColor\" stroke-width=\"0.1\"/>\n",
       "<rect x=\"200.0\" y=\"-18.74999999999999\" width=\"6.25\" height=\"6.25\" opacity=\"0.0\" fill=\"currentColor\" stroke-width=\"0.1\"/>\n",
       "<rect x=\"206.25\" y=\"-18.74999999999999\" width=\"6.25\" height=\"6.25\" opacity=\"0.0\" fill=\"currentColor\" stroke-width=\"0.1\"/>\n",
       "<rect x=\"212.5\" y=\"-18.74999999999999\" width=\"6.25\" height=\"6.25\" opacity=\"0.0\" fill=\"currentColor\" stroke-width=\"0.1\"/>\n",
       "<rect x=\"218.75\" y=\"-18.74999999999999\" width=\"6.25\" height=\"6.25\" opacity=\"0.0\" fill=\"currentColor\" stroke-width=\"0.1\"/>\n",
       "<rect x=\"225.0\" y=\"-18.74999999999999\" width=\"6.25\" height=\"6.25\" opacity=\"0.0\" fill=\"currentColor\" stroke-width=\"0.1\"/>\n",
       "<rect x=\"231.25\" y=\"-18.74999999999999\" width=\"6.25\" height=\"6.25\" opacity=\"0.0\" fill=\"currentColor\" stroke-width=\"0.1\"/>\n",
       "<rect x=\"237.5\" y=\"-18.74999999999999\" width=\"6.25\" height=\"6.25\" opacity=\"0.0\" fill=\"currentColor\" stroke-width=\"0.1\"/>\n",
       "<rect x=\"243.75\" y=\"-18.74999999999999\" width=\"6.25\" height=\"6.25\" opacity=\"0.0\" fill=\"currentColor\" stroke-width=\"0.1\"/>\n",
       "<rect x=\"0.0\" y=\"-24.999999999999993\" width=\"6.25\" height=\"6.25\" opacity=\"0.0\" fill=\"currentColor\" stroke-width=\"0.1\"/>\n",
       "<rect x=\"6.250000000000005\" y=\"-24.999999999999993\" width=\"6.25\" height=\"6.25\" opacity=\"0.0\" fill=\"currentColor\" stroke-width=\"0.1\"/>\n",
       "<rect x=\"12.50000000000001\" y=\"-24.999999999999993\" width=\"6.25\" height=\"6.25\" opacity=\"0.0\" fill=\"currentColor\" stroke-width=\"0.1\"/>\n",
       "<rect x=\"18.74999999999999\" y=\"-24.999999999999993\" width=\"6.25\" height=\"6.25\" opacity=\"0.0\" fill=\"currentColor\" stroke-width=\"0.1\"/>\n",
       "<rect x=\"24.999999999999993\" y=\"-24.999999999999993\" width=\"6.25\" height=\"6.25\" opacity=\"0.0\" fill=\"currentColor\" stroke-width=\"0.1\"/>\n",
       "<rect x=\"31.25\" y=\"-24.999999999999993\" width=\"6.25\" height=\"6.25\" opacity=\"0.0\" fill=\"currentColor\" stroke-width=\"0.1\"/>\n",
       "<rect x=\"37.50000000000001\" y=\"-24.999999999999993\" width=\"6.25\" height=\"6.25\" opacity=\"0.0\" fill=\"currentColor\" stroke-width=\"0.1\"/>\n",
       "<rect x=\"43.750000000000014\" y=\"-24.999999999999993\" width=\"6.25\" height=\"6.25\" opacity=\"0.0\" fill=\"currentColor\" stroke-width=\"0.1\"/>\n",
       "<rect x=\"49.999999999999986\" y=\"-24.999999999999993\" width=\"6.25\" height=\"6.25\" opacity=\"0.0\" fill=\"currentColor\" stroke-width=\"0.1\"/>\n",
       "<rect x=\"56.24999999999999\" y=\"-24.999999999999993\" width=\"6.25\" height=\"6.25\" opacity=\"0.0\" fill=\"currentColor\" stroke-width=\"0.1\"/>\n",
       "<rect x=\"62.5\" y=\"-24.999999999999993\" width=\"6.25\" height=\"6.25\" opacity=\"0.006036217303822937\" fill=\"currentColor\" stroke-width=\"0.1\"/>\n",
       "<rect x=\"68.75\" y=\"-24.999999999999993\" width=\"6.25\" height=\"6.25\" opacity=\"0.0020120724346076473\" fill=\"currentColor\" stroke-width=\"0.1\"/>\n",
       "<rect x=\"75.00000000000001\" y=\"-24.999999999999993\" width=\"6.25\" height=\"6.25\" opacity=\"0.0\" fill=\"currentColor\" stroke-width=\"0.1\"/>\n",
       "<rect x=\"81.24999999999999\" y=\"-24.999999999999993\" width=\"6.25\" height=\"6.25\" opacity=\"0.0020120724346076473\" fill=\"currentColor\" stroke-width=\"0.1\"/>\n",
       "<rect x=\"87.5\" y=\"-24.999999999999993\" width=\"6.25\" height=\"6.25\" opacity=\"0.004024144869215291\" fill=\"currentColor\" stroke-width=\"0.1\"/>\n",
       "<rect x=\"93.75\" y=\"-24.999999999999993\" width=\"6.25\" height=\"6.25\" opacity=\"0.0020120724346076456\" fill=\"currentColor\" stroke-width=\"0.1\"/>\n",
       "<rect x=\"100.0\" y=\"-24.999999999999993\" width=\"6.25\" height=\"6.25\" opacity=\"0.0\" fill=\"currentColor\" stroke-width=\"0.1\"/>\n",
       "<rect x=\"106.25000000000001\" y=\"-24.999999999999993\" width=\"6.25\" height=\"6.25\" opacity=\"0.00201207243460765\" fill=\"currentColor\" stroke-width=\"0.1\"/>\n",
       "<rect x=\"112.49999999999999\" y=\"-24.999999999999993\" width=\"6.25\" height=\"6.25\" opacity=\"0.0020120724346076473\" fill=\"currentColor\" stroke-width=\"0.1\"/>\n",
       "<rect x=\"118.75\" y=\"-24.999999999999993\" width=\"6.25\" height=\"6.25\" opacity=\"0.0020120724346076456\" fill=\"currentColor\" stroke-width=\"0.1\"/>\n",
       "<rect x=\"125.0\" y=\"-24.999999999999993\" width=\"6.25\" height=\"6.25\" opacity=\"0.004024144869215291\" fill=\"currentColor\" stroke-width=\"0.1\"/>\n",
       "<rect x=\"131.25\" y=\"-24.999999999999993\" width=\"6.25\" height=\"6.25\" opacity=\"0.0020120724346076456\" fill=\"currentColor\" stroke-width=\"0.1\"/>\n",
       "<rect x=\"137.5\" y=\"-24.999999999999993\" width=\"6.25\" height=\"6.25\" opacity=\"0.004024144869215309\" fill=\"currentColor\" stroke-width=\"0.1\"/>\n",
       "<rect x=\"143.75\" y=\"-24.999999999999993\" width=\"6.25\" height=\"6.25\" opacity=\"0.006036217303822937\" fill=\"currentColor\" stroke-width=\"0.1\"/>\n",
       "<rect x=\"150.0\" y=\"-24.999999999999993\" width=\"6.25\" height=\"6.25\" opacity=\"0.0\" fill=\"currentColor\" stroke-width=\"0.1\"/>\n",
       "<rect x=\"156.25\" y=\"-24.999999999999993\" width=\"6.25\" height=\"6.25\" opacity=\"0.0020120724346076456\" fill=\"currentColor\" stroke-width=\"0.1\"/>\n",
       "<rect x=\"162.5\" y=\"-24.999999999999993\" width=\"6.25\" height=\"6.25\" opacity=\"0.0020120724346076456\" fill=\"currentColor\" stroke-width=\"0.1\"/>\n",
       "<rect x=\"168.75\" y=\"-24.999999999999993\" width=\"6.25\" height=\"6.25\" opacity=\"0.0020120724346076543\" fill=\"currentColor\" stroke-width=\"0.1\"/>\n",
       "<rect x=\"175.0\" y=\"-24.999999999999993\" width=\"6.25\" height=\"6.25\" opacity=\"0.0020120724346076456\" fill=\"currentColor\" stroke-width=\"0.1\"/>\n",
       "<rect x=\"181.25\" y=\"-24.999999999999993\" width=\"6.25\" height=\"6.25\" opacity=\"0.0\" fill=\"currentColor\" stroke-width=\"0.1\"/>\n",
       "<rect x=\"187.5\" y=\"-24.999999999999993\" width=\"6.25\" height=\"6.25\" opacity=\"0.0\" fill=\"currentColor\" stroke-width=\"0.1\"/>\n",
       "<rect x=\"193.75\" y=\"-24.999999999999993\" width=\"6.25\" height=\"6.25\" opacity=\"0.0\" fill=\"currentColor\" stroke-width=\"0.1\"/>\n",
       "<rect x=\"200.0\" y=\"-24.999999999999993\" width=\"6.25\" height=\"6.25\" opacity=\"0.0\" fill=\"currentColor\" stroke-width=\"0.1\"/>\n",
       "<rect x=\"206.25\" y=\"-24.999999999999993\" width=\"6.25\" height=\"6.25\" opacity=\"0.0\" fill=\"currentColor\" stroke-width=\"0.1\"/>\n",
       "<rect x=\"212.5\" y=\"-24.999999999999993\" width=\"6.25\" height=\"6.25\" opacity=\"0.0\" fill=\"currentColor\" stroke-width=\"0.1\"/>\n",
       "<rect x=\"218.75\" y=\"-24.999999999999993\" width=\"6.25\" height=\"6.25\" opacity=\"0.0\" fill=\"currentColor\" stroke-width=\"0.1\"/>\n",
       "<rect x=\"225.0\" y=\"-24.999999999999993\" width=\"6.25\" height=\"6.25\" opacity=\"0.0\" fill=\"currentColor\" stroke-width=\"0.1\"/>\n",
       "<rect x=\"231.25\" y=\"-24.999999999999993\" width=\"6.25\" height=\"6.25\" opacity=\"0.0\" fill=\"currentColor\" stroke-width=\"0.1\"/>\n",
       "<rect x=\"237.5\" y=\"-24.999999999999993\" width=\"6.25\" height=\"6.25\" opacity=\"0.0\" fill=\"currentColor\" stroke-width=\"0.1\"/>\n",
       "<rect x=\"243.75\" y=\"-24.999999999999993\" width=\"6.25\" height=\"6.25\" opacity=\"0.0\" fill=\"currentColor\" stroke-width=\"0.1\"/>\n",
       "<rect x=\"0.0\" y=\"-31.25\" width=\"6.25\" height=\"6.25\" opacity=\"0.0\" fill=\"currentColor\" stroke-width=\"0.1\"/>\n",
       "<rect x=\"6.250000000000005\" y=\"-31.25\" width=\"6.25\" height=\"6.25\" opacity=\"0.0\" fill=\"currentColor\" stroke-width=\"0.1\"/>\n",
       "<rect x=\"12.50000000000001\" y=\"-31.25\" width=\"6.25\" height=\"6.25\" opacity=\"0.0\" fill=\"currentColor\" stroke-width=\"0.1\"/>\n",
       "<rect x=\"18.74999999999999\" y=\"-31.25\" width=\"6.25\" height=\"6.25\" opacity=\"0.0\" fill=\"currentColor\" stroke-width=\"0.1\"/>\n",
       "<rect x=\"24.999999999999993\" y=\"-31.25\" width=\"6.25\" height=\"6.25\" opacity=\"0.0\" fill=\"currentColor\" stroke-width=\"0.1\"/>\n",
       "<rect x=\"31.25\" y=\"-31.25\" width=\"6.25\" height=\"6.25\" opacity=\"0.0\" fill=\"currentColor\" stroke-width=\"0.1\"/>\n",
       "<rect x=\"37.50000000000001\" y=\"-31.25\" width=\"6.25\" height=\"6.25\" opacity=\"0.0\" fill=\"currentColor\" stroke-width=\"0.1\"/>\n",
       "<rect x=\"43.750000000000014\" y=\"-31.25\" width=\"6.25\" height=\"6.25\" opacity=\"0.0020120724346076543\" fill=\"currentColor\" stroke-width=\"0.1\"/>\n",
       "<rect x=\"49.999999999999986\" y=\"-31.25\" width=\"6.25\" height=\"6.25\" opacity=\"0.0\" fill=\"currentColor\" stroke-width=\"0.1\"/>\n",
       "<rect x=\"56.24999999999999\" y=\"-31.25\" width=\"6.25\" height=\"6.25\" opacity=\"0.0020120724346076456\" fill=\"currentColor\" stroke-width=\"0.1\"/>\n",
       "<rect x=\"62.5\" y=\"-31.25\" width=\"6.25\" height=\"6.25\" opacity=\"0.004024144869215291\" fill=\"currentColor\" stroke-width=\"0.1\"/>\n",
       "<rect x=\"68.75\" y=\"-31.25\" width=\"6.25\" height=\"6.25\" opacity=\"0.0\" fill=\"currentColor\" stroke-width=\"0.1\"/>\n",
       "<rect x=\"75.00000000000001\" y=\"-31.25\" width=\"6.25\" height=\"6.25\" opacity=\"0.0040241448692153\" fill=\"currentColor\" stroke-width=\"0.1\"/>\n",
       "<rect x=\"81.24999999999999\" y=\"-31.25\" width=\"6.25\" height=\"6.25\" opacity=\"0.00804828973843059\" fill=\"currentColor\" stroke-width=\"0.1\"/>\n",
       "<rect x=\"87.5\" y=\"-31.25\" width=\"6.25\" height=\"6.25\" opacity=\"0.004024144869215291\" fill=\"currentColor\" stroke-width=\"0.1\"/>\n",
       "<rect x=\"93.75\" y=\"-31.25\" width=\"6.25\" height=\"6.25\" opacity=\"0.01006036217303823\" fill=\"currentColor\" stroke-width=\"0.1\"/>\n",
       "<rect x=\"100.0\" y=\"-31.25\" width=\"6.25\" height=\"6.25\" opacity=\"0.004024144869215295\" fill=\"currentColor\" stroke-width=\"0.1\"/>\n",
       "<rect x=\"106.25000000000001\" y=\"-31.25\" width=\"6.25\" height=\"6.25\" opacity=\"0.0040241448692153\" fill=\"currentColor\" stroke-width=\"0.1\"/>\n",
       "<rect x=\"112.49999999999999\" y=\"-31.25\" width=\"6.25\" height=\"6.25\" opacity=\"0.0020120724346076473\" fill=\"currentColor\" stroke-width=\"0.1\"/>\n",
       "<rect x=\"118.75\" y=\"-31.25\" width=\"6.25\" height=\"6.25\" opacity=\"0.01006036217303823\" fill=\"currentColor\" stroke-width=\"0.1\"/>\n",
       "<rect x=\"125.0\" y=\"-31.25\" width=\"6.25\" height=\"6.25\" opacity=\"0.006036217303822937\" fill=\"currentColor\" stroke-width=\"0.1\"/>\n",
       "<rect x=\"131.25\" y=\"-31.25\" width=\"6.25\" height=\"6.25\" opacity=\"0.008048289738430582\" fill=\"currentColor\" stroke-width=\"0.1\"/>\n",
       "<rect x=\"137.5\" y=\"-31.25\" width=\"6.25\" height=\"6.25\" opacity=\"0.008048289738430617\" fill=\"currentColor\" stroke-width=\"0.1\"/>\n",
       "<rect x=\"143.75\" y=\"-31.25\" width=\"6.25\" height=\"6.25\" opacity=\"0.0020120724346076456\" fill=\"currentColor\" stroke-width=\"0.1\"/>\n",
       "<rect x=\"150.0\" y=\"-31.25\" width=\"6.25\" height=\"6.25\" opacity=\"0.008048289738430582\" fill=\"currentColor\" stroke-width=\"0.1\"/>\n",
       "<rect x=\"156.25\" y=\"-31.25\" width=\"6.25\" height=\"6.25\" opacity=\"0.0020120724346076456\" fill=\"currentColor\" stroke-width=\"0.1\"/>\n",
       "<rect x=\"162.5\" y=\"-31.25\" width=\"6.25\" height=\"6.25\" opacity=\"0.004024144869215291\" fill=\"currentColor\" stroke-width=\"0.1\"/>\n",
       "<rect x=\"168.75\" y=\"-31.25\" width=\"6.25\" height=\"6.25\" opacity=\"0.0020120724346076543\" fill=\"currentColor\" stroke-width=\"0.1\"/>\n",
       "<rect x=\"175.0\" y=\"-31.25\" width=\"6.25\" height=\"6.25\" opacity=\"0.004024144869215291\" fill=\"currentColor\" stroke-width=\"0.1\"/>\n",
       "<rect x=\"181.25\" y=\"-31.25\" width=\"6.25\" height=\"6.25\" opacity=\"0.0020120724346076456\" fill=\"currentColor\" stroke-width=\"0.1\"/>\n",
       "<rect x=\"187.5\" y=\"-31.25\" width=\"6.25\" height=\"6.25\" opacity=\"0.0\" fill=\"currentColor\" stroke-width=\"0.1\"/>\n",
       "<rect x=\"193.75\" y=\"-31.25\" width=\"6.25\" height=\"6.25\" opacity=\"0.0\" fill=\"currentColor\" stroke-width=\"0.1\"/>\n",
       "<rect x=\"200.0\" y=\"-31.25\" width=\"6.25\" height=\"6.25\" opacity=\"0.0020120724346076543\" fill=\"currentColor\" stroke-width=\"0.1\"/>\n",
       "<rect x=\"206.25\" y=\"-31.25\" width=\"6.25\" height=\"6.25\" opacity=\"0.004024144869215291\" fill=\"currentColor\" stroke-width=\"0.1\"/>\n",
       "<rect x=\"212.5\" y=\"-31.25\" width=\"6.25\" height=\"6.25\" opacity=\"0.0\" fill=\"currentColor\" stroke-width=\"0.1\"/>\n",
       "<rect x=\"218.75\" y=\"-31.25\" width=\"6.25\" height=\"6.25\" opacity=\"0.0\" fill=\"currentColor\" stroke-width=\"0.1\"/>\n",
       "<rect x=\"225.0\" y=\"-31.25\" width=\"6.25\" height=\"6.25\" opacity=\"0.0\" fill=\"currentColor\" stroke-width=\"0.1\"/>\n",
       "<rect x=\"231.25\" y=\"-31.25\" width=\"6.25\" height=\"6.25\" opacity=\"0.0\" fill=\"currentColor\" stroke-width=\"0.1\"/>\n",
       "<rect x=\"237.5\" y=\"-31.25\" width=\"6.25\" height=\"6.25\" opacity=\"0.0\" fill=\"currentColor\" stroke-width=\"0.1\"/>\n",
       "<rect x=\"243.75\" y=\"-31.25\" width=\"6.25\" height=\"6.25\" opacity=\"0.0\" fill=\"currentColor\" stroke-width=\"0.1\"/>\n",
       "<rect x=\"0.0\" y=\"-37.50000000000001\" width=\"6.25\" height=\"6.25\" opacity=\"0.0\" fill=\"currentColor\" stroke-width=\"0.1\"/>\n",
       "<rect x=\"6.250000000000005\" y=\"-37.50000000000001\" width=\"6.25\" height=\"6.25\" opacity=\"0.0\" fill=\"currentColor\" stroke-width=\"0.1\"/>\n",
       "<rect x=\"12.50000000000001\" y=\"-37.50000000000001\" width=\"6.25\" height=\"6.25\" opacity=\"0.0\" fill=\"currentColor\" stroke-width=\"0.1\"/>\n",
       "<rect x=\"18.74999999999999\" y=\"-37.50000000000001\" width=\"6.25\" height=\"6.25\" opacity=\"0.0\" fill=\"currentColor\" stroke-width=\"0.1\"/>\n",
       "<rect x=\"24.999999999999993\" y=\"-37.50000000000001\" width=\"6.25\" height=\"6.25\" opacity=\"0.0\" fill=\"currentColor\" stroke-width=\"0.1\"/>\n",
       "<rect x=\"31.25\" y=\"-37.50000000000001\" width=\"6.25\" height=\"6.25\" opacity=\"0.0\" fill=\"currentColor\" stroke-width=\"0.1\"/>\n",
       "<rect x=\"37.50000000000001\" y=\"-37.50000000000001\" width=\"6.25\" height=\"6.25\" opacity=\"0.0\" fill=\"currentColor\" stroke-width=\"0.1\"/>\n",
       "<rect x=\"43.750000000000014\" y=\"-37.50000000000001\" width=\"6.25\" height=\"6.25\" opacity=\"0.0\" fill=\"currentColor\" stroke-width=\"0.1\"/>\n",
       "<rect x=\"49.999999999999986\" y=\"-37.50000000000001\" width=\"6.25\" height=\"6.25\" opacity=\"0.0020120724346076456\" fill=\"currentColor\" stroke-width=\"0.1\"/>\n",
       "<rect x=\"56.24999999999999\" y=\"-37.50000000000001\" width=\"6.25\" height=\"6.25\" opacity=\"0.0\" fill=\"currentColor\" stroke-width=\"0.1\"/>\n",
       "<rect x=\"62.5\" y=\"-37.50000000000001\" width=\"6.25\" height=\"6.25\" opacity=\"0.006036217303822937\" fill=\"currentColor\" stroke-width=\"0.1\"/>\n",
       "<rect x=\"68.75\" y=\"-37.50000000000001\" width=\"6.25\" height=\"6.25\" opacity=\"0.0020120724346076473\" fill=\"currentColor\" stroke-width=\"0.1\"/>\n",
       "<rect x=\"75.00000000000001\" y=\"-37.50000000000001\" width=\"6.25\" height=\"6.25\" opacity=\"0.0120724346076459\" fill=\"currentColor\" stroke-width=\"0.1\"/>\n",
       "<rect x=\"81.24999999999999\" y=\"-37.50000000000001\" width=\"6.25\" height=\"6.25\" opacity=\"0.0020120724346076473\" fill=\"currentColor\" stroke-width=\"0.1\"/>\n",
       "<rect x=\"87.5\" y=\"-37.50000000000001\" width=\"6.25\" height=\"6.25\" opacity=\"0.006036217303822937\" fill=\"currentColor\" stroke-width=\"0.1\"/>\n",
       "<rect x=\"93.75\" y=\"-37.50000000000001\" width=\"6.25\" height=\"6.25\" opacity=\"0.012072434607645875\" fill=\"currentColor\" stroke-width=\"0.1\"/>\n",
       "<rect x=\"100.0\" y=\"-37.50000000000001\" width=\"6.25\" height=\"6.25\" opacity=\"0.0060362173038229425\" fill=\"currentColor\" stroke-width=\"0.1\"/>\n",
       "<rect x=\"106.25000000000001\" y=\"-37.50000000000001\" width=\"6.25\" height=\"6.25\" opacity=\"0.0120724346076459\" fill=\"currentColor\" stroke-width=\"0.1\"/>\n",
       "<rect x=\"112.49999999999999\" y=\"-37.50000000000001\" width=\"6.25\" height=\"6.25\" opacity=\"0.018108651911468827\" fill=\"currentColor\" stroke-width=\"0.1\"/>\n",
       "<rect x=\"118.75\" y=\"-37.50000000000001\" width=\"6.25\" height=\"6.25\" opacity=\"0.012072434607645875\" fill=\"currentColor\" stroke-width=\"0.1\"/>\n",
       "<rect x=\"125.0\" y=\"-37.50000000000001\" width=\"6.25\" height=\"6.25\" opacity=\"0.018108651911468814\" fill=\"currentColor\" stroke-width=\"0.1\"/>\n",
       "<rect x=\"131.25\" y=\"-37.50000000000001\" width=\"6.25\" height=\"6.25\" opacity=\"0.01006036217303823\" fill=\"currentColor\" stroke-width=\"0.1\"/>\n",
       "<rect x=\"137.5\" y=\"-37.50000000000001\" width=\"6.25\" height=\"6.25\" opacity=\"0.004024144869215309\" fill=\"currentColor\" stroke-width=\"0.1\"/>\n",
       "<rect x=\"143.75\" y=\"-37.50000000000001\" width=\"6.25\" height=\"6.25\" opacity=\"0.008048289738430582\" fill=\"currentColor\" stroke-width=\"0.1\"/>\n",
       "<rect x=\"150.0\" y=\"-37.50000000000001\" width=\"6.25\" height=\"6.25\" opacity=\"0.008048289738430582\" fill=\"currentColor\" stroke-width=\"0.1\"/>\n",
       "<rect x=\"156.25\" y=\"-37.50000000000001\" width=\"6.25\" height=\"6.25\" opacity=\"0.0020120724346076456\" fill=\"currentColor\" stroke-width=\"0.1\"/>\n",
       "<rect x=\"162.5\" y=\"-37.50000000000001\" width=\"6.25\" height=\"6.25\" opacity=\"0.012072434607645875\" fill=\"currentColor\" stroke-width=\"0.1\"/>\n",
       "<rect x=\"168.75\" y=\"-37.50000000000001\" width=\"6.25\" height=\"6.25\" opacity=\"0.0020120724346076543\" fill=\"currentColor\" stroke-width=\"0.1\"/>\n",
       "<rect x=\"175.0\" y=\"-37.50000000000001\" width=\"6.25\" height=\"6.25\" opacity=\"0.004024144869215291\" fill=\"currentColor\" stroke-width=\"0.1\"/>\n",
       "<rect x=\"181.25\" y=\"-37.50000000000001\" width=\"6.25\" height=\"6.25\" opacity=\"0.0\" fill=\"currentColor\" stroke-width=\"0.1\"/>\n",
       "<rect x=\"187.5\" y=\"-37.50000000000001\" width=\"6.25\" height=\"6.25\" opacity=\"0.0020120724346076456\" fill=\"currentColor\" stroke-width=\"0.1\"/>\n",
       "<rect x=\"193.75\" y=\"-37.50000000000001\" width=\"6.25\" height=\"6.25\" opacity=\"0.0020120724346076456\" fill=\"currentColor\" stroke-width=\"0.1\"/>\n",
       "<rect x=\"200.0\" y=\"-37.50000000000001\" width=\"6.25\" height=\"6.25\" opacity=\"0.0020120724346076543\" fill=\"currentColor\" stroke-width=\"0.1\"/>\n",
       "<rect x=\"206.25\" y=\"-37.50000000000001\" width=\"6.25\" height=\"6.25\" opacity=\"0.0020120724346076456\" fill=\"currentColor\" stroke-width=\"0.1\"/>\n",
       "<rect x=\"212.5\" y=\"-37.50000000000001\" width=\"6.25\" height=\"6.25\" opacity=\"0.0\" fill=\"currentColor\" stroke-width=\"0.1\"/>\n",
       "<rect x=\"218.75\" y=\"-37.50000000000001\" width=\"6.25\" height=\"6.25\" opacity=\"0.0\" fill=\"currentColor\" stroke-width=\"0.1\"/>\n",
       "<rect x=\"225.0\" y=\"-37.50000000000001\" width=\"6.25\" height=\"6.25\" opacity=\"0.0\" fill=\"currentColor\" stroke-width=\"0.1\"/>\n",
       "<rect x=\"231.25\" y=\"-37.50000000000001\" width=\"6.25\" height=\"6.25\" opacity=\"0.0\" fill=\"currentColor\" stroke-width=\"0.1\"/>\n",
       "<rect x=\"237.5\" y=\"-37.50000000000001\" width=\"6.25\" height=\"6.25\" opacity=\"0.0\" fill=\"currentColor\" stroke-width=\"0.1\"/>\n",
       "<rect x=\"243.75\" y=\"-37.50000000000001\" width=\"6.25\" height=\"6.25\" opacity=\"0.0\" fill=\"currentColor\" stroke-width=\"0.1\"/>\n",
       "<rect x=\"0.0\" y=\"-43.750000000000014\" width=\"6.25\" height=\"6.25\" opacity=\"0.0\" fill=\"currentColor\" stroke-width=\"0.1\"/>\n",
       "<rect x=\"6.250000000000005\" y=\"-43.750000000000014\" width=\"6.25\" height=\"6.25\" opacity=\"0.0\" fill=\"currentColor\" stroke-width=\"0.1\"/>\n",
       "<rect x=\"12.50000000000001\" y=\"-43.750000000000014\" width=\"6.25\" height=\"6.25\" opacity=\"0.0\" fill=\"currentColor\" stroke-width=\"0.1\"/>\n",
       "<rect x=\"18.74999999999999\" y=\"-43.750000000000014\" width=\"6.25\" height=\"6.25\" opacity=\"0.0\" fill=\"currentColor\" stroke-width=\"0.1\"/>\n",
       "<rect x=\"24.999999999999993\" y=\"-43.750000000000014\" width=\"6.25\" height=\"6.25\" opacity=\"0.0020120724346076456\" fill=\"currentColor\" stroke-width=\"0.1\"/>\n",
       "<rect x=\"31.25\" y=\"-43.750000000000014\" width=\"6.25\" height=\"6.25\" opacity=\"0.0\" fill=\"currentColor\" stroke-width=\"0.1\"/>\n",
       "<rect x=\"37.50000000000001\" y=\"-43.750000000000014\" width=\"6.25\" height=\"6.25\" opacity=\"0.0\" fill=\"currentColor\" stroke-width=\"0.1\"/>\n",
       "<rect x=\"43.750000000000014\" y=\"-43.750000000000014\" width=\"6.25\" height=\"6.25\" opacity=\"0.004024144869215309\" fill=\"currentColor\" stroke-width=\"0.1\"/>\n",
       "<rect x=\"49.999999999999986\" y=\"-43.750000000000014\" width=\"6.25\" height=\"6.25\" opacity=\"0.0\" fill=\"currentColor\" stroke-width=\"0.1\"/>\n",
       "<rect x=\"56.24999999999999\" y=\"-43.750000000000014\" width=\"6.25\" height=\"6.25\" opacity=\"0.0\" fill=\"currentColor\" stroke-width=\"0.1\"/>\n",
       "<rect x=\"62.5\" y=\"-43.750000000000014\" width=\"6.25\" height=\"6.25\" opacity=\"0.006036217303822937\" fill=\"currentColor\" stroke-width=\"0.1\"/>\n",
       "<rect x=\"68.75\" y=\"-43.750000000000014\" width=\"6.25\" height=\"6.25\" opacity=\"0.00804828973843059\" fill=\"currentColor\" stroke-width=\"0.1\"/>\n",
       "<rect x=\"75.00000000000001\" y=\"-43.750000000000014\" width=\"6.25\" height=\"6.25\" opacity=\"0.01006036217303825\" fill=\"currentColor\" stroke-width=\"0.1\"/>\n",
       "<rect x=\"81.24999999999999\" y=\"-43.750000000000014\" width=\"6.25\" height=\"6.25\" opacity=\"0.010060362173038238\" fill=\"currentColor\" stroke-width=\"0.1\"/>\n",
       "<rect x=\"87.5\" y=\"-43.750000000000014\" width=\"6.25\" height=\"6.25\" opacity=\"0.012072434607645875\" fill=\"currentColor\" stroke-width=\"0.1\"/>\n",
       "<rect x=\"93.75\" y=\"-43.750000000000014\" width=\"6.25\" height=\"6.25\" opacity=\"0.018108651911468814\" fill=\"currentColor\" stroke-width=\"0.1\"/>\n",
       "<rect x=\"100.0\" y=\"-43.750000000000014\" width=\"6.25\" height=\"6.25\" opacity=\"0.03420523138833001\" fill=\"currentColor\" stroke-width=\"0.1\"/>\n",
       "<rect x=\"106.25000000000001\" y=\"-43.750000000000014\" width=\"6.25\" height=\"6.25\" opacity=\"0.0160965794768612\" fill=\"currentColor\" stroke-width=\"0.1\"/>\n",
       "<rect x=\"112.49999999999999\" y=\"-43.750000000000014\" width=\"6.25\" height=\"6.25\" opacity=\"0.02615694164989942\" fill=\"currentColor\" stroke-width=\"0.1\"/>\n",
       "<rect x=\"118.75\" y=\"-43.750000000000014\" width=\"6.25\" height=\"6.25\" opacity=\"0.026156941649899394\" fill=\"currentColor\" stroke-width=\"0.1\"/>\n",
       "<rect x=\"125.0\" y=\"-43.750000000000014\" width=\"6.25\" height=\"6.25\" opacity=\"0.02816901408450704\" fill=\"currentColor\" stroke-width=\"0.1\"/>\n",
       "<rect x=\"131.25\" y=\"-43.750000000000014\" width=\"6.25\" height=\"6.25\" opacity=\"0.0221327967806841\" fill=\"currentColor\" stroke-width=\"0.1\"/>\n",
       "<rect x=\"137.5\" y=\"-43.750000000000014\" width=\"6.25\" height=\"6.25\" opacity=\"0.026156941649899505\" fill=\"currentColor\" stroke-width=\"0.1\"/>\n",
       "<rect x=\"143.75\" y=\"-43.750000000000014\" width=\"6.25\" height=\"6.25\" opacity=\"0.012072434607645875\" fill=\"currentColor\" stroke-width=\"0.1\"/>\n",
       "<rect x=\"150.0\" y=\"-43.750000000000014\" width=\"6.25\" height=\"6.25\" opacity=\"0.02012072434607646\" fill=\"currentColor\" stroke-width=\"0.1\"/>\n",
       "<rect x=\"156.25\" y=\"-43.750000000000014\" width=\"6.25\" height=\"6.25\" opacity=\"0.01006036217303823\" fill=\"currentColor\" stroke-width=\"0.1\"/>\n",
       "<rect x=\"162.5\" y=\"-43.750000000000014\" width=\"6.25\" height=\"6.25\" opacity=\"0.008048289738430582\" fill=\"currentColor\" stroke-width=\"0.1\"/>\n",
       "<rect x=\"168.75\" y=\"-43.750000000000014\" width=\"6.25\" height=\"6.25\" opacity=\"0.010060362173038271\" fill=\"currentColor\" stroke-width=\"0.1\"/>\n",
       "<rect x=\"175.0\" y=\"-43.750000000000014\" width=\"6.25\" height=\"6.25\" opacity=\"0.01408450704225352\" fill=\"currentColor\" stroke-width=\"0.1\"/>\n",
       "<rect x=\"181.25\" y=\"-43.750000000000014\" width=\"6.25\" height=\"6.25\" opacity=\"0.004024144869215291\" fill=\"currentColor\" stroke-width=\"0.1\"/>\n",
       "<rect x=\"187.5\" y=\"-43.750000000000014\" width=\"6.25\" height=\"6.25\" opacity=\"0.0020120724346076456\" fill=\"currentColor\" stroke-width=\"0.1\"/>\n",
       "<rect x=\"193.75\" y=\"-43.750000000000014\" width=\"6.25\" height=\"6.25\" opacity=\"0.0\" fill=\"currentColor\" stroke-width=\"0.1\"/>\n",
       "<rect x=\"200.0\" y=\"-43.750000000000014\" width=\"6.25\" height=\"6.25\" opacity=\"0.0\" fill=\"currentColor\" stroke-width=\"0.1\"/>\n",
       "<rect x=\"206.25\" y=\"-43.750000000000014\" width=\"6.25\" height=\"6.25\" opacity=\"0.0020120724346076456\" fill=\"currentColor\" stroke-width=\"0.1\"/>\n",
       "<rect x=\"212.5\" y=\"-43.750000000000014\" width=\"6.25\" height=\"6.25\" opacity=\"0.0\" fill=\"currentColor\" stroke-width=\"0.1\"/>\n",
       "<rect x=\"218.75\" y=\"-43.750000000000014\" width=\"6.25\" height=\"6.25\" opacity=\"0.0\" fill=\"currentColor\" stroke-width=\"0.1\"/>\n",
       "<rect x=\"225.0\" y=\"-43.750000000000014\" width=\"6.25\" height=\"6.25\" opacity=\"0.0\" fill=\"currentColor\" stroke-width=\"0.1\"/>\n",
       "<rect x=\"231.25\" y=\"-43.750000000000014\" width=\"6.25\" height=\"6.25\" opacity=\"0.0\" fill=\"currentColor\" stroke-width=\"0.1\"/>\n",
       "<rect x=\"237.5\" y=\"-43.750000000000014\" width=\"6.25\" height=\"6.25\" opacity=\"0.0\" fill=\"currentColor\" stroke-width=\"0.1\"/>\n",
       "<rect x=\"243.75\" y=\"-43.750000000000014\" width=\"6.25\" height=\"6.25\" opacity=\"0.0\" fill=\"currentColor\" stroke-width=\"0.1\"/>\n",
       "<rect x=\"0.0\" y=\"-49.999999999999986\" width=\"6.25\" height=\"6.25\" opacity=\"0.0\" fill=\"currentColor\" stroke-width=\"0.1\"/>\n",
       "<rect x=\"6.250000000000005\" y=\"-49.999999999999986\" width=\"6.25\" height=\"6.25\" opacity=\"0.0\" fill=\"currentColor\" stroke-width=\"0.1\"/>\n",
       "<rect x=\"12.50000000000001\" y=\"-49.999999999999986\" width=\"6.25\" height=\"6.25\" opacity=\"0.0\" fill=\"currentColor\" stroke-width=\"0.1\"/>\n",
       "<rect x=\"18.74999999999999\" y=\"-49.999999999999986\" width=\"6.25\" height=\"6.25\" opacity=\"0.0\" fill=\"currentColor\" stroke-width=\"0.1\"/>\n",
       "<rect x=\"24.999999999999993\" y=\"-49.999999999999986\" width=\"6.25\" height=\"6.25\" opacity=\"0.0\" fill=\"currentColor\" stroke-width=\"0.1\"/>\n",
       "<rect x=\"31.25\" y=\"-49.999999999999986\" width=\"6.25\" height=\"6.25\" opacity=\"0.0\" fill=\"currentColor\" stroke-width=\"0.1\"/>\n",
       "<rect x=\"37.50000000000001\" y=\"-49.999999999999986\" width=\"6.25\" height=\"6.25\" opacity=\"0.0\" fill=\"currentColor\" stroke-width=\"0.1\"/>\n",
       "<rect x=\"43.750000000000014\" y=\"-49.999999999999986\" width=\"6.25\" height=\"6.25\" opacity=\"0.0020120724346076634\" fill=\"currentColor\" stroke-width=\"0.1\"/>\n",
       "<rect x=\"49.999999999999986\" y=\"-49.999999999999986\" width=\"6.25\" height=\"6.25\" opacity=\"0.0020120724346076543\" fill=\"currentColor\" stroke-width=\"0.1\"/>\n",
       "<rect x=\"56.24999999999999\" y=\"-49.999999999999986\" width=\"6.25\" height=\"6.25\" opacity=\"0.008048289738430617\" fill=\"currentColor\" stroke-width=\"0.1\"/>\n",
       "<rect x=\"62.5\" y=\"-49.999999999999986\" width=\"6.25\" height=\"6.25\" opacity=\"0.008048289738430617\" fill=\"currentColor\" stroke-width=\"0.1\"/>\n",
       "<rect x=\"68.75\" y=\"-49.999999999999986\" width=\"6.25\" height=\"6.25\" opacity=\"0.010060362173038285\" fill=\"currentColor\" stroke-width=\"0.1\"/>\n",
       "<rect x=\"75.00000000000001\" y=\"-49.999999999999986\" width=\"6.25\" height=\"6.25\" opacity=\"0.02213279678068425\" fill=\"currentColor\" stroke-width=\"0.1\"/>\n",
       "<rect x=\"81.24999999999999\" y=\"-49.999999999999986\" width=\"6.25\" height=\"6.25\" opacity=\"0.014084507042253596\" fill=\"currentColor\" stroke-width=\"0.1\"/>\n",
       "<rect x=\"87.5\" y=\"-49.999999999999986\" width=\"6.25\" height=\"6.25\" opacity=\"0.016096579476861234\" fill=\"currentColor\" stroke-width=\"0.1\"/>\n",
       "<rect x=\"93.75\" y=\"-49.999999999999986\" width=\"6.25\" height=\"6.25\" opacity=\"0.026156941649899505\" fill=\"currentColor\" stroke-width=\"0.1\"/>\n",
       "<rect x=\"100.0\" y=\"-49.999999999999986\" width=\"6.25\" height=\"6.25\" opacity=\"0.03420523138833016\" fill=\"currentColor\" stroke-width=\"0.1\"/>\n",
       "<rect x=\"106.25000000000001\" y=\"-49.999999999999986\" width=\"6.25\" height=\"6.25\" opacity=\"0.032193158953722545\" fill=\"currentColor\" stroke-width=\"0.1\"/>\n",
       "<rect x=\"112.49999999999999\" y=\"-49.999999999999986\" width=\"6.25\" height=\"6.25\" opacity=\"0.056338028169014384\" fill=\"currentColor\" stroke-width=\"0.1\"/>\n",
       "<rect x=\"118.75\" y=\"-49.999999999999986\" width=\"6.25\" height=\"6.25\" opacity=\"0.03219315895372247\" fill=\"currentColor\" stroke-width=\"0.1\"/>\n",
       "<rect x=\"125.0\" y=\"-49.999999999999986\" width=\"6.25\" height=\"6.25\" opacity=\"0.044265593561368395\" fill=\"currentColor\" stroke-width=\"0.1\"/>\n",
       "<rect x=\"131.25\" y=\"-49.999999999999986\" width=\"6.25\" height=\"6.25\" opacity=\"0.048289738430583706\" fill=\"currentColor\" stroke-width=\"0.1\"/>\n",
       "<rect x=\"137.5\" y=\"-49.999999999999986\" width=\"6.25\" height=\"6.25\" opacity=\"0.044265593561368596\" fill=\"currentColor\" stroke-width=\"0.1\"/>\n",
       "<rect x=\"143.75\" y=\"-49.999999999999986\" width=\"6.25\" height=\"6.25\" opacity=\"0.03621730382293777\" fill=\"currentColor\" stroke-width=\"0.1\"/>\n",
       "<rect x=\"150.0\" y=\"-49.999999999999986\" width=\"6.25\" height=\"6.25\" opacity=\"0.03420523138833013\" fill=\"currentColor\" stroke-width=\"0.1\"/>\n",
       "<rect x=\"156.25\" y=\"-49.999999999999986\" width=\"6.25\" height=\"6.25\" opacity=\"0.020120724346076542\" fill=\"currentColor\" stroke-width=\"0.1\"/>\n",
       "<rect x=\"162.5\" y=\"-49.999999999999986\" width=\"6.25\" height=\"6.25\" opacity=\"0.012072434607645927\" fill=\"currentColor\" stroke-width=\"0.1\"/>\n",
       "<rect x=\"168.75\" y=\"-49.999999999999986\" width=\"6.25\" height=\"6.25\" opacity=\"0.008048289738430654\" fill=\"currentColor\" stroke-width=\"0.1\"/>\n",
       "<rect x=\"175.0\" y=\"-49.999999999999986\" width=\"6.25\" height=\"6.25\" opacity=\"0.016096579476861234\" fill=\"currentColor\" stroke-width=\"0.1\"/>\n",
       "<rect x=\"181.25\" y=\"-49.999999999999986\" width=\"6.25\" height=\"6.25\" opacity=\"0.012072434607645927\" fill=\"currentColor\" stroke-width=\"0.1\"/>\n",
       "<rect x=\"187.5\" y=\"-49.999999999999986\" width=\"6.25\" height=\"6.25\" opacity=\"0.0020120724346076543\" fill=\"currentColor\" stroke-width=\"0.1\"/>\n",
       "<rect x=\"193.75\" y=\"-49.999999999999986\" width=\"6.25\" height=\"6.25\" opacity=\"0.0020120724346076543\" fill=\"currentColor\" stroke-width=\"0.1\"/>\n",
       "<rect x=\"200.0\" y=\"-49.999999999999986\" width=\"6.25\" height=\"6.25\" opacity=\"0.0020120724346076634\" fill=\"currentColor\" stroke-width=\"0.1\"/>\n",
       "<rect x=\"206.25\" y=\"-49.999999999999986\" width=\"6.25\" height=\"6.25\" opacity=\"0.0\" fill=\"currentColor\" stroke-width=\"0.1\"/>\n",
       "<rect x=\"212.5\" y=\"-49.999999999999986\" width=\"6.25\" height=\"6.25\" opacity=\"0.0\" fill=\"currentColor\" stroke-width=\"0.1\"/>\n",
       "<rect x=\"218.75\" y=\"-49.999999999999986\" width=\"6.25\" height=\"6.25\" opacity=\"0.0\" fill=\"currentColor\" stroke-width=\"0.1\"/>\n",
       "<rect x=\"225.0\" y=\"-49.999999999999986\" width=\"6.25\" height=\"6.25\" opacity=\"0.0\" fill=\"currentColor\" stroke-width=\"0.1\"/>\n",
       "<rect x=\"231.25\" y=\"-49.999999999999986\" width=\"6.25\" height=\"6.25\" opacity=\"0.0\" fill=\"currentColor\" stroke-width=\"0.1\"/>\n",
       "<rect x=\"237.5\" y=\"-49.999999999999986\" width=\"6.25\" height=\"6.25\" opacity=\"0.0\" fill=\"currentColor\" stroke-width=\"0.1\"/>\n",
       "<rect x=\"243.75\" y=\"-49.999999999999986\" width=\"6.25\" height=\"6.25\" opacity=\"0.0\" fill=\"currentColor\" stroke-width=\"0.1\"/>\n",
       "<rect x=\"0.0\" y=\"-56.24999999999999\" width=\"6.25\" height=\"6.25\" opacity=\"0.0\" fill=\"currentColor\" stroke-width=\"0.1\"/>\n",
       "<rect x=\"6.250000000000005\" y=\"-56.24999999999999\" width=\"6.25\" height=\"6.25\" opacity=\"0.0\" fill=\"currentColor\" stroke-width=\"0.1\"/>\n",
       "<rect x=\"12.50000000000001\" y=\"-56.24999999999999\" width=\"6.25\" height=\"6.25\" opacity=\"0.0\" fill=\"currentColor\" stroke-width=\"0.1\"/>\n",
       "<rect x=\"18.74999999999999\" y=\"-56.24999999999999\" width=\"6.25\" height=\"6.25\" opacity=\"0.0\" fill=\"currentColor\" stroke-width=\"0.1\"/>\n",
       "<rect x=\"24.999999999999993\" y=\"-56.24999999999999\" width=\"6.25\" height=\"6.25\" opacity=\"0.0\" fill=\"currentColor\" stroke-width=\"0.1\"/>\n",
       "<rect x=\"31.25\" y=\"-56.24999999999999\" width=\"6.25\" height=\"6.25\" opacity=\"0.0\" fill=\"currentColor\" stroke-width=\"0.1\"/>\n",
       "<rect x=\"37.50000000000001\" y=\"-56.24999999999999\" width=\"6.25\" height=\"6.25\" opacity=\"0.0\" fill=\"currentColor\" stroke-width=\"0.1\"/>\n",
       "<rect x=\"43.750000000000014\" y=\"-56.24999999999999\" width=\"6.25\" height=\"6.25\" opacity=\"0.0\" fill=\"currentColor\" stroke-width=\"0.1\"/>\n",
       "<rect x=\"49.999999999999986\" y=\"-56.24999999999999\" width=\"6.25\" height=\"6.25\" opacity=\"0.01006036217303823\" fill=\"currentColor\" stroke-width=\"0.1\"/>\n",
       "<rect x=\"56.24999999999999\" y=\"-56.24999999999999\" width=\"6.25\" height=\"6.25\" opacity=\"0.0020120724346076456\" fill=\"currentColor\" stroke-width=\"0.1\"/>\n",
       "<rect x=\"62.5\" y=\"-56.24999999999999\" width=\"6.25\" height=\"6.25\" opacity=\"0.012072434607645875\" fill=\"currentColor\" stroke-width=\"0.1\"/>\n",
       "<rect x=\"68.75\" y=\"-56.24999999999999\" width=\"6.25\" height=\"6.25\" opacity=\"0.018108651911468827\" fill=\"currentColor\" stroke-width=\"0.1\"/>\n",
       "<rect x=\"75.00000000000001\" y=\"-56.24999999999999\" width=\"6.25\" height=\"6.25\" opacity=\"0.018108651911468848\" fill=\"currentColor\" stroke-width=\"0.1\"/>\n",
       "<rect x=\"81.24999999999999\" y=\"-56.24999999999999\" width=\"6.25\" height=\"6.25\" opacity=\"0.04426559356136824\" fill=\"currentColor\" stroke-width=\"0.1\"/>\n",
       "<rect x=\"87.5\" y=\"-56.24999999999999\" width=\"6.25\" height=\"6.25\" opacity=\"0.03219315895372233\" fill=\"currentColor\" stroke-width=\"0.1\"/>\n",
       "<rect x=\"93.75\" y=\"-56.24999999999999\" width=\"6.25\" height=\"6.25\" opacity=\"0.04024144869215292\" fill=\"currentColor\" stroke-width=\"0.1\"/>\n",
       "<rect x=\"100.0\" y=\"-56.24999999999999\" width=\"6.25\" height=\"6.25\" opacity=\"0.05835010060362178\" fill=\"currentColor\" stroke-width=\"0.1\"/>\n",
       "<rect x=\"106.25000000000001\" y=\"-56.24999999999999\" width=\"6.25\" height=\"6.25\" opacity=\"0.06639839034205244\" fill=\"currentColor\" stroke-width=\"0.1\"/>\n",
       "<rect x=\"112.49999999999999\" y=\"-56.24999999999999\" width=\"6.25\" height=\"6.25\" opacity=\"0.0422535211267606\" fill=\"currentColor\" stroke-width=\"0.1\"/>\n",
       "<rect x=\"118.75\" y=\"-56.24999999999999\" width=\"6.25\" height=\"6.25\" opacity=\"0.07042253521126761\" fill=\"currentColor\" stroke-width=\"0.1\"/>\n",
       "<rect x=\"125.0\" y=\"-56.24999999999999\" width=\"6.25\" height=\"6.25\" opacity=\"0.06841046277665995\" fill=\"currentColor\" stroke-width=\"0.1\"/>\n",
       "<rect x=\"131.25\" y=\"-56.24999999999999\" width=\"6.25\" height=\"6.25\" opacity=\"0.03822937625754527\" fill=\"currentColor\" stroke-width=\"0.1\"/>\n",
       "<rect x=\"137.5\" y=\"-56.24999999999999\" width=\"6.25\" height=\"6.25\" opacity=\"0.06438631790744494\" fill=\"currentColor\" stroke-width=\"0.1\"/>\n",
       "<rect x=\"143.75\" y=\"-56.24999999999999\" width=\"6.25\" height=\"6.25\" opacity=\"0.06036217303822937\" fill=\"currentColor\" stroke-width=\"0.1\"/>\n",
       "<rect x=\"150.0\" y=\"-56.24999999999999\" width=\"6.25\" height=\"6.25\" opacity=\"0.05633802816901408\" fill=\"currentColor\" stroke-width=\"0.1\"/>\n",
       "<rect x=\"156.25\" y=\"-56.24999999999999\" width=\"6.25\" height=\"6.25\" opacity=\"0.034205231388329975\" fill=\"currentColor\" stroke-width=\"0.1\"/>\n",
       "<rect x=\"162.5\" y=\"-56.24999999999999\" width=\"6.25\" height=\"6.25\" opacity=\"0.02816901408450704\" fill=\"currentColor\" stroke-width=\"0.1\"/>\n",
       "<rect x=\"168.75\" y=\"-56.24999999999999\" width=\"6.25\" height=\"6.25\" opacity=\"0.016096579476861234\" fill=\"currentColor\" stroke-width=\"0.1\"/>\n",
       "<rect x=\"175.0\" y=\"-56.24999999999999\" width=\"6.25\" height=\"6.25\" opacity=\"0.0221327967806841\" fill=\"currentColor\" stroke-width=\"0.1\"/>\n",
       "<rect x=\"181.25\" y=\"-56.24999999999999\" width=\"6.25\" height=\"6.25\" opacity=\"0.008048289738430582\" fill=\"currentColor\" stroke-width=\"0.1\"/>\n",
       "<rect x=\"187.5\" y=\"-56.24999999999999\" width=\"6.25\" height=\"6.25\" opacity=\"0.004024144869215291\" fill=\"currentColor\" stroke-width=\"0.1\"/>\n",
       "<rect x=\"193.75\" y=\"-56.24999999999999\" width=\"6.25\" height=\"6.25\" opacity=\"0.004024144869215291\" fill=\"currentColor\" stroke-width=\"0.1\"/>\n",
       "<rect x=\"200.0\" y=\"-56.24999999999999\" width=\"6.25\" height=\"6.25\" opacity=\"0.004024144869215309\" fill=\"currentColor\" stroke-width=\"0.1\"/>\n",
       "<rect x=\"206.25\" y=\"-56.24999999999999\" width=\"6.25\" height=\"6.25\" opacity=\"0.0020120724346076456\" fill=\"currentColor\" stroke-width=\"0.1\"/>\n",
       "<rect x=\"212.5\" y=\"-56.24999999999999\" width=\"6.25\" height=\"6.25\" opacity=\"0.0\" fill=\"currentColor\" stroke-width=\"0.1\"/>\n",
       "<rect x=\"218.75\" y=\"-56.24999999999999\" width=\"6.25\" height=\"6.25\" opacity=\"0.0\" fill=\"currentColor\" stroke-width=\"0.1\"/>\n",
       "<rect x=\"225.0\" y=\"-56.24999999999999\" width=\"6.25\" height=\"6.25\" opacity=\"0.0\" fill=\"currentColor\" stroke-width=\"0.1\"/>\n",
       "<rect x=\"231.25\" y=\"-56.24999999999999\" width=\"6.25\" height=\"6.25\" opacity=\"0.0\" fill=\"currentColor\" stroke-width=\"0.1\"/>\n",
       "<rect x=\"237.5\" y=\"-56.24999999999999\" width=\"6.25\" height=\"6.25\" opacity=\"0.0\" fill=\"currentColor\" stroke-width=\"0.1\"/>\n",
       "<rect x=\"243.75\" y=\"-56.24999999999999\" width=\"6.25\" height=\"6.25\" opacity=\"0.0\" fill=\"currentColor\" stroke-width=\"0.1\"/>\n",
       "<rect x=\"0.0\" y=\"-62.5\" width=\"6.25\" height=\"6.25\" opacity=\"0.0\" fill=\"currentColor\" stroke-width=\"0.1\"/>\n",
       "<rect x=\"6.250000000000005\" y=\"-62.5\" width=\"6.25\" height=\"6.25\" opacity=\"0.0\" fill=\"currentColor\" stroke-width=\"0.1\"/>\n",
       "<rect x=\"12.50000000000001\" y=\"-62.5\" width=\"6.25\" height=\"6.25\" opacity=\"0.0\" fill=\"currentColor\" stroke-width=\"0.1\"/>\n",
       "<rect x=\"18.74999999999999\" y=\"-62.5\" width=\"6.25\" height=\"6.25\" opacity=\"0.0020120724346076456\" fill=\"currentColor\" stroke-width=\"0.1\"/>\n",
       "<rect x=\"24.999999999999993\" y=\"-62.5\" width=\"6.25\" height=\"6.25\" opacity=\"0.0020120724346076456\" fill=\"currentColor\" stroke-width=\"0.1\"/>\n",
       "<rect x=\"31.25\" y=\"-62.5\" width=\"6.25\" height=\"6.25\" opacity=\"0.0\" fill=\"currentColor\" stroke-width=\"0.1\"/>\n",
       "<rect x=\"37.50000000000001\" y=\"-62.5\" width=\"6.25\" height=\"6.25\" opacity=\"0.006036217303822937\" fill=\"currentColor\" stroke-width=\"0.1\"/>\n",
       "<rect x=\"43.750000000000014\" y=\"-62.5\" width=\"6.25\" height=\"6.25\" opacity=\"0.004024144869215309\" fill=\"currentColor\" stroke-width=\"0.1\"/>\n",
       "<rect x=\"49.999999999999986\" y=\"-62.5\" width=\"6.25\" height=\"6.25\" opacity=\"0.008048289738430582\" fill=\"currentColor\" stroke-width=\"0.1\"/>\n",
       "<rect x=\"56.24999999999999\" y=\"-62.5\" width=\"6.25\" height=\"6.25\" opacity=\"0.012072434607645875\" fill=\"currentColor\" stroke-width=\"0.1\"/>\n",
       "<rect x=\"62.5\" y=\"-62.5\" width=\"6.25\" height=\"6.25\" opacity=\"0.0221327967806841\" fill=\"currentColor\" stroke-width=\"0.1\"/>\n",
       "<rect x=\"68.75\" y=\"-62.5\" width=\"6.25\" height=\"6.25\" opacity=\"0.020120724346076476\" fill=\"currentColor\" stroke-width=\"0.1\"/>\n",
       "<rect x=\"75.00000000000001\" y=\"-62.5\" width=\"6.25\" height=\"6.25\" opacity=\"0.036217303822937696\" fill=\"currentColor\" stroke-width=\"0.1\"/>\n",
       "<rect x=\"81.24999999999999\" y=\"-62.5\" width=\"6.25\" height=\"6.25\" opacity=\"0.04024144869215295\" fill=\"currentColor\" stroke-width=\"0.1\"/>\n",
       "<rect x=\"87.5\" y=\"-62.5\" width=\"6.25\" height=\"6.25\" opacity=\"0.06841046277665995\" fill=\"currentColor\" stroke-width=\"0.1\"/>\n",
       "<rect x=\"93.75\" y=\"-62.5\" width=\"6.25\" height=\"6.25\" opacity=\"0.07847082494969819\" fill=\"currentColor\" stroke-width=\"0.1\"/>\n",
       "<rect x=\"100.0\" y=\"-62.5\" width=\"6.25\" height=\"6.25\" opacity=\"0.0845070422535212\" fill=\"currentColor\" stroke-width=\"0.1\"/>\n",
       "<rect x=\"106.25000000000001\" y=\"-62.5\" width=\"6.25\" height=\"6.25\" opacity=\"0.10261569416499015\" fill=\"currentColor\" stroke-width=\"0.1\"/>\n",
       "<rect x=\"112.49999999999999\" y=\"-62.5\" width=\"6.25\" height=\"6.25\" opacity=\"0.09456740442655943\" fill=\"currentColor\" stroke-width=\"0.1\"/>\n",
       "<rect x=\"118.75\" y=\"-62.5\" width=\"6.25\" height=\"6.25\" opacity=\"0.1368209255533199\" fill=\"currentColor\" stroke-width=\"0.1\"/>\n",
       "<rect x=\"125.0\" y=\"-62.5\" width=\"6.25\" height=\"6.25\" opacity=\"0.12072434607645874\" fill=\"currentColor\" stroke-width=\"0.1\"/>\n",
       "<rect x=\"131.25\" y=\"-62.5\" width=\"6.25\" height=\"6.25\" opacity=\"0.08249496981891348\" fill=\"currentColor\" stroke-width=\"0.1\"/>\n",
       "<rect x=\"137.5\" y=\"-62.5\" width=\"6.25\" height=\"6.25\" opacity=\"0.09456740442655974\" fill=\"currentColor\" stroke-width=\"0.1\"/>\n",
       "<rect x=\"143.75\" y=\"-62.5\" width=\"6.25\" height=\"6.25\" opacity=\"0.0744466800804829\" fill=\"currentColor\" stroke-width=\"0.1\"/>\n",
       "<rect x=\"150.0\" y=\"-62.5\" width=\"6.25\" height=\"6.25\" opacity=\"0.08651911468812876\" fill=\"currentColor\" stroke-width=\"0.1\"/>\n",
       "<rect x=\"156.25\" y=\"-62.5\" width=\"6.25\" height=\"6.25\" opacity=\"0.054325955734406434\" fill=\"currentColor\" stroke-width=\"0.1\"/>\n",
       "<rect x=\"162.5\" y=\"-62.5\" width=\"6.25\" height=\"6.25\" opacity=\"0.0442655935613682\" fill=\"currentColor\" stroke-width=\"0.1\"/>\n",
       "<rect x=\"168.75\" y=\"-62.5\" width=\"6.25\" height=\"6.25\" opacity=\"0.030181086519114813\" fill=\"currentColor\" stroke-width=\"0.1\"/>\n",
       "<rect x=\"175.0\" y=\"-62.5\" width=\"6.25\" height=\"6.25\" opacity=\"0.03219315895372233\" fill=\"currentColor\" stroke-width=\"0.1\"/>\n",
       "<rect x=\"181.25\" y=\"-62.5\" width=\"6.25\" height=\"6.25\" opacity=\"0.0221327967806841\" fill=\"currentColor\" stroke-width=\"0.1\"/>\n",
       "<rect x=\"187.5\" y=\"-62.5\" width=\"6.25\" height=\"6.25\" opacity=\"0.008048289738430582\" fill=\"currentColor\" stroke-width=\"0.1\"/>\n",
       "<rect x=\"193.75\" y=\"-62.5\" width=\"6.25\" height=\"6.25\" opacity=\"0.0020120724346076456\" fill=\"currentColor\" stroke-width=\"0.1\"/>\n",
       "<rect x=\"200.0\" y=\"-62.5\" width=\"6.25\" height=\"6.25\" opacity=\"0.0\" fill=\"currentColor\" stroke-width=\"0.1\"/>\n",
       "<rect x=\"206.25\" y=\"-62.5\" width=\"6.25\" height=\"6.25\" opacity=\"0.006036217303822937\" fill=\"currentColor\" stroke-width=\"0.1\"/>\n",
       "<rect x=\"212.5\" y=\"-62.5\" width=\"6.25\" height=\"6.25\" opacity=\"0.0\" fill=\"currentColor\" stroke-width=\"0.1\"/>\n",
       "<rect x=\"218.75\" y=\"-62.5\" width=\"6.25\" height=\"6.25\" opacity=\"0.0020120724346076456\" fill=\"currentColor\" stroke-width=\"0.1\"/>\n",
       "<rect x=\"225.0\" y=\"-62.5\" width=\"6.25\" height=\"6.25\" opacity=\"0.0\" fill=\"currentColor\" stroke-width=\"0.1\"/>\n",
       "<rect x=\"231.25\" y=\"-62.5\" width=\"6.25\" height=\"6.25\" opacity=\"0.0\" fill=\"currentColor\" stroke-width=\"0.1\"/>\n",
       "<rect x=\"237.5\" y=\"-62.5\" width=\"6.25\" height=\"6.25\" opacity=\"0.0\" fill=\"currentColor\" stroke-width=\"0.1\"/>\n",
       "<rect x=\"243.75\" y=\"-62.5\" width=\"6.25\" height=\"6.25\" opacity=\"0.0\" fill=\"currentColor\" stroke-width=\"0.1\"/>\n",
       "<rect x=\"0.0\" y=\"-68.75\" width=\"6.25\" height=\"6.25\" opacity=\"0.0\" fill=\"currentColor\" stroke-width=\"0.1\"/>\n",
       "<rect x=\"6.250000000000005\" y=\"-68.75\" width=\"6.25\" height=\"6.25\" opacity=\"0.0\" fill=\"currentColor\" stroke-width=\"0.1\"/>\n",
       "<rect x=\"12.50000000000001\" y=\"-68.75\" width=\"6.25\" height=\"6.25\" opacity=\"0.0\" fill=\"currentColor\" stroke-width=\"0.1\"/>\n",
       "<rect x=\"18.74999999999999\" y=\"-68.75\" width=\"6.25\" height=\"6.25\" opacity=\"0.0\" fill=\"currentColor\" stroke-width=\"0.1\"/>\n",
       "<rect x=\"24.999999999999993\" y=\"-68.75\" width=\"6.25\" height=\"6.25\" opacity=\"0.0\" fill=\"currentColor\" stroke-width=\"0.1\"/>\n",
       "<rect x=\"31.25\" y=\"-68.75\" width=\"6.25\" height=\"6.25\" opacity=\"0.0020120724346076456\" fill=\"currentColor\" stroke-width=\"0.1\"/>\n",
       "<rect x=\"37.50000000000001\" y=\"-68.75\" width=\"6.25\" height=\"6.25\" opacity=\"0.006036217303822937\" fill=\"currentColor\" stroke-width=\"0.1\"/>\n",
       "<rect x=\"43.750000000000014\" y=\"-68.75\" width=\"6.25\" height=\"6.25\" opacity=\"0.004024144869215309\" fill=\"currentColor\" stroke-width=\"0.1\"/>\n",
       "<rect x=\"49.999999999999986\" y=\"-68.75\" width=\"6.25\" height=\"6.25\" opacity=\"0.01408450704225352\" fill=\"currentColor\" stroke-width=\"0.1\"/>\n",
       "<rect x=\"56.24999999999999\" y=\"-68.75\" width=\"6.25\" height=\"6.25\" opacity=\"0.012072434607645875\" fill=\"currentColor\" stroke-width=\"0.1\"/>\n",
       "<rect x=\"62.5\" y=\"-68.75\" width=\"6.25\" height=\"6.25\" opacity=\"0.016096579476861165\" fill=\"currentColor\" stroke-width=\"0.1\"/>\n",
       "<rect x=\"68.75\" y=\"-68.75\" width=\"6.25\" height=\"6.25\" opacity=\"0.0422535211267606\" fill=\"currentColor\" stroke-width=\"0.1\"/>\n",
       "<rect x=\"75.00000000000001\" y=\"-68.75\" width=\"6.25\" height=\"6.25\" opacity=\"0.04627766599597595\" fill=\"currentColor\" stroke-width=\"0.1\"/>\n",
       "<rect x=\"81.24999999999999\" y=\"-68.75\" width=\"6.25\" height=\"6.25\" opacity=\"0.08853118712273648\" fill=\"currentColor\" stroke-width=\"0.1\"/>\n",
       "<rect x=\"87.5\" y=\"-68.75\" width=\"6.25\" height=\"6.25\" opacity=\"0.10663983903420522\" fill=\"currentColor\" stroke-width=\"0.1\"/>\n",
       "<rect x=\"93.75\" y=\"-68.75\" width=\"6.25\" height=\"6.25\" opacity=\"0.12072434607645874\" fill=\"currentColor\" stroke-width=\"0.1\"/>\n",
       "<rect x=\"100.0\" y=\"-68.75\" width=\"6.25\" height=\"6.25\" opacity=\"0.14688128772635828\" fill=\"currentColor\" stroke-width=\"0.1\"/>\n",
       "<rect x=\"106.25000000000001\" y=\"-68.75\" width=\"6.25\" height=\"6.25\" opacity=\"0.19114688128772672\" fill=\"currentColor\" stroke-width=\"0.1\"/>\n",
       "<rect x=\"112.49999999999999\" y=\"-68.75\" width=\"6.25\" height=\"6.25\" opacity=\"0.1649899396378271\" fill=\"currentColor\" stroke-width=\"0.1\"/>\n",
       "<rect x=\"118.75\" y=\"-68.75\" width=\"6.25\" height=\"6.25\" opacity=\"0.1368209255533199\" fill=\"currentColor\" stroke-width=\"0.1\"/>\n",
       "<rect x=\"125.0\" y=\"-68.75\" width=\"6.25\" height=\"6.25\" opacity=\"0.1730382293762575\" fill=\"currentColor\" stroke-width=\"0.1\"/>\n",
       "<rect x=\"131.25\" y=\"-68.75\" width=\"6.25\" height=\"6.25\" opacity=\"0.1770623742454728\" fill=\"currentColor\" stroke-width=\"0.1\"/>\n",
       "<rect x=\"137.5\" y=\"-68.75\" width=\"6.25\" height=\"6.25\" opacity=\"0.1448692152917511\" fill=\"currentColor\" stroke-width=\"0.1\"/>\n",
       "<rect x=\"143.75\" y=\"-68.75\" width=\"6.25\" height=\"6.25\" opacity=\"0.1327967806841046\" fill=\"currentColor\" stroke-width=\"0.1\"/>\n",
       "<rect x=\"150.0\" y=\"-68.75\" width=\"6.25\" height=\"6.25\" opacity=\"0.10462776659959758\" fill=\"currentColor\" stroke-width=\"0.1\"/>\n",
       "<rect x=\"156.25\" y=\"-68.75\" width=\"6.25\" height=\"6.25\" opacity=\"0.08048289738430583\" fill=\"currentColor\" stroke-width=\"0.1\"/>\n",
       "<rect x=\"162.5\" y=\"-68.75\" width=\"6.25\" height=\"6.25\" opacity=\"0.05633802816901408\" fill=\"currentColor\" stroke-width=\"0.1\"/>\n",
       "<rect x=\"168.75\" y=\"-68.75\" width=\"6.25\" height=\"6.25\" opacity=\"0.05432595573440666\" fill=\"currentColor\" stroke-width=\"0.1\"/>\n",
       "<rect x=\"175.0\" y=\"-68.75\" width=\"6.25\" height=\"6.25\" opacity=\"0.030181086519114685\" fill=\"currentColor\" stroke-width=\"0.1\"/>\n",
       "<rect x=\"181.25\" y=\"-68.75\" width=\"6.25\" height=\"6.25\" opacity=\"0.034205231388329975\" fill=\"currentColor\" stroke-width=\"0.1\"/>\n",
       "<rect x=\"187.5\" y=\"-68.75\" width=\"6.25\" height=\"6.25\" opacity=\"0.016096579476861165\" fill=\"currentColor\" stroke-width=\"0.1\"/>\n",
       "<rect x=\"193.75\" y=\"-68.75\" width=\"6.25\" height=\"6.25\" opacity=\"0.012072434607645875\" fill=\"currentColor\" stroke-width=\"0.1\"/>\n",
       "<rect x=\"200.0\" y=\"-68.75\" width=\"6.25\" height=\"6.25\" opacity=\"0.008048289738430617\" fill=\"currentColor\" stroke-width=\"0.1\"/>\n",
       "<rect x=\"206.25\" y=\"-68.75\" width=\"6.25\" height=\"6.25\" opacity=\"0.004024144869215291\" fill=\"currentColor\" stroke-width=\"0.1\"/>\n",
       "<rect x=\"212.5\" y=\"-68.75\" width=\"6.25\" height=\"6.25\" opacity=\"0.0020120724346076456\" fill=\"currentColor\" stroke-width=\"0.1\"/>\n",
       "<rect x=\"218.75\" y=\"-68.75\" width=\"6.25\" height=\"6.25\" opacity=\"0.0\" fill=\"currentColor\" stroke-width=\"0.1\"/>\n",
       "<rect x=\"225.0\" y=\"-68.75\" width=\"6.25\" height=\"6.25\" opacity=\"0.0\" fill=\"currentColor\" stroke-width=\"0.1\"/>\n",
       "<rect x=\"231.25\" y=\"-68.75\" width=\"6.25\" height=\"6.25\" opacity=\"0.0\" fill=\"currentColor\" stroke-width=\"0.1\"/>\n",
       "<rect x=\"237.5\" y=\"-68.75\" width=\"6.25\" height=\"6.25\" opacity=\"0.0\" fill=\"currentColor\" stroke-width=\"0.1\"/>\n",
       "<rect x=\"243.75\" y=\"-68.75\" width=\"6.25\" height=\"6.25\" opacity=\"0.0\" fill=\"currentColor\" stroke-width=\"0.1\"/>\n",
       "<rect x=\"0.0\" y=\"-75.00000000000001\" width=\"6.25\" height=\"6.25\" opacity=\"0.0020120724346076473\" fill=\"currentColor\" stroke-width=\"0.1\"/>\n",
       "<rect x=\"6.250000000000005\" y=\"-75.00000000000001\" width=\"6.25\" height=\"6.25\" opacity=\"0.0\" fill=\"currentColor\" stroke-width=\"0.1\"/>\n",
       "<rect x=\"12.50000000000001\" y=\"-75.00000000000001\" width=\"6.25\" height=\"6.25\" opacity=\"0.0\" fill=\"currentColor\" stroke-width=\"0.1\"/>\n",
       "<rect x=\"18.74999999999999\" y=\"-75.00000000000001\" width=\"6.25\" height=\"6.25\" opacity=\"0.0020120724346076473\" fill=\"currentColor\" stroke-width=\"0.1\"/>\n",
       "<rect x=\"24.999999999999993\" y=\"-75.00000000000001\" width=\"6.25\" height=\"6.25\" opacity=\"0.004024144869215295\" fill=\"currentColor\" stroke-width=\"0.1\"/>\n",
       "<rect x=\"31.25\" y=\"-75.00000000000001\" width=\"6.25\" height=\"6.25\" opacity=\"0.0020120724346076473\" fill=\"currentColor\" stroke-width=\"0.1\"/>\n",
       "<rect x=\"37.50000000000001\" y=\"-75.00000000000001\" width=\"6.25\" height=\"6.25\" opacity=\"0.004024144869215295\" fill=\"currentColor\" stroke-width=\"0.1\"/>\n",
       "<rect x=\"43.750000000000014\" y=\"-75.00000000000001\" width=\"6.25\" height=\"6.25\" opacity=\"0.014084507042253596\" fill=\"currentColor\" stroke-width=\"0.1\"/>\n",
       "<rect x=\"49.999999999999986\" y=\"-75.00000000000001\" width=\"6.25\" height=\"6.25\" opacity=\"0.010060362173038238\" fill=\"currentColor\" stroke-width=\"0.1\"/>\n",
       "<rect x=\"56.24999999999999\" y=\"-75.00000000000001\" width=\"6.25\" height=\"6.25\" opacity=\"0.028169014084507067\" fill=\"currentColor\" stroke-width=\"0.1\"/>\n",
       "<rect x=\"62.5\" y=\"-75.00000000000001\" width=\"6.25\" height=\"6.25\" opacity=\"0.04024144869215295\" fill=\"currentColor\" stroke-width=\"0.1\"/>\n",
       "<rect x=\"68.75\" y=\"-75.00000000000001\" width=\"6.25\" height=\"6.25\" opacity=\"0.0563380281690142\" fill=\"currentColor\" stroke-width=\"0.1\"/>\n",
       "<rect x=\"75.00000000000001\" y=\"-75.00000000000001\" width=\"6.25\" height=\"6.25\" opacity=\"0.06438631790744487\" fill=\"currentColor\" stroke-width=\"0.1\"/>\n",
       "<rect x=\"81.24999999999999\" y=\"-75.00000000000001\" width=\"6.25\" height=\"6.25\" opacity=\"0.11468812877263605\" fill=\"currentColor\" stroke-width=\"0.1\"/>\n",
       "<rect x=\"87.5\" y=\"-75.00000000000001\" width=\"6.25\" height=\"6.25\" opacity=\"0.11670020120724356\" fill=\"currentColor\" stroke-width=\"0.1\"/>\n",
       "<rect x=\"93.75\" y=\"-75.00000000000001\" width=\"6.25\" height=\"6.25\" opacity=\"0.1488933601609659\" fill=\"currentColor\" stroke-width=\"0.1\"/>\n",
       "<rect x=\"100.0\" y=\"-75.00000000000001\" width=\"6.25\" height=\"6.25\" opacity=\"0.18712273641851143\" fill=\"currentColor\" stroke-width=\"0.1\"/>\n",
       "<rect x=\"106.25000000000001\" y=\"-75.00000000000001\" width=\"6.25\" height=\"6.25\" opacity=\"0.18712273641851165\" fill=\"currentColor\" stroke-width=\"0.1\"/>\n",
       "<rect x=\"112.49999999999999\" y=\"-75.00000000000001\" width=\"6.25\" height=\"6.25\" opacity=\"0.21327967806841092\" fill=\"currentColor\" stroke-width=\"0.1\"/>\n",
       "<rect x=\"118.75\" y=\"-75.00000000000001\" width=\"6.25\" height=\"6.25\" opacity=\"0.19114688128772653\" fill=\"currentColor\" stroke-width=\"0.1\"/>\n",
       "<rect x=\"125.0\" y=\"-75.00000000000001\" width=\"6.25\" height=\"6.25\" opacity=\"0.2595573440643865\" fill=\"currentColor\" stroke-width=\"0.1\"/>\n",
       "<rect x=\"131.25\" y=\"-75.00000000000001\" width=\"6.25\" height=\"6.25\" opacity=\"0.2535211267605636\" fill=\"currentColor\" stroke-width=\"0.1\"/>\n",
       "<rect x=\"137.5\" y=\"-75.00000000000001\" width=\"6.25\" height=\"6.25\" opacity=\"0.20724346076458866\" fill=\"currentColor\" stroke-width=\"0.1\"/>\n",
       "<rect x=\"143.75\" y=\"-75.00000000000001\" width=\"6.25\" height=\"6.25\" opacity=\"0.19718309859154945\" fill=\"currentColor\" stroke-width=\"0.1\"/>\n",
       "<rect x=\"150.0\" y=\"-75.00000000000001\" width=\"6.25\" height=\"6.25\" opacity=\"0.15090543259557357\" fill=\"currentColor\" stroke-width=\"0.1\"/>\n",
       "<rect x=\"156.25\" y=\"-75.00000000000001\" width=\"6.25\" height=\"6.25\" opacity=\"0.17303822937625768\" fill=\"currentColor\" stroke-width=\"0.1\"/>\n",
       "<rect x=\"162.5\" y=\"-75.00000000000001\" width=\"6.25\" height=\"6.25\" opacity=\"0.11468812877263591\" fill=\"currentColor\" stroke-width=\"0.1\"/>\n",
       "<rect x=\"168.75\" y=\"-75.00000000000001\" width=\"6.25\" height=\"6.25\" opacity=\"0.06639839034205267\" fill=\"currentColor\" stroke-width=\"0.1\"/>\n",
       "<rect x=\"175.0\" y=\"-75.00000000000001\" width=\"6.25\" height=\"6.25\" opacity=\"0.07042253521126766\" fill=\"currentColor\" stroke-width=\"0.1\"/>\n",
       "<rect x=\"181.25\" y=\"-75.00000000000001\" width=\"6.25\" height=\"6.25\" opacity=\"0.04426559356136824\" fill=\"currentColor\" stroke-width=\"0.1\"/>\n",
       "<rect x=\"187.5\" y=\"-75.00000000000001\" width=\"6.25\" height=\"6.25\" opacity=\"0.0382293762575453\" fill=\"currentColor\" stroke-width=\"0.1\"/>\n",
       "<rect x=\"193.75\" y=\"-75.00000000000001\" width=\"6.25\" height=\"6.25\" opacity=\"0.01609657947686118\" fill=\"currentColor\" stroke-width=\"0.1\"/>\n",
       "<rect x=\"200.0\" y=\"-75.00000000000001\" width=\"6.25\" height=\"6.25\" opacity=\"0.010060362173038285\" fill=\"currentColor\" stroke-width=\"0.1\"/>\n",
       "<rect x=\"206.25\" y=\"-75.00000000000001\" width=\"6.25\" height=\"6.25\" opacity=\"0.0060362173038229425\" fill=\"currentColor\" stroke-width=\"0.1\"/>\n",
       "<rect x=\"212.5\" y=\"-75.00000000000001\" width=\"6.25\" height=\"6.25\" opacity=\"0.0020120724346076473\" fill=\"currentColor\" stroke-width=\"0.1\"/>\n",
       "<rect x=\"218.75\" y=\"-75.00000000000001\" width=\"6.25\" height=\"6.25\" opacity=\"0.0\" fill=\"currentColor\" stroke-width=\"0.1\"/>\n",
       "<rect x=\"225.0\" y=\"-75.00000000000001\" width=\"6.25\" height=\"6.25\" opacity=\"0.0\" fill=\"currentColor\" stroke-width=\"0.1\"/>\n",
       "<rect x=\"231.25\" y=\"-75.00000000000001\" width=\"6.25\" height=\"6.25\" opacity=\"0.0\" fill=\"currentColor\" stroke-width=\"0.1\"/>\n",
       "<rect x=\"237.5\" y=\"-75.00000000000001\" width=\"6.25\" height=\"6.25\" opacity=\"0.0020120724346076473\" fill=\"currentColor\" stroke-width=\"0.1\"/>\n",
       "<rect x=\"243.75\" y=\"-75.00000000000001\" width=\"6.25\" height=\"6.25\" opacity=\"0.0\" fill=\"currentColor\" stroke-width=\"0.1\"/>\n",
       "<rect x=\"0.0\" y=\"-81.24999999999999\" width=\"6.25\" height=\"6.25\" opacity=\"0.0\" fill=\"currentColor\" stroke-width=\"0.1\"/>\n",
       "<rect x=\"6.250000000000005\" y=\"-81.24999999999999\" width=\"6.25\" height=\"6.25\" opacity=\"0.0\" fill=\"currentColor\" stroke-width=\"0.1\"/>\n",
       "<rect x=\"12.50000000000001\" y=\"-81.24999999999999\" width=\"6.25\" height=\"6.25\" opacity=\"0.0\" fill=\"currentColor\" stroke-width=\"0.1\"/>\n",
       "<rect x=\"18.74999999999999\" y=\"-81.24999999999999\" width=\"6.25\" height=\"6.25\" opacity=\"0.00201207243460765\" fill=\"currentColor\" stroke-width=\"0.1\"/>\n",
       "<rect x=\"24.999999999999993\" y=\"-81.24999999999999\" width=\"6.25\" height=\"6.25\" opacity=\"0.0\" fill=\"currentColor\" stroke-width=\"0.1\"/>\n",
       "<rect x=\"31.25\" y=\"-81.24999999999999\" width=\"6.25\" height=\"6.25\" opacity=\"0.0080482897384306\" fill=\"currentColor\" stroke-width=\"0.1\"/>\n",
       "<rect x=\"37.50000000000001\" y=\"-81.24999999999999\" width=\"6.25\" height=\"6.25\" opacity=\"0.018108651911468848\" fill=\"currentColor\" stroke-width=\"0.1\"/>\n",
       "<rect x=\"43.750000000000014\" y=\"-81.24999999999999\" width=\"6.25\" height=\"6.25\" opacity=\"0.014084507042253612\" fill=\"currentColor\" stroke-width=\"0.1\"/>\n",
       "<rect x=\"49.999999999999986\" y=\"-81.24999999999999\" width=\"6.25\" height=\"6.25\" opacity=\"0.0241448692152918\" fill=\"currentColor\" stroke-width=\"0.1\"/>\n",
       "<rect x=\"56.24999999999999\" y=\"-81.24999999999999\" width=\"6.25\" height=\"6.25\" opacity=\"0.0281690140845071\" fill=\"currentColor\" stroke-width=\"0.1\"/>\n",
       "<rect x=\"62.5\" y=\"-81.24999999999999\" width=\"6.25\" height=\"6.25\" opacity=\"0.07243460764587539\" fill=\"currentColor\" stroke-width=\"0.1\"/>\n",
       "<rect x=\"68.75\" y=\"-81.24999999999999\" width=\"6.25\" height=\"6.25\" opacity=\"0.062374245472837216\" fill=\"currentColor\" stroke-width=\"0.1\"/>\n",
       "<rect x=\"75.00000000000001\" y=\"-81.24999999999999\" width=\"6.25\" height=\"6.25\" opacity=\"0.10865191146881333\" fill=\"currentColor\" stroke-width=\"0.1\"/>\n",
       "<rect x=\"81.24999999999999\" y=\"-81.24999999999999\" width=\"6.25\" height=\"6.25\" opacity=\"0.12072434607645913\" fill=\"currentColor\" stroke-width=\"0.1\"/>\n",
       "<rect x=\"87.5\" y=\"-81.24999999999999\" width=\"6.25\" height=\"6.25\" opacity=\"0.1770623742454732\" fill=\"currentColor\" stroke-width=\"0.1\"/>\n",
       "<rect x=\"93.75\" y=\"-81.24999999999999\" width=\"6.25\" height=\"6.25\" opacity=\"0.18913480885311912\" fill=\"currentColor\" stroke-width=\"0.1\"/>\n",
       "<rect x=\"100.0\" y=\"-81.24999999999999\" width=\"6.25\" height=\"6.25\" opacity=\"0.20925553319919582\" fill=\"currentColor\" stroke-width=\"0.1\"/>\n",
       "<rect x=\"106.25000000000001\" y=\"-81.24999999999999\" width=\"6.25\" height=\"6.25\" opacity=\"0.26961770623742565\" fill=\"currentColor\" stroke-width=\"0.1\"/>\n",
       "<rect x=\"112.49999999999999\" y=\"-81.24999999999999\" width=\"6.25\" height=\"6.25\" opacity=\"0.30181086519114786\" fill=\"currentColor\" stroke-width=\"0.1\"/>\n",
       "<rect x=\"118.75\" y=\"-81.24999999999999\" width=\"6.25\" height=\"6.25\" opacity=\"0.2857142857142863\" fill=\"currentColor\" stroke-width=\"0.1\"/>\n",
       "<rect x=\"125.0\" y=\"-81.24999999999999\" width=\"6.25\" height=\"6.25\" opacity=\"0.36016096579476936\" fill=\"currentColor\" stroke-width=\"0.1\"/>\n",
       "<rect x=\"131.25\" y=\"-81.24999999999999\" width=\"6.25\" height=\"6.25\" opacity=\"0.241448692152918\" fill=\"currentColor\" stroke-width=\"0.1\"/>\n",
       "<rect x=\"137.5\" y=\"-81.24999999999999\" width=\"6.25\" height=\"6.25\" opacity=\"0.271629778672034\" fill=\"currentColor\" stroke-width=\"0.1\"/>\n",
       "<rect x=\"143.75\" y=\"-81.24999999999999\" width=\"6.25\" height=\"6.25\" opacity=\"0.23943661971831037\" fill=\"currentColor\" stroke-width=\"0.1\"/>\n",
       "<rect x=\"150.0\" y=\"-81.24999999999999\" width=\"6.25\" height=\"6.25\" opacity=\"0.2173038229376262\" fill=\"currentColor\" stroke-width=\"0.1\"/>\n",
       "<rect x=\"156.25\" y=\"-81.24999999999999\" width=\"6.25\" height=\"6.25\" opacity=\"0.18309859154929614\" fill=\"currentColor\" stroke-width=\"0.1\"/>\n",
       "<rect x=\"162.5\" y=\"-81.24999999999999\" width=\"6.25\" height=\"6.25\" opacity=\"0.1126760563380284\" fill=\"currentColor\" stroke-width=\"0.1\"/>\n",
       "<rect x=\"168.75\" y=\"-81.24999999999999\" width=\"6.25\" height=\"6.25\" opacity=\"0.07645875251509103\" fill=\"currentColor\" stroke-width=\"0.1\"/>\n",
       "<rect x=\"175.0\" y=\"-81.24999999999999\" width=\"6.25\" height=\"6.25\" opacity=\"0.08651911468812895\" fill=\"currentColor\" stroke-width=\"0.1\"/>\n",
       "<rect x=\"181.25\" y=\"-81.24999999999999\" width=\"6.25\" height=\"6.25\" opacity=\"0.040241448692153\" fill=\"currentColor\" stroke-width=\"0.1\"/>\n",
       "<rect x=\"187.5\" y=\"-81.24999999999999\" width=\"6.25\" height=\"6.25\" opacity=\"0.03018108651911475\" fill=\"currentColor\" stroke-width=\"0.1\"/>\n",
       "<rect x=\"193.75\" y=\"-81.24999999999999\" width=\"6.25\" height=\"6.25\" opacity=\"0.0241448692152918\" fill=\"currentColor\" stroke-width=\"0.1\"/>\n",
       "<rect x=\"200.0\" y=\"-81.24999999999999\" width=\"6.25\" height=\"6.25\" opacity=\"0.010060362173038295\" fill=\"currentColor\" stroke-width=\"0.1\"/>\n",
       "<rect x=\"206.25\" y=\"-81.24999999999999\" width=\"6.25\" height=\"6.25\" opacity=\"0.00201207243460765\" fill=\"currentColor\" stroke-width=\"0.1\"/>\n",
       "<rect x=\"212.5\" y=\"-81.24999999999999\" width=\"6.25\" height=\"6.25\" opacity=\"0.00201207243460765\" fill=\"currentColor\" stroke-width=\"0.1\"/>\n",
       "<rect x=\"218.75\" y=\"-81.24999999999999\" width=\"6.25\" height=\"6.25\" opacity=\"0.00201207243460765\" fill=\"currentColor\" stroke-width=\"0.1\"/>\n",
       "<rect x=\"225.0\" y=\"-81.24999999999999\" width=\"6.25\" height=\"6.25\" opacity=\"0.00201207243460765\" fill=\"currentColor\" stroke-width=\"0.1\"/>\n",
       "<rect x=\"231.25\" y=\"-81.24999999999999\" width=\"6.25\" height=\"6.25\" opacity=\"0.0\" fill=\"currentColor\" stroke-width=\"0.1\"/>\n",
       "<rect x=\"237.5\" y=\"-81.24999999999999\" width=\"6.25\" height=\"6.25\" opacity=\"0.0\" fill=\"currentColor\" stroke-width=\"0.1\"/>\n",
       "<rect x=\"243.75\" y=\"-81.24999999999999\" width=\"6.25\" height=\"6.25\" opacity=\"0.0\" fill=\"currentColor\" stroke-width=\"0.1\"/>\n",
       "<rect x=\"0.0\" y=\"-87.5\" width=\"6.25\" height=\"6.25\" opacity=\"0.0\" fill=\"currentColor\" stroke-width=\"0.1\"/>\n",
       "<rect x=\"6.250000000000005\" y=\"-87.5\" width=\"6.25\" height=\"6.25\" opacity=\"0.0\" fill=\"currentColor\" stroke-width=\"0.1\"/>\n",
       "<rect x=\"12.50000000000001\" y=\"-87.5\" width=\"6.25\" height=\"6.25\" opacity=\"0.0\" fill=\"currentColor\" stroke-width=\"0.1\"/>\n",
       "<rect x=\"18.74999999999999\" y=\"-87.5\" width=\"6.25\" height=\"6.25\" opacity=\"0.0020120724346076473\" fill=\"currentColor\" stroke-width=\"0.1\"/>\n",
       "<rect x=\"24.999999999999993\" y=\"-87.5\" width=\"6.25\" height=\"6.25\" opacity=\"0.004024144869215295\" fill=\"currentColor\" stroke-width=\"0.1\"/>\n",
       "<rect x=\"31.25\" y=\"-87.5\" width=\"6.25\" height=\"6.25\" opacity=\"0.0020120724346076473\" fill=\"currentColor\" stroke-width=\"0.1\"/>\n",
       "<rect x=\"37.50000000000001\" y=\"-87.5\" width=\"6.25\" height=\"6.25\" opacity=\"0.00804828973843059\" fill=\"currentColor\" stroke-width=\"0.1\"/>\n",
       "<rect x=\"43.750000000000014\" y=\"-87.5\" width=\"6.25\" height=\"6.25\" opacity=\"0.022132796780684225\" fill=\"currentColor\" stroke-width=\"0.1\"/>\n",
       "<rect x=\"49.999999999999986\" y=\"-87.5\" width=\"6.25\" height=\"6.25\" opacity=\"0.010060362173038238\" fill=\"currentColor\" stroke-width=\"0.1\"/>\n",
       "<rect x=\"56.24999999999999\" y=\"-87.5\" width=\"6.25\" height=\"6.25\" opacity=\"0.0422535211267606\" fill=\"currentColor\" stroke-width=\"0.1\"/>\n",
       "<rect x=\"62.5\" y=\"-87.5\" width=\"6.25\" height=\"6.25\" opacity=\"0.09456740442655943\" fill=\"currentColor\" stroke-width=\"0.1\"/>\n",
       "<rect x=\"68.75\" y=\"-87.5\" width=\"6.25\" height=\"6.25\" opacity=\"0.07847082494969836\" fill=\"currentColor\" stroke-width=\"0.1\"/>\n",
       "<rect x=\"75.00000000000001\" y=\"-87.5\" width=\"6.25\" height=\"6.25\" opacity=\"0.138832997987928\" fill=\"currentColor\" stroke-width=\"0.1\"/>\n",
       "<rect x=\"81.24999999999999\" y=\"-87.5\" width=\"6.25\" height=\"6.25\" opacity=\"0.201207243460765\" fill=\"currentColor\" stroke-width=\"0.1\"/>\n",
       "<rect x=\"87.5\" y=\"-87.5\" width=\"6.25\" height=\"6.25\" opacity=\"0.21327967806841067\" fill=\"currentColor\" stroke-width=\"0.1\"/>\n",
       "<rect x=\"93.75\" y=\"-87.5\" width=\"6.25\" height=\"6.25\" opacity=\"0.2917505030181089\" fill=\"currentColor\" stroke-width=\"0.1\"/>\n",
       "<rect x=\"100.0\" y=\"-87.5\" width=\"6.25\" height=\"6.25\" opacity=\"0.3400402414486928\" fill=\"currentColor\" stroke-width=\"0.1\"/>\n",
       "<rect x=\"106.25000000000001\" y=\"-87.5\" width=\"6.25\" height=\"6.25\" opacity=\"0.329979879275655\" fill=\"currentColor\" stroke-width=\"0.1\"/>\n",
       "<rect x=\"112.49999999999999\" y=\"-87.5\" width=\"6.25\" height=\"6.25\" opacity=\"0.4004024144869223\" fill=\"currentColor\" stroke-width=\"0.1\"/>\n",
       "<rect x=\"118.75\" y=\"-87.5\" width=\"6.25\" height=\"6.25\" opacity=\"0.38229376257545306\" fill=\"currentColor\" stroke-width=\"0.1\"/>\n",
       "<rect x=\"125.0\" y=\"-87.5\" width=\"6.25\" height=\"6.25\" opacity=\"0.42253521126760596\" fill=\"currentColor\" stroke-width=\"0.1\"/>\n",
       "<rect x=\"131.25\" y=\"-87.5\" width=\"6.25\" height=\"6.25\" opacity=\"0.3963782696177066\" fill=\"currentColor\" stroke-width=\"0.1\"/>\n",
       "<rect x=\"137.5\" y=\"-87.5\" width=\"6.25\" height=\"6.25\" opacity=\"0.4205231388330003\" fill=\"currentColor\" stroke-width=\"0.1\"/>\n",
       "<rect x=\"143.75\" y=\"-87.5\" width=\"6.25\" height=\"6.25\" opacity=\"0.28370221327967826\" fill=\"currentColor\" stroke-width=\"0.1\"/>\n",
       "<rect x=\"150.0\" y=\"-87.5\" width=\"6.25\" height=\"6.25\" opacity=\"0.32595573440643894\" fill=\"currentColor\" stroke-width=\"0.1\"/>\n",
       "<rect x=\"156.25\" y=\"-87.5\" width=\"6.25\" height=\"6.25\" opacity=\"0.24748490945674065\" fill=\"currentColor\" stroke-width=\"0.1\"/>\n",
       "<rect x=\"162.5\" y=\"-87.5\" width=\"6.25\" height=\"6.25\" opacity=\"0.17505030181086534\" fill=\"currentColor\" stroke-width=\"0.1\"/>\n",
       "<rect x=\"168.75\" y=\"-87.5\" width=\"6.25\" height=\"6.25\" opacity=\"0.12877263581489\" fill=\"currentColor\" stroke-width=\"0.1\"/>\n",
       "<rect x=\"175.0\" y=\"-87.5\" width=\"6.25\" height=\"6.25\" opacity=\"0.07847082494969825\" fill=\"currentColor\" stroke-width=\"0.1\"/>\n",
       "<rect x=\"181.25\" y=\"-87.5\" width=\"6.25\" height=\"6.25\" opacity=\"0.06841046277666002\" fill=\"currentColor\" stroke-width=\"0.1\"/>\n",
       "<rect x=\"187.5\" y=\"-87.5\" width=\"6.25\" height=\"6.25\" opacity=\"0.03219315895372236\" fill=\"currentColor\" stroke-width=\"0.1\"/>\n",
       "<rect x=\"193.75\" y=\"-87.5\" width=\"6.25\" height=\"6.25\" opacity=\"0.030181086519114712\" fill=\"currentColor\" stroke-width=\"0.1\"/>\n",
       "<rect x=\"200.0\" y=\"-87.5\" width=\"6.25\" height=\"6.25\" opacity=\"0.01810865191146891\" fill=\"currentColor\" stroke-width=\"0.1\"/>\n",
       "<rect x=\"206.25\" y=\"-87.5\" width=\"6.25\" height=\"6.25\" opacity=\"0.00804828973843059\" fill=\"currentColor\" stroke-width=\"0.1\"/>\n",
       "<rect x=\"212.5\" y=\"-87.5\" width=\"6.25\" height=\"6.25\" opacity=\"0.0060362173038229425\" fill=\"currentColor\" stroke-width=\"0.1\"/>\n",
       "<rect x=\"218.75\" y=\"-87.5\" width=\"6.25\" height=\"6.25\" opacity=\"0.00804828973843059\" fill=\"currentColor\" stroke-width=\"0.1\"/>\n",
       "<rect x=\"225.0\" y=\"-87.5\" width=\"6.25\" height=\"6.25\" opacity=\"0.0020120724346076473\" fill=\"currentColor\" stroke-width=\"0.1\"/>\n",
       "<rect x=\"231.25\" y=\"-87.5\" width=\"6.25\" height=\"6.25\" opacity=\"0.0\" fill=\"currentColor\" stroke-width=\"0.1\"/>\n",
       "<rect x=\"237.5\" y=\"-87.5\" width=\"6.25\" height=\"6.25\" opacity=\"0.0\" fill=\"currentColor\" stroke-width=\"0.1\"/>\n",
       "<rect x=\"243.75\" y=\"-87.5\" width=\"6.25\" height=\"6.25\" opacity=\"0.0\" fill=\"currentColor\" stroke-width=\"0.1\"/>\n",
       "<rect x=\"0.0\" y=\"-93.75\" width=\"6.25\" height=\"6.25\" opacity=\"0.0\" fill=\"currentColor\" stroke-width=\"0.1\"/>\n",
       "<rect x=\"6.250000000000005\" y=\"-93.75\" width=\"6.25\" height=\"6.25\" opacity=\"0.0\" fill=\"currentColor\" stroke-width=\"0.1\"/>\n",
       "<rect x=\"12.50000000000001\" y=\"-93.75\" width=\"6.25\" height=\"6.25\" opacity=\"0.0\" fill=\"currentColor\" stroke-width=\"0.1\"/>\n",
       "<rect x=\"18.74999999999999\" y=\"-93.75\" width=\"6.25\" height=\"6.25\" opacity=\"0.004024144869215291\" fill=\"currentColor\" stroke-width=\"0.1\"/>\n",
       "<rect x=\"24.999999999999993\" y=\"-93.75\" width=\"6.25\" height=\"6.25\" opacity=\"0.0020120724346076456\" fill=\"currentColor\" stroke-width=\"0.1\"/>\n",
       "<rect x=\"31.25\" y=\"-93.75\" width=\"6.25\" height=\"6.25\" opacity=\"0.008048289738430582\" fill=\"currentColor\" stroke-width=\"0.1\"/>\n",
       "<rect x=\"37.50000000000001\" y=\"-93.75\" width=\"6.25\" height=\"6.25\" opacity=\"0.016096579476861165\" fill=\"currentColor\" stroke-width=\"0.1\"/>\n",
       "<rect x=\"43.750000000000014\" y=\"-93.75\" width=\"6.25\" height=\"6.25\" opacity=\"0.024144869215291853\" fill=\"currentColor\" stroke-width=\"0.1\"/>\n",
       "<rect x=\"49.999999999999986\" y=\"-93.75\" width=\"6.25\" height=\"6.25\" opacity=\"0.03219315895372233\" fill=\"currentColor\" stroke-width=\"0.1\"/>\n",
       "<rect x=\"56.24999999999999\" y=\"-93.75\" width=\"6.25\" height=\"6.25\" opacity=\"0.05231388329979879\" fill=\"currentColor\" stroke-width=\"0.1\"/>\n",
       "<rect x=\"62.5\" y=\"-93.75\" width=\"6.25\" height=\"6.25\" opacity=\"0.08048289738430583\" fill=\"currentColor\" stroke-width=\"0.1\"/>\n",
       "<rect x=\"68.75\" y=\"-93.75\" width=\"6.25\" height=\"6.25\" opacity=\"0.09657947686116708\" fill=\"currentColor\" stroke-width=\"0.1\"/>\n",
       "<rect x=\"75.00000000000001\" y=\"-93.75\" width=\"6.25\" height=\"6.25\" opacity=\"0.16297786720321963\" fill=\"currentColor\" stroke-width=\"0.1\"/>\n",
       "<rect x=\"81.24999999999999\" y=\"-93.75\" width=\"6.25\" height=\"6.25\" opacity=\"0.2997987927565395\" fill=\"currentColor\" stroke-width=\"0.1\"/>\n",
       "<rect x=\"87.5\" y=\"-93.75\" width=\"6.25\" height=\"6.25\" opacity=\"0.26358148893360156\" fill=\"currentColor\" stroke-width=\"0.1\"/>\n",
       "<rect x=\"93.75\" y=\"-93.75\" width=\"6.25\" height=\"6.25\" opacity=\"0.3440643863179074\" fill=\"currentColor\" stroke-width=\"0.1\"/>\n",
       "<rect x=\"100.0\" y=\"-93.75\" width=\"6.25\" height=\"6.25\" opacity=\"0.4466800804828977\" fill=\"currentColor\" stroke-width=\"0.1\"/>\n",
       "<rect x=\"106.25000000000001\" y=\"-93.75\" width=\"6.25\" height=\"6.25\" opacity=\"0.4647887323943672\" fill=\"currentColor\" stroke-width=\"0.1\"/>\n",
       "<rect x=\"112.49999999999999\" y=\"-93.75\" width=\"6.25\" height=\"6.25\" opacity=\"0.484909456740443\" fill=\"currentColor\" stroke-width=\"0.1\"/>\n",
       "<rect x=\"118.75\" y=\"-93.75\" width=\"6.25\" height=\"6.25\" opacity=\"0.5231388329979879\" fill=\"currentColor\" stroke-width=\"0.1\"/>\n",
       "<rect x=\"125.0\" y=\"-93.75\" width=\"6.25\" height=\"6.25\" opacity=\"0.5432595573440643\" fill=\"currentColor\" stroke-width=\"0.1\"/>\n",
       "<rect x=\"131.25\" y=\"-93.75\" width=\"6.25\" height=\"6.25\" opacity=\"0.5231388329979879\" fill=\"currentColor\" stroke-width=\"0.1\"/>\n",
       "<rect x=\"137.5\" y=\"-93.75\" width=\"6.25\" height=\"6.25\" opacity=\"0.40241448692153087\" fill=\"currentColor\" stroke-width=\"0.1\"/>\n",
       "<rect x=\"143.75\" y=\"-93.75\" width=\"6.25\" height=\"6.25\" opacity=\"0.40845070422535207\" fill=\"currentColor\" stroke-width=\"0.1\"/>\n",
       "<rect x=\"150.0\" y=\"-93.75\" width=\"6.25\" height=\"6.25\" opacity=\"0.3118712273641851\" fill=\"currentColor\" stroke-width=\"0.1\"/>\n",
       "<rect x=\"156.25\" y=\"-93.75\" width=\"6.25\" height=\"6.25\" opacity=\"0.30181086519114686\" fill=\"currentColor\" stroke-width=\"0.1\"/>\n",
       "<rect x=\"162.5\" y=\"-93.75\" width=\"6.25\" height=\"6.25\" opacity=\"0.22334004024144868\" fill=\"currentColor\" stroke-width=\"0.1\"/>\n",
       "<rect x=\"168.75\" y=\"-93.75\" width=\"6.25\" height=\"6.25\" opacity=\"0.13480885311871282\" fill=\"currentColor\" stroke-width=\"0.1\"/>\n",
       "<rect x=\"175.0\" y=\"-93.75\" width=\"6.25\" height=\"6.25\" opacity=\"0.12273641851106638\" fill=\"currentColor\" stroke-width=\"0.1\"/>\n",
       "<rect x=\"181.25\" y=\"-93.75\" width=\"6.25\" height=\"6.25\" opacity=\"0.054325955734406434\" fill=\"currentColor\" stroke-width=\"0.1\"/>\n",
       "<rect x=\"187.5\" y=\"-93.75\" width=\"6.25\" height=\"6.25\" opacity=\"0.05231388329979879\" fill=\"currentColor\" stroke-width=\"0.1\"/>\n",
       "<rect x=\"193.75\" y=\"-93.75\" width=\"6.25\" height=\"6.25\" opacity=\"0.05633802816901408\" fill=\"currentColor\" stroke-width=\"0.1\"/>\n",
       "<rect x=\"200.0\" y=\"-93.75\" width=\"6.25\" height=\"6.25\" opacity=\"0.024144869215291853\" fill=\"currentColor\" stroke-width=\"0.1\"/>\n",
       "<rect x=\"206.25\" y=\"-93.75\" width=\"6.25\" height=\"6.25\" opacity=\"0.008048289738430582\" fill=\"currentColor\" stroke-width=\"0.1\"/>\n",
       "<rect x=\"212.5\" y=\"-93.75\" width=\"6.25\" height=\"6.25\" opacity=\"0.01006036217303823\" fill=\"currentColor\" stroke-width=\"0.1\"/>\n",
       "<rect x=\"218.75\" y=\"-93.75\" width=\"6.25\" height=\"6.25\" opacity=\"0.0\" fill=\"currentColor\" stroke-width=\"0.1\"/>\n",
       "<rect x=\"225.0\" y=\"-93.75\" width=\"6.25\" height=\"6.25\" opacity=\"0.0020120724346076456\" fill=\"currentColor\" stroke-width=\"0.1\"/>\n",
       "<rect x=\"231.25\" y=\"-93.75\" width=\"6.25\" height=\"6.25\" opacity=\"0.0020120724346076543\" fill=\"currentColor\" stroke-width=\"0.1\"/>\n",
       "<rect x=\"237.5\" y=\"-93.75\" width=\"6.25\" height=\"6.25\" opacity=\"0.0\" fill=\"currentColor\" stroke-width=\"0.1\"/>\n",
       "<rect x=\"243.75\" y=\"-93.75\" width=\"6.25\" height=\"6.25\" opacity=\"0.0\" fill=\"currentColor\" stroke-width=\"0.1\"/>\n",
       "<rect x=\"0.0\" y=\"-100.0\" width=\"6.25\" height=\"6.25\" opacity=\"0.0\" fill=\"currentColor\" stroke-width=\"0.1\"/>\n",
       "<rect x=\"6.250000000000005\" y=\"-100.0\" width=\"6.25\" height=\"6.25\" opacity=\"0.0\" fill=\"currentColor\" stroke-width=\"0.1\"/>\n",
       "<rect x=\"12.50000000000001\" y=\"-100.0\" width=\"6.25\" height=\"6.25\" opacity=\"0.0020120724346076543\" fill=\"currentColor\" stroke-width=\"0.1\"/>\n",
       "<rect x=\"18.74999999999999\" y=\"-100.0\" width=\"6.25\" height=\"6.25\" opacity=\"0.0\" fill=\"currentColor\" stroke-width=\"0.1\"/>\n",
       "<rect x=\"24.999999999999993\" y=\"-100.0\" width=\"6.25\" height=\"6.25\" opacity=\"0.006036217303822937\" fill=\"currentColor\" stroke-width=\"0.1\"/>\n",
       "<rect x=\"31.25\" y=\"-100.0\" width=\"6.25\" height=\"6.25\" opacity=\"0.01006036217303823\" fill=\"currentColor\" stroke-width=\"0.1\"/>\n",
       "<rect x=\"37.50000000000001\" y=\"-100.0\" width=\"6.25\" height=\"6.25\" opacity=\"0.01408450704225352\" fill=\"currentColor\" stroke-width=\"0.1\"/>\n",
       "<rect x=\"43.750000000000014\" y=\"-100.0\" width=\"6.25\" height=\"6.25\" opacity=\"0.026156941649899505\" fill=\"currentColor\" stroke-width=\"0.1\"/>\n",
       "<rect x=\"49.999999999999986\" y=\"-100.0\" width=\"6.25\" height=\"6.25\" opacity=\"0.04627766599597585\" fill=\"currentColor\" stroke-width=\"0.1\"/>\n",
       "<rect x=\"56.24999999999999\" y=\"-100.0\" width=\"6.25\" height=\"6.25\" opacity=\"0.0925553319919517\" fill=\"currentColor\" stroke-width=\"0.1\"/>\n",
       "<rect x=\"62.5\" y=\"-100.0\" width=\"6.25\" height=\"6.25\" opacity=\"0.09859154929577464\" fill=\"currentColor\" stroke-width=\"0.1\"/>\n",
       "<rect x=\"68.75\" y=\"-100.0\" width=\"6.25\" height=\"6.25\" opacity=\"0.17706237424547297\" fill=\"currentColor\" stroke-width=\"0.1\"/>\n",
       "<rect x=\"75.00000000000001\" y=\"-100.0\" width=\"6.25\" height=\"6.25\" opacity=\"0.21327967806841092\" fill=\"currentColor\" stroke-width=\"0.1\"/>\n",
       "<rect x=\"81.24999999999999\" y=\"-100.0\" width=\"6.25\" height=\"6.25\" opacity=\"0.2977867203219318\" fill=\"currentColor\" stroke-width=\"0.1\"/>\n",
       "<rect x=\"87.5\" y=\"-100.0\" width=\"6.25\" height=\"6.25\" opacity=\"0.3601609657947686\" fill=\"currentColor\" stroke-width=\"0.1\"/>\n",
       "<rect x=\"93.75\" y=\"-100.0\" width=\"6.25\" height=\"6.25\" opacity=\"0.4245472837022133\" fill=\"currentColor\" stroke-width=\"0.1\"/>\n",
       "<rect x=\"100.0\" y=\"-100.0\" width=\"6.25\" height=\"6.25\" opacity=\"0.46680080482897424\" fill=\"currentColor\" stroke-width=\"0.1\"/>\n",
       "<rect x=\"106.25000000000001\" y=\"-100.0\" width=\"6.25\" height=\"6.25\" opacity=\"0.5995975855130796\" fill=\"currentColor\" stroke-width=\"0.1\"/>\n",
       "<rect x=\"112.49999999999999\" y=\"-100.0\" width=\"6.25\" height=\"6.25\" opacity=\"0.571428571428572\" fill=\"currentColor\" stroke-width=\"0.1\"/>\n",
       "<rect x=\"118.75\" y=\"-100.0\" width=\"6.25\" height=\"6.25\" opacity=\"0.5774647887323943\" fill=\"currentColor\" stroke-width=\"0.1\"/>\n",
       "<rect x=\"125.0\" y=\"-100.0\" width=\"6.25\" height=\"6.25\" opacity=\"0.5533199195171026\" fill=\"currentColor\" stroke-width=\"0.1\"/>\n",
       "<rect x=\"131.25\" y=\"-100.0\" width=\"6.25\" height=\"6.25\" opacity=\"0.5653923541247484\" fill=\"currentColor\" stroke-width=\"0.1\"/>\n",
       "<rect x=\"137.5\" y=\"-100.0\" width=\"6.25\" height=\"6.25\" opacity=\"0.5714285714285738\" fill=\"currentColor\" stroke-width=\"0.1\"/>\n",
       "<rect x=\"143.75\" y=\"-100.0\" width=\"6.25\" height=\"6.25\" opacity=\"0.46881287726358145\" fill=\"currentColor\" stroke-width=\"0.1\"/>\n",
       "<rect x=\"150.0\" y=\"-100.0\" width=\"6.25\" height=\"6.25\" opacity=\"0.4245472837022133\" fill=\"currentColor\" stroke-width=\"0.1\"/>\n",
       "<rect x=\"156.25\" y=\"-100.0\" width=\"6.25\" height=\"6.25\" opacity=\"0.346076458752515\" fill=\"currentColor\" stroke-width=\"0.1\"/>\n",
       "<rect x=\"162.5\" y=\"-100.0\" width=\"6.25\" height=\"6.25\" opacity=\"0.2857142857142857\" fill=\"currentColor\" stroke-width=\"0.1\"/>\n",
       "<rect x=\"168.75\" y=\"-100.0\" width=\"6.25\" height=\"6.25\" opacity=\"0.16901408450704297\" fill=\"currentColor\" stroke-width=\"0.1\"/>\n",
       "<rect x=\"175.0\" y=\"-100.0\" width=\"6.25\" height=\"6.25\" opacity=\"0.1730382293762575\" fill=\"currentColor\" stroke-width=\"0.1\"/>\n",
       "<rect x=\"181.25\" y=\"-100.0\" width=\"6.25\" height=\"6.25\" opacity=\"0.0925553319919517\" fill=\"currentColor\" stroke-width=\"0.1\"/>\n",
       "<rect x=\"187.5\" y=\"-100.0\" width=\"6.25\" height=\"6.25\" opacity=\"0.05231388329979879\" fill=\"currentColor\" stroke-width=\"0.1\"/>\n",
       "<rect x=\"193.75\" y=\"-100.0\" width=\"6.25\" height=\"6.25\" opacity=\"0.0482897384305835\" fill=\"currentColor\" stroke-width=\"0.1\"/>\n",
       "<rect x=\"200.0\" y=\"-100.0\" width=\"6.25\" height=\"6.25\" opacity=\"0.026156941649899505\" fill=\"currentColor\" stroke-width=\"0.1\"/>\n",
       "<rect x=\"206.25\" y=\"-100.0\" width=\"6.25\" height=\"6.25\" opacity=\"0.02012072434607646\" fill=\"currentColor\" stroke-width=\"0.1\"/>\n",
       "<rect x=\"212.5\" y=\"-100.0\" width=\"6.25\" height=\"6.25\" opacity=\"0.006036217303822937\" fill=\"currentColor\" stroke-width=\"0.1\"/>\n",
       "<rect x=\"218.75\" y=\"-100.0\" width=\"6.25\" height=\"6.25\" opacity=\"0.006036217303822937\" fill=\"currentColor\" stroke-width=\"0.1\"/>\n",
       "<rect x=\"225.0\" y=\"-100.0\" width=\"6.25\" height=\"6.25\" opacity=\"0.0020120724346076456\" fill=\"currentColor\" stroke-width=\"0.1\"/>\n",
       "<rect x=\"231.25\" y=\"-100.0\" width=\"6.25\" height=\"6.25\" opacity=\"0.0\" fill=\"currentColor\" stroke-width=\"0.1\"/>\n",
       "<rect x=\"237.5\" y=\"-100.0\" width=\"6.25\" height=\"6.25\" opacity=\"0.0\" fill=\"currentColor\" stroke-width=\"0.1\"/>\n",
       "<rect x=\"243.75\" y=\"-100.0\" width=\"6.25\" height=\"6.25\" opacity=\"0.0\" fill=\"currentColor\" stroke-width=\"0.1\"/>\n",
       "<rect x=\"0.0\" y=\"-106.25000000000001\" width=\"6.25\" height=\"6.25\" opacity=\"0.0020120724346076473\" fill=\"currentColor\" stroke-width=\"0.1\"/>\n",
       "<rect x=\"6.250000000000005\" y=\"-106.25000000000001\" width=\"6.25\" height=\"6.25\" opacity=\"0.0020120724346076473\" fill=\"currentColor\" stroke-width=\"0.1\"/>\n",
       "<rect x=\"12.50000000000001\" y=\"-106.25000000000001\" width=\"6.25\" height=\"6.25\" opacity=\"0.0\" fill=\"currentColor\" stroke-width=\"0.1\"/>\n",
       "<rect x=\"18.74999999999999\" y=\"-106.25000000000001\" width=\"6.25\" height=\"6.25\" opacity=\"0.004024144869215295\" fill=\"currentColor\" stroke-width=\"0.1\"/>\n",
       "<rect x=\"24.999999999999993\" y=\"-106.25000000000001\" width=\"6.25\" height=\"6.25\" opacity=\"0.00804828973843059\" fill=\"currentColor\" stroke-width=\"0.1\"/>\n",
       "<rect x=\"31.25\" y=\"-106.25000000000001\" width=\"6.25\" height=\"6.25\" opacity=\"0.004024144869215295\" fill=\"currentColor\" stroke-width=\"0.1\"/>\n",
       "<rect x=\"37.50000000000001\" y=\"-106.25000000000001\" width=\"6.25\" height=\"6.25\" opacity=\"0.01609657947686118\" fill=\"currentColor\" stroke-width=\"0.1\"/>\n",
       "<rect x=\"43.750000000000014\" y=\"-106.25000000000001\" width=\"6.25\" height=\"6.25\" opacity=\"0.0321931589537225\" fill=\"currentColor\" stroke-width=\"0.1\"/>\n",
       "<rect x=\"49.999999999999986\" y=\"-106.25000000000001\" width=\"6.25\" height=\"6.25\" opacity=\"0.056338028169014134\" fill=\"currentColor\" stroke-width=\"0.1\"/>\n",
       "<rect x=\"56.24999999999999\" y=\"-106.25000000000001\" width=\"6.25\" height=\"6.25\" opacity=\"0.0845070422535212\" fill=\"currentColor\" stroke-width=\"0.1\"/>\n",
       "<rect x=\"62.5\" y=\"-106.25000000000001\" width=\"6.25\" height=\"6.25\" opacity=\"0.1227364185110665\" fill=\"currentColor\" stroke-width=\"0.1\"/>\n",
       "<rect x=\"68.75\" y=\"-106.25000000000001\" width=\"6.25\" height=\"6.25\" opacity=\"0.17505030181086553\" fill=\"currentColor\" stroke-width=\"0.1\"/>\n",
       "<rect x=\"75.00000000000001\" y=\"-106.25000000000001\" width=\"6.25\" height=\"6.25\" opacity=\"0.21126760563380348\" fill=\"currentColor\" stroke-width=\"0.1\"/>\n",
       "<rect x=\"81.24999999999999\" y=\"-106.25000000000001\" width=\"6.25\" height=\"6.25\" opacity=\"0.31187122736418577\" fill=\"currentColor\" stroke-width=\"0.1\"/>\n",
       "<rect x=\"87.5\" y=\"-106.25000000000001\" width=\"6.25\" height=\"6.25\" opacity=\"0.43259557344064425\" fill=\"currentColor\" stroke-width=\"0.1\"/>\n",
       "<rect x=\"93.75\" y=\"-106.25000000000001\" width=\"6.25\" height=\"6.25\" opacity=\"0.5090543259557349\" fill=\"currentColor\" stroke-width=\"0.1\"/>\n",
       "<rect x=\"100.0\" y=\"-106.25000000000001\" width=\"6.25\" height=\"6.25\" opacity=\"0.5030181086519124\" fill=\"currentColor\" stroke-width=\"0.1\"/>\n",
       "<rect x=\"106.25000000000001\" y=\"-106.25000000000001\" width=\"6.25\" height=\"6.25\" opacity=\"0.7102615694165012\" fill=\"currentColor\" stroke-width=\"0.1\"/>\n",
       "<rect x=\"112.49999999999999\" y=\"-106.25000000000001\" width=\"6.25\" height=\"6.25\" opacity=\"0.6720321931589551\" fill=\"currentColor\" stroke-width=\"0.1\"/>\n",
       "<rect x=\"118.75\" y=\"-106.25000000000001\" width=\"6.25\" height=\"6.25\" opacity=\"0.730382293762576\" fill=\"currentColor\" stroke-width=\"0.1\"/>\n",
       "<rect x=\"125.0\" y=\"-106.25000000000001\" width=\"6.25\" height=\"6.25\" opacity=\"0.7444668008048296\" fill=\"currentColor\" stroke-width=\"0.1\"/>\n",
       "<rect x=\"131.25\" y=\"-106.25000000000001\" width=\"6.25\" height=\"6.25\" opacity=\"0.6921529175050307\" fill=\"currentColor\" stroke-width=\"0.1\"/>\n",
       "<rect x=\"137.5\" y=\"-106.25000000000001\" width=\"6.25\" height=\"6.25\" opacity=\"0.6861167002012108\" fill=\"currentColor\" stroke-width=\"0.1\"/>\n",
       "<rect x=\"143.75\" y=\"-106.25000000000001\" width=\"6.25\" height=\"6.25\" opacity=\"0.6096579476861173\" fill=\"currentColor\" stroke-width=\"0.1\"/>\n",
       "<rect x=\"150.0\" y=\"-106.25000000000001\" width=\"6.25\" height=\"6.25\" opacity=\"0.5392354124748495\" fill=\"currentColor\" stroke-width=\"0.1\"/>\n",
       "<rect x=\"156.25\" y=\"-106.25000000000001\" width=\"6.25\" height=\"6.25\" opacity=\"0.3963782696177066\" fill=\"currentColor\" stroke-width=\"0.1\"/>\n",
       "<rect x=\"162.5\" y=\"-106.25000000000001\" width=\"6.25\" height=\"6.25\" opacity=\"0.34004024144869244\" fill=\"currentColor\" stroke-width=\"0.1\"/>\n",
       "<rect x=\"168.75\" y=\"-106.25000000000001\" width=\"6.25\" height=\"6.25\" opacity=\"0.23943661971831115\" fill=\"currentColor\" stroke-width=\"0.1\"/>\n",
       "<rect x=\"175.0\" y=\"-106.25000000000001\" width=\"6.25\" height=\"6.25\" opacity=\"0.1991951710261571\" fill=\"currentColor\" stroke-width=\"0.1\"/>\n",
       "<rect x=\"181.25\" y=\"-106.25000000000001\" width=\"6.25\" height=\"6.25\" opacity=\"0.1609657947686118\" fill=\"currentColor\" stroke-width=\"0.1\"/>\n",
       "<rect x=\"187.5\" y=\"-106.25000000000001\" width=\"6.25\" height=\"6.25\" opacity=\"0.09859154929577472\" fill=\"currentColor\" stroke-width=\"0.1\"/>\n",
       "<rect x=\"193.75\" y=\"-106.25000000000001\" width=\"6.25\" height=\"6.25\" opacity=\"0.050301810865191185\" fill=\"currentColor\" stroke-width=\"0.1\"/>\n",
       "<rect x=\"200.0\" y=\"-106.25000000000001\" width=\"6.25\" height=\"6.25\" opacity=\"0.04426559356136845\" fill=\"currentColor\" stroke-width=\"0.1\"/>\n",
       "<rect x=\"206.25\" y=\"-106.25000000000001\" width=\"6.25\" height=\"6.25\" opacity=\"0.02213279678068412\" fill=\"currentColor\" stroke-width=\"0.1\"/>\n",
       "<rect x=\"212.5\" y=\"-106.25000000000001\" width=\"6.25\" height=\"6.25\" opacity=\"0.0020120724346076473\" fill=\"currentColor\" stroke-width=\"0.1\"/>\n",
       "<rect x=\"218.75\" y=\"-106.25000000000001\" width=\"6.25\" height=\"6.25\" opacity=\"0.004024144869215295\" fill=\"currentColor\" stroke-width=\"0.1\"/>\n",
       "<rect x=\"225.0\" y=\"-106.25000000000001\" width=\"6.25\" height=\"6.25\" opacity=\"0.0020120724346076473\" fill=\"currentColor\" stroke-width=\"0.1\"/>\n",
       "<rect x=\"231.25\" y=\"-106.25000000000001\" width=\"6.25\" height=\"6.25\" opacity=\"0.004024144869215313\" fill=\"currentColor\" stroke-width=\"0.1\"/>\n",
       "<rect x=\"237.5\" y=\"-106.25000000000001\" width=\"6.25\" height=\"6.25\" opacity=\"0.0020120724346076473\" fill=\"currentColor\" stroke-width=\"0.1\"/>\n",
       "<rect x=\"243.75\" y=\"-106.25000000000001\" width=\"6.25\" height=\"6.25\" opacity=\"0.0\" fill=\"currentColor\" stroke-width=\"0.1\"/>\n",
       "<rect x=\"0.0\" y=\"-112.49999999999999\" width=\"6.25\" height=\"6.25\" opacity=\"0.0\" fill=\"currentColor\" stroke-width=\"0.1\"/>\n",
       "<rect x=\"6.250000000000005\" y=\"-112.49999999999999\" width=\"6.25\" height=\"6.25\" opacity=\"0.0\" fill=\"currentColor\" stroke-width=\"0.1\"/>\n",
       "<rect x=\"12.50000000000001\" y=\"-112.49999999999999\" width=\"6.25\" height=\"6.25\" opacity=\"0.0\" fill=\"currentColor\" stroke-width=\"0.1\"/>\n",
       "<rect x=\"18.74999999999999\" y=\"-112.49999999999999\" width=\"6.25\" height=\"6.25\" opacity=\"0.0040241448692153\" fill=\"currentColor\" stroke-width=\"0.1\"/>\n",
       "<rect x=\"24.999999999999993\" y=\"-112.49999999999999\" width=\"6.25\" height=\"6.25\" opacity=\"0.00603621730382295\" fill=\"currentColor\" stroke-width=\"0.1\"/>\n",
       "<rect x=\"31.25\" y=\"-112.49999999999999\" width=\"6.25\" height=\"6.25\" opacity=\"0.01408450704225355\" fill=\"currentColor\" stroke-width=\"0.1\"/>\n",
       "<rect x=\"37.50000000000001\" y=\"-112.49999999999999\" width=\"6.25\" height=\"6.25\" opacity=\"0.0201207243460765\" fill=\"currentColor\" stroke-width=\"0.1\"/>\n",
       "<rect x=\"43.750000000000014\" y=\"-112.49999999999999\" width=\"6.25\" height=\"6.25\" opacity=\"0.05030181086519147\" fill=\"currentColor\" stroke-width=\"0.1\"/>\n",
       "<rect x=\"49.999999999999986\" y=\"-112.49999999999999\" width=\"6.25\" height=\"6.25\" opacity=\"0.0563380281690142\" fill=\"currentColor\" stroke-width=\"0.1\"/>\n",
       "<rect x=\"56.24999999999999\" y=\"-112.49999999999999\" width=\"6.25\" height=\"6.25\" opacity=\"0.09456740442655956\" fill=\"currentColor\" stroke-width=\"0.1\"/>\n",
       "<rect x=\"62.5\" y=\"-112.49999999999999\" width=\"6.25\" height=\"6.25\" opacity=\"0.12273641851106665\" fill=\"currentColor\" stroke-width=\"0.1\"/>\n",
       "<rect x=\"68.75\" y=\"-112.49999999999999\" width=\"6.25\" height=\"6.25\" opacity=\"0.16096579476861217\" fill=\"currentColor\" stroke-width=\"0.1\"/>\n",
       "<rect x=\"75.00000000000001\" y=\"-112.49999999999999\" width=\"6.25\" height=\"6.25\" opacity=\"0.25352112676056443\" fill=\"currentColor\" stroke-width=\"0.1\"/>\n",
       "<rect x=\"81.24999999999999\" y=\"-112.49999999999999\" width=\"6.25\" height=\"6.25\" opacity=\"0.4044265593561381\" fill=\"currentColor\" stroke-width=\"0.1\"/>\n",
       "<rect x=\"87.5\" y=\"-112.49999999999999\" width=\"6.25\" height=\"6.25\" opacity=\"0.4144869215291759\" fill=\"currentColor\" stroke-width=\"0.1\"/>\n",
       "<rect x=\"93.75\" y=\"-112.49999999999999\" width=\"6.25\" height=\"6.25\" opacity=\"0.5653923541247496\" fill=\"currentColor\" stroke-width=\"0.1\"/>\n",
       "<rect x=\"100.0\" y=\"-112.49999999999999\" width=\"6.25\" height=\"6.25\" opacity=\"0.7263581488933624\" fill=\"currentColor\" stroke-width=\"0.1\"/>\n",
       "<rect x=\"106.25000000000001\" y=\"-112.49999999999999\" width=\"6.25\" height=\"6.25\" opacity=\"0.6861167002012102\" fill=\"currentColor\" stroke-width=\"0.1\"/>\n",
       "<rect x=\"112.49999999999999\" y=\"-112.49999999999999\" width=\"6.25\" height=\"6.25\" opacity=\"0.8108651911468837\" fill=\"currentColor\" stroke-width=\"0.1\"/>\n",
       "<rect x=\"118.75\" y=\"-112.49999999999999\" width=\"6.25\" height=\"6.25\" opacity=\"0.8108651911468829\" fill=\"currentColor\" stroke-width=\"0.1\"/>\n",
       "<rect x=\"125.0\" y=\"-112.49999999999999\" width=\"6.25\" height=\"6.25\" opacity=\"0.8370221327967824\" fill=\"currentColor\" stroke-width=\"0.1\"/>\n",
       "<rect x=\"131.25\" y=\"-112.49999999999999\" width=\"6.25\" height=\"6.25\" opacity=\"0.8008048289738446\" fill=\"currentColor\" stroke-width=\"0.1\"/>\n",
       "<rect x=\"137.5\" y=\"-112.49999999999999\" width=\"6.25\" height=\"6.25\" opacity=\"0.7243460764587571\" fill=\"currentColor\" stroke-width=\"0.1\"/>\n",
       "<rect x=\"143.75\" y=\"-112.49999999999999\" width=\"6.25\" height=\"6.25\" opacity=\"0.6941649899396393\" fill=\"currentColor\" stroke-width=\"0.1\"/>\n",
       "<rect x=\"150.0\" y=\"-112.49999999999999\" width=\"6.25\" height=\"6.25\" opacity=\"0.5593561368209267\" fill=\"currentColor\" stroke-width=\"0.1\"/>\n",
       "<rect x=\"156.25\" y=\"-112.49999999999999\" width=\"6.25\" height=\"6.25\" opacity=\"0.4969818913480895\" fill=\"currentColor\" stroke-width=\"0.1\"/>\n",
       "<rect x=\"162.5\" y=\"-112.49999999999999\" width=\"6.25\" height=\"6.25\" opacity=\"0.4144869215291759\" fill=\"currentColor\" stroke-width=\"0.1\"/>\n",
       "<rect x=\"168.75\" y=\"-112.49999999999999\" width=\"6.25\" height=\"6.25\" opacity=\"0.2635814889336033\" fill=\"currentColor\" stroke-width=\"0.1\"/>\n",
       "<rect x=\"175.0\" y=\"-112.49999999999999\" width=\"6.25\" height=\"6.25\" opacity=\"0.16700201207243495\" fill=\"currentColor\" stroke-width=\"0.1\"/>\n",
       "<rect x=\"181.25\" y=\"-112.49999999999999\" width=\"6.25\" height=\"6.25\" opacity=\"0.13883299798792786\" fill=\"currentColor\" stroke-width=\"0.1\"/>\n",
       "<rect x=\"187.5\" y=\"-112.49999999999999\" width=\"6.25\" height=\"6.25\" opacity=\"0.1086519114688131\" fill=\"currentColor\" stroke-width=\"0.1\"/>\n",
       "<rect x=\"193.75\" y=\"-112.49999999999999\" width=\"6.25\" height=\"6.25\" opacity=\"0.0603621730382295\" fill=\"currentColor\" stroke-width=\"0.1\"/>\n",
       "<rect x=\"200.0\" y=\"-112.49999999999999\" width=\"6.25\" height=\"6.25\" opacity=\"0.0442655935613685\" fill=\"currentColor\" stroke-width=\"0.1\"/>\n",
       "<rect x=\"206.25\" y=\"-112.49999999999999\" width=\"6.25\" height=\"6.25\" opacity=\"0.02615694164989945\" fill=\"currentColor\" stroke-width=\"0.1\"/>\n",
       "<rect x=\"212.5\" y=\"-112.49999999999999\" width=\"6.25\" height=\"6.25\" opacity=\"0.01006036217303825\" fill=\"currentColor\" stroke-width=\"0.1\"/>\n",
       "<rect x=\"218.75\" y=\"-112.49999999999999\" width=\"6.25\" height=\"6.25\" opacity=\"0.00603621730382295\" fill=\"currentColor\" stroke-width=\"0.1\"/>\n",
       "<rect x=\"225.0\" y=\"-112.49999999999999\" width=\"6.25\" height=\"6.25\" opacity=\"0.0040241448692153\" fill=\"currentColor\" stroke-width=\"0.1\"/>\n",
       "<rect x=\"231.25\" y=\"-112.49999999999999\" width=\"6.25\" height=\"6.25\" opacity=\"0.006036217303822976\" fill=\"currentColor\" stroke-width=\"0.1\"/>\n",
       "<rect x=\"237.5\" y=\"-112.49999999999999\" width=\"6.25\" height=\"6.25\" opacity=\"0.0\" fill=\"currentColor\" stroke-width=\"0.1\"/>\n",
       "<rect x=\"243.75\" y=\"-112.49999999999999\" width=\"6.25\" height=\"6.25\" opacity=\"0.0\" fill=\"currentColor\" stroke-width=\"0.1\"/>\n",
       "<rect x=\"0.0\" y=\"-118.75\" width=\"6.25\" height=\"6.25\" opacity=\"0.0020120724346076473\" fill=\"currentColor\" stroke-width=\"0.1\"/>\n",
       "<rect x=\"6.250000000000005\" y=\"-118.75\" width=\"6.25\" height=\"6.25\" opacity=\"0.0\" fill=\"currentColor\" stroke-width=\"0.1\"/>\n",
       "<rect x=\"12.50000000000001\" y=\"-118.75\" width=\"6.25\" height=\"6.25\" opacity=\"0.0020120724346076565\" fill=\"currentColor\" stroke-width=\"0.1\"/>\n",
       "<rect x=\"18.74999999999999\" y=\"-118.75\" width=\"6.25\" height=\"6.25\" opacity=\"0.0\" fill=\"currentColor\" stroke-width=\"0.1\"/>\n",
       "<rect x=\"24.999999999999993\" y=\"-118.75\" width=\"6.25\" height=\"6.25\" opacity=\"0.00804828973843059\" fill=\"currentColor\" stroke-width=\"0.1\"/>\n",
       "<rect x=\"31.25\" y=\"-118.75\" width=\"6.25\" height=\"6.25\" opacity=\"0.014084507042253534\" fill=\"currentColor\" stroke-width=\"0.1\"/>\n",
       "<rect x=\"37.50000000000001\" y=\"-118.75\" width=\"6.25\" height=\"6.25\" opacity=\"0.03420523138833001\" fill=\"currentColor\" stroke-width=\"0.1\"/>\n",
       "<rect x=\"43.750000000000014\" y=\"-118.75\" width=\"6.25\" height=\"6.25\" opacity=\"0.0321931589537225\" fill=\"currentColor\" stroke-width=\"0.1\"/>\n",
       "<rect x=\"49.999999999999986\" y=\"-118.75\" width=\"6.25\" height=\"6.25\" opacity=\"0.050301810865191185\" fill=\"currentColor\" stroke-width=\"0.1\"/>\n",
       "<rect x=\"56.24999999999999\" y=\"-118.75\" width=\"6.25\" height=\"6.25\" opacity=\"0.10462776659959767\" fill=\"currentColor\" stroke-width=\"0.1\"/>\n",
       "<rect x=\"62.5\" y=\"-118.75\" width=\"6.25\" height=\"6.25\" opacity=\"0.14084507042253533\" fill=\"currentColor\" stroke-width=\"0.1\"/>\n",
       "<rect x=\"68.75\" y=\"-118.75\" width=\"6.25\" height=\"6.25\" opacity=\"0.2052313883299803\" fill=\"currentColor\" stroke-width=\"0.1\"/>\n",
       "<rect x=\"75.00000000000001\" y=\"-118.75\" width=\"6.25\" height=\"6.25\" opacity=\"0.26559356136821005\" fill=\"currentColor\" stroke-width=\"0.1\"/>\n",
       "<rect x=\"81.24999999999999\" y=\"-118.75\" width=\"6.25\" height=\"6.25\" opacity=\"0.3983903420523147\" fill=\"currentColor\" stroke-width=\"0.1\"/>\n",
       "<rect x=\"87.5\" y=\"-118.75\" width=\"6.25\" height=\"6.25\" opacity=\"0.5513078470824954\" fill=\"currentColor\" stroke-width=\"0.1\"/>\n",
       "<rect x=\"93.75\" y=\"-118.75\" width=\"6.25\" height=\"6.25\" opacity=\"0.6458752515090549\" fill=\"currentColor\" stroke-width=\"0.1\"/>\n",
       "<rect x=\"100.0\" y=\"-118.75\" width=\"6.25\" height=\"6.25\" opacity=\"0.6961770623742469\" fill=\"currentColor\" stroke-width=\"0.1\"/>\n",
       "<rect x=\"106.25000000000001\" y=\"-118.75\" width=\"6.25\" height=\"6.25\" opacity=\"0.8450704225352139\" fill=\"currentColor\" stroke-width=\"0.1\"/>\n",
       "<rect x=\"112.49999999999999\" y=\"-118.75\" width=\"6.25\" height=\"6.25\" opacity=\"0.9637826961770645\" fill=\"currentColor\" stroke-width=\"0.1\"/>\n",
       "<rect x=\"118.75\" y=\"-118.75\" width=\"6.25\" height=\"6.25\" opacity=\"0.9014084507042261\" fill=\"currentColor\" stroke-width=\"0.1\"/>\n",
       "<rect x=\"125.0\" y=\"-118.75\" width=\"6.25\" height=\"6.25\" opacity=\"0.8953722334004032\" fill=\"currentColor\" stroke-width=\"0.1\"/>\n",
       "<rect x=\"131.25\" y=\"-118.75\" width=\"6.25\" height=\"6.25\" opacity=\"0.8269617706237431\" fill=\"currentColor\" stroke-width=\"0.1\"/>\n",
       "<rect x=\"137.5\" y=\"-118.75\" width=\"6.25\" height=\"6.25\" opacity=\"0.7867203219315937\" fill=\"currentColor\" stroke-width=\"0.1\"/>\n",
       "<rect x=\"143.75\" y=\"-118.75\" width=\"6.25\" height=\"6.25\" opacity=\"0.7002012072434614\" fill=\"currentColor\" stroke-width=\"0.1\"/>\n",
       "<rect x=\"150.0\" y=\"-118.75\" width=\"6.25\" height=\"6.25\" opacity=\"0.6820925553319925\" fill=\"currentColor\" stroke-width=\"0.1\"/>\n",
       "<rect x=\"156.25\" y=\"-118.75\" width=\"6.25\" height=\"6.25\" opacity=\"0.4768611670020124\" fill=\"currentColor\" stroke-width=\"0.1\"/>\n",
       "<rect x=\"162.5\" y=\"-118.75\" width=\"6.25\" height=\"6.25\" opacity=\"0.4064386317907448\" fill=\"currentColor\" stroke-width=\"0.1\"/>\n",
       "<rect x=\"168.75\" y=\"-118.75\" width=\"6.25\" height=\"6.25\" opacity=\"0.30784708249497145\" fill=\"currentColor\" stroke-width=\"0.1\"/>\n",
       "<rect x=\"175.0\" y=\"-118.75\" width=\"6.25\" height=\"6.25\" opacity=\"0.26358148893360184\" fill=\"currentColor\" stroke-width=\"0.1\"/>\n",
       "<rect x=\"181.25\" y=\"-118.75\" width=\"6.25\" height=\"6.25\" opacity=\"0.142857142857143\" fill=\"currentColor\" stroke-width=\"0.1\"/>\n",
       "<rect x=\"187.5\" y=\"-118.75\" width=\"6.25\" height=\"6.25\" opacity=\"0.10261569416499003\" fill=\"currentColor\" stroke-width=\"0.1\"/>\n",
       "<rect x=\"193.75\" y=\"-118.75\" width=\"6.25\" height=\"6.25\" opacity=\"0.07847082494969825\" fill=\"currentColor\" stroke-width=\"0.1\"/>\n",
       "<rect x=\"200.0\" y=\"-118.75\" width=\"6.25\" height=\"6.25\" opacity=\"0.03822937625754548\" fill=\"currentColor\" stroke-width=\"0.1\"/>\n",
       "<rect x=\"206.25\" y=\"-118.75\" width=\"6.25\" height=\"6.25\" opacity=\"0.03219315895372236\" fill=\"currentColor\" stroke-width=\"0.1\"/>\n",
       "<rect x=\"212.5\" y=\"-118.75\" width=\"6.25\" height=\"6.25\" opacity=\"0.02213279678068412\" fill=\"currentColor\" stroke-width=\"0.1\"/>\n",
       "<rect x=\"218.75\" y=\"-118.75\" width=\"6.25\" height=\"6.25\" opacity=\"0.00804828973843059\" fill=\"currentColor\" stroke-width=\"0.1\"/>\n",
       "<rect x=\"225.0\" y=\"-118.75\" width=\"6.25\" height=\"6.25\" opacity=\"0.00804828973843059\" fill=\"currentColor\" stroke-width=\"0.1\"/>\n",
       "<rect x=\"231.25\" y=\"-118.75\" width=\"6.25\" height=\"6.25\" opacity=\"0.0020120724346076565\" fill=\"currentColor\" stroke-width=\"0.1\"/>\n",
       "<rect x=\"237.5\" y=\"-118.75\" width=\"6.25\" height=\"6.25\" opacity=\"0.0\" fill=\"currentColor\" stroke-width=\"0.1\"/>\n",
       "<rect x=\"243.75\" y=\"-118.75\" width=\"6.25\" height=\"6.25\" opacity=\"0.0\" fill=\"currentColor\" stroke-width=\"0.1\"/>\n",
       "<rect x=\"0.0\" y=\"-125.0\" width=\"6.25\" height=\"6.25\" opacity=\"0.0\" fill=\"currentColor\" stroke-width=\"0.1\"/>\n",
       "<rect x=\"6.250000000000005\" y=\"-125.0\" width=\"6.25\" height=\"6.25\" opacity=\"0.0020120724346076456\" fill=\"currentColor\" stroke-width=\"0.1\"/>\n",
       "<rect x=\"12.50000000000001\" y=\"-125.0\" width=\"6.25\" height=\"6.25\" opacity=\"0.0\" fill=\"currentColor\" stroke-width=\"0.1\"/>\n",
       "<rect x=\"18.74999999999999\" y=\"-125.0\" width=\"6.25\" height=\"6.25\" opacity=\"0.0020120724346076456\" fill=\"currentColor\" stroke-width=\"0.1\"/>\n",
       "<rect x=\"24.999999999999993\" y=\"-125.0\" width=\"6.25\" height=\"6.25\" opacity=\"0.008048289738430582\" fill=\"currentColor\" stroke-width=\"0.1\"/>\n",
       "<rect x=\"31.25\" y=\"-125.0\" width=\"6.25\" height=\"6.25\" opacity=\"0.018108651911468814\" fill=\"currentColor\" stroke-width=\"0.1\"/>\n",
       "<rect x=\"37.50000000000001\" y=\"-125.0\" width=\"6.25\" height=\"6.25\" opacity=\"0.02012072434607646\" fill=\"currentColor\" stroke-width=\"0.1\"/>\n",
       "<rect x=\"43.750000000000014\" y=\"-125.0\" width=\"6.25\" height=\"6.25\" opacity=\"0.03621730382293777\" fill=\"currentColor\" stroke-width=\"0.1\"/>\n",
       "<rect x=\"49.999999999999986\" y=\"-125.0\" width=\"6.25\" height=\"6.25\" opacity=\"0.0744466800804829\" fill=\"currentColor\" stroke-width=\"0.1\"/>\n",
       "<rect x=\"56.24999999999999\" y=\"-125.0\" width=\"6.25\" height=\"6.25\" opacity=\"0.0885311871227364\" fill=\"currentColor\" stroke-width=\"0.1\"/>\n",
       "<rect x=\"62.5\" y=\"-125.0\" width=\"6.25\" height=\"6.25\" opacity=\"0.17505030181086517\" fill=\"currentColor\" stroke-width=\"0.1\"/>\n",
       "<rect x=\"68.75\" y=\"-125.0\" width=\"6.25\" height=\"6.25\" opacity=\"0.18511066398390358\" fill=\"currentColor\" stroke-width=\"0.1\"/>\n",
       "<rect x=\"75.00000000000001\" y=\"-125.0\" width=\"6.25\" height=\"6.25\" opacity=\"0.281690140845071\" fill=\"currentColor\" stroke-width=\"0.1\"/>\n",
       "<rect x=\"81.24999999999999\" y=\"-125.0\" width=\"6.25\" height=\"6.25\" opacity=\"0.3983903420523142\" fill=\"currentColor\" stroke-width=\"0.1\"/>\n",
       "<rect x=\"87.5\" y=\"-125.0\" width=\"6.25\" height=\"6.25\" opacity=\"0.4748490945674044\" fill=\"currentColor\" stroke-width=\"0.1\"/>\n",
       "<rect x=\"93.75\" y=\"-125.0\" width=\"6.25\" height=\"6.25\" opacity=\"0.6257545271629777\" fill=\"currentColor\" stroke-width=\"0.1\"/>\n",
       "<rect x=\"100.0\" y=\"-125.0\" width=\"6.25\" height=\"6.25\" opacity=\"0.7545271629778679\" fill=\"currentColor\" stroke-width=\"0.1\"/>\n",
       "<rect x=\"106.25000000000001\" y=\"-125.0\" width=\"6.25\" height=\"6.25\" opacity=\"0.8692152917505048\" fill=\"currentColor\" stroke-width=\"0.1\"/>\n",
       "<rect x=\"112.49999999999999\" y=\"-125.0\" width=\"6.25\" height=\"6.25\" opacity=\"0.8953722334004032\" fill=\"currentColor\" stroke-width=\"0.1\"/>\n",
       "<rect x=\"118.75\" y=\"-125.0\" width=\"6.25\" height=\"6.25\" opacity=\"0.9617706237424547\" fill=\"currentColor\" stroke-width=\"0.1\"/>\n",
       "<rect x=\"125.0\" y=\"-125.0\" width=\"6.25\" height=\"6.25\" opacity=\"1.0\" fill=\"currentColor\" stroke-width=\"0.1\"/>\n",
       "<rect x=\"131.25\" y=\"-125.0\" width=\"6.25\" height=\"6.25\" opacity=\"0.9577464788732393\" fill=\"currentColor\" stroke-width=\"0.1\"/>\n",
       "<rect x=\"137.5\" y=\"-125.0\" width=\"6.25\" height=\"6.25\" opacity=\"0.8289738430583536\" fill=\"currentColor\" stroke-width=\"0.1\"/>\n",
       "<rect x=\"143.75\" y=\"-125.0\" width=\"6.25\" height=\"6.25\" opacity=\"0.7243460764587524\" fill=\"currentColor\" stroke-width=\"0.1\"/>\n",
       "<rect x=\"150.0\" y=\"-125.0\" width=\"6.25\" height=\"6.25\" opacity=\"0.6659959758551307\" fill=\"currentColor\" stroke-width=\"0.1\"/>\n",
       "<rect x=\"156.25\" y=\"-125.0\" width=\"6.25\" height=\"6.25\" opacity=\"0.5130784708249497\" fill=\"currentColor\" stroke-width=\"0.1\"/>\n",
       "<rect x=\"162.5\" y=\"-125.0\" width=\"6.25\" height=\"6.25\" opacity=\"0.4245472837022133\" fill=\"currentColor\" stroke-width=\"0.1\"/>\n",
       "<rect x=\"168.75\" y=\"-125.0\" width=\"6.25\" height=\"6.25\" opacity=\"0.33199195171026297\" fill=\"currentColor\" stroke-width=\"0.1\"/>\n",
       "<rect x=\"175.0\" y=\"-125.0\" width=\"6.25\" height=\"6.25\" opacity=\"0.26358148893360156\" fill=\"currentColor\" stroke-width=\"0.1\"/>\n",
       "<rect x=\"181.25\" y=\"-125.0\" width=\"6.25\" height=\"6.25\" opacity=\"0.1529175050301811\" fill=\"currentColor\" stroke-width=\"0.1\"/>\n",
       "<rect x=\"187.5\" y=\"-125.0\" width=\"6.25\" height=\"6.25\" opacity=\"0.09054325955734405\" fill=\"currentColor\" stroke-width=\"0.1\"/>\n",
       "<rect x=\"193.75\" y=\"-125.0\" width=\"6.25\" height=\"6.25\" opacity=\"0.06841046277665995\" fill=\"currentColor\" stroke-width=\"0.1\"/>\n",
       "<rect x=\"200.0\" y=\"-125.0\" width=\"6.25\" height=\"6.25\" opacity=\"0.04627766599597605\" fill=\"currentColor\" stroke-width=\"0.1\"/>\n",
       "<rect x=\"206.25\" y=\"-125.0\" width=\"6.25\" height=\"6.25\" opacity=\"0.02414486921529175\" fill=\"currentColor\" stroke-width=\"0.1\"/>\n",
       "<rect x=\"212.5\" y=\"-125.0\" width=\"6.25\" height=\"6.25\" opacity=\"0.004024144869215291\" fill=\"currentColor\" stroke-width=\"0.1\"/>\n",
       "<rect x=\"218.75\" y=\"-125.0\" width=\"6.25\" height=\"6.25\" opacity=\"0.008048289738430582\" fill=\"currentColor\" stroke-width=\"0.1\"/>\n",
       "<rect x=\"225.0\" y=\"-125.0\" width=\"6.25\" height=\"6.25\" opacity=\"0.004024144869215291\" fill=\"currentColor\" stroke-width=\"0.1\"/>\n",
       "<rect x=\"231.25\" y=\"-125.0\" width=\"6.25\" height=\"6.25\" opacity=\"0.0\" fill=\"currentColor\" stroke-width=\"0.1\"/>\n",
       "<rect x=\"237.5\" y=\"-125.0\" width=\"6.25\" height=\"6.25\" opacity=\"0.004024144869215291\" fill=\"currentColor\" stroke-width=\"0.1\"/>\n",
       "<rect x=\"243.75\" y=\"-125.0\" width=\"6.25\" height=\"6.25\" opacity=\"0.0\" fill=\"currentColor\" stroke-width=\"0.1\"/>\n",
       "<rect x=\"0.0\" y=\"-131.25\" width=\"6.25\" height=\"6.25\" opacity=\"0.0\" fill=\"currentColor\" stroke-width=\"0.1\"/>\n",
       "<rect x=\"6.250000000000005\" y=\"-131.25\" width=\"6.25\" height=\"6.25\" opacity=\"0.0020120724346076456\" fill=\"currentColor\" stroke-width=\"0.1\"/>\n",
       "<rect x=\"12.50000000000001\" y=\"-131.25\" width=\"6.25\" height=\"6.25\" opacity=\"0.004024144869215309\" fill=\"currentColor\" stroke-width=\"0.1\"/>\n",
       "<rect x=\"18.74999999999999\" y=\"-131.25\" width=\"6.25\" height=\"6.25\" opacity=\"0.0020120724346076456\" fill=\"currentColor\" stroke-width=\"0.1\"/>\n",
       "<rect x=\"24.999999999999993\" y=\"-131.25\" width=\"6.25\" height=\"6.25\" opacity=\"0.006036217303822937\" fill=\"currentColor\" stroke-width=\"0.1\"/>\n",
       "<rect x=\"31.25\" y=\"-131.25\" width=\"6.25\" height=\"6.25\" opacity=\"0.026156941649899394\" fill=\"currentColor\" stroke-width=\"0.1\"/>\n",
       "<rect x=\"37.50000000000001\" y=\"-131.25\" width=\"6.25\" height=\"6.25\" opacity=\"0.026156941649899394\" fill=\"currentColor\" stroke-width=\"0.1\"/>\n",
       "<rect x=\"43.750000000000014\" y=\"-131.25\" width=\"6.25\" height=\"6.25\" opacity=\"0.04225352112676074\" fill=\"currentColor\" stroke-width=\"0.1\"/>\n",
       "<rect x=\"49.999999999999986\" y=\"-131.25\" width=\"6.25\" height=\"6.25\" opacity=\"0.08249496981891348\" fill=\"currentColor\" stroke-width=\"0.1\"/>\n",
       "<rect x=\"56.24999999999999\" y=\"-131.25\" width=\"6.25\" height=\"6.25\" opacity=\"0.10261569416498993\" fill=\"currentColor\" stroke-width=\"0.1\"/>\n",
       "<rect x=\"62.5\" y=\"-131.25\" width=\"6.25\" height=\"6.25\" opacity=\"0.19114688128772636\" fill=\"currentColor\" stroke-width=\"0.1\"/>\n",
       "<rect x=\"68.75\" y=\"-131.25\" width=\"6.25\" height=\"6.25\" opacity=\"0.21730382293762596\" fill=\"currentColor\" stroke-width=\"0.1\"/>\n",
       "<rect x=\"75.00000000000001\" y=\"-131.25\" width=\"6.25\" height=\"6.25\" opacity=\"0.2977867203219322\" fill=\"currentColor\" stroke-width=\"0.1\"/>\n",
       "<rect x=\"81.24999999999999\" y=\"-131.25\" width=\"6.25\" height=\"6.25\" opacity=\"0.4346076458752519\" fill=\"currentColor\" stroke-width=\"0.1\"/>\n",
       "<rect x=\"87.5\" y=\"-131.25\" width=\"6.25\" height=\"6.25\" opacity=\"0.5251509054325956\" fill=\"currentColor\" stroke-width=\"0.1\"/>\n",
       "<rect x=\"93.75\" y=\"-131.25\" width=\"6.25\" height=\"6.25\" opacity=\"0.7122736418511066\" fill=\"currentColor\" stroke-width=\"0.1\"/>\n",
       "<rect x=\"100.0\" y=\"-131.25\" width=\"6.25\" height=\"6.25\" opacity=\"0.730382293762576\" fill=\"currentColor\" stroke-width=\"0.1\"/>\n",
       "<rect x=\"106.25000000000001\" y=\"-131.25\" width=\"6.25\" height=\"6.25\" opacity=\"0.8551307847082513\" fill=\"currentColor\" stroke-width=\"0.1\"/>\n",
       "<rect x=\"112.49999999999999\" y=\"-131.25\" width=\"6.25\" height=\"6.25\" opacity=\"0.8812877263581497\" fill=\"currentColor\" stroke-width=\"0.1\"/>\n",
       "<rect x=\"118.75\" y=\"-131.25\" width=\"6.25\" height=\"6.25\" opacity=\"0.89738430583501\" fill=\"currentColor\" stroke-width=\"0.1\"/>\n",
       "<rect x=\"125.0\" y=\"-131.25\" width=\"6.25\" height=\"6.25\" opacity=\"0.903420523138833\" fill=\"currentColor\" stroke-width=\"0.1\"/>\n",
       "<rect x=\"131.25\" y=\"-131.25\" width=\"6.25\" height=\"6.25\" opacity=\"0.8772635814889336\" fill=\"currentColor\" stroke-width=\"0.1\"/>\n",
       "<rect x=\"137.5\" y=\"-131.25\" width=\"6.25\" height=\"6.25\" opacity=\"0.8531187122736454\" fill=\"currentColor\" stroke-width=\"0.1\"/>\n",
       "<rect x=\"143.75\" y=\"-131.25\" width=\"6.25\" height=\"6.25\" opacity=\"0.738430583501006\" fill=\"currentColor\" stroke-width=\"0.1\"/>\n",
       "<rect x=\"150.0\" y=\"-131.25\" width=\"6.25\" height=\"6.25\" opacity=\"0.6820925553319919\" fill=\"currentColor\" stroke-width=\"0.1\"/>\n",
       "<rect x=\"156.25\" y=\"-131.25\" width=\"6.25\" height=\"6.25\" opacity=\"0.5613682092555332\" fill=\"currentColor\" stroke-width=\"0.1\"/>\n",
       "<rect x=\"162.5\" y=\"-131.25\" width=\"6.25\" height=\"6.25\" opacity=\"0.4205231388329979\" fill=\"currentColor\" stroke-width=\"0.1\"/>\n",
       "<rect x=\"168.75\" y=\"-131.25\" width=\"6.25\" height=\"6.25\" opacity=\"0.3038229376257558\" fill=\"currentColor\" stroke-width=\"0.1\"/>\n",
       "<rect x=\"175.0\" y=\"-131.25\" width=\"6.25\" height=\"6.25\" opacity=\"0.2152917505030181\" fill=\"currentColor\" stroke-width=\"0.1\"/>\n",
       "<rect x=\"181.25\" y=\"-131.25\" width=\"6.25\" height=\"6.25\" opacity=\"0.158953722334004\" fill=\"currentColor\" stroke-width=\"0.1\"/>\n",
       "<rect x=\"187.5\" y=\"-131.25\" width=\"6.25\" height=\"6.25\" opacity=\"0.0925553319919517\" fill=\"currentColor\" stroke-width=\"0.1\"/>\n",
       "<rect x=\"193.75\" y=\"-131.25\" width=\"6.25\" height=\"6.25\" opacity=\"0.05633802816901408\" fill=\"currentColor\" stroke-width=\"0.1\"/>\n",
       "<rect x=\"200.0\" y=\"-131.25\" width=\"6.25\" height=\"6.25\" opacity=\"0.04225352112676074\" fill=\"currentColor\" stroke-width=\"0.1\"/>\n",
       "<rect x=\"206.25\" y=\"-131.25\" width=\"6.25\" height=\"6.25\" opacity=\"0.018108651911468814\" fill=\"currentColor\" stroke-width=\"0.1\"/>\n",
       "<rect x=\"212.5\" y=\"-131.25\" width=\"6.25\" height=\"6.25\" opacity=\"0.01006036217303823\" fill=\"currentColor\" stroke-width=\"0.1\"/>\n",
       "<rect x=\"218.75\" y=\"-131.25\" width=\"6.25\" height=\"6.25\" opacity=\"0.016096579476861165\" fill=\"currentColor\" stroke-width=\"0.1\"/>\n",
       "<rect x=\"225.0\" y=\"-131.25\" width=\"6.25\" height=\"6.25\" opacity=\"0.0020120724346076456\" fill=\"currentColor\" stroke-width=\"0.1\"/>\n",
       "<rect x=\"231.25\" y=\"-131.25\" width=\"6.25\" height=\"6.25\" opacity=\"0.004024144869215309\" fill=\"currentColor\" stroke-width=\"0.1\"/>\n",
       "<rect x=\"237.5\" y=\"-131.25\" width=\"6.25\" height=\"6.25\" opacity=\"0.006036217303822937\" fill=\"currentColor\" stroke-width=\"0.1\"/>\n",
       "<rect x=\"243.75\" y=\"-131.25\" width=\"6.25\" height=\"6.25\" opacity=\"0.0\" fill=\"currentColor\" stroke-width=\"0.1\"/>\n",
       "<rect x=\"0.0\" y=\"-137.5\" width=\"6.25\" height=\"6.25\" opacity=\"0.0\" fill=\"currentColor\" stroke-width=\"0.1\"/>\n",
       "<rect x=\"6.250000000000005\" y=\"-137.5\" width=\"6.25\" height=\"6.25\" opacity=\"0.0\" fill=\"currentColor\" stroke-width=\"0.1\"/>\n",
       "<rect x=\"12.50000000000001\" y=\"-137.5\" width=\"6.25\" height=\"6.25\" opacity=\"0.008048289738430617\" fill=\"currentColor\" stroke-width=\"0.1\"/>\n",
       "<rect x=\"18.74999999999999\" y=\"-137.5\" width=\"6.25\" height=\"6.25\" opacity=\"0.004024144869215291\" fill=\"currentColor\" stroke-width=\"0.1\"/>\n",
       "<rect x=\"24.999999999999993\" y=\"-137.5\" width=\"6.25\" height=\"6.25\" opacity=\"0.006036217303822937\" fill=\"currentColor\" stroke-width=\"0.1\"/>\n",
       "<rect x=\"31.25\" y=\"-137.5\" width=\"6.25\" height=\"6.25\" opacity=\"0.02012072434607646\" fill=\"currentColor\" stroke-width=\"0.1\"/>\n",
       "<rect x=\"37.50000000000001\" y=\"-137.5\" width=\"6.25\" height=\"6.25\" opacity=\"0.034205231388329975\" fill=\"currentColor\" stroke-width=\"0.1\"/>\n",
       "<rect x=\"43.750000000000014\" y=\"-137.5\" width=\"6.25\" height=\"6.25\" opacity=\"0.044265593561368395\" fill=\"currentColor\" stroke-width=\"0.1\"/>\n",
       "<rect x=\"49.999999999999986\" y=\"-137.5\" width=\"6.25\" height=\"6.25\" opacity=\"0.08249496981891348\" fill=\"currentColor\" stroke-width=\"0.1\"/>\n",
       "<rect x=\"56.24999999999999\" y=\"-137.5\" width=\"6.25\" height=\"6.25\" opacity=\"0.10663983903420522\" fill=\"currentColor\" stroke-width=\"0.1\"/>\n",
       "<rect x=\"62.5\" y=\"-137.5\" width=\"6.25\" height=\"6.25\" opacity=\"0.1810865191146881\" fill=\"currentColor\" stroke-width=\"0.1\"/>\n",
       "<rect x=\"68.75\" y=\"-137.5\" width=\"6.25\" height=\"6.25\" opacity=\"0.20120724346076474\" fill=\"currentColor\" stroke-width=\"0.1\"/>\n",
       "<rect x=\"75.00000000000001\" y=\"-137.5\" width=\"6.25\" height=\"6.25\" opacity=\"0.275653923541248\" fill=\"currentColor\" stroke-width=\"0.1\"/>\n",
       "<rect x=\"81.24999999999999\" y=\"-137.5\" width=\"6.25\" height=\"6.25\" opacity=\"0.41649899396378304\" fill=\"currentColor\" stroke-width=\"0.1\"/>\n",
       "<rect x=\"87.5\" y=\"-137.5\" width=\"6.25\" height=\"6.25\" opacity=\"0.48893360160965793\" fill=\"currentColor\" stroke-width=\"0.1\"/>\n",
       "<rect x=\"93.75\" y=\"-137.5\" width=\"6.25\" height=\"6.25\" opacity=\"0.6378269617706237\" fill=\"currentColor\" stroke-width=\"0.1\"/>\n",
       "<rect x=\"100.0\" y=\"-137.5\" width=\"6.25\" height=\"6.25\" opacity=\"0.702213279678069\" fill=\"currentColor\" stroke-width=\"0.1\"/>\n",
       "<rect x=\"106.25000000000001\" y=\"-137.5\" width=\"6.25\" height=\"6.25\" opacity=\"0.8128772635814906\" fill=\"currentColor\" stroke-width=\"0.1\"/>\n",
       "<rect x=\"112.49999999999999\" y=\"-137.5\" width=\"6.25\" height=\"6.25\" opacity=\"0.8209255533199202\" fill=\"currentColor\" stroke-width=\"0.1\"/>\n",
       "<rect x=\"118.75\" y=\"-137.5\" width=\"6.25\" height=\"6.25\" opacity=\"0.8832997987927564\" fill=\"currentColor\" stroke-width=\"0.1\"/>\n",
       "<rect x=\"125.0\" y=\"-137.5\" width=\"6.25\" height=\"6.25\" opacity=\"0.8853118712273641\" fill=\"currentColor\" stroke-width=\"0.1\"/>\n",
       "<rect x=\"131.25\" y=\"-137.5\" width=\"6.25\" height=\"6.25\" opacity=\"0.9818913480885311\" fill=\"currentColor\" stroke-width=\"0.1\"/>\n",
       "<rect x=\"137.5\" y=\"-137.5\" width=\"6.25\" height=\"6.25\" opacity=\"0.8913480885311907\" fill=\"currentColor\" stroke-width=\"0.1\"/>\n",
       "<rect x=\"143.75\" y=\"-137.5\" width=\"6.25\" height=\"6.25\" opacity=\"0.704225352112676\" fill=\"currentColor\" stroke-width=\"0.1\"/>\n",
       "<rect x=\"150.0\" y=\"-137.5\" width=\"6.25\" height=\"6.25\" opacity=\"0.6136820925553319\" fill=\"currentColor\" stroke-width=\"0.1\"/>\n",
       "<rect x=\"156.25\" y=\"-137.5\" width=\"6.25\" height=\"6.25\" opacity=\"0.545271629778672\" fill=\"currentColor\" stroke-width=\"0.1\"/>\n",
       "<rect x=\"162.5\" y=\"-137.5\" width=\"6.25\" height=\"6.25\" opacity=\"0.3641851106639839\" fill=\"currentColor\" stroke-width=\"0.1\"/>\n",
       "<rect x=\"168.75\" y=\"-137.5\" width=\"6.25\" height=\"6.25\" opacity=\"0.3038229376257558\" fill=\"currentColor\" stroke-width=\"0.1\"/>\n",
       "<rect x=\"175.0\" y=\"-137.5\" width=\"6.25\" height=\"6.25\" opacity=\"0.20321931589537223\" fill=\"currentColor\" stroke-width=\"0.1\"/>\n",
       "<rect x=\"181.25\" y=\"-137.5\" width=\"6.25\" height=\"6.25\" opacity=\"0.1327967806841046\" fill=\"currentColor\" stroke-width=\"0.1\"/>\n",
       "<rect x=\"187.5\" y=\"-137.5\" width=\"6.25\" height=\"6.25\" opacity=\"0.11066398390342051\" fill=\"currentColor\" stroke-width=\"0.1\"/>\n",
       "<rect x=\"193.75\" y=\"-137.5\" width=\"6.25\" height=\"6.25\" opacity=\"0.054325955734406434\" fill=\"currentColor\" stroke-width=\"0.1\"/>\n",
       "<rect x=\"200.0\" y=\"-137.5\" width=\"6.25\" height=\"6.25\" opacity=\"0.040241448692153084\" fill=\"currentColor\" stroke-width=\"0.1\"/>\n",
       "<rect x=\"206.25\" y=\"-137.5\" width=\"6.25\" height=\"6.25\" opacity=\"0.03621730382293763\" fill=\"currentColor\" stroke-width=\"0.1\"/>\n",
       "<rect x=\"212.5\" y=\"-137.5\" width=\"6.25\" height=\"6.25\" opacity=\"0.006036217303822937\" fill=\"currentColor\" stroke-width=\"0.1\"/>\n",
       "<rect x=\"218.75\" y=\"-137.5\" width=\"6.25\" height=\"6.25\" opacity=\"0.006036217303822937\" fill=\"currentColor\" stroke-width=\"0.1\"/>\n",
       "<rect x=\"225.0\" y=\"-137.5\" width=\"6.25\" height=\"6.25\" opacity=\"0.004024144869215291\" fill=\"currentColor\" stroke-width=\"0.1\"/>\n",
       "<rect x=\"231.25\" y=\"-137.5\" width=\"6.25\" height=\"6.25\" opacity=\"0.006036217303822963\" fill=\"currentColor\" stroke-width=\"0.1\"/>\n",
       "<rect x=\"237.5\" y=\"-137.5\" width=\"6.25\" height=\"6.25\" opacity=\"0.0\" fill=\"currentColor\" stroke-width=\"0.1\"/>\n",
       "<rect x=\"243.75\" y=\"-137.5\" width=\"6.25\" height=\"6.25\" opacity=\"0.0\" fill=\"currentColor\" stroke-width=\"0.1\"/>\n",
       "<rect x=\"0.0\" y=\"-143.75\" width=\"6.25\" height=\"6.25\" opacity=\"0.0\" fill=\"currentColor\" stroke-width=\"0.1\"/>\n",
       "<rect x=\"6.250000000000005\" y=\"-143.75\" width=\"6.25\" height=\"6.25\" opacity=\"0.0\" fill=\"currentColor\" stroke-width=\"0.1\"/>\n",
       "<rect x=\"12.50000000000001\" y=\"-143.75\" width=\"6.25\" height=\"6.25\" opacity=\"0.0020120724346076634\" fill=\"currentColor\" stroke-width=\"0.1\"/>\n",
       "<rect x=\"18.74999999999999\" y=\"-143.75\" width=\"6.25\" height=\"6.25\" opacity=\"0.004024144869215309\" fill=\"currentColor\" stroke-width=\"0.1\"/>\n",
       "<rect x=\"24.999999999999993\" y=\"-143.75\" width=\"6.25\" height=\"6.25\" opacity=\"0.012072434607645927\" fill=\"currentColor\" stroke-width=\"0.1\"/>\n",
       "<rect x=\"31.25\" y=\"-143.75\" width=\"6.25\" height=\"6.25\" opacity=\"0.008048289738430617\" fill=\"currentColor\" stroke-width=\"0.1\"/>\n",
       "<rect x=\"37.50000000000001\" y=\"-143.75\" width=\"6.25\" height=\"6.25\" opacity=\"0.03420523138833013\" fill=\"currentColor\" stroke-width=\"0.1\"/>\n",
       "<rect x=\"43.750000000000014\" y=\"-143.75\" width=\"6.25\" height=\"6.25\" opacity=\"0.040241448692153264\" fill=\"currentColor\" stroke-width=\"0.1\"/>\n",
       "<rect x=\"49.999999999999986\" y=\"-143.75\" width=\"6.25\" height=\"6.25\" opacity=\"0.05432595573440666\" fill=\"currentColor\" stroke-width=\"0.1\"/>\n",
       "<rect x=\"56.24999999999999\" y=\"-143.75\" width=\"6.25\" height=\"6.25\" opacity=\"0.08249496981891383\" fill=\"currentColor\" stroke-width=\"0.1\"/>\n",
       "<rect x=\"62.5\" y=\"-143.75\" width=\"6.25\" height=\"6.25\" opacity=\"0.1488933601609664\" fill=\"currentColor\" stroke-width=\"0.1\"/>\n",
       "<rect x=\"68.75\" y=\"-143.75\" width=\"6.25\" height=\"6.25\" opacity=\"0.1951710261569427\" fill=\"currentColor\" stroke-width=\"0.1\"/>\n",
       "<rect x=\"75.00000000000001\" y=\"-143.75\" width=\"6.25\" height=\"6.25\" opacity=\"0.2615694164989957\" fill=\"currentColor\" stroke-width=\"0.1\"/>\n",
       "<rect x=\"81.24999999999999\" y=\"-143.75\" width=\"6.25\" height=\"6.25\" opacity=\"0.3661971830985935\" fill=\"currentColor\" stroke-width=\"0.1\"/>\n",
       "<rect x=\"87.5\" y=\"-143.75\" width=\"6.25\" height=\"6.25\" opacity=\"0.482897384305837\" fill=\"currentColor\" stroke-width=\"0.1\"/>\n",
       "<rect x=\"93.75\" y=\"-143.75\" width=\"6.25\" height=\"6.25\" opacity=\"0.581488933601612\" fill=\"currentColor\" stroke-width=\"0.1\"/>\n",
       "<rect x=\"100.0\" y=\"-143.75\" width=\"6.25\" height=\"6.25\" opacity=\"0.6700201207243497\" fill=\"currentColor\" stroke-width=\"0.1\"/>\n",
       "<rect x=\"106.25000000000001\" y=\"-143.75\" width=\"6.25\" height=\"6.25\" opacity=\"0.7243460764587571\" fill=\"currentColor\" stroke-width=\"0.1\"/>\n",
       "<rect x=\"112.49999999999999\" y=\"-143.75\" width=\"6.25\" height=\"6.25\" opacity=\"0.7766599597585555\" fill=\"currentColor\" stroke-width=\"0.1\"/>\n",
       "<rect x=\"118.75\" y=\"-143.75\" width=\"6.25\" height=\"6.25\" opacity=\"0.8068410462776693\" fill=\"currentColor\" stroke-width=\"0.1\"/>\n",
       "<rect x=\"125.0\" y=\"-143.75\" width=\"6.25\" height=\"6.25\" opacity=\"0.8571428571428608\" fill=\"currentColor\" stroke-width=\"0.1\"/>\n",
       "<rect x=\"131.25\" y=\"-143.75\" width=\"6.25\" height=\"6.25\" opacity=\"0.7907444668008081\" fill=\"currentColor\" stroke-width=\"0.1\"/>\n",
       "<rect x=\"137.5\" y=\"-143.75\" width=\"6.25\" height=\"6.25\" opacity=\"0.7444668008048354\" fill=\"currentColor\" stroke-width=\"0.1\"/>\n",
       "<rect x=\"143.75\" y=\"-143.75\" width=\"6.25\" height=\"6.25\" opacity=\"0.6076458752515116\" fill=\"currentColor\" stroke-width=\"0.1\"/>\n",
       "<rect x=\"150.0\" y=\"-143.75\" width=\"6.25\" height=\"6.25\" opacity=\"0.48088531187122935\" fill=\"currentColor\" stroke-width=\"0.1\"/>\n",
       "<rect x=\"156.25\" y=\"-143.75\" width=\"6.25\" height=\"6.25\" opacity=\"0.4386317907444687\" fill=\"currentColor\" stroke-width=\"0.1\"/>\n",
       "<rect x=\"162.5\" y=\"-143.75\" width=\"6.25\" height=\"6.25\" opacity=\"0.35010060362173184\" fill=\"currentColor\" stroke-width=\"0.1\"/>\n",
       "<rect x=\"168.75\" y=\"-143.75\" width=\"6.25\" height=\"6.25\" opacity=\"0.2595573440643886\" fill=\"currentColor\" stroke-width=\"0.1\"/>\n",
       "<rect x=\"175.0\" y=\"-143.75\" width=\"6.25\" height=\"6.25\" opacity=\"0.2253521126760573\" fill=\"currentColor\" stroke-width=\"0.1\"/>\n",
       "<rect x=\"181.25\" y=\"-143.75\" width=\"6.25\" height=\"6.25\" opacity=\"0.16498993963782765\" fill=\"currentColor\" stroke-width=\"0.1\"/>\n",
       "<rect x=\"187.5\" y=\"-143.75\" width=\"6.25\" height=\"6.25\" opacity=\"0.07847082494969851\" fill=\"currentColor\" stroke-width=\"0.1\"/>\n",
       "<rect x=\"193.75\" y=\"-143.75\" width=\"6.25\" height=\"6.25\" opacity=\"0.05432595573440666\" fill=\"currentColor\" stroke-width=\"0.1\"/>\n",
       "<rect x=\"200.0\" y=\"-143.75\" width=\"6.25\" height=\"6.25\" opacity=\"0.040241448692153264\" fill=\"currentColor\" stroke-width=\"0.1\"/>\n",
       "<rect x=\"206.25\" y=\"-143.75\" width=\"6.25\" height=\"6.25\" opacity=\"0.03822937625754543\" fill=\"currentColor\" stroke-width=\"0.1\"/>\n",
       "<rect x=\"212.5\" y=\"-143.75\" width=\"6.25\" height=\"6.25\" opacity=\"0.016096579476861234\" fill=\"currentColor\" stroke-width=\"0.1\"/>\n",
       "<rect x=\"218.75\" y=\"-143.75\" width=\"6.25\" height=\"6.25\" opacity=\"0.012072434607645927\" fill=\"currentColor\" stroke-width=\"0.1\"/>\n",
       "<rect x=\"225.0\" y=\"-143.75\" width=\"6.25\" height=\"6.25\" opacity=\"0.008048289738430617\" fill=\"currentColor\" stroke-width=\"0.1\"/>\n",
       "<rect x=\"231.25\" y=\"-143.75\" width=\"6.25\" height=\"6.25\" opacity=\"0.0\" fill=\"currentColor\" stroke-width=\"0.1\"/>\n",
       "<rect x=\"237.5\" y=\"-143.75\" width=\"6.25\" height=\"6.25\" opacity=\"0.0\" fill=\"currentColor\" stroke-width=\"0.1\"/>\n",
       "<rect x=\"243.75\" y=\"-143.75\" width=\"6.25\" height=\"6.25\" opacity=\"0.0\" fill=\"currentColor\" stroke-width=\"0.1\"/>\n",
       "<rect x=\"0.0\" y=\"-150.0\" width=\"6.25\" height=\"6.25\" opacity=\"0.0\" fill=\"currentColor\" stroke-width=\"0.1\"/>\n",
       "<rect x=\"6.250000000000005\" y=\"-150.0\" width=\"6.25\" height=\"6.25\" opacity=\"0.0\" fill=\"currentColor\" stroke-width=\"0.1\"/>\n",
       "<rect x=\"12.50000000000001\" y=\"-150.0\" width=\"6.25\" height=\"6.25\" opacity=\"0.0\" fill=\"currentColor\" stroke-width=\"0.1\"/>\n",
       "<rect x=\"18.74999999999999\" y=\"-150.0\" width=\"6.25\" height=\"6.25\" opacity=\"0.0\" fill=\"currentColor\" stroke-width=\"0.1\"/>\n",
       "<rect x=\"24.999999999999993\" y=\"-150.0\" width=\"6.25\" height=\"6.25\" opacity=\"0.0020120724346076456\" fill=\"currentColor\" stroke-width=\"0.1\"/>\n",
       "<rect x=\"31.25\" y=\"-150.0\" width=\"6.25\" height=\"6.25\" opacity=\"0.006036217303822937\" fill=\"currentColor\" stroke-width=\"0.1\"/>\n",
       "<rect x=\"37.50000000000001\" y=\"-150.0\" width=\"6.25\" height=\"6.25\" opacity=\"0.018108651911468814\" fill=\"currentColor\" stroke-width=\"0.1\"/>\n",
       "<rect x=\"43.750000000000014\" y=\"-150.0\" width=\"6.25\" height=\"6.25\" opacity=\"0.03822937625754543\" fill=\"currentColor\" stroke-width=\"0.1\"/>\n",
       "<rect x=\"49.999999999999986\" y=\"-150.0\" width=\"6.25\" height=\"6.25\" opacity=\"0.0482897384305835\" fill=\"currentColor\" stroke-width=\"0.1\"/>\n",
       "<rect x=\"56.24999999999999\" y=\"-150.0\" width=\"6.25\" height=\"6.25\" opacity=\"0.11267605633802816\" fill=\"currentColor\" stroke-width=\"0.1\"/>\n",
       "<rect x=\"62.5\" y=\"-150.0\" width=\"6.25\" height=\"6.25\" opacity=\"0.12474849094567404\" fill=\"currentColor\" stroke-width=\"0.1\"/>\n",
       "<rect x=\"68.75\" y=\"-150.0\" width=\"6.25\" height=\"6.25\" opacity=\"0.20120724346076474\" fill=\"currentColor\" stroke-width=\"0.1\"/>\n",
       "<rect x=\"75.00000000000001\" y=\"-150.0\" width=\"6.25\" height=\"6.25\" opacity=\"0.24346076458752566\" fill=\"currentColor\" stroke-width=\"0.1\"/>\n",
       "<rect x=\"81.24999999999999\" y=\"-150.0\" width=\"6.25\" height=\"6.25\" opacity=\"0.31991951710261596\" fill=\"currentColor\" stroke-width=\"0.1\"/>\n",
       "<rect x=\"87.5\" y=\"-150.0\" width=\"6.25\" height=\"6.25\" opacity=\"0.4164989939637827\" fill=\"currentColor\" stroke-width=\"0.1\"/>\n",
       "<rect x=\"93.75\" y=\"-150.0\" width=\"6.25\" height=\"6.25\" opacity=\"0.5412474849094567\" fill=\"currentColor\" stroke-width=\"0.1\"/>\n",
       "<rect x=\"100.0\" y=\"-150.0\" width=\"6.25\" height=\"6.25\" opacity=\"0.627766599597586\" fill=\"currentColor\" stroke-width=\"0.1\"/>\n",
       "<rect x=\"106.25000000000001\" y=\"-150.0\" width=\"6.25\" height=\"6.25\" opacity=\"0.655935613682094\" fill=\"currentColor\" stroke-width=\"0.1\"/>\n",
       "<rect x=\"112.49999999999999\" y=\"-150.0\" width=\"6.25\" height=\"6.25\" opacity=\"0.6358148893360167\" fill=\"currentColor\" stroke-width=\"0.1\"/>\n",
       "<rect x=\"118.75\" y=\"-150.0\" width=\"6.25\" height=\"6.25\" opacity=\"0.7967806841046278\" fill=\"currentColor\" stroke-width=\"0.1\"/>\n",
       "<rect x=\"125.0\" y=\"-150.0\" width=\"6.25\" height=\"6.25\" opacity=\"0.7746478873239436\" fill=\"currentColor\" stroke-width=\"0.1\"/>\n",
       "<rect x=\"131.25\" y=\"-150.0\" width=\"6.25\" height=\"6.25\" opacity=\"0.6659959758551307\" fill=\"currentColor\" stroke-width=\"0.1\"/>\n",
       "<rect x=\"137.5\" y=\"-150.0\" width=\"6.25\" height=\"6.25\" opacity=\"0.6498993963782723\" fill=\"currentColor\" stroke-width=\"0.1\"/>\n",
       "<rect x=\"143.75\" y=\"-150.0\" width=\"6.25\" height=\"6.25\" opacity=\"0.5633802816901409\" fill=\"currentColor\" stroke-width=\"0.1\"/>\n",
       "<rect x=\"150.0\" y=\"-150.0\" width=\"6.25\" height=\"6.25\" opacity=\"0.4849094567404426\" fill=\"currentColor\" stroke-width=\"0.1\"/>\n",
       "<rect x=\"156.25\" y=\"-150.0\" width=\"6.25\" height=\"6.25\" opacity=\"0.380281690140845\" fill=\"currentColor\" stroke-width=\"0.1\"/>\n",
       "<rect x=\"162.5\" y=\"-150.0\" width=\"6.25\" height=\"6.25\" opacity=\"0.317907444668008\" fill=\"currentColor\" stroke-width=\"0.1\"/>\n",
       "<rect x=\"168.75\" y=\"-150.0\" width=\"6.25\" height=\"6.25\" opacity=\"0.25352112676056443\" fill=\"currentColor\" stroke-width=\"0.1\"/>\n",
       "<rect x=\"175.0\" y=\"-150.0\" width=\"6.25\" height=\"6.25\" opacity=\"0.1730382293762575\" fill=\"currentColor\" stroke-width=\"0.1\"/>\n",
       "<rect x=\"181.25\" y=\"-150.0\" width=\"6.25\" height=\"6.25\" opacity=\"0.13480885311871227\" fill=\"currentColor\" stroke-width=\"0.1\"/>\n",
       "<rect x=\"187.5\" y=\"-150.0\" width=\"6.25\" height=\"6.25\" opacity=\"0.0663983903420523\" fill=\"currentColor\" stroke-width=\"0.1\"/>\n",
       "<rect x=\"193.75\" y=\"-150.0\" width=\"6.25\" height=\"6.25\" opacity=\"0.0442655935613682\" fill=\"currentColor\" stroke-width=\"0.1\"/>\n",
       "<rect x=\"200.0\" y=\"-150.0\" width=\"6.25\" height=\"6.25\" opacity=\"0.020120724346076542\" fill=\"currentColor\" stroke-width=\"0.1\"/>\n",
       "<rect x=\"206.25\" y=\"-150.0\" width=\"6.25\" height=\"6.25\" opacity=\"0.012072434607645875\" fill=\"currentColor\" stroke-width=\"0.1\"/>\n",
       "<rect x=\"212.5\" y=\"-150.0\" width=\"6.25\" height=\"6.25\" opacity=\"0.008048289738430582\" fill=\"currentColor\" stroke-width=\"0.1\"/>\n",
       "<rect x=\"218.75\" y=\"-150.0\" width=\"6.25\" height=\"6.25\" opacity=\"0.004024144869215291\" fill=\"currentColor\" stroke-width=\"0.1\"/>\n",
       "<rect x=\"225.0\" y=\"-150.0\" width=\"6.25\" height=\"6.25\" opacity=\"0.0020120724346076456\" fill=\"currentColor\" stroke-width=\"0.1\"/>\n",
       "<rect x=\"231.25\" y=\"-150.0\" width=\"6.25\" height=\"6.25\" opacity=\"0.0020120724346076543\" fill=\"currentColor\" stroke-width=\"0.1\"/>\n",
       "<rect x=\"237.5\" y=\"-150.0\" width=\"6.25\" height=\"6.25\" opacity=\"0.0\" fill=\"currentColor\" stroke-width=\"0.1\"/>\n",
       "<rect x=\"243.75\" y=\"-150.0\" width=\"6.25\" height=\"6.25\" opacity=\"0.0020120724346076456\" fill=\"currentColor\" stroke-width=\"0.1\"/>\n",
       "<rect x=\"0.0\" y=\"-156.25\" width=\"6.25\" height=\"6.25\" opacity=\"0.0020120724346076456\" fill=\"currentColor\" stroke-width=\"0.1\"/>\n",
       "<rect x=\"6.250000000000005\" y=\"-156.25\" width=\"6.25\" height=\"6.25\" opacity=\"0.0\" fill=\"currentColor\" stroke-width=\"0.1\"/>\n",
       "<rect x=\"12.50000000000001\" y=\"-156.25\" width=\"6.25\" height=\"6.25\" opacity=\"0.004024144869215309\" fill=\"currentColor\" stroke-width=\"0.1\"/>\n",
       "<rect x=\"18.74999999999999\" y=\"-156.25\" width=\"6.25\" height=\"6.25\" opacity=\"0.0020120724346076456\" fill=\"currentColor\" stroke-width=\"0.1\"/>\n",
       "<rect x=\"24.999999999999993\" y=\"-156.25\" width=\"6.25\" height=\"6.25\" opacity=\"0.0\" fill=\"currentColor\" stroke-width=\"0.1\"/>\n",
       "<rect x=\"31.25\" y=\"-156.25\" width=\"6.25\" height=\"6.25\" opacity=\"0.006036217303822937\" fill=\"currentColor\" stroke-width=\"0.1\"/>\n",
       "<rect x=\"37.50000000000001\" y=\"-156.25\" width=\"6.25\" height=\"6.25\" opacity=\"0.02414486921529175\" fill=\"currentColor\" stroke-width=\"0.1\"/>\n",
       "<rect x=\"43.750000000000014\" y=\"-156.25\" width=\"6.25\" height=\"6.25\" opacity=\"0.018108651911468886\" fill=\"currentColor\" stroke-width=\"0.1\"/>\n",
       "<rect x=\"49.999999999999986\" y=\"-156.25\" width=\"6.25\" height=\"6.25\" opacity=\"0.04225352112676056\" fill=\"currentColor\" stroke-width=\"0.1\"/>\n",
       "<rect x=\"56.24999999999999\" y=\"-156.25\" width=\"6.25\" height=\"6.25\" opacity=\"0.06036217303822937\" fill=\"currentColor\" stroke-width=\"0.1\"/>\n",
       "<rect x=\"62.5\" y=\"-156.25\" width=\"6.25\" height=\"6.25\" opacity=\"0.1327967806841046\" fill=\"currentColor\" stroke-width=\"0.1\"/>\n",
       "<rect x=\"68.75\" y=\"-156.25\" width=\"6.25\" height=\"6.25\" opacity=\"0.142857142857143\" fill=\"currentColor\" stroke-width=\"0.1\"/>\n",
       "<rect x=\"75.00000000000001\" y=\"-156.25\" width=\"6.25\" height=\"6.25\" opacity=\"0.2092555331991956\" fill=\"currentColor\" stroke-width=\"0.1\"/>\n",
       "<rect x=\"81.24999999999999\" y=\"-156.25\" width=\"6.25\" height=\"6.25\" opacity=\"0.30784708249497006\" fill=\"currentColor\" stroke-width=\"0.1\"/>\n",
       "<rect x=\"87.5\" y=\"-156.25\" width=\"6.25\" height=\"6.25\" opacity=\"0.3259557344064386\" fill=\"currentColor\" stroke-width=\"0.1\"/>\n",
       "<rect x=\"93.75\" y=\"-156.25\" width=\"6.25\" height=\"6.25\" opacity=\"0.44466800804828965\" fill=\"currentColor\" stroke-width=\"0.1\"/>\n",
       "<rect x=\"100.0\" y=\"-156.25\" width=\"6.25\" height=\"6.25\" opacity=\"0.49698189134808896\" fill=\"currentColor\" stroke-width=\"0.1\"/>\n",
       "<rect x=\"106.25000000000001\" y=\"-156.25\" width=\"6.25\" height=\"6.25\" opacity=\"0.6056338028169026\" fill=\"currentColor\" stroke-width=\"0.1\"/>\n",
       "<rect x=\"112.49999999999999\" y=\"-156.25\" width=\"6.25\" height=\"6.25\" opacity=\"0.6036217303822943\" fill=\"currentColor\" stroke-width=\"0.1\"/>\n",
       "<rect x=\"118.75\" y=\"-156.25\" width=\"6.25\" height=\"6.25\" opacity=\"0.6317907444668007\" fill=\"currentColor\" stroke-width=\"0.1\"/>\n",
       "<rect x=\"125.0\" y=\"-156.25\" width=\"6.25\" height=\"6.25\" opacity=\"0.5593561368209254\" fill=\"currentColor\" stroke-width=\"0.1\"/>\n",
       "<rect x=\"131.25\" y=\"-156.25\" width=\"6.25\" height=\"6.25\" opacity=\"0.607645875251509\" fill=\"currentColor\" stroke-width=\"0.1\"/>\n",
       "<rect x=\"137.5\" y=\"-156.25\" width=\"6.25\" height=\"6.25\" opacity=\"0.5271629778672055\" fill=\"currentColor\" stroke-width=\"0.1\"/>\n",
       "<rect x=\"143.75\" y=\"-156.25\" width=\"6.25\" height=\"6.25\" opacity=\"0.5050301810865191\" fill=\"currentColor\" stroke-width=\"0.1\"/>\n",
       "<rect x=\"150.0\" y=\"-156.25\" width=\"6.25\" height=\"6.25\" opacity=\"0.448692152917505\" fill=\"currentColor\" stroke-width=\"0.1\"/>\n",
       "<rect x=\"156.25\" y=\"-156.25\" width=\"6.25\" height=\"6.25\" opacity=\"0.3903420523138833\" fill=\"currentColor\" stroke-width=\"0.1\"/>\n",
       "<rect x=\"162.5\" y=\"-156.25\" width=\"6.25\" height=\"6.25\" opacity=\"0.31589537223340036\" fill=\"currentColor\" stroke-width=\"0.1\"/>\n",
       "<rect x=\"168.75\" y=\"-156.25\" width=\"6.25\" height=\"6.25\" opacity=\"0.25150905432595677\" fill=\"currentColor\" stroke-width=\"0.1\"/>\n",
       "<rect x=\"175.0\" y=\"-156.25\" width=\"6.25\" height=\"6.25\" opacity=\"0.1529175050301811\" fill=\"currentColor\" stroke-width=\"0.1\"/>\n",
       "<rect x=\"181.25\" y=\"-156.25\" width=\"6.25\" height=\"6.25\" opacity=\"0.11670020120724345\" fill=\"currentColor\" stroke-width=\"0.1\"/>\n",
       "<rect x=\"187.5\" y=\"-156.25\" width=\"6.25\" height=\"6.25\" opacity=\"0.08048289738430583\" fill=\"currentColor\" stroke-width=\"0.1\"/>\n",
       "<rect x=\"193.75\" y=\"-156.25\" width=\"6.25\" height=\"6.25\" opacity=\"0.03621730382293763\" fill=\"currentColor\" stroke-width=\"0.1\"/>\n",
       "<rect x=\"200.0\" y=\"-156.25\" width=\"6.25\" height=\"6.25\" opacity=\"0.040241448692153084\" fill=\"currentColor\" stroke-width=\"0.1\"/>\n",
       "<rect x=\"206.25\" y=\"-156.25\" width=\"6.25\" height=\"6.25\" opacity=\"0.016096579476861165\" fill=\"currentColor\" stroke-width=\"0.1\"/>\n",
       "<rect x=\"212.5\" y=\"-156.25\" width=\"6.25\" height=\"6.25\" opacity=\"0.006036217303822937\" fill=\"currentColor\" stroke-width=\"0.1\"/>\n",
       "<rect x=\"218.75\" y=\"-156.25\" width=\"6.25\" height=\"6.25\" opacity=\"0.004024144869215291\" fill=\"currentColor\" stroke-width=\"0.1\"/>\n",
       "<rect x=\"225.0\" y=\"-156.25\" width=\"6.25\" height=\"6.25\" opacity=\"0.0020120724346076456\" fill=\"currentColor\" stroke-width=\"0.1\"/>\n",
       "<rect x=\"231.25\" y=\"-156.25\" width=\"6.25\" height=\"6.25\" opacity=\"0.0020120724346076543\" fill=\"currentColor\" stroke-width=\"0.1\"/>\n",
       "<rect x=\"237.5\" y=\"-156.25\" width=\"6.25\" height=\"6.25\" opacity=\"0.0\" fill=\"currentColor\" stroke-width=\"0.1\"/>\n",
       "<rect x=\"243.75\" y=\"-156.25\" width=\"6.25\" height=\"6.25\" opacity=\"0.0\" fill=\"currentColor\" stroke-width=\"0.1\"/>\n",
       "<rect x=\"0.0\" y=\"-162.5\" width=\"6.25\" height=\"6.25\" opacity=\"0.0\" fill=\"currentColor\" stroke-width=\"0.1\"/>\n",
       "<rect x=\"6.250000000000005\" y=\"-162.5\" width=\"6.25\" height=\"6.25\" opacity=\"0.0\" fill=\"currentColor\" stroke-width=\"0.1\"/>\n",
       "<rect x=\"12.50000000000001\" y=\"-162.5\" width=\"6.25\" height=\"6.25\" opacity=\"0.0020120724346076543\" fill=\"currentColor\" stroke-width=\"0.1\"/>\n",
       "<rect x=\"18.74999999999999\" y=\"-162.5\" width=\"6.25\" height=\"6.25\" opacity=\"0.01006036217303823\" fill=\"currentColor\" stroke-width=\"0.1\"/>\n",
       "<rect x=\"24.999999999999993\" y=\"-162.5\" width=\"6.25\" height=\"6.25\" opacity=\"0.0020120724346076456\" fill=\"currentColor\" stroke-width=\"0.1\"/>\n",
       "<rect x=\"31.25\" y=\"-162.5\" width=\"6.25\" height=\"6.25\" opacity=\"0.008048289738430582\" fill=\"currentColor\" stroke-width=\"0.1\"/>\n",
       "<rect x=\"37.50000000000001\" y=\"-162.5\" width=\"6.25\" height=\"6.25\" opacity=\"0.0020120724346076456\" fill=\"currentColor\" stroke-width=\"0.1\"/>\n",
       "<rect x=\"43.750000000000014\" y=\"-162.5\" width=\"6.25\" height=\"6.25\" opacity=\"0.018108651911468886\" fill=\"currentColor\" stroke-width=\"0.1\"/>\n",
       "<rect x=\"49.999999999999986\" y=\"-162.5\" width=\"6.25\" height=\"6.25\" opacity=\"0.03822937625754527\" fill=\"currentColor\" stroke-width=\"0.1\"/>\n",
       "<rect x=\"56.24999999999999\" y=\"-162.5\" width=\"6.25\" height=\"6.25\" opacity=\"0.0482897384305835\" fill=\"currentColor\" stroke-width=\"0.1\"/>\n",
       "<rect x=\"62.5\" y=\"-162.5\" width=\"6.25\" height=\"6.25\" opacity=\"0.10060362173038229\" fill=\"currentColor\" stroke-width=\"0.1\"/>\n",
       "<rect x=\"68.75\" y=\"-162.5\" width=\"6.25\" height=\"6.25\" opacity=\"0.1529175050301812\" fill=\"currentColor\" stroke-width=\"0.1\"/>\n",
       "<rect x=\"75.00000000000001\" y=\"-162.5\" width=\"6.25\" height=\"6.25\" opacity=\"0.1770623742454732\" fill=\"currentColor\" stroke-width=\"0.1\"/>\n",
       "<rect x=\"81.24999999999999\" y=\"-162.5\" width=\"6.25\" height=\"6.25\" opacity=\"0.20523138832998006\" fill=\"currentColor\" stroke-width=\"0.1\"/>\n",
       "<rect x=\"87.5\" y=\"-162.5\" width=\"6.25\" height=\"6.25\" opacity=\"0.2776659959758551\" fill=\"currentColor\" stroke-width=\"0.1\"/>\n",
       "<rect x=\"93.75\" y=\"-162.5\" width=\"6.25\" height=\"6.25\" opacity=\"0.4004024144869215\" fill=\"currentColor\" stroke-width=\"0.1\"/>\n",
       "<rect x=\"100.0\" y=\"-162.5\" width=\"6.25\" height=\"6.25\" opacity=\"0.39235412474849124\" fill=\"currentColor\" stroke-width=\"0.1\"/>\n",
       "<rect x=\"106.25000000000001\" y=\"-162.5\" width=\"6.25\" height=\"6.25\" opacity=\"0.4245472837022142\" fill=\"currentColor\" stroke-width=\"0.1\"/>\n",
       "<rect x=\"112.49999999999999\" y=\"-162.5\" width=\"6.25\" height=\"6.25\" opacity=\"0.4386317907444671\" fill=\"currentColor\" stroke-width=\"0.1\"/>\n",
       "<rect x=\"118.75\" y=\"-162.5\" width=\"6.25\" height=\"6.25\" opacity=\"0.4929577464788732\" fill=\"currentColor\" stroke-width=\"0.1\"/>\n",
       "<rect x=\"125.0\" y=\"-162.5\" width=\"6.25\" height=\"6.25\" opacity=\"0.5492957746478873\" fill=\"currentColor\" stroke-width=\"0.1\"/>\n",
       "<rect x=\"131.25\" y=\"-162.5\" width=\"6.25\" height=\"6.25\" opacity=\"0.4748490945674044\" fill=\"currentColor\" stroke-width=\"0.1\"/>\n",
       "<rect x=\"137.5\" y=\"-162.5\" width=\"6.25\" height=\"6.25\" opacity=\"0.4446680080482916\" fill=\"currentColor\" stroke-width=\"0.1\"/>\n",
       "<rect x=\"143.75\" y=\"-162.5\" width=\"6.25\" height=\"6.25\" opacity=\"0.40845070422535207\" fill=\"currentColor\" stroke-width=\"0.1\"/>\n",
       "<rect x=\"150.0\" y=\"-162.5\" width=\"6.25\" height=\"6.25\" opacity=\"0.32394366197183094\" fill=\"currentColor\" stroke-width=\"0.1\"/>\n",
       "<rect x=\"156.25\" y=\"-162.5\" width=\"6.25\" height=\"6.25\" opacity=\"0.3058350100603622\" fill=\"currentColor\" stroke-width=\"0.1\"/>\n",
       "<rect x=\"162.5\" y=\"-162.5\" width=\"6.25\" height=\"6.25\" opacity=\"0.2112676056338028\" fill=\"currentColor\" stroke-width=\"0.1\"/>\n",
       "<rect x=\"168.75\" y=\"-162.5\" width=\"6.25\" height=\"6.25\" opacity=\"0.1851106639839042\" fill=\"currentColor\" stroke-width=\"0.1\"/>\n",
       "<rect x=\"175.0\" y=\"-162.5\" width=\"6.25\" height=\"6.25\" opacity=\"0.13883299798792756\" fill=\"currentColor\" stroke-width=\"0.1\"/>\n",
       "<rect x=\"181.25\" y=\"-162.5\" width=\"6.25\" height=\"6.25\" opacity=\"0.09859154929577464\" fill=\"currentColor\" stroke-width=\"0.1\"/>\n",
       "<rect x=\"187.5\" y=\"-162.5\" width=\"6.25\" height=\"6.25\" opacity=\"0.0482897384305835\" fill=\"currentColor\" stroke-width=\"0.1\"/>\n",
       "<rect x=\"193.75\" y=\"-162.5\" width=\"6.25\" height=\"6.25\" opacity=\"0.02012072434607646\" fill=\"currentColor\" stroke-width=\"0.1\"/>\n",
       "<rect x=\"200.0\" y=\"-162.5\" width=\"6.25\" height=\"6.25\" opacity=\"0.022132796780684198\" fill=\"currentColor\" stroke-width=\"0.1\"/>\n",
       "<rect x=\"206.25\" y=\"-162.5\" width=\"6.25\" height=\"6.25\" opacity=\"0.01006036217303823\" fill=\"currentColor\" stroke-width=\"0.1\"/>\n",
       "<rect x=\"212.5\" y=\"-162.5\" width=\"6.25\" height=\"6.25\" opacity=\"0.012072434607645875\" fill=\"currentColor\" stroke-width=\"0.1\"/>\n",
       "<rect x=\"218.75\" y=\"-162.5\" width=\"6.25\" height=\"6.25\" opacity=\"0.008048289738430582\" fill=\"currentColor\" stroke-width=\"0.1\"/>\n",
       "<rect x=\"225.0\" y=\"-162.5\" width=\"6.25\" height=\"6.25\" opacity=\"0.0020120724346076456\" fill=\"currentColor\" stroke-width=\"0.1\"/>\n",
       "<rect x=\"231.25\" y=\"-162.5\" width=\"6.25\" height=\"6.25\" opacity=\"0.0020120724346076543\" fill=\"currentColor\" stroke-width=\"0.1\"/>\n",
       "<rect x=\"237.5\" y=\"-162.5\" width=\"6.25\" height=\"6.25\" opacity=\"0.0020120724346076456\" fill=\"currentColor\" stroke-width=\"0.1\"/>\n",
       "<rect x=\"243.75\" y=\"-162.5\" width=\"6.25\" height=\"6.25\" opacity=\"0.0\" fill=\"currentColor\" stroke-width=\"0.1\"/>\n",
       "<rect x=\"0.0\" y=\"-168.75\" width=\"6.25\" height=\"6.25\" opacity=\"0.0020120724346076456\" fill=\"currentColor\" stroke-width=\"0.1\"/>\n",
       "<rect x=\"6.250000000000005\" y=\"-168.75\" width=\"6.25\" height=\"6.25\" opacity=\"0.0\" fill=\"currentColor\" stroke-width=\"0.1\"/>\n",
       "<rect x=\"12.50000000000001\" y=\"-168.75\" width=\"6.25\" height=\"6.25\" opacity=\"0.0020120724346076543\" fill=\"currentColor\" stroke-width=\"0.1\"/>\n",
       "<rect x=\"18.74999999999999\" y=\"-168.75\" width=\"6.25\" height=\"6.25\" opacity=\"0.004024144869215291\" fill=\"currentColor\" stroke-width=\"0.1\"/>\n",
       "<rect x=\"24.999999999999993\" y=\"-168.75\" width=\"6.25\" height=\"6.25\" opacity=\"0.0020120724346076456\" fill=\"currentColor\" stroke-width=\"0.1\"/>\n",
       "<rect x=\"31.25\" y=\"-168.75\" width=\"6.25\" height=\"6.25\" opacity=\"0.012072434607645875\" fill=\"currentColor\" stroke-width=\"0.1\"/>\n",
       "<rect x=\"37.50000000000001\" y=\"-168.75\" width=\"6.25\" height=\"6.25\" opacity=\"0.012072434607645875\" fill=\"currentColor\" stroke-width=\"0.1\"/>\n",
       "<rect x=\"43.750000000000014\" y=\"-168.75\" width=\"6.25\" height=\"6.25\" opacity=\"0.03219315895372247\" fill=\"currentColor\" stroke-width=\"0.1\"/>\n",
       "<rect x=\"49.999999999999986\" y=\"-168.75\" width=\"6.25\" height=\"6.25\" opacity=\"0.03219315895372233\" fill=\"currentColor\" stroke-width=\"0.1\"/>\n",
       "<rect x=\"56.24999999999999\" y=\"-168.75\" width=\"6.25\" height=\"6.25\" opacity=\"0.03822937625754527\" fill=\"currentColor\" stroke-width=\"0.1\"/>\n",
       "<rect x=\"62.5\" y=\"-168.75\" width=\"6.25\" height=\"6.25\" opacity=\"0.08450704225352113\" fill=\"currentColor\" stroke-width=\"0.1\"/>\n",
       "<rect x=\"68.75\" y=\"-168.75\" width=\"6.25\" height=\"6.25\" opacity=\"0.07042253521126766\" fill=\"currentColor\" stroke-width=\"0.1\"/>\n",
       "<rect x=\"75.00000000000001\" y=\"-168.75\" width=\"6.25\" height=\"6.25\" opacity=\"0.1368209255533202\" fill=\"currentColor\" stroke-width=\"0.1\"/>\n",
       "<rect x=\"81.24999999999999\" y=\"-168.75\" width=\"6.25\" height=\"6.25\" opacity=\"0.20925553319919535\" fill=\"currentColor\" stroke-width=\"0.1\"/>\n",
       "<rect x=\"87.5\" y=\"-168.75\" width=\"6.25\" height=\"6.25\" opacity=\"0.23138832997987924\" fill=\"currentColor\" stroke-width=\"0.1\"/>\n",
       "<rect x=\"93.75\" y=\"-168.75\" width=\"6.25\" height=\"6.25\" opacity=\"0.2796780684104627\" fill=\"currentColor\" stroke-width=\"0.1\"/>\n",
       "<rect x=\"100.0\" y=\"-168.75\" width=\"6.25\" height=\"6.25\" opacity=\"0.35412474849094594\" fill=\"currentColor\" stroke-width=\"0.1\"/>\n",
       "<rect x=\"106.25000000000001\" y=\"-168.75\" width=\"6.25\" height=\"6.25\" opacity=\"0.3521126760563388\" fill=\"currentColor\" stroke-width=\"0.1\"/>\n",
       "<rect x=\"112.49999999999999\" y=\"-168.75\" width=\"6.25\" height=\"6.25\" opacity=\"0.4647887323943666\" fill=\"currentColor\" stroke-width=\"0.1\"/>\n",
       "<rect x=\"118.75\" y=\"-168.75\" width=\"6.25\" height=\"6.25\" opacity=\"0.45472837022132795\" fill=\"currentColor\" stroke-width=\"0.1\"/>\n",
       "<rect x=\"125.0\" y=\"-168.75\" width=\"6.25\" height=\"6.25\" opacity=\"0.4225352112676056\" fill=\"currentColor\" stroke-width=\"0.1\"/>\n",
       "<rect x=\"131.25\" y=\"-168.75\" width=\"6.25\" height=\"6.25\" opacity=\"0.41247484909456733\" fill=\"currentColor\" stroke-width=\"0.1\"/>\n",
       "<rect x=\"137.5\" y=\"-168.75\" width=\"6.25\" height=\"6.25\" opacity=\"0.36217303822937774\" fill=\"currentColor\" stroke-width=\"0.1\"/>\n",
       "<rect x=\"143.75\" y=\"-168.75\" width=\"6.25\" height=\"6.25\" opacity=\"0.3118712273641851\" fill=\"currentColor\" stroke-width=\"0.1\"/>\n",
       "<rect x=\"150.0\" y=\"-168.75\" width=\"6.25\" height=\"6.25\" opacity=\"0.2736418511066398\" fill=\"currentColor\" stroke-width=\"0.1\"/>\n",
       "<rect x=\"156.25\" y=\"-168.75\" width=\"6.25\" height=\"6.25\" opacity=\"0.21730382293762573\" fill=\"currentColor\" stroke-width=\"0.1\"/>\n",
       "<rect x=\"162.5\" y=\"-168.75\" width=\"6.25\" height=\"6.25\" opacity=\"0.17907444668008046\" fill=\"currentColor\" stroke-width=\"0.1\"/>\n",
       "<rect x=\"168.75\" y=\"-168.75\" width=\"6.25\" height=\"6.25\" opacity=\"0.1408450704225358\" fill=\"currentColor\" stroke-width=\"0.1\"/>\n",
       "<rect x=\"175.0\" y=\"-168.75\" width=\"6.25\" height=\"6.25\" opacity=\"0.1146881287726358\" fill=\"currentColor\" stroke-width=\"0.1\"/>\n",
       "<rect x=\"181.25\" y=\"-168.75\" width=\"6.25\" height=\"6.25\" opacity=\"0.06438631790744466\" fill=\"currentColor\" stroke-width=\"0.1\"/>\n",
       "<rect x=\"187.5\" y=\"-168.75\" width=\"6.25\" height=\"6.25\" opacity=\"0.0442655935613682\" fill=\"currentColor\" stroke-width=\"0.1\"/>\n",
       "<rect x=\"193.75\" y=\"-168.75\" width=\"6.25\" height=\"6.25\" opacity=\"0.0221327967806841\" fill=\"currentColor\" stroke-width=\"0.1\"/>\n",
       "<rect x=\"200.0\" y=\"-168.75\" width=\"6.25\" height=\"6.25\" opacity=\"0.016096579476861234\" fill=\"currentColor\" stroke-width=\"0.1\"/>\n",
       "<rect x=\"206.25\" y=\"-168.75\" width=\"6.25\" height=\"6.25\" opacity=\"0.01006036217303823\" fill=\"currentColor\" stroke-width=\"0.1\"/>\n",
       "<rect x=\"212.5\" y=\"-168.75\" width=\"6.25\" height=\"6.25\" opacity=\"0.008048289738430582\" fill=\"currentColor\" stroke-width=\"0.1\"/>\n",
       "<rect x=\"218.75\" y=\"-168.75\" width=\"6.25\" height=\"6.25\" opacity=\"0.0020120724346076456\" fill=\"currentColor\" stroke-width=\"0.1\"/>\n",
       "<rect x=\"225.0\" y=\"-168.75\" width=\"6.25\" height=\"6.25\" opacity=\"0.0020120724346076456\" fill=\"currentColor\" stroke-width=\"0.1\"/>\n",
       "<rect x=\"231.25\" y=\"-168.75\" width=\"6.25\" height=\"6.25\" opacity=\"0.0020120724346076543\" fill=\"currentColor\" stroke-width=\"0.1\"/>\n",
       "<rect x=\"237.5\" y=\"-168.75\" width=\"6.25\" height=\"6.25\" opacity=\"0.0\" fill=\"currentColor\" stroke-width=\"0.1\"/>\n",
       "<rect x=\"243.75\" y=\"-168.75\" width=\"6.25\" height=\"6.25\" opacity=\"0.0\" fill=\"currentColor\" stroke-width=\"0.1\"/>\n",
       "<rect x=\"0.0\" y=\"-175.0\" width=\"6.25\" height=\"6.25\" opacity=\"0.0\" fill=\"currentColor\" stroke-width=\"0.1\"/>\n",
       "<rect x=\"6.250000000000005\" y=\"-175.0\" width=\"6.25\" height=\"6.25\" opacity=\"0.0\" fill=\"currentColor\" stroke-width=\"0.1\"/>\n",
       "<rect x=\"12.50000000000001\" y=\"-175.0\" width=\"6.25\" height=\"6.25\" opacity=\"0.0\" fill=\"currentColor\" stroke-width=\"0.1\"/>\n",
       "<rect x=\"18.74999999999999\" y=\"-175.0\" width=\"6.25\" height=\"6.25\" opacity=\"0.0\" fill=\"currentColor\" stroke-width=\"0.1\"/>\n",
       "<rect x=\"24.999999999999993\" y=\"-175.0\" width=\"6.25\" height=\"6.25\" opacity=\"0.0020120724346076543\" fill=\"currentColor\" stroke-width=\"0.1\"/>\n",
       "<rect x=\"31.25\" y=\"-175.0\" width=\"6.25\" height=\"6.25\" opacity=\"0.006036217303822963\" fill=\"currentColor\" stroke-width=\"0.1\"/>\n",
       "<rect x=\"37.50000000000001\" y=\"-175.0\" width=\"6.25\" height=\"6.25\" opacity=\"0.01408450704225358\" fill=\"currentColor\" stroke-width=\"0.1\"/>\n",
       "<rect x=\"43.750000000000014\" y=\"-175.0\" width=\"6.25\" height=\"6.25\" opacity=\"0.014084507042253643\" fill=\"currentColor\" stroke-width=\"0.1\"/>\n",
       "<rect x=\"49.999999999999986\" y=\"-175.0\" width=\"6.25\" height=\"6.25\" opacity=\"0.030181086519114813\" fill=\"currentColor\" stroke-width=\"0.1\"/>\n",
       "<rect x=\"56.24999999999999\" y=\"-175.0\" width=\"6.25\" height=\"6.25\" opacity=\"0.040241448692153084\" fill=\"currentColor\" stroke-width=\"0.1\"/>\n",
       "<rect x=\"62.5\" y=\"-175.0\" width=\"6.25\" height=\"6.25\" opacity=\"0.048289738430583706\" fill=\"currentColor\" stroke-width=\"0.1\"/>\n",
       "<rect x=\"68.75\" y=\"-175.0\" width=\"6.25\" height=\"6.25\" opacity=\"0.064386317907445\" fill=\"currentColor\" stroke-width=\"0.1\"/>\n",
       "<rect x=\"75.00000000000001\" y=\"-175.0\" width=\"6.25\" height=\"6.25\" opacity=\"0.10663983903420592\" fill=\"currentColor\" stroke-width=\"0.1\"/>\n",
       "<rect x=\"81.24999999999999\" y=\"-175.0\" width=\"6.25\" height=\"6.25\" opacity=\"0.13279678068410533\" fill=\"currentColor\" stroke-width=\"0.1\"/>\n",
       "<rect x=\"87.5\" y=\"-175.0\" width=\"6.25\" height=\"6.25\" opacity=\"0.1710261569416506\" fill=\"currentColor\" stroke-width=\"0.1\"/>\n",
       "<rect x=\"93.75\" y=\"-175.0\" width=\"6.25\" height=\"6.25\" opacity=\"0.19517102615694246\" fill=\"currentColor\" stroke-width=\"0.1\"/>\n",
       "<rect x=\"100.0\" y=\"-175.0\" width=\"6.25\" height=\"6.25\" opacity=\"0.2193158953722346\" fill=\"currentColor\" stroke-width=\"0.1\"/>\n",
       "<rect x=\"106.25000000000001\" y=\"-175.0\" width=\"6.25\" height=\"6.25\" opacity=\"0.2796780684104646\" fill=\"currentColor\" stroke-width=\"0.1\"/>\n",
       "<rect x=\"112.49999999999999\" y=\"-175.0\" width=\"6.25\" height=\"6.25\" opacity=\"0.27162977867203364\" fill=\"currentColor\" stroke-width=\"0.1\"/>\n",
       "<rect x=\"118.75\" y=\"-175.0\" width=\"6.25\" height=\"6.25\" opacity=\"0.26961770623742565\" fill=\"currentColor\" stroke-width=\"0.1\"/>\n",
       "<rect x=\"125.0\" y=\"-175.0\" width=\"6.25\" height=\"6.25\" opacity=\"0.28370221327967926\" fill=\"currentColor\" stroke-width=\"0.1\"/>\n",
       "<rect x=\"131.25\" y=\"-175.0\" width=\"6.25\" height=\"6.25\" opacity=\"0.34406438631790887\" fill=\"currentColor\" stroke-width=\"0.1\"/>\n",
       "<rect x=\"137.5\" y=\"-175.0\" width=\"6.25\" height=\"6.25\" opacity=\"0.31991951710261846\" fill=\"currentColor\" stroke-width=\"0.1\"/>\n",
       "<rect x=\"143.75\" y=\"-175.0\" width=\"6.25\" height=\"6.25\" opacity=\"0.24346076458752616\" fill=\"currentColor\" stroke-width=\"0.1\"/>\n",
       "<rect x=\"150.0\" y=\"-175.0\" width=\"6.25\" height=\"6.25\" opacity=\"0.18712273641851185\" fill=\"currentColor\" stroke-width=\"0.1\"/>\n",
       "<rect x=\"156.25\" y=\"-175.0\" width=\"6.25\" height=\"6.25\" opacity=\"0.1851106639839042\" fill=\"currentColor\" stroke-width=\"0.1\"/>\n",
       "<rect x=\"162.5\" y=\"-175.0\" width=\"6.25\" height=\"6.25\" opacity=\"0.12474849094567456\" fill=\"currentColor\" stroke-width=\"0.1\"/>\n",
       "<rect x=\"168.75\" y=\"-175.0\" width=\"6.25\" height=\"6.25\" opacity=\"0.09255533199195251\" fill=\"currentColor\" stroke-width=\"0.1\"/>\n",
       "<rect x=\"175.0\" y=\"-175.0\" width=\"6.25\" height=\"6.25\" opacity=\"0.07847082494969851\" fill=\"currentColor\" stroke-width=\"0.1\"/>\n",
       "<rect x=\"181.25\" y=\"-175.0\" width=\"6.25\" height=\"6.25\" opacity=\"0.04225352112676074\" fill=\"currentColor\" stroke-width=\"0.1\"/>\n",
       "<rect x=\"187.5\" y=\"-175.0\" width=\"6.25\" height=\"6.25\" opacity=\"0.040241448692153084\" fill=\"currentColor\" stroke-width=\"0.1\"/>\n",
       "<rect x=\"193.75\" y=\"-175.0\" width=\"6.25\" height=\"6.25\" opacity=\"0.012072434607645927\" fill=\"currentColor\" stroke-width=\"0.1\"/>\n",
       "<rect x=\"200.0\" y=\"-175.0\" width=\"6.25\" height=\"6.25\" opacity=\"0.010060362173038316\" fill=\"currentColor\" stroke-width=\"0.1\"/>\n",
       "<rect x=\"206.25\" y=\"-175.0\" width=\"6.25\" height=\"6.25\" opacity=\"0.0020120724346076543\" fill=\"currentColor\" stroke-width=\"0.1\"/>\n",
       "<rect x=\"212.5\" y=\"-175.0\" width=\"6.25\" height=\"6.25\" opacity=\"0.0020120724346076543\" fill=\"currentColor\" stroke-width=\"0.1\"/>\n",
       "<rect x=\"218.75\" y=\"-175.0\" width=\"6.25\" height=\"6.25\" opacity=\"0.0020120724346076543\" fill=\"currentColor\" stroke-width=\"0.1\"/>\n",
       "<rect x=\"225.0\" y=\"-175.0\" width=\"6.25\" height=\"6.25\" opacity=\"0.004024144869215309\" fill=\"currentColor\" stroke-width=\"0.1\"/>\n",
       "<rect x=\"231.25\" y=\"-175.0\" width=\"6.25\" height=\"6.25\" opacity=\"0.0020120724346076634\" fill=\"currentColor\" stroke-width=\"0.1\"/>\n",
       "<rect x=\"237.5\" y=\"-175.0\" width=\"6.25\" height=\"6.25\" opacity=\"0.0\" fill=\"currentColor\" stroke-width=\"0.1\"/>\n",
       "<rect x=\"243.75\" y=\"-175.0\" width=\"6.25\" height=\"6.25\" opacity=\"0.0\" fill=\"currentColor\" stroke-width=\"0.1\"/>\n",
       "<rect x=\"0.0\" y=\"-181.25\" width=\"6.25\" height=\"6.25\" opacity=\"0.0020120724346076456\" fill=\"currentColor\" stroke-width=\"0.1\"/>\n",
       "<rect x=\"6.250000000000005\" y=\"-181.25\" width=\"6.25\" height=\"6.25\" opacity=\"0.0\" fill=\"currentColor\" stroke-width=\"0.1\"/>\n",
       "<rect x=\"12.50000000000001\" y=\"-181.25\" width=\"6.25\" height=\"6.25\" opacity=\"0.0020120724346076543\" fill=\"currentColor\" stroke-width=\"0.1\"/>\n",
       "<rect x=\"18.74999999999999\" y=\"-181.25\" width=\"6.25\" height=\"6.25\" opacity=\"0.0020120724346076456\" fill=\"currentColor\" stroke-width=\"0.1\"/>\n",
       "<rect x=\"24.999999999999993\" y=\"-181.25\" width=\"6.25\" height=\"6.25\" opacity=\"0.0\" fill=\"currentColor\" stroke-width=\"0.1\"/>\n",
       "<rect x=\"31.25\" y=\"-181.25\" width=\"6.25\" height=\"6.25\" opacity=\"0.0020120724346076456\" fill=\"currentColor\" stroke-width=\"0.1\"/>\n",
       "<rect x=\"37.50000000000001\" y=\"-181.25\" width=\"6.25\" height=\"6.25\" opacity=\"0.004024144869215291\" fill=\"currentColor\" stroke-width=\"0.1\"/>\n",
       "<rect x=\"43.750000000000014\" y=\"-181.25\" width=\"6.25\" height=\"6.25\" opacity=\"0.006036217303822963\" fill=\"currentColor\" stroke-width=\"0.1\"/>\n",
       "<rect x=\"49.999999999999986\" y=\"-181.25\" width=\"6.25\" height=\"6.25\" opacity=\"0.0221327967806841\" fill=\"currentColor\" stroke-width=\"0.1\"/>\n",
       "<rect x=\"56.24999999999999\" y=\"-181.25\" width=\"6.25\" height=\"6.25\" opacity=\"0.04225352112676056\" fill=\"currentColor\" stroke-width=\"0.1\"/>\n",
       "<rect x=\"62.5\" y=\"-181.25\" width=\"6.25\" height=\"6.25\" opacity=\"0.02816901408450704\" fill=\"currentColor\" stroke-width=\"0.1\"/>\n",
       "<rect x=\"68.75\" y=\"-181.25\" width=\"6.25\" height=\"6.25\" opacity=\"0.05231388329979884\" fill=\"currentColor\" stroke-width=\"0.1\"/>\n",
       "<rect x=\"75.00000000000001\" y=\"-181.25\" width=\"6.25\" height=\"6.25\" opacity=\"0.07042253521126775\" fill=\"currentColor\" stroke-width=\"0.1\"/>\n",
       "<rect x=\"81.24999999999999\" y=\"-181.25\" width=\"6.25\" height=\"6.25\" opacity=\"0.08853118712273648\" fill=\"currentColor\" stroke-width=\"0.1\"/>\n",
       "<rect x=\"87.5\" y=\"-181.25\" width=\"6.25\" height=\"6.25\" opacity=\"0.13078470824949698\" fill=\"currentColor\" stroke-width=\"0.1\"/>\n",
       "<rect x=\"93.75\" y=\"-181.25\" width=\"6.25\" height=\"6.25\" opacity=\"0.14688128772635814\" fill=\"currentColor\" stroke-width=\"0.1\"/>\n",
       "<rect x=\"100.0\" y=\"-181.25\" width=\"6.25\" height=\"6.25\" opacity=\"0.18511066398390358\" fill=\"currentColor\" stroke-width=\"0.1\"/>\n",
       "<rect x=\"106.25000000000001\" y=\"-181.25\" width=\"6.25\" height=\"6.25\" opacity=\"0.18712273641851143\" fill=\"currentColor\" stroke-width=\"0.1\"/>\n",
       "<rect x=\"112.49999999999999\" y=\"-181.25\" width=\"6.25\" height=\"6.25\" opacity=\"0.22334004024144885\" fill=\"currentColor\" stroke-width=\"0.1\"/>\n",
       "<rect x=\"118.75\" y=\"-181.25\" width=\"6.25\" height=\"6.25\" opacity=\"0.2293762575452716\" fill=\"currentColor\" stroke-width=\"0.1\"/>\n",
       "<rect x=\"125.0\" y=\"-181.25\" width=\"6.25\" height=\"6.25\" opacity=\"0.23138832997987924\" fill=\"currentColor\" stroke-width=\"0.1\"/>\n",
       "<rect x=\"131.25\" y=\"-181.25\" width=\"6.25\" height=\"6.25\" opacity=\"0.23138832997987924\" fill=\"currentColor\" stroke-width=\"0.1\"/>\n",
       "<rect x=\"137.5\" y=\"-181.25\" width=\"6.25\" height=\"6.25\" opacity=\"0.18309859154929656\" fill=\"currentColor\" stroke-width=\"0.1\"/>\n",
       "<rect x=\"143.75\" y=\"-181.25\" width=\"6.25\" height=\"6.25\" opacity=\"0.12877263581488932\" fill=\"currentColor\" stroke-width=\"0.1\"/>\n",
       "<rect x=\"150.0\" y=\"-181.25\" width=\"6.25\" height=\"6.25\" opacity=\"0.1730382293762575\" fill=\"currentColor\" stroke-width=\"0.1\"/>\n",
       "<rect x=\"156.25\" y=\"-181.25\" width=\"6.25\" height=\"6.25\" opacity=\"0.10462776659959758\" fill=\"currentColor\" stroke-width=\"0.1\"/>\n",
       "<rect x=\"162.5\" y=\"-181.25\" width=\"6.25\" height=\"6.25\" opacity=\"0.0885311871227364\" fill=\"currentColor\" stroke-width=\"0.1\"/>\n",
       "<rect x=\"168.75\" y=\"-181.25\" width=\"6.25\" height=\"6.25\" opacity=\"0.0663983903420526\" fill=\"currentColor\" stroke-width=\"0.1\"/>\n",
       "<rect x=\"175.0\" y=\"-181.25\" width=\"6.25\" height=\"6.25\" opacity=\"0.06438631790744466\" fill=\"currentColor\" stroke-width=\"0.1\"/>\n",
       "<rect x=\"181.25\" y=\"-181.25\" width=\"6.25\" height=\"6.25\" opacity=\"0.0442655935613682\" fill=\"currentColor\" stroke-width=\"0.1\"/>\n",
       "<rect x=\"187.5\" y=\"-181.25\" width=\"6.25\" height=\"6.25\" opacity=\"0.030181086519114685\" fill=\"currentColor\" stroke-width=\"0.1\"/>\n",
       "<rect x=\"193.75\" y=\"-181.25\" width=\"6.25\" height=\"6.25\" opacity=\"0.008048289738430582\" fill=\"currentColor\" stroke-width=\"0.1\"/>\n",
       "<rect x=\"200.0\" y=\"-181.25\" width=\"6.25\" height=\"6.25\" opacity=\"0.010060362173038271\" fill=\"currentColor\" stroke-width=\"0.1\"/>\n",
       "<rect x=\"206.25\" y=\"-181.25\" width=\"6.25\" height=\"6.25\" opacity=\"0.008048289738430582\" fill=\"currentColor\" stroke-width=\"0.1\"/>\n",
       "<rect x=\"212.5\" y=\"-181.25\" width=\"6.25\" height=\"6.25\" opacity=\"0.004024144869215291\" fill=\"currentColor\" stroke-width=\"0.1\"/>\n",
       "<rect x=\"218.75\" y=\"-181.25\" width=\"6.25\" height=\"6.25\" opacity=\"0.004024144869215291\" fill=\"currentColor\" stroke-width=\"0.1\"/>\n",
       "<rect x=\"225.0\" y=\"-181.25\" width=\"6.25\" height=\"6.25\" opacity=\"0.0\" fill=\"currentColor\" stroke-width=\"0.1\"/>\n",
       "<rect x=\"231.25\" y=\"-181.25\" width=\"6.25\" height=\"6.25\" opacity=\"0.0\" fill=\"currentColor\" stroke-width=\"0.1\"/>\n",
       "<rect x=\"237.5\" y=\"-181.25\" width=\"6.25\" height=\"6.25\" opacity=\"0.0\" fill=\"currentColor\" stroke-width=\"0.1\"/>\n",
       "<rect x=\"243.75\" y=\"-181.25\" width=\"6.25\" height=\"6.25\" opacity=\"0.0020120724346076456\" fill=\"currentColor\" stroke-width=\"0.1\"/>\n",
       "<rect x=\"0.0\" y=\"-187.5\" width=\"6.25\" height=\"6.25\" opacity=\"0.0\" fill=\"currentColor\" stroke-width=\"0.1\"/>\n",
       "<rect x=\"6.250000000000005\" y=\"-187.5\" width=\"6.25\" height=\"6.25\" opacity=\"0.0\" fill=\"currentColor\" stroke-width=\"0.1\"/>\n",
       "<rect x=\"12.50000000000001\" y=\"-187.5\" width=\"6.25\" height=\"6.25\" opacity=\"0.0\" fill=\"currentColor\" stroke-width=\"0.1\"/>\n",
       "<rect x=\"18.74999999999999\" y=\"-187.5\" width=\"6.25\" height=\"6.25\" opacity=\"0.0\" fill=\"currentColor\" stroke-width=\"0.1\"/>\n",
       "<rect x=\"24.999999999999993\" y=\"-187.5\" width=\"6.25\" height=\"6.25\" opacity=\"0.0020120724346076456\" fill=\"currentColor\" stroke-width=\"0.1\"/>\n",
       "<rect x=\"31.25\" y=\"-187.5\" width=\"6.25\" height=\"6.25\" opacity=\"0.0020120724346076456\" fill=\"currentColor\" stroke-width=\"0.1\"/>\n",
       "<rect x=\"37.50000000000001\" y=\"-187.5\" width=\"6.25\" height=\"6.25\" opacity=\"0.0020120724346076456\" fill=\"currentColor\" stroke-width=\"0.1\"/>\n",
       "<rect x=\"43.750000000000014\" y=\"-187.5\" width=\"6.25\" height=\"6.25\" opacity=\"0.008048289738430617\" fill=\"currentColor\" stroke-width=\"0.1\"/>\n",
       "<rect x=\"49.999999999999986\" y=\"-187.5\" width=\"6.25\" height=\"6.25\" opacity=\"0.008048289738430582\" fill=\"currentColor\" stroke-width=\"0.1\"/>\n",
       "<rect x=\"56.24999999999999\" y=\"-187.5\" width=\"6.25\" height=\"6.25\" opacity=\"0.02414486921529175\" fill=\"currentColor\" stroke-width=\"0.1\"/>\n",
       "<rect x=\"62.5\" y=\"-187.5\" width=\"6.25\" height=\"6.25\" opacity=\"0.03219315895372233\" fill=\"currentColor\" stroke-width=\"0.1\"/>\n",
       "<rect x=\"68.75\" y=\"-187.5\" width=\"6.25\" height=\"6.25\" opacity=\"0.06237424547283707\" fill=\"currentColor\" stroke-width=\"0.1\"/>\n",
       "<rect x=\"75.00000000000001\" y=\"-187.5\" width=\"6.25\" height=\"6.25\" opacity=\"0.0603621730382295\" fill=\"currentColor\" stroke-width=\"0.1\"/>\n",
       "<rect x=\"81.24999999999999\" y=\"-187.5\" width=\"6.25\" height=\"6.25\" opacity=\"0.056338028169014134\" fill=\"currentColor\" stroke-width=\"0.1\"/>\n",
       "<rect x=\"87.5\" y=\"-187.5\" width=\"6.25\" height=\"6.25\" opacity=\"0.1187122736418511\" fill=\"currentColor\" stroke-width=\"0.1\"/>\n",
       "<rect x=\"93.75\" y=\"-187.5\" width=\"6.25\" height=\"6.25\" opacity=\"0.10060362173038229\" fill=\"currentColor\" stroke-width=\"0.1\"/>\n",
       "<rect x=\"100.0\" y=\"-187.5\" width=\"6.25\" height=\"6.25\" opacity=\"0.10261569416499003\" fill=\"currentColor\" stroke-width=\"0.1\"/>\n",
       "<rect x=\"106.25000000000001\" y=\"-187.5\" width=\"6.25\" height=\"6.25\" opacity=\"0.1247484909456743\" fill=\"currentColor\" stroke-width=\"0.1\"/>\n",
       "<rect x=\"112.49999999999999\" y=\"-187.5\" width=\"6.25\" height=\"6.25\" opacity=\"0.15492957746478886\" fill=\"currentColor\" stroke-width=\"0.1\"/>\n",
       "<rect x=\"118.75\" y=\"-187.5\" width=\"6.25\" height=\"6.25\" opacity=\"0.1327967806841046\" fill=\"currentColor\" stroke-width=\"0.1\"/>\n",
       "<rect x=\"125.0\" y=\"-187.5\" width=\"6.25\" height=\"6.25\" opacity=\"0.15492957746478872\" fill=\"currentColor\" stroke-width=\"0.1\"/>\n",
       "<rect x=\"131.25\" y=\"-187.5\" width=\"6.25\" height=\"6.25\" opacity=\"0.12273641851106638\" fill=\"currentColor\" stroke-width=\"0.1\"/>\n",
       "<rect x=\"137.5\" y=\"-187.5\" width=\"6.25\" height=\"6.25\" opacity=\"0.15090543259557407\" fill=\"currentColor\" stroke-width=\"0.1\"/>\n",
       "<rect x=\"143.75\" y=\"-187.5\" width=\"6.25\" height=\"6.25\" opacity=\"0.09859154929577464\" fill=\"currentColor\" stroke-width=\"0.1\"/>\n",
       "<rect x=\"150.0\" y=\"-187.5\" width=\"6.25\" height=\"6.25\" opacity=\"0.1267605633802817\" fill=\"currentColor\" stroke-width=\"0.1\"/>\n",
       "<rect x=\"156.25\" y=\"-187.5\" width=\"6.25\" height=\"6.25\" opacity=\"0.08249496981891348\" fill=\"currentColor\" stroke-width=\"0.1\"/>\n",
       "<rect x=\"162.5\" y=\"-187.5\" width=\"6.25\" height=\"6.25\" opacity=\"0.06841046277665995\" fill=\"currentColor\" stroke-width=\"0.1\"/>\n",
       "<rect x=\"168.75\" y=\"-187.5\" width=\"6.25\" height=\"6.25\" opacity=\"0.04627766599597605\" fill=\"currentColor\" stroke-width=\"0.1\"/>\n",
       "<rect x=\"175.0\" y=\"-187.5\" width=\"6.25\" height=\"6.25\" opacity=\"0.034205231388329975\" fill=\"currentColor\" stroke-width=\"0.1\"/>\n",
       "<rect x=\"181.25\" y=\"-187.5\" width=\"6.25\" height=\"6.25\" opacity=\"0.04225352112676056\" fill=\"currentColor\" stroke-width=\"0.1\"/>\n",
       "<rect x=\"187.5\" y=\"-187.5\" width=\"6.25\" height=\"6.25\" opacity=\"0.016096579476861165\" fill=\"currentColor\" stroke-width=\"0.1\"/>\n",
       "<rect x=\"193.75\" y=\"-187.5\" width=\"6.25\" height=\"6.25\" opacity=\"0.018108651911468814\" fill=\"currentColor\" stroke-width=\"0.1\"/>\n",
       "<rect x=\"200.0\" y=\"-187.5\" width=\"6.25\" height=\"6.25\" opacity=\"0.008048289738430617\" fill=\"currentColor\" stroke-width=\"0.1\"/>\n",
       "<rect x=\"206.25\" y=\"-187.5\" width=\"6.25\" height=\"6.25\" opacity=\"0.0\" fill=\"currentColor\" stroke-width=\"0.1\"/>\n",
       "<rect x=\"212.5\" y=\"-187.5\" width=\"6.25\" height=\"6.25\" opacity=\"0.0\" fill=\"currentColor\" stroke-width=\"0.1\"/>\n",
       "<rect x=\"218.75\" y=\"-187.5\" width=\"6.25\" height=\"6.25\" opacity=\"0.0\" fill=\"currentColor\" stroke-width=\"0.1\"/>\n",
       "<rect x=\"225.0\" y=\"-187.5\" width=\"6.25\" height=\"6.25\" opacity=\"0.0\" fill=\"currentColor\" stroke-width=\"0.1\"/>\n",
       "<rect x=\"231.25\" y=\"-187.5\" width=\"6.25\" height=\"6.25\" opacity=\"0.0\" fill=\"currentColor\" stroke-width=\"0.1\"/>\n",
       "<rect x=\"237.5\" y=\"-187.5\" width=\"6.25\" height=\"6.25\" opacity=\"0.0\" fill=\"currentColor\" stroke-width=\"0.1\"/>\n",
       "<rect x=\"243.75\" y=\"-187.5\" width=\"6.25\" height=\"6.25\" opacity=\"0.0\" fill=\"currentColor\" stroke-width=\"0.1\"/>\n",
       "<rect x=\"0.0\" y=\"-193.75\" width=\"6.25\" height=\"6.25\" opacity=\"0.0\" fill=\"currentColor\" stroke-width=\"0.1\"/>\n",
       "<rect x=\"6.250000000000005\" y=\"-193.75\" width=\"6.25\" height=\"6.25\" opacity=\"0.0\" fill=\"currentColor\" stroke-width=\"0.1\"/>\n",
       "<rect x=\"12.50000000000001\" y=\"-193.75\" width=\"6.25\" height=\"6.25\" opacity=\"0.0\" fill=\"currentColor\" stroke-width=\"0.1\"/>\n",
       "<rect x=\"18.74999999999999\" y=\"-193.75\" width=\"6.25\" height=\"6.25\" opacity=\"0.0\" fill=\"currentColor\" stroke-width=\"0.1\"/>\n",
       "<rect x=\"24.999999999999993\" y=\"-193.75\" width=\"6.25\" height=\"6.25\" opacity=\"0.0\" fill=\"currentColor\" stroke-width=\"0.1\"/>\n",
       "<rect x=\"31.25\" y=\"-193.75\" width=\"6.25\" height=\"6.25\" opacity=\"0.0\" fill=\"currentColor\" stroke-width=\"0.1\"/>\n",
       "<rect x=\"37.50000000000001\" y=\"-193.75\" width=\"6.25\" height=\"6.25\" opacity=\"0.0020120724346076456\" fill=\"currentColor\" stroke-width=\"0.1\"/>\n",
       "<rect x=\"43.750000000000014\" y=\"-193.75\" width=\"6.25\" height=\"6.25\" opacity=\"0.012072434607645927\" fill=\"currentColor\" stroke-width=\"0.1\"/>\n",
       "<rect x=\"49.999999999999986\" y=\"-193.75\" width=\"6.25\" height=\"6.25\" opacity=\"0.008048289738430582\" fill=\"currentColor\" stroke-width=\"0.1\"/>\n",
       "<rect x=\"56.24999999999999\" y=\"-193.75\" width=\"6.25\" height=\"6.25\" opacity=\"0.016096579476861165\" fill=\"currentColor\" stroke-width=\"0.1\"/>\n",
       "<rect x=\"62.5\" y=\"-193.75\" width=\"6.25\" height=\"6.25\" opacity=\"0.01408450704225352\" fill=\"currentColor\" stroke-width=\"0.1\"/>\n",
       "<rect x=\"68.75\" y=\"-193.75\" width=\"6.25\" height=\"6.25\" opacity=\"0.02414486921529177\" fill=\"currentColor\" stroke-width=\"0.1\"/>\n",
       "<rect x=\"75.00000000000001\" y=\"-193.75\" width=\"6.25\" height=\"6.25\" opacity=\"0.0321931589537224\" fill=\"currentColor\" stroke-width=\"0.1\"/>\n",
       "<rect x=\"81.24999999999999\" y=\"-193.75\" width=\"6.25\" height=\"6.25\" opacity=\"0.0422535211267606\" fill=\"currentColor\" stroke-width=\"0.1\"/>\n",
       "<rect x=\"87.5\" y=\"-193.75\" width=\"6.25\" height=\"6.25\" opacity=\"0.054325955734406434\" fill=\"currentColor\" stroke-width=\"0.1\"/>\n",
       "<rect x=\"93.75\" y=\"-193.75\" width=\"6.25\" height=\"6.25\" opacity=\"0.06237424547283702\" fill=\"currentColor\" stroke-width=\"0.1\"/>\n",
       "<rect x=\"100.0\" y=\"-193.75\" width=\"6.25\" height=\"6.25\" opacity=\"0.08651911468812884\" fill=\"currentColor\" stroke-width=\"0.1\"/>\n",
       "<rect x=\"106.25000000000001\" y=\"-193.75\" width=\"6.25\" height=\"6.25\" opacity=\"0.1126760563380284\" fill=\"currentColor\" stroke-width=\"0.1\"/>\n",
       "<rect x=\"112.49999999999999\" y=\"-193.75\" width=\"6.25\" height=\"6.25\" opacity=\"0.13682092555332004\" fill=\"currentColor\" stroke-width=\"0.1\"/>\n",
       "<rect x=\"118.75\" y=\"-193.75\" width=\"6.25\" height=\"6.25\" opacity=\"0.0885311871227364\" fill=\"currentColor\" stroke-width=\"0.1\"/>\n",
       "<rect x=\"125.0\" y=\"-193.75\" width=\"6.25\" height=\"6.25\" opacity=\"0.10060362173038229\" fill=\"currentColor\" stroke-width=\"0.1\"/>\n",
       "<rect x=\"131.25\" y=\"-193.75\" width=\"6.25\" height=\"6.25\" opacity=\"0.13078470824949698\" fill=\"currentColor\" stroke-width=\"0.1\"/>\n",
       "<rect x=\"137.5\" y=\"-193.75\" width=\"6.25\" height=\"6.25\" opacity=\"0.07645875251509086\" fill=\"currentColor\" stroke-width=\"0.1\"/>\n",
       "<rect x=\"143.75\" y=\"-193.75\" width=\"6.25\" height=\"6.25\" opacity=\"0.08651911468812876\" fill=\"currentColor\" stroke-width=\"0.1\"/>\n",
       "<rect x=\"150.0\" y=\"-193.75\" width=\"6.25\" height=\"6.25\" opacity=\"0.06438631790744466\" fill=\"currentColor\" stroke-width=\"0.1\"/>\n",
       "<rect x=\"156.25\" y=\"-193.75\" width=\"6.25\" height=\"6.25\" opacity=\"0.06438631790744466\" fill=\"currentColor\" stroke-width=\"0.1\"/>\n",
       "<rect x=\"162.5\" y=\"-193.75\" width=\"6.25\" height=\"6.25\" opacity=\"0.04024144869215292\" fill=\"currentColor\" stroke-width=\"0.1\"/>\n",
       "<rect x=\"168.75\" y=\"-193.75\" width=\"6.25\" height=\"6.25\" opacity=\"0.044265593561368395\" fill=\"currentColor\" stroke-width=\"0.1\"/>\n",
       "<rect x=\"175.0\" y=\"-193.75\" width=\"6.25\" height=\"6.25\" opacity=\"0.0221327967806841\" fill=\"currentColor\" stroke-width=\"0.1\"/>\n",
       "<rect x=\"181.25\" y=\"-193.75\" width=\"6.25\" height=\"6.25\" opacity=\"0.018108651911468814\" fill=\"currentColor\" stroke-width=\"0.1\"/>\n",
       "<rect x=\"187.5\" y=\"-193.75\" width=\"6.25\" height=\"6.25\" opacity=\"0.0221327967806841\" fill=\"currentColor\" stroke-width=\"0.1\"/>\n",
       "<rect x=\"193.75\" y=\"-193.75\" width=\"6.25\" height=\"6.25\" opacity=\"0.0020120724346076456\" fill=\"currentColor\" stroke-width=\"0.1\"/>\n",
       "<rect x=\"200.0\" y=\"-193.75\" width=\"6.25\" height=\"6.25\" opacity=\"0.0\" fill=\"currentColor\" stroke-width=\"0.1\"/>\n",
       "<rect x=\"206.25\" y=\"-193.75\" width=\"6.25\" height=\"6.25\" opacity=\"0.004024144869215291\" fill=\"currentColor\" stroke-width=\"0.1\"/>\n",
       "<rect x=\"212.5\" y=\"-193.75\" width=\"6.25\" height=\"6.25\" opacity=\"0.0\" fill=\"currentColor\" stroke-width=\"0.1\"/>\n",
       "<rect x=\"218.75\" y=\"-193.75\" width=\"6.25\" height=\"6.25\" opacity=\"0.0\" fill=\"currentColor\" stroke-width=\"0.1\"/>\n",
       "<rect x=\"225.0\" y=\"-193.75\" width=\"6.25\" height=\"6.25\" opacity=\"0.0\" fill=\"currentColor\" stroke-width=\"0.1\"/>\n",
       "<rect x=\"231.25\" y=\"-193.75\" width=\"6.25\" height=\"6.25\" opacity=\"0.0\" fill=\"currentColor\" stroke-width=\"0.1\"/>\n",
       "<rect x=\"237.5\" y=\"-193.75\" width=\"6.25\" height=\"6.25\" opacity=\"0.0\" fill=\"currentColor\" stroke-width=\"0.1\"/>\n",
       "<rect x=\"243.75\" y=\"-193.75\" width=\"6.25\" height=\"6.25\" opacity=\"0.0\" fill=\"currentColor\" stroke-width=\"0.1\"/>\n",
       "<rect x=\"0.0\" y=\"-200.0\" width=\"6.25\" height=\"6.25\" opacity=\"0.0\" fill=\"currentColor\" stroke-width=\"0.1\"/>\n",
       "<rect x=\"6.250000000000005\" y=\"-200.0\" width=\"6.25\" height=\"6.25\" opacity=\"0.0\" fill=\"currentColor\" stroke-width=\"0.1\"/>\n",
       "<rect x=\"12.50000000000001\" y=\"-200.0\" width=\"6.25\" height=\"6.25\" opacity=\"0.0\" fill=\"currentColor\" stroke-width=\"0.1\"/>\n",
       "<rect x=\"18.74999999999999\" y=\"-200.0\" width=\"6.25\" height=\"6.25\" opacity=\"0.0\" fill=\"currentColor\" stroke-width=\"0.1\"/>\n",
       "<rect x=\"24.999999999999993\" y=\"-200.0\" width=\"6.25\" height=\"6.25\" opacity=\"0.0\" fill=\"currentColor\" stroke-width=\"0.1\"/>\n",
       "<rect x=\"31.25\" y=\"-200.0\" width=\"6.25\" height=\"6.25\" opacity=\"0.006036217303822937\" fill=\"currentColor\" stroke-width=\"0.1\"/>\n",
       "<rect x=\"37.50000000000001\" y=\"-200.0\" width=\"6.25\" height=\"6.25\" opacity=\"0.004024144869215291\" fill=\"currentColor\" stroke-width=\"0.1\"/>\n",
       "<rect x=\"43.750000000000014\" y=\"-200.0\" width=\"6.25\" height=\"6.25\" opacity=\"0.004024144869215309\" fill=\"currentColor\" stroke-width=\"0.1\"/>\n",
       "<rect x=\"49.999999999999986\" y=\"-200.0\" width=\"6.25\" height=\"6.25\" opacity=\"0.004024144869215291\" fill=\"currentColor\" stroke-width=\"0.1\"/>\n",
       "<rect x=\"56.24999999999999\" y=\"-200.0\" width=\"6.25\" height=\"6.25\" opacity=\"0.0020120724346076456\" fill=\"currentColor\" stroke-width=\"0.1\"/>\n",
       "<rect x=\"62.5\" y=\"-200.0\" width=\"6.25\" height=\"6.25\" opacity=\"0.01408450704225352\" fill=\"currentColor\" stroke-width=\"0.1\"/>\n",
       "<rect x=\"68.75\" y=\"-200.0\" width=\"6.25\" height=\"6.25\" opacity=\"0.018108651911468827\" fill=\"currentColor\" stroke-width=\"0.1\"/>\n",
       "<rect x=\"75.00000000000001\" y=\"-200.0\" width=\"6.25\" height=\"6.25\" opacity=\"0.018108651911468848\" fill=\"currentColor\" stroke-width=\"0.1\"/>\n",
       "<rect x=\"81.24999999999999\" y=\"-200.0\" width=\"6.25\" height=\"6.25\" opacity=\"0.01609657947686118\" fill=\"currentColor\" stroke-width=\"0.1\"/>\n",
       "<rect x=\"87.5\" y=\"-200.0\" width=\"6.25\" height=\"6.25\" opacity=\"0.0442655935613682\" fill=\"currentColor\" stroke-width=\"0.1\"/>\n",
       "<rect x=\"93.75\" y=\"-200.0\" width=\"6.25\" height=\"6.25\" opacity=\"0.058350100603621724\" fill=\"currentColor\" stroke-width=\"0.1\"/>\n",
       "<rect x=\"100.0\" y=\"-200.0\" width=\"6.25\" height=\"6.25\" opacity=\"0.05231388329979884\" fill=\"currentColor\" stroke-width=\"0.1\"/>\n",
       "<rect x=\"106.25000000000001\" y=\"-200.0\" width=\"6.25\" height=\"6.25\" opacity=\"0.0523138832997989\" fill=\"currentColor\" stroke-width=\"0.1\"/>\n",
       "<rect x=\"112.49999999999999\" y=\"-200.0\" width=\"6.25\" height=\"6.25\" opacity=\"0.05432595573440649\" fill=\"currentColor\" stroke-width=\"0.1\"/>\n",
       "<rect x=\"118.75\" y=\"-200.0\" width=\"6.25\" height=\"6.25\" opacity=\"0.058350100603621724\" fill=\"currentColor\" stroke-width=\"0.1\"/>\n",
       "<rect x=\"125.0\" y=\"-200.0\" width=\"6.25\" height=\"6.25\" opacity=\"0.06438631790744466\" fill=\"currentColor\" stroke-width=\"0.1\"/>\n",
       "<rect x=\"131.25\" y=\"-200.0\" width=\"6.25\" height=\"6.25\" opacity=\"0.04627766599597585\" fill=\"currentColor\" stroke-width=\"0.1\"/>\n",
       "<rect x=\"137.5\" y=\"-200.0\" width=\"6.25\" height=\"6.25\" opacity=\"0.05633802816901432\" fill=\"currentColor\" stroke-width=\"0.1\"/>\n",
       "<rect x=\"143.75\" y=\"-200.0\" width=\"6.25\" height=\"6.25\" opacity=\"0.05633802816901408\" fill=\"currentColor\" stroke-width=\"0.1\"/>\n",
       "<rect x=\"150.0\" y=\"-200.0\" width=\"6.25\" height=\"6.25\" opacity=\"0.05030181086519114\" fill=\"currentColor\" stroke-width=\"0.1\"/>\n",
       "<rect x=\"156.25\" y=\"-200.0\" width=\"6.25\" height=\"6.25\" opacity=\"0.03219315895372233\" fill=\"currentColor\" stroke-width=\"0.1\"/>\n",
       "<rect x=\"162.5\" y=\"-200.0\" width=\"6.25\" height=\"6.25\" opacity=\"0.030181086519114685\" fill=\"currentColor\" stroke-width=\"0.1\"/>\n",
       "<rect x=\"168.75\" y=\"-200.0\" width=\"6.25\" height=\"6.25\" opacity=\"0.020120724346076542\" fill=\"currentColor\" stroke-width=\"0.1\"/>\n",
       "<rect x=\"175.0\" y=\"-200.0\" width=\"6.25\" height=\"6.25\" opacity=\"0.016096579476861165\" fill=\"currentColor\" stroke-width=\"0.1\"/>\n",
       "<rect x=\"181.25\" y=\"-200.0\" width=\"6.25\" height=\"6.25\" opacity=\"0.01006036217303823\" fill=\"currentColor\" stroke-width=\"0.1\"/>\n",
       "<rect x=\"187.5\" y=\"-200.0\" width=\"6.25\" height=\"6.25\" opacity=\"0.008048289738430582\" fill=\"currentColor\" stroke-width=\"0.1\"/>\n",
       "<rect x=\"193.75\" y=\"-200.0\" width=\"6.25\" height=\"6.25\" opacity=\"0.004024144869215291\" fill=\"currentColor\" stroke-width=\"0.1\"/>\n",
       "<rect x=\"200.0\" y=\"-200.0\" width=\"6.25\" height=\"6.25\" opacity=\"0.004024144869215309\" fill=\"currentColor\" stroke-width=\"0.1\"/>\n",
       "<rect x=\"206.25\" y=\"-200.0\" width=\"6.25\" height=\"6.25\" opacity=\"0.0020120724346076456\" fill=\"currentColor\" stroke-width=\"0.1\"/>\n",
       "<rect x=\"212.5\" y=\"-200.0\" width=\"6.25\" height=\"6.25\" opacity=\"0.0\" fill=\"currentColor\" stroke-width=\"0.1\"/>\n",
       "<rect x=\"218.75\" y=\"-200.0\" width=\"6.25\" height=\"6.25\" opacity=\"0.0020120724346076456\" fill=\"currentColor\" stroke-width=\"0.1\"/>\n",
       "<rect x=\"225.0\" y=\"-200.0\" width=\"6.25\" height=\"6.25\" opacity=\"0.0020120724346076456\" fill=\"currentColor\" stroke-width=\"0.1\"/>\n",
       "<rect x=\"231.25\" y=\"-200.0\" width=\"6.25\" height=\"6.25\" opacity=\"0.0\" fill=\"currentColor\" stroke-width=\"0.1\"/>\n",
       "<rect x=\"237.5\" y=\"-200.0\" width=\"6.25\" height=\"6.25\" opacity=\"0.0\" fill=\"currentColor\" stroke-width=\"0.1\"/>\n",
       "<rect x=\"243.75\" y=\"-200.0\" width=\"6.25\" height=\"6.25\" opacity=\"0.0\" fill=\"currentColor\" stroke-width=\"0.1\"/>\n",
       "<rect x=\"0.0\" y=\"-206.25\" width=\"6.25\" height=\"6.25\" opacity=\"0.0\" fill=\"currentColor\" stroke-width=\"0.1\"/>\n",
       "<rect x=\"6.250000000000005\" y=\"-206.25\" width=\"6.25\" height=\"6.25\" opacity=\"0.0\" fill=\"currentColor\" stroke-width=\"0.1\"/>\n",
       "<rect x=\"12.50000000000001\" y=\"-206.25\" width=\"6.25\" height=\"6.25\" opacity=\"0.0\" fill=\"currentColor\" stroke-width=\"0.1\"/>\n",
       "<rect x=\"18.74999999999999\" y=\"-206.25\" width=\"6.25\" height=\"6.25\" opacity=\"0.0\" fill=\"currentColor\" stroke-width=\"0.1\"/>\n",
       "<rect x=\"24.999999999999993\" y=\"-206.25\" width=\"6.25\" height=\"6.25\" opacity=\"0.0020120724346076543\" fill=\"currentColor\" stroke-width=\"0.1\"/>\n",
       "<rect x=\"31.25\" y=\"-206.25\" width=\"6.25\" height=\"6.25\" opacity=\"0.0\" fill=\"currentColor\" stroke-width=\"0.1\"/>\n",
       "<rect x=\"37.50000000000001\" y=\"-206.25\" width=\"6.25\" height=\"6.25\" opacity=\"0.0\" fill=\"currentColor\" stroke-width=\"0.1\"/>\n",
       "<rect x=\"43.750000000000014\" y=\"-206.25\" width=\"6.25\" height=\"6.25\" opacity=\"0.0\" fill=\"currentColor\" stroke-width=\"0.1\"/>\n",
       "<rect x=\"49.999999999999986\" y=\"-206.25\" width=\"6.25\" height=\"6.25\" opacity=\"0.0020120724346076543\" fill=\"currentColor\" stroke-width=\"0.1\"/>\n",
       "<rect x=\"56.24999999999999\" y=\"-206.25\" width=\"6.25\" height=\"6.25\" opacity=\"0.004024144869215309\" fill=\"currentColor\" stroke-width=\"0.1\"/>\n",
       "<rect x=\"62.5\" y=\"-206.25\" width=\"6.25\" height=\"6.25\" opacity=\"0.004024144869215309\" fill=\"currentColor\" stroke-width=\"0.1\"/>\n",
       "<rect x=\"68.75\" y=\"-206.25\" width=\"6.25\" height=\"6.25\" opacity=\"0.008048289738430626\" fill=\"currentColor\" stroke-width=\"0.1\"/>\n",
       "<rect x=\"75.00000000000001\" y=\"-206.25\" width=\"6.25\" height=\"6.25\" opacity=\"0.012072434607645953\" fill=\"currentColor\" stroke-width=\"0.1\"/>\n",
       "<rect x=\"81.24999999999999\" y=\"-206.25\" width=\"6.25\" height=\"6.25\" opacity=\"0.022132796780684225\" fill=\"currentColor\" stroke-width=\"0.1\"/>\n",
       "<rect x=\"87.5\" y=\"-206.25\" width=\"6.25\" height=\"6.25\" opacity=\"0.026156941649899505\" fill=\"currentColor\" stroke-width=\"0.1\"/>\n",
       "<rect x=\"93.75\" y=\"-206.25\" width=\"6.25\" height=\"6.25\" opacity=\"0.018108651911468886\" fill=\"currentColor\" stroke-width=\"0.1\"/>\n",
       "<rect x=\"100.0\" y=\"-206.25\" width=\"6.25\" height=\"6.25\" opacity=\"0.03420523138833016\" fill=\"currentColor\" stroke-width=\"0.1\"/>\n",
       "<rect x=\"106.25000000000001\" y=\"-206.25\" width=\"6.25\" height=\"6.25\" opacity=\"0.02213279678068425\" fill=\"currentColor\" stroke-width=\"0.1\"/>\n",
       "<rect x=\"112.49999999999999\" y=\"-206.25\" width=\"6.25\" height=\"6.25\" opacity=\"0.054325955734406725\" fill=\"currentColor\" stroke-width=\"0.1\"/>\n",
       "<rect x=\"118.75\" y=\"-206.25\" width=\"6.25\" height=\"6.25\" opacity=\"0.04627766599597605\" fill=\"currentColor\" stroke-width=\"0.1\"/>\n",
       "<rect x=\"125.0\" y=\"-206.25\" width=\"6.25\" height=\"6.25\" opacity=\"0.05030181086519136\" fill=\"currentColor\" stroke-width=\"0.1\"/>\n",
       "<rect x=\"131.25\" y=\"-206.25\" width=\"6.25\" height=\"6.25\" opacity=\"0.03822937625754543\" fill=\"currentColor\" stroke-width=\"0.1\"/>\n",
       "<rect x=\"137.5\" y=\"-206.25\" width=\"6.25\" height=\"6.25\" opacity=\"0.04828973843058392\" fill=\"currentColor\" stroke-width=\"0.1\"/>\n",
       "<rect x=\"143.75\" y=\"-206.25\" width=\"6.25\" height=\"6.25\" opacity=\"0.04225352112676074\" fill=\"currentColor\" stroke-width=\"0.1\"/>\n",
       "<rect x=\"150.0\" y=\"-206.25\" width=\"6.25\" height=\"6.25\" opacity=\"0.030181086519114813\" fill=\"currentColor\" stroke-width=\"0.1\"/>\n",
       "<rect x=\"156.25\" y=\"-206.25\" width=\"6.25\" height=\"6.25\" opacity=\"0.044265593561368395\" fill=\"currentColor\" stroke-width=\"0.1\"/>\n",
       "<rect x=\"162.5\" y=\"-206.25\" width=\"6.25\" height=\"6.25\" opacity=\"0.024144869215291853\" fill=\"currentColor\" stroke-width=\"0.1\"/>\n",
       "<rect x=\"168.75\" y=\"-206.25\" width=\"6.25\" height=\"6.25\" opacity=\"0.014084507042253643\" fill=\"currentColor\" stroke-width=\"0.1\"/>\n",
       "<rect x=\"175.0\" y=\"-206.25\" width=\"6.25\" height=\"6.25\" opacity=\"0.0020120724346076543\" fill=\"currentColor\" stroke-width=\"0.1\"/>\n",
       "<rect x=\"181.25\" y=\"-206.25\" width=\"6.25\" height=\"6.25\" opacity=\"0.008048289738430617\" fill=\"currentColor\" stroke-width=\"0.1\"/>\n",
       "<rect x=\"187.5\" y=\"-206.25\" width=\"6.25\" height=\"6.25\" opacity=\"0.004024144869215309\" fill=\"currentColor\" stroke-width=\"0.1\"/>\n",
       "<rect x=\"193.75\" y=\"-206.25\" width=\"6.25\" height=\"6.25\" opacity=\"0.004024144869215309\" fill=\"currentColor\" stroke-width=\"0.1\"/>\n",
       "<rect x=\"200.0\" y=\"-206.25\" width=\"6.25\" height=\"6.25\" opacity=\"0.004024144869215327\" fill=\"currentColor\" stroke-width=\"0.1\"/>\n",
       "<rect x=\"206.25\" y=\"-206.25\" width=\"6.25\" height=\"6.25\" opacity=\"0.0020120724346076543\" fill=\"currentColor\" stroke-width=\"0.1\"/>\n",
       "<rect x=\"212.5\" y=\"-206.25\" width=\"6.25\" height=\"6.25\" opacity=\"0.0\" fill=\"currentColor\" stroke-width=\"0.1\"/>\n",
       "<rect x=\"218.75\" y=\"-206.25\" width=\"6.25\" height=\"6.25\" opacity=\"0.0\" fill=\"currentColor\" stroke-width=\"0.1\"/>\n",
       "<rect x=\"225.0\" y=\"-206.25\" width=\"6.25\" height=\"6.25\" opacity=\"0.0\" fill=\"currentColor\" stroke-width=\"0.1\"/>\n",
       "<rect x=\"231.25\" y=\"-206.25\" width=\"6.25\" height=\"6.25\" opacity=\"0.0020120724346076634\" fill=\"currentColor\" stroke-width=\"0.1\"/>\n",
       "<rect x=\"237.5\" y=\"-206.25\" width=\"6.25\" height=\"6.25\" opacity=\"0.0\" fill=\"currentColor\" stroke-width=\"0.1\"/>\n",
       "<rect x=\"243.75\" y=\"-206.25\" width=\"6.25\" height=\"6.25\" opacity=\"0.0\" fill=\"currentColor\" stroke-width=\"0.1\"/>\n",
       "<rect x=\"0.0\" y=\"-212.5\" width=\"6.25\" height=\"6.25\" opacity=\"0.0\" fill=\"currentColor\" stroke-width=\"0.1\"/>\n",
       "<rect x=\"6.250000000000005\" y=\"-212.5\" width=\"6.25\" height=\"6.25\" opacity=\"0.0\" fill=\"currentColor\" stroke-width=\"0.1\"/>\n",
       "<rect x=\"12.50000000000001\" y=\"-212.5\" width=\"6.25\" height=\"6.25\" opacity=\"0.0\" fill=\"currentColor\" stroke-width=\"0.1\"/>\n",
       "<rect x=\"18.74999999999999\" y=\"-212.5\" width=\"6.25\" height=\"6.25\" opacity=\"0.0\" fill=\"currentColor\" stroke-width=\"0.1\"/>\n",
       "<rect x=\"24.999999999999993\" y=\"-212.5\" width=\"6.25\" height=\"6.25\" opacity=\"0.0\" fill=\"currentColor\" stroke-width=\"0.1\"/>\n",
       "<rect x=\"31.25\" y=\"-212.5\" width=\"6.25\" height=\"6.25\" opacity=\"0.0\" fill=\"currentColor\" stroke-width=\"0.1\"/>\n",
       "<rect x=\"37.50000000000001\" y=\"-212.5\" width=\"6.25\" height=\"6.25\" opacity=\"0.0\" fill=\"currentColor\" stroke-width=\"0.1\"/>\n",
       "<rect x=\"43.750000000000014\" y=\"-212.5\" width=\"6.25\" height=\"6.25\" opacity=\"0.0020120724346076543\" fill=\"currentColor\" stroke-width=\"0.1\"/>\n",
       "<rect x=\"49.999999999999986\" y=\"-212.5\" width=\"6.25\" height=\"6.25\" opacity=\"0.0\" fill=\"currentColor\" stroke-width=\"0.1\"/>\n",
       "<rect x=\"56.24999999999999\" y=\"-212.5\" width=\"6.25\" height=\"6.25\" opacity=\"0.006036217303822937\" fill=\"currentColor\" stroke-width=\"0.1\"/>\n",
       "<rect x=\"62.5\" y=\"-212.5\" width=\"6.25\" height=\"6.25\" opacity=\"0.0\" fill=\"currentColor\" stroke-width=\"0.1\"/>\n",
       "<rect x=\"68.75\" y=\"-212.5\" width=\"6.25\" height=\"6.25\" opacity=\"0.00804828973843059\" fill=\"currentColor\" stroke-width=\"0.1\"/>\n",
       "<rect x=\"75.00000000000001\" y=\"-212.5\" width=\"6.25\" height=\"6.25\" opacity=\"0.00603621730382295\" fill=\"currentColor\" stroke-width=\"0.1\"/>\n",
       "<rect x=\"81.24999999999999\" y=\"-212.5\" width=\"6.25\" height=\"6.25\" opacity=\"0.00804828973843059\" fill=\"currentColor\" stroke-width=\"0.1\"/>\n",
       "<rect x=\"87.5\" y=\"-212.5\" width=\"6.25\" height=\"6.25\" opacity=\"0.01408450704225352\" fill=\"currentColor\" stroke-width=\"0.1\"/>\n",
       "<rect x=\"93.75\" y=\"-212.5\" width=\"6.25\" height=\"6.25\" opacity=\"0.0221327967806841\" fill=\"currentColor\" stroke-width=\"0.1\"/>\n",
       "<rect x=\"100.0\" y=\"-212.5\" width=\"6.25\" height=\"6.25\" opacity=\"0.014084507042253534\" fill=\"currentColor\" stroke-width=\"0.1\"/>\n",
       "<rect x=\"106.25000000000001\" y=\"-212.5\" width=\"6.25\" height=\"6.25\" opacity=\"0.02213279678068415\" fill=\"currentColor\" stroke-width=\"0.1\"/>\n",
       "<rect x=\"112.49999999999999\" y=\"-212.5\" width=\"6.25\" height=\"6.25\" opacity=\"0.02414486921529177\" fill=\"currentColor\" stroke-width=\"0.1\"/>\n",
       "<rect x=\"118.75\" y=\"-212.5\" width=\"6.25\" height=\"6.25\" opacity=\"0.02816901408450704\" fill=\"currentColor\" stroke-width=\"0.1\"/>\n",
       "<rect x=\"125.0\" y=\"-212.5\" width=\"6.25\" height=\"6.25\" opacity=\"0.030181086519114685\" fill=\"currentColor\" stroke-width=\"0.1\"/>\n",
       "<rect x=\"131.25\" y=\"-212.5\" width=\"6.25\" height=\"6.25\" opacity=\"0.0221327967806841\" fill=\"currentColor\" stroke-width=\"0.1\"/>\n",
       "<rect x=\"137.5\" y=\"-212.5\" width=\"6.25\" height=\"6.25\" opacity=\"0.020120724346076542\" fill=\"currentColor\" stroke-width=\"0.1\"/>\n",
       "<rect x=\"143.75\" y=\"-212.5\" width=\"6.25\" height=\"6.25\" opacity=\"0.016096579476861165\" fill=\"currentColor\" stroke-width=\"0.1\"/>\n",
       "<rect x=\"150.0\" y=\"-212.5\" width=\"6.25\" height=\"6.25\" opacity=\"0.02012072434607646\" fill=\"currentColor\" stroke-width=\"0.1\"/>\n",
       "<rect x=\"156.25\" y=\"-212.5\" width=\"6.25\" height=\"6.25\" opacity=\"0.01006036217303823\" fill=\"currentColor\" stroke-width=\"0.1\"/>\n",
       "<rect x=\"162.5\" y=\"-212.5\" width=\"6.25\" height=\"6.25\" opacity=\"0.018108651911468814\" fill=\"currentColor\" stroke-width=\"0.1\"/>\n",
       "<rect x=\"168.75\" y=\"-212.5\" width=\"6.25\" height=\"6.25\" opacity=\"0.004024144869215309\" fill=\"currentColor\" stroke-width=\"0.1\"/>\n",
       "<rect x=\"175.0\" y=\"-212.5\" width=\"6.25\" height=\"6.25\" opacity=\"0.006036217303822937\" fill=\"currentColor\" stroke-width=\"0.1\"/>\n",
       "<rect x=\"181.25\" y=\"-212.5\" width=\"6.25\" height=\"6.25\" opacity=\"0.01006036217303823\" fill=\"currentColor\" stroke-width=\"0.1\"/>\n",
       "<rect x=\"187.5\" y=\"-212.5\" width=\"6.25\" height=\"6.25\" opacity=\"0.0\" fill=\"currentColor\" stroke-width=\"0.1\"/>\n",
       "<rect x=\"193.75\" y=\"-212.5\" width=\"6.25\" height=\"6.25\" opacity=\"0.0020120724346076456\" fill=\"currentColor\" stroke-width=\"0.1\"/>\n",
       "<rect x=\"200.0\" y=\"-212.5\" width=\"6.25\" height=\"6.25\" opacity=\"0.004024144869215309\" fill=\"currentColor\" stroke-width=\"0.1\"/>\n",
       "<rect x=\"206.25\" y=\"-212.5\" width=\"6.25\" height=\"6.25\" opacity=\"0.0\" fill=\"currentColor\" stroke-width=\"0.1\"/>\n",
       "<rect x=\"212.5\" y=\"-212.5\" width=\"6.25\" height=\"6.25\" opacity=\"0.0\" fill=\"currentColor\" stroke-width=\"0.1\"/>\n",
       "<rect x=\"218.75\" y=\"-212.5\" width=\"6.25\" height=\"6.25\" opacity=\"0.0\" fill=\"currentColor\" stroke-width=\"0.1\"/>\n",
       "<rect x=\"225.0\" y=\"-212.5\" width=\"6.25\" height=\"6.25\" opacity=\"0.0\" fill=\"currentColor\" stroke-width=\"0.1\"/>\n",
       "<rect x=\"231.25\" y=\"-212.5\" width=\"6.25\" height=\"6.25\" opacity=\"0.0\" fill=\"currentColor\" stroke-width=\"0.1\"/>\n",
       "<rect x=\"237.5\" y=\"-212.5\" width=\"6.25\" height=\"6.25\" opacity=\"0.0\" fill=\"currentColor\" stroke-width=\"0.1\"/>\n",
       "<rect x=\"243.75\" y=\"-212.5\" width=\"6.25\" height=\"6.25\" opacity=\"0.0\" fill=\"currentColor\" stroke-width=\"0.1\"/>\n",
       "<rect x=\"0.0\" y=\"-218.75\" width=\"6.25\" height=\"6.25\" opacity=\"0.0\" fill=\"currentColor\" stroke-width=\"0.1\"/>\n",
       "<rect x=\"6.250000000000005\" y=\"-218.75\" width=\"6.25\" height=\"6.25\" opacity=\"0.0\" fill=\"currentColor\" stroke-width=\"0.1\"/>\n",
       "<rect x=\"12.50000000000001\" y=\"-218.75\" width=\"6.25\" height=\"6.25\" opacity=\"0.0\" fill=\"currentColor\" stroke-width=\"0.1\"/>\n",
       "<rect x=\"18.74999999999999\" y=\"-218.75\" width=\"6.25\" height=\"6.25\" opacity=\"0.0\" fill=\"currentColor\" stroke-width=\"0.1\"/>\n",
       "<rect x=\"24.999999999999993\" y=\"-218.75\" width=\"6.25\" height=\"6.25\" opacity=\"0.0\" fill=\"currentColor\" stroke-width=\"0.1\"/>\n",
       "<rect x=\"31.25\" y=\"-218.75\" width=\"6.25\" height=\"6.25\" opacity=\"0.0020120724346076456\" fill=\"currentColor\" stroke-width=\"0.1\"/>\n",
       "<rect x=\"37.50000000000001\" y=\"-218.75\" width=\"6.25\" height=\"6.25\" opacity=\"0.0\" fill=\"currentColor\" stroke-width=\"0.1\"/>\n",
       "<rect x=\"43.750000000000014\" y=\"-218.75\" width=\"6.25\" height=\"6.25\" opacity=\"0.0\" fill=\"currentColor\" stroke-width=\"0.1\"/>\n",
       "<rect x=\"49.999999999999986\" y=\"-218.75\" width=\"6.25\" height=\"6.25\" opacity=\"0.0\" fill=\"currentColor\" stroke-width=\"0.1\"/>\n",
       "<rect x=\"56.24999999999999\" y=\"-218.75\" width=\"6.25\" height=\"6.25\" opacity=\"0.0\" fill=\"currentColor\" stroke-width=\"0.1\"/>\n",
       "<rect x=\"62.5\" y=\"-218.75\" width=\"6.25\" height=\"6.25\" opacity=\"0.0\" fill=\"currentColor\" stroke-width=\"0.1\"/>\n",
       "<rect x=\"68.75\" y=\"-218.75\" width=\"6.25\" height=\"6.25\" opacity=\"0.004024144869215295\" fill=\"currentColor\" stroke-width=\"0.1\"/>\n",
       "<rect x=\"75.00000000000001\" y=\"-218.75\" width=\"6.25\" height=\"6.25\" opacity=\"0.0160965794768612\" fill=\"currentColor\" stroke-width=\"0.1\"/>\n",
       "<rect x=\"81.24999999999999\" y=\"-218.75\" width=\"6.25\" height=\"6.25\" opacity=\"0.00804828973843059\" fill=\"currentColor\" stroke-width=\"0.1\"/>\n",
       "<rect x=\"87.5\" y=\"-218.75\" width=\"6.25\" height=\"6.25\" opacity=\"0.01006036217303823\" fill=\"currentColor\" stroke-width=\"0.1\"/>\n",
       "<rect x=\"93.75\" y=\"-218.75\" width=\"6.25\" height=\"6.25\" opacity=\"0.008048289738430582\" fill=\"currentColor\" stroke-width=\"0.1\"/>\n",
       "<rect x=\"100.0\" y=\"-218.75\" width=\"6.25\" height=\"6.25\" opacity=\"0.012072434607645885\" fill=\"currentColor\" stroke-width=\"0.1\"/>\n",
       "<rect x=\"106.25000000000001\" y=\"-218.75\" width=\"6.25\" height=\"6.25\" opacity=\"0.02213279678068415\" fill=\"currentColor\" stroke-width=\"0.1\"/>\n",
       "<rect x=\"112.49999999999999\" y=\"-218.75\" width=\"6.25\" height=\"6.25\" opacity=\"0.0060362173038229425\" fill=\"currentColor\" stroke-width=\"0.1\"/>\n",
       "<rect x=\"118.75\" y=\"-218.75\" width=\"6.25\" height=\"6.25\" opacity=\"0.016096579476861165\" fill=\"currentColor\" stroke-width=\"0.1\"/>\n",
       "<rect x=\"125.0\" y=\"-218.75\" width=\"6.25\" height=\"6.25\" opacity=\"0.016096579476861165\" fill=\"currentColor\" stroke-width=\"0.1\"/>\n",
       "<rect x=\"131.25\" y=\"-218.75\" width=\"6.25\" height=\"6.25\" opacity=\"0.008048289738430582\" fill=\"currentColor\" stroke-width=\"0.1\"/>\n",
       "<rect x=\"137.5\" y=\"-218.75\" width=\"6.25\" height=\"6.25\" opacity=\"0.012072434607645927\" fill=\"currentColor\" stroke-width=\"0.1\"/>\n",
       "<rect x=\"143.75\" y=\"-218.75\" width=\"6.25\" height=\"6.25\" opacity=\"0.008048289738430582\" fill=\"currentColor\" stroke-width=\"0.1\"/>\n",
       "<rect x=\"150.0\" y=\"-218.75\" width=\"6.25\" height=\"6.25\" opacity=\"0.0\" fill=\"currentColor\" stroke-width=\"0.1\"/>\n",
       "<rect x=\"156.25\" y=\"-218.75\" width=\"6.25\" height=\"6.25\" opacity=\"0.0020120724346076456\" fill=\"currentColor\" stroke-width=\"0.1\"/>\n",
       "<rect x=\"162.5\" y=\"-218.75\" width=\"6.25\" height=\"6.25\" opacity=\"0.01408450704225352\" fill=\"currentColor\" stroke-width=\"0.1\"/>\n",
       "<rect x=\"168.75\" y=\"-218.75\" width=\"6.25\" height=\"6.25\" opacity=\"0.0020120724346076543\" fill=\"currentColor\" stroke-width=\"0.1\"/>\n",
       "<rect x=\"175.0\" y=\"-218.75\" width=\"6.25\" height=\"6.25\" opacity=\"0.006036217303822937\" fill=\"currentColor\" stroke-width=\"0.1\"/>\n",
       "<rect x=\"181.25\" y=\"-218.75\" width=\"6.25\" height=\"6.25\" opacity=\"0.004024144869215291\" fill=\"currentColor\" stroke-width=\"0.1\"/>\n",
       "<rect x=\"187.5\" y=\"-218.75\" width=\"6.25\" height=\"6.25\" opacity=\"0.0\" fill=\"currentColor\" stroke-width=\"0.1\"/>\n",
       "<rect x=\"193.75\" y=\"-218.75\" width=\"6.25\" height=\"6.25\" opacity=\"0.0020120724346076456\" fill=\"currentColor\" stroke-width=\"0.1\"/>\n",
       "<rect x=\"200.0\" y=\"-218.75\" width=\"6.25\" height=\"6.25\" opacity=\"0.0\" fill=\"currentColor\" stroke-width=\"0.1\"/>\n",
       "<rect x=\"206.25\" y=\"-218.75\" width=\"6.25\" height=\"6.25\" opacity=\"0.0\" fill=\"currentColor\" stroke-width=\"0.1\"/>\n",
       "<rect x=\"212.5\" y=\"-218.75\" width=\"6.25\" height=\"6.25\" opacity=\"0.0\" fill=\"currentColor\" stroke-width=\"0.1\"/>\n",
       "<rect x=\"218.75\" y=\"-218.75\" width=\"6.25\" height=\"6.25\" opacity=\"0.0\" fill=\"currentColor\" stroke-width=\"0.1\"/>\n",
       "<rect x=\"225.0\" y=\"-218.75\" width=\"6.25\" height=\"6.25\" opacity=\"0.0\" fill=\"currentColor\" stroke-width=\"0.1\"/>\n",
       "<rect x=\"231.25\" y=\"-218.75\" width=\"6.25\" height=\"6.25\" opacity=\"0.0\" fill=\"currentColor\" stroke-width=\"0.1\"/>\n",
       "<rect x=\"237.5\" y=\"-218.75\" width=\"6.25\" height=\"6.25\" opacity=\"0.0\" fill=\"currentColor\" stroke-width=\"0.1\"/>\n",
       "<rect x=\"243.75\" y=\"-218.75\" width=\"6.25\" height=\"6.25\" opacity=\"0.0\" fill=\"currentColor\" stroke-width=\"0.1\"/>\n",
       "<rect x=\"0.0\" y=\"-225.0\" width=\"6.25\" height=\"6.25\" opacity=\"0.0\" fill=\"currentColor\" stroke-width=\"0.1\"/>\n",
       "<rect x=\"6.250000000000005\" y=\"-225.0\" width=\"6.25\" height=\"6.25\" opacity=\"0.0\" fill=\"currentColor\" stroke-width=\"0.1\"/>\n",
       "<rect x=\"12.50000000000001\" y=\"-225.0\" width=\"6.25\" height=\"6.25\" opacity=\"0.0\" fill=\"currentColor\" stroke-width=\"0.1\"/>\n",
       "<rect x=\"18.74999999999999\" y=\"-225.0\" width=\"6.25\" height=\"6.25\" opacity=\"0.0\" fill=\"currentColor\" stroke-width=\"0.1\"/>\n",
       "<rect x=\"24.999999999999993\" y=\"-225.0\" width=\"6.25\" height=\"6.25\" opacity=\"0.0\" fill=\"currentColor\" stroke-width=\"0.1\"/>\n",
       "<rect x=\"31.25\" y=\"-225.0\" width=\"6.25\" height=\"6.25\" opacity=\"0.0\" fill=\"currentColor\" stroke-width=\"0.1\"/>\n",
       "<rect x=\"37.50000000000001\" y=\"-225.0\" width=\"6.25\" height=\"6.25\" opacity=\"0.0\" fill=\"currentColor\" stroke-width=\"0.1\"/>\n",
       "<rect x=\"43.750000000000014\" y=\"-225.0\" width=\"6.25\" height=\"6.25\" opacity=\"0.0\" fill=\"currentColor\" stroke-width=\"0.1\"/>\n",
       "<rect x=\"49.999999999999986\" y=\"-225.0\" width=\"6.25\" height=\"6.25\" opacity=\"0.0\" fill=\"currentColor\" stroke-width=\"0.1\"/>\n",
       "<rect x=\"56.24999999999999\" y=\"-225.0\" width=\"6.25\" height=\"6.25\" opacity=\"0.0\" fill=\"currentColor\" stroke-width=\"0.1\"/>\n",
       "<rect x=\"62.5\" y=\"-225.0\" width=\"6.25\" height=\"6.25\" opacity=\"0.0\" fill=\"currentColor\" stroke-width=\"0.1\"/>\n",
       "<rect x=\"68.75\" y=\"-225.0\" width=\"6.25\" height=\"6.25\" opacity=\"0.0\" fill=\"currentColor\" stroke-width=\"0.1\"/>\n",
       "<rect x=\"75.00000000000001\" y=\"-225.0\" width=\"6.25\" height=\"6.25\" opacity=\"0.0040241448692153\" fill=\"currentColor\" stroke-width=\"0.1\"/>\n",
       "<rect x=\"81.24999999999999\" y=\"-225.0\" width=\"6.25\" height=\"6.25\" opacity=\"0.0020120724346076473\" fill=\"currentColor\" stroke-width=\"0.1\"/>\n",
       "<rect x=\"87.5\" y=\"-225.0\" width=\"6.25\" height=\"6.25\" opacity=\"0.0\" fill=\"currentColor\" stroke-width=\"0.1\"/>\n",
       "<rect x=\"93.75\" y=\"-225.0\" width=\"6.25\" height=\"6.25\" opacity=\"0.006036217303822937\" fill=\"currentColor\" stroke-width=\"0.1\"/>\n",
       "<rect x=\"100.0\" y=\"-225.0\" width=\"6.25\" height=\"6.25\" opacity=\"0.004024144869215295\" fill=\"currentColor\" stroke-width=\"0.1\"/>\n",
       "<rect x=\"106.25000000000001\" y=\"-225.0\" width=\"6.25\" height=\"6.25\" opacity=\"0.00201207243460765\" fill=\"currentColor\" stroke-width=\"0.1\"/>\n",
       "<rect x=\"112.49999999999999\" y=\"-225.0\" width=\"6.25\" height=\"6.25\" opacity=\"0.012072434607645885\" fill=\"currentColor\" stroke-width=\"0.1\"/>\n",
       "<rect x=\"118.75\" y=\"-225.0\" width=\"6.25\" height=\"6.25\" opacity=\"0.02414486921529175\" fill=\"currentColor\" stroke-width=\"0.1\"/>\n",
       "<rect x=\"125.0\" y=\"-225.0\" width=\"6.25\" height=\"6.25\" opacity=\"0.01006036217303823\" fill=\"currentColor\" stroke-width=\"0.1\"/>\n",
       "<rect x=\"131.25\" y=\"-225.0\" width=\"6.25\" height=\"6.25\" opacity=\"0.01006036217303823\" fill=\"currentColor\" stroke-width=\"0.1\"/>\n",
       "<rect x=\"137.5\" y=\"-225.0\" width=\"6.25\" height=\"6.25\" opacity=\"0.0020120724346076543\" fill=\"currentColor\" stroke-width=\"0.1\"/>\n",
       "<rect x=\"143.75\" y=\"-225.0\" width=\"6.25\" height=\"6.25\" opacity=\"0.004024144869215291\" fill=\"currentColor\" stroke-width=\"0.1\"/>\n",
       "<rect x=\"150.0\" y=\"-225.0\" width=\"6.25\" height=\"6.25\" opacity=\"0.004024144869215291\" fill=\"currentColor\" stroke-width=\"0.1\"/>\n",
       "<rect x=\"156.25\" y=\"-225.0\" width=\"6.25\" height=\"6.25\" opacity=\"0.008048289738430582\" fill=\"currentColor\" stroke-width=\"0.1\"/>\n",
       "<rect x=\"162.5\" y=\"-225.0\" width=\"6.25\" height=\"6.25\" opacity=\"0.0020120724346076456\" fill=\"currentColor\" stroke-width=\"0.1\"/>\n",
       "<rect x=\"168.75\" y=\"-225.0\" width=\"6.25\" height=\"6.25\" opacity=\"0.0020120724346076543\" fill=\"currentColor\" stroke-width=\"0.1\"/>\n",
       "<rect x=\"175.0\" y=\"-225.0\" width=\"6.25\" height=\"6.25\" opacity=\"0.0\" fill=\"currentColor\" stroke-width=\"0.1\"/>\n",
       "<rect x=\"181.25\" y=\"-225.0\" width=\"6.25\" height=\"6.25\" opacity=\"0.006036217303822937\" fill=\"currentColor\" stroke-width=\"0.1\"/>\n",
       "<rect x=\"187.5\" y=\"-225.0\" width=\"6.25\" height=\"6.25\" opacity=\"0.0\" fill=\"currentColor\" stroke-width=\"0.1\"/>\n",
       "<rect x=\"193.75\" y=\"-225.0\" width=\"6.25\" height=\"6.25\" opacity=\"0.0020120724346076456\" fill=\"currentColor\" stroke-width=\"0.1\"/>\n",
       "<rect x=\"200.0\" y=\"-225.0\" width=\"6.25\" height=\"6.25\" opacity=\"0.0\" fill=\"currentColor\" stroke-width=\"0.1\"/>\n",
       "<rect x=\"206.25\" y=\"-225.0\" width=\"6.25\" height=\"6.25\" opacity=\"0.0\" fill=\"currentColor\" stroke-width=\"0.1\"/>\n",
       "<rect x=\"212.5\" y=\"-225.0\" width=\"6.25\" height=\"6.25\" opacity=\"0.0\" fill=\"currentColor\" stroke-width=\"0.1\"/>\n",
       "<rect x=\"218.75\" y=\"-225.0\" width=\"6.25\" height=\"6.25\" opacity=\"0.0\" fill=\"currentColor\" stroke-width=\"0.1\"/>\n",
       "<rect x=\"225.0\" y=\"-225.0\" width=\"6.25\" height=\"6.25\" opacity=\"0.0\" fill=\"currentColor\" stroke-width=\"0.1\"/>\n",
       "<rect x=\"231.25\" y=\"-225.0\" width=\"6.25\" height=\"6.25\" opacity=\"0.0\" fill=\"currentColor\" stroke-width=\"0.1\"/>\n",
       "<rect x=\"237.5\" y=\"-225.0\" width=\"6.25\" height=\"6.25\" opacity=\"0.0\" fill=\"currentColor\" stroke-width=\"0.1\"/>\n",
       "<rect x=\"243.75\" y=\"-225.0\" width=\"6.25\" height=\"6.25\" opacity=\"0.0\" fill=\"currentColor\" stroke-width=\"0.1\"/>\n",
       "<rect x=\"0.0\" y=\"-231.25\" width=\"6.25\" height=\"6.25\" opacity=\"0.0\" fill=\"currentColor\" stroke-width=\"0.1\"/>\n",
       "<rect x=\"6.250000000000005\" y=\"-231.25\" width=\"6.25\" height=\"6.25\" opacity=\"0.0\" fill=\"currentColor\" stroke-width=\"0.1\"/>\n",
       "<rect x=\"12.50000000000001\" y=\"-231.25\" width=\"6.25\" height=\"6.25\" opacity=\"0.0\" fill=\"currentColor\" stroke-width=\"0.1\"/>\n",
       "<rect x=\"18.74999999999999\" y=\"-231.25\" width=\"6.25\" height=\"6.25\" opacity=\"0.0\" fill=\"currentColor\" stroke-width=\"0.1\"/>\n",
       "<rect x=\"24.999999999999993\" y=\"-231.25\" width=\"6.25\" height=\"6.25\" opacity=\"0.0\" fill=\"currentColor\" stroke-width=\"0.1\"/>\n",
       "<rect x=\"31.25\" y=\"-231.25\" width=\"6.25\" height=\"6.25\" opacity=\"0.0\" fill=\"currentColor\" stroke-width=\"0.1\"/>\n",
       "<rect x=\"37.50000000000001\" y=\"-231.25\" width=\"6.25\" height=\"6.25\" opacity=\"0.0\" fill=\"currentColor\" stroke-width=\"0.1\"/>\n",
       "<rect x=\"43.750000000000014\" y=\"-231.25\" width=\"6.25\" height=\"6.25\" opacity=\"0.0\" fill=\"currentColor\" stroke-width=\"0.1\"/>\n",
       "<rect x=\"49.999999999999986\" y=\"-231.25\" width=\"6.25\" height=\"6.25\" opacity=\"0.0\" fill=\"currentColor\" stroke-width=\"0.1\"/>\n",
       "<rect x=\"56.24999999999999\" y=\"-231.25\" width=\"6.25\" height=\"6.25\" opacity=\"0.0\" fill=\"currentColor\" stroke-width=\"0.1\"/>\n",
       "<rect x=\"62.5\" y=\"-231.25\" width=\"6.25\" height=\"6.25\" opacity=\"0.0\" fill=\"currentColor\" stroke-width=\"0.1\"/>\n",
       "<rect x=\"68.75\" y=\"-231.25\" width=\"6.25\" height=\"6.25\" opacity=\"0.0\" fill=\"currentColor\" stroke-width=\"0.1\"/>\n",
       "<rect x=\"75.00000000000001\" y=\"-231.25\" width=\"6.25\" height=\"6.25\" opacity=\"0.0\" fill=\"currentColor\" stroke-width=\"0.1\"/>\n",
       "<rect x=\"81.24999999999999\" y=\"-231.25\" width=\"6.25\" height=\"6.25\" opacity=\"0.0020120724346076473\" fill=\"currentColor\" stroke-width=\"0.1\"/>\n",
       "<rect x=\"87.5\" y=\"-231.25\" width=\"6.25\" height=\"6.25\" opacity=\"0.0\" fill=\"currentColor\" stroke-width=\"0.1\"/>\n",
       "<rect x=\"93.75\" y=\"-231.25\" width=\"6.25\" height=\"6.25\" opacity=\"0.004024144869215291\" fill=\"currentColor\" stroke-width=\"0.1\"/>\n",
       "<rect x=\"100.0\" y=\"-231.25\" width=\"6.25\" height=\"6.25\" opacity=\"0.004024144869215295\" fill=\"currentColor\" stroke-width=\"0.1\"/>\n",
       "<rect x=\"106.25000000000001\" y=\"-231.25\" width=\"6.25\" height=\"6.25\" opacity=\"0.0\" fill=\"currentColor\" stroke-width=\"0.1\"/>\n",
       "<rect x=\"112.49999999999999\" y=\"-231.25\" width=\"6.25\" height=\"6.25\" opacity=\"0.0\" fill=\"currentColor\" stroke-width=\"0.1\"/>\n",
       "<rect x=\"118.75\" y=\"-231.25\" width=\"6.25\" height=\"6.25\" opacity=\"0.012072434607645875\" fill=\"currentColor\" stroke-width=\"0.1\"/>\n",
       "<rect x=\"125.0\" y=\"-231.25\" width=\"6.25\" height=\"6.25\" opacity=\"0.006036217303822937\" fill=\"currentColor\" stroke-width=\"0.1\"/>\n",
       "<rect x=\"131.25\" y=\"-231.25\" width=\"6.25\" height=\"6.25\" opacity=\"0.004024144869215291\" fill=\"currentColor\" stroke-width=\"0.1\"/>\n",
       "<rect x=\"137.5\" y=\"-231.25\" width=\"6.25\" height=\"6.25\" opacity=\"0.004024144869215309\" fill=\"currentColor\" stroke-width=\"0.1\"/>\n",
       "<rect x=\"143.75\" y=\"-231.25\" width=\"6.25\" height=\"6.25\" opacity=\"0.0020120724346076456\" fill=\"currentColor\" stroke-width=\"0.1\"/>\n",
       "<rect x=\"150.0\" y=\"-231.25\" width=\"6.25\" height=\"6.25\" opacity=\"0.0020120724346076456\" fill=\"currentColor\" stroke-width=\"0.1\"/>\n",
       "<rect x=\"156.25\" y=\"-231.25\" width=\"6.25\" height=\"6.25\" opacity=\"0.0020120724346076456\" fill=\"currentColor\" stroke-width=\"0.1\"/>\n",
       "<rect x=\"162.5\" y=\"-231.25\" width=\"6.25\" height=\"6.25\" opacity=\"0.0020120724346076456\" fill=\"currentColor\" stroke-width=\"0.1\"/>\n",
       "<rect x=\"168.75\" y=\"-231.25\" width=\"6.25\" height=\"6.25\" opacity=\"0.0\" fill=\"currentColor\" stroke-width=\"0.1\"/>\n",
       "<rect x=\"175.0\" y=\"-231.25\" width=\"6.25\" height=\"6.25\" opacity=\"0.0020120724346076456\" fill=\"currentColor\" stroke-width=\"0.1\"/>\n",
       "<rect x=\"181.25\" y=\"-231.25\" width=\"6.25\" height=\"6.25\" opacity=\"0.0\" fill=\"currentColor\" stroke-width=\"0.1\"/>\n",
       "<rect x=\"187.5\" y=\"-231.25\" width=\"6.25\" height=\"6.25\" opacity=\"0.0\" fill=\"currentColor\" stroke-width=\"0.1\"/>\n",
       "<rect x=\"193.75\" y=\"-231.25\" width=\"6.25\" height=\"6.25\" opacity=\"0.0\" fill=\"currentColor\" stroke-width=\"0.1\"/>\n",
       "<rect x=\"200.0\" y=\"-231.25\" width=\"6.25\" height=\"6.25\" opacity=\"0.0\" fill=\"currentColor\" stroke-width=\"0.1\"/>\n",
       "<rect x=\"206.25\" y=\"-231.25\" width=\"6.25\" height=\"6.25\" opacity=\"0.0\" fill=\"currentColor\" stroke-width=\"0.1\"/>\n",
       "<rect x=\"212.5\" y=\"-231.25\" width=\"6.25\" height=\"6.25\" opacity=\"0.0\" fill=\"currentColor\" stroke-width=\"0.1\"/>\n",
       "<rect x=\"218.75\" y=\"-231.25\" width=\"6.25\" height=\"6.25\" opacity=\"0.0\" fill=\"currentColor\" stroke-width=\"0.1\"/>\n",
       "<rect x=\"225.0\" y=\"-231.25\" width=\"6.25\" height=\"6.25\" opacity=\"0.0020120724346076456\" fill=\"currentColor\" stroke-width=\"0.1\"/>\n",
       "<rect x=\"231.25\" y=\"-231.25\" width=\"6.25\" height=\"6.25\" opacity=\"0.0\" fill=\"currentColor\" stroke-width=\"0.1\"/>\n",
       "<rect x=\"237.5\" y=\"-231.25\" width=\"6.25\" height=\"6.25\" opacity=\"0.0\" fill=\"currentColor\" stroke-width=\"0.1\"/>\n",
       "<rect x=\"243.75\" y=\"-231.25\" width=\"6.25\" height=\"6.25\" opacity=\"0.0\" fill=\"currentColor\" stroke-width=\"0.1\"/>\n",
       "<rect x=\"0.0\" y=\"-237.5\" width=\"6.25\" height=\"6.25\" opacity=\"0.0\" fill=\"currentColor\" stroke-width=\"0.1\"/>\n",
       "<rect x=\"6.250000000000005\" y=\"-237.5\" width=\"6.25\" height=\"6.25\" opacity=\"0.0\" fill=\"currentColor\" stroke-width=\"0.1\"/>\n",
       "<rect x=\"12.50000000000001\" y=\"-237.5\" width=\"6.25\" height=\"6.25\" opacity=\"0.0\" fill=\"currentColor\" stroke-width=\"0.1\"/>\n",
       "<rect x=\"18.74999999999999\" y=\"-237.5\" width=\"6.25\" height=\"6.25\" opacity=\"0.0\" fill=\"currentColor\" stroke-width=\"0.1\"/>\n",
       "<rect x=\"24.999999999999993\" y=\"-237.5\" width=\"6.25\" height=\"6.25\" opacity=\"0.0\" fill=\"currentColor\" stroke-width=\"0.1\"/>\n",
       "<rect x=\"31.25\" y=\"-237.5\" width=\"6.25\" height=\"6.25\" opacity=\"0.0\" fill=\"currentColor\" stroke-width=\"0.1\"/>\n",
       "<rect x=\"37.50000000000001\" y=\"-237.5\" width=\"6.25\" height=\"6.25\" opacity=\"0.0\" fill=\"currentColor\" stroke-width=\"0.1\"/>\n",
       "<rect x=\"43.750000000000014\" y=\"-237.5\" width=\"6.25\" height=\"6.25\" opacity=\"0.0\" fill=\"currentColor\" stroke-width=\"0.1\"/>\n",
       "<rect x=\"49.999999999999986\" y=\"-237.5\" width=\"6.25\" height=\"6.25\" opacity=\"0.0\" fill=\"currentColor\" stroke-width=\"0.1\"/>\n",
       "<rect x=\"56.24999999999999\" y=\"-237.5\" width=\"6.25\" height=\"6.25\" opacity=\"0.0\" fill=\"currentColor\" stroke-width=\"0.1\"/>\n",
       "<rect x=\"62.5\" y=\"-237.5\" width=\"6.25\" height=\"6.25\" opacity=\"0.0\" fill=\"currentColor\" stroke-width=\"0.1\"/>\n",
       "<rect x=\"68.75\" y=\"-237.5\" width=\"6.25\" height=\"6.25\" opacity=\"0.0020120724346076565\" fill=\"currentColor\" stroke-width=\"0.1\"/>\n",
       "<rect x=\"75.00000000000001\" y=\"-237.5\" width=\"6.25\" height=\"6.25\" opacity=\"0.002012072434607659\" fill=\"currentColor\" stroke-width=\"0.1\"/>\n",
       "<rect x=\"81.24999999999999\" y=\"-237.5\" width=\"6.25\" height=\"6.25\" opacity=\"0.0\" fill=\"currentColor\" stroke-width=\"0.1\"/>\n",
       "<rect x=\"87.5\" y=\"-237.5\" width=\"6.25\" height=\"6.25\" opacity=\"0.0\" fill=\"currentColor\" stroke-width=\"0.1\"/>\n",
       "<rect x=\"93.75\" y=\"-237.5\" width=\"6.25\" height=\"6.25\" opacity=\"0.0\" fill=\"currentColor\" stroke-width=\"0.1\"/>\n",
       "<rect x=\"100.0\" y=\"-237.5\" width=\"6.25\" height=\"6.25\" opacity=\"0.004024144869215313\" fill=\"currentColor\" stroke-width=\"0.1\"/>\n",
       "<rect x=\"106.25000000000001\" y=\"-237.5\" width=\"6.25\" height=\"6.25\" opacity=\"0.004024144869215318\" fill=\"currentColor\" stroke-width=\"0.1\"/>\n",
       "<rect x=\"112.49999999999999\" y=\"-237.5\" width=\"6.25\" height=\"6.25\" opacity=\"0.0020120724346076565\" fill=\"currentColor\" stroke-width=\"0.1\"/>\n",
       "<rect x=\"118.75\" y=\"-237.5\" width=\"6.25\" height=\"6.25\" opacity=\"0.006036217303822963\" fill=\"currentColor\" stroke-width=\"0.1\"/>\n",
       "<rect x=\"125.0\" y=\"-237.5\" width=\"6.25\" height=\"6.25\" opacity=\"0.006036217303822963\" fill=\"currentColor\" stroke-width=\"0.1\"/>\n",
       "<rect x=\"131.25\" y=\"-237.5\" width=\"6.25\" height=\"6.25\" opacity=\"0.0\" fill=\"currentColor\" stroke-width=\"0.1\"/>\n",
       "<rect x=\"137.5\" y=\"-237.5\" width=\"6.25\" height=\"6.25\" opacity=\"0.0\" fill=\"currentColor\" stroke-width=\"0.1\"/>\n",
       "<rect x=\"143.75\" y=\"-237.5\" width=\"6.25\" height=\"6.25\" opacity=\"0.0020120724346076543\" fill=\"currentColor\" stroke-width=\"0.1\"/>\n",
       "<rect x=\"150.0\" y=\"-237.5\" width=\"6.25\" height=\"6.25\" opacity=\"0.0\" fill=\"currentColor\" stroke-width=\"0.1\"/>\n",
       "<rect x=\"156.25\" y=\"-237.5\" width=\"6.25\" height=\"6.25\" opacity=\"0.0\" fill=\"currentColor\" stroke-width=\"0.1\"/>\n",
       "<rect x=\"162.5\" y=\"-237.5\" width=\"6.25\" height=\"6.25\" opacity=\"0.0020120724346076543\" fill=\"currentColor\" stroke-width=\"0.1\"/>\n",
       "<rect x=\"168.75\" y=\"-237.5\" width=\"6.25\" height=\"6.25\" opacity=\"0.0\" fill=\"currentColor\" stroke-width=\"0.1\"/>\n",
       "<rect x=\"175.0\" y=\"-237.5\" width=\"6.25\" height=\"6.25\" opacity=\"0.0\" fill=\"currentColor\" stroke-width=\"0.1\"/>\n",
       "<rect x=\"181.25\" y=\"-237.5\" width=\"6.25\" height=\"6.25\" opacity=\"0.0\" fill=\"currentColor\" stroke-width=\"0.1\"/>\n",
       "<rect x=\"187.5\" y=\"-237.5\" width=\"6.25\" height=\"6.25\" opacity=\"0.0020120724346076543\" fill=\"currentColor\" stroke-width=\"0.1\"/>\n",
       "<rect x=\"193.75\" y=\"-237.5\" width=\"6.25\" height=\"6.25\" opacity=\"0.0\" fill=\"currentColor\" stroke-width=\"0.1\"/>\n",
       "<rect x=\"200.0\" y=\"-237.5\" width=\"6.25\" height=\"6.25\" opacity=\"0.0\" fill=\"currentColor\" stroke-width=\"0.1\"/>\n",
       "<rect x=\"206.25\" y=\"-237.5\" width=\"6.25\" height=\"6.25\" opacity=\"0.0\" fill=\"currentColor\" stroke-width=\"0.1\"/>\n",
       "<rect x=\"212.5\" y=\"-237.5\" width=\"6.25\" height=\"6.25\" opacity=\"0.0\" fill=\"currentColor\" stroke-width=\"0.1\"/>\n",
       "<rect x=\"218.75\" y=\"-237.5\" width=\"6.25\" height=\"6.25\" opacity=\"0.0\" fill=\"currentColor\" stroke-width=\"0.1\"/>\n",
       "<rect x=\"225.0\" y=\"-237.5\" width=\"6.25\" height=\"6.25\" opacity=\"0.0\" fill=\"currentColor\" stroke-width=\"0.1\"/>\n",
       "<rect x=\"231.25\" y=\"-237.5\" width=\"6.25\" height=\"6.25\" opacity=\"0.0\" fill=\"currentColor\" stroke-width=\"0.1\"/>\n",
       "<rect x=\"237.5\" y=\"-237.5\" width=\"6.25\" height=\"6.25\" opacity=\"0.0\" fill=\"currentColor\" stroke-width=\"0.1\"/>\n",
       "<rect x=\"243.75\" y=\"-237.5\" width=\"6.25\" height=\"6.25\" opacity=\"0.0\" fill=\"currentColor\" stroke-width=\"0.1\"/>\n",
       "<rect x=\"0.0\" y=\"-243.75\" width=\"6.25\" height=\"6.25\" opacity=\"0.0\" fill=\"currentColor\" stroke-width=\"0.1\"/>\n",
       "<rect x=\"6.250000000000005\" y=\"-243.75\" width=\"6.25\" height=\"6.25\" opacity=\"0.0\" fill=\"currentColor\" stroke-width=\"0.1\"/>\n",
       "<rect x=\"12.50000000000001\" y=\"-243.75\" width=\"6.25\" height=\"6.25\" opacity=\"0.0\" fill=\"currentColor\" stroke-width=\"0.1\"/>\n",
       "<rect x=\"18.74999999999999\" y=\"-243.75\" width=\"6.25\" height=\"6.25\" opacity=\"0.0\" fill=\"currentColor\" stroke-width=\"0.1\"/>\n",
       "<rect x=\"24.999999999999993\" y=\"-243.75\" width=\"6.25\" height=\"6.25\" opacity=\"0.0\" fill=\"currentColor\" stroke-width=\"0.1\"/>\n",
       "<rect x=\"31.25\" y=\"-243.75\" width=\"6.25\" height=\"6.25\" opacity=\"0.0\" fill=\"currentColor\" stroke-width=\"0.1\"/>\n",
       "<rect x=\"37.50000000000001\" y=\"-243.75\" width=\"6.25\" height=\"6.25\" opacity=\"0.0\" fill=\"currentColor\" stroke-width=\"0.1\"/>\n",
       "<rect x=\"43.750000000000014\" y=\"-243.75\" width=\"6.25\" height=\"6.25\" opacity=\"0.0\" fill=\"currentColor\" stroke-width=\"0.1\"/>\n",
       "<rect x=\"49.999999999999986\" y=\"-243.75\" width=\"6.25\" height=\"6.25\" opacity=\"0.0\" fill=\"currentColor\" stroke-width=\"0.1\"/>\n",
       "<rect x=\"56.24999999999999\" y=\"-243.75\" width=\"6.25\" height=\"6.25\" opacity=\"0.0\" fill=\"currentColor\" stroke-width=\"0.1\"/>\n",
       "<rect x=\"62.5\" y=\"-243.75\" width=\"6.25\" height=\"6.25\" opacity=\"0.0\" fill=\"currentColor\" stroke-width=\"0.1\"/>\n",
       "<rect x=\"68.75\" y=\"-243.75\" width=\"6.25\" height=\"6.25\" opacity=\"0.0\" fill=\"currentColor\" stroke-width=\"0.1\"/>\n",
       "<rect x=\"75.00000000000001\" y=\"-243.75\" width=\"6.25\" height=\"6.25\" opacity=\"0.0\" fill=\"currentColor\" stroke-width=\"0.1\"/>\n",
       "<rect x=\"81.24999999999999\" y=\"-243.75\" width=\"6.25\" height=\"6.25\" opacity=\"0.0020120724346076473\" fill=\"currentColor\" stroke-width=\"0.1\"/>\n",
       "<rect x=\"87.5\" y=\"-243.75\" width=\"6.25\" height=\"6.25\" opacity=\"0.0\" fill=\"currentColor\" stroke-width=\"0.1\"/>\n",
       "<rect x=\"93.75\" y=\"-243.75\" width=\"6.25\" height=\"6.25\" opacity=\"0.0\" fill=\"currentColor\" stroke-width=\"0.1\"/>\n",
       "<rect x=\"100.0\" y=\"-243.75\" width=\"6.25\" height=\"6.25\" opacity=\"0.0\" fill=\"currentColor\" stroke-width=\"0.1\"/>\n",
       "<rect x=\"106.25000000000001\" y=\"-243.75\" width=\"6.25\" height=\"6.25\" opacity=\"0.00201207243460765\" fill=\"currentColor\" stroke-width=\"0.1\"/>\n",
       "<rect x=\"112.49999999999999\" y=\"-243.75\" width=\"6.25\" height=\"6.25\" opacity=\"0.0\" fill=\"currentColor\" stroke-width=\"0.1\"/>\n",
       "<rect x=\"118.75\" y=\"-243.75\" width=\"6.25\" height=\"6.25\" opacity=\"0.0\" fill=\"currentColor\" stroke-width=\"0.1\"/>\n",
       "<rect x=\"125.0\" y=\"-243.75\" width=\"6.25\" height=\"6.25\" opacity=\"0.0\" fill=\"currentColor\" stroke-width=\"0.1\"/>\n",
       "<rect x=\"131.25\" y=\"-243.75\" width=\"6.25\" height=\"6.25\" opacity=\"0.006036217303822937\" fill=\"currentColor\" stroke-width=\"0.1\"/>\n",
       "<rect x=\"137.5\" y=\"-243.75\" width=\"6.25\" height=\"6.25\" opacity=\"0.0020120724346076543\" fill=\"currentColor\" stroke-width=\"0.1\"/>\n",
       "<rect x=\"143.75\" y=\"-243.75\" width=\"6.25\" height=\"6.25\" opacity=\"0.0020120724346076456\" fill=\"currentColor\" stroke-width=\"0.1\"/>\n",
       "<rect x=\"150.0\" y=\"-243.75\" width=\"6.25\" height=\"6.25\" opacity=\"0.0\" fill=\"currentColor\" stroke-width=\"0.1\"/>\n",
       "<rect x=\"156.25\" y=\"-243.75\" width=\"6.25\" height=\"6.25\" opacity=\"0.0\" fill=\"currentColor\" stroke-width=\"0.1\"/>\n",
       "<rect x=\"162.5\" y=\"-243.75\" width=\"6.25\" height=\"6.25\" opacity=\"0.0\" fill=\"currentColor\" stroke-width=\"0.1\"/>\n",
       "<rect x=\"168.75\" y=\"-243.75\" width=\"6.25\" height=\"6.25\" opacity=\"0.0\" fill=\"currentColor\" stroke-width=\"0.1\"/>\n",
       "<rect x=\"175.0\" y=\"-243.75\" width=\"6.25\" height=\"6.25\" opacity=\"0.0020120724346076456\" fill=\"currentColor\" stroke-width=\"0.1\"/>\n",
       "<rect x=\"181.25\" y=\"-243.75\" width=\"6.25\" height=\"6.25\" opacity=\"0.0\" fill=\"currentColor\" stroke-width=\"0.1\"/>\n",
       "<rect x=\"187.5\" y=\"-243.75\" width=\"6.25\" height=\"6.25\" opacity=\"0.0\" fill=\"currentColor\" stroke-width=\"0.1\"/>\n",
       "<rect x=\"193.75\" y=\"-243.75\" width=\"6.25\" height=\"6.25\" opacity=\"0.0\" fill=\"currentColor\" stroke-width=\"0.1\"/>\n",
       "<rect x=\"200.0\" y=\"-243.75\" width=\"6.25\" height=\"6.25\" opacity=\"0.0\" fill=\"currentColor\" stroke-width=\"0.1\"/>\n",
       "<rect x=\"206.25\" y=\"-243.75\" width=\"6.25\" height=\"6.25\" opacity=\"0.0\" fill=\"currentColor\" stroke-width=\"0.1\"/>\n",
       "<rect x=\"212.5\" y=\"-243.75\" width=\"6.25\" height=\"6.25\" opacity=\"0.0\" fill=\"currentColor\" stroke-width=\"0.1\"/>\n",
       "<rect x=\"218.75\" y=\"-243.75\" width=\"6.25\" height=\"6.25\" opacity=\"0.0\" fill=\"currentColor\" stroke-width=\"0.1\"/>\n",
       "<rect x=\"225.0\" y=\"-243.75\" width=\"6.25\" height=\"6.25\" opacity=\"0.0\" fill=\"currentColor\" stroke-width=\"0.1\"/>\n",
       "<rect x=\"231.25\" y=\"-243.75\" width=\"6.25\" height=\"6.25\" opacity=\"0.0\" fill=\"currentColor\" stroke-width=\"0.1\"/>\n",
       "<rect x=\"237.5\" y=\"-243.75\" width=\"6.25\" height=\"6.25\" opacity=\"0.0\" fill=\"currentColor\" stroke-width=\"0.1\"/>\n",
       "<rect x=\"243.75\" y=\"-243.75\" width=\"6.25\" height=\"6.25\" opacity=\"0.0\" fill=\"currentColor\" stroke-width=\"0.1\"/>\n",
       "<rect x=\"0.0\" y=\"-250.0\" width=\"6.25\" height=\"6.25\" opacity=\"0.0\" fill=\"currentColor\" stroke-width=\"0.1\"/>\n",
       "<rect x=\"6.250000000000005\" y=\"-250.0\" width=\"6.25\" height=\"6.25\" opacity=\"0.0\" fill=\"currentColor\" stroke-width=\"0.1\"/>\n",
       "<rect x=\"12.50000000000001\" y=\"-250.0\" width=\"6.25\" height=\"6.25\" opacity=\"0.0\" fill=\"currentColor\" stroke-width=\"0.1\"/>\n",
       "<rect x=\"18.74999999999999\" y=\"-250.0\" width=\"6.25\" height=\"6.25\" opacity=\"0.0\" fill=\"currentColor\" stroke-width=\"0.1\"/>\n",
       "<rect x=\"24.999999999999993\" y=\"-250.0\" width=\"6.25\" height=\"6.25\" opacity=\"0.0\" fill=\"currentColor\" stroke-width=\"0.1\"/>\n",
       "<rect x=\"31.25\" y=\"-250.0\" width=\"6.25\" height=\"6.25\" opacity=\"0.0\" fill=\"currentColor\" stroke-width=\"0.1\"/>\n",
       "<rect x=\"37.50000000000001\" y=\"-250.0\" width=\"6.25\" height=\"6.25\" opacity=\"0.0\" fill=\"currentColor\" stroke-width=\"0.1\"/>\n",
       "<rect x=\"43.750000000000014\" y=\"-250.0\" width=\"6.25\" height=\"6.25\" opacity=\"0.0\" fill=\"currentColor\" stroke-width=\"0.1\"/>\n",
       "<rect x=\"49.999999999999986\" y=\"-250.0\" width=\"6.25\" height=\"6.25\" opacity=\"0.0\" fill=\"currentColor\" stroke-width=\"0.1\"/>\n",
       "<rect x=\"56.24999999999999\" y=\"-250.0\" width=\"6.25\" height=\"6.25\" opacity=\"0.0020120724346076456\" fill=\"currentColor\" stroke-width=\"0.1\"/>\n",
       "<rect x=\"62.5\" y=\"-250.0\" width=\"6.25\" height=\"6.25\" opacity=\"0.0\" fill=\"currentColor\" stroke-width=\"0.1\"/>\n",
       "<rect x=\"68.75\" y=\"-250.0\" width=\"6.25\" height=\"6.25\" opacity=\"0.0\" fill=\"currentColor\" stroke-width=\"0.1\"/>\n",
       "<rect x=\"75.00000000000001\" y=\"-250.0\" width=\"6.25\" height=\"6.25\" opacity=\"0.0\" fill=\"currentColor\" stroke-width=\"0.1\"/>\n",
       "<rect x=\"81.24999999999999\" y=\"-250.0\" width=\"6.25\" height=\"6.25\" opacity=\"0.0\" fill=\"currentColor\" stroke-width=\"0.1\"/>\n",
       "<rect x=\"87.5\" y=\"-250.0\" width=\"6.25\" height=\"6.25\" opacity=\"0.0\" fill=\"currentColor\" stroke-width=\"0.1\"/>\n",
       "<rect x=\"93.75\" y=\"-250.0\" width=\"6.25\" height=\"6.25\" opacity=\"0.0020120724346076456\" fill=\"currentColor\" stroke-width=\"0.1\"/>\n",
       "<rect x=\"100.0\" y=\"-250.0\" width=\"6.25\" height=\"6.25\" opacity=\"0.0020120724346076473\" fill=\"currentColor\" stroke-width=\"0.1\"/>\n",
       "<rect x=\"106.25000000000001\" y=\"-250.0\" width=\"6.25\" height=\"6.25\" opacity=\"0.0\" fill=\"currentColor\" stroke-width=\"0.1\"/>\n",
       "<rect x=\"112.49999999999999\" y=\"-250.0\" width=\"6.25\" height=\"6.25\" opacity=\"0.0\" fill=\"currentColor\" stroke-width=\"0.1\"/>\n",
       "<rect x=\"118.75\" y=\"-250.0\" width=\"6.25\" height=\"6.25\" opacity=\"0.004024144869215291\" fill=\"currentColor\" stroke-width=\"0.1\"/>\n",
       "<rect x=\"125.0\" y=\"-250.0\" width=\"6.25\" height=\"6.25\" opacity=\"0.0\" fill=\"currentColor\" stroke-width=\"0.1\"/>\n",
       "<rect x=\"131.25\" y=\"-250.0\" width=\"6.25\" height=\"6.25\" opacity=\"0.0\" fill=\"currentColor\" stroke-width=\"0.1\"/>\n",
       "<rect x=\"137.5\" y=\"-250.0\" width=\"6.25\" height=\"6.25\" opacity=\"0.0\" fill=\"currentColor\" stroke-width=\"0.1\"/>\n",
       "<rect x=\"143.75\" y=\"-250.0\" width=\"6.25\" height=\"6.25\" opacity=\"0.0\" fill=\"currentColor\" stroke-width=\"0.1\"/>\n",
       "<rect x=\"150.0\" y=\"-250.0\" width=\"6.25\" height=\"6.25\" opacity=\"0.0\" fill=\"currentColor\" stroke-width=\"0.1\"/>\n",
       "<rect x=\"156.25\" y=\"-250.0\" width=\"6.25\" height=\"6.25\" opacity=\"0.0\" fill=\"currentColor\" stroke-width=\"0.1\"/>\n",
       "<rect x=\"162.5\" y=\"-250.0\" width=\"6.25\" height=\"6.25\" opacity=\"0.0\" fill=\"currentColor\" stroke-width=\"0.1\"/>\n",
       "<rect x=\"168.75\" y=\"-250.0\" width=\"6.25\" height=\"6.25\" opacity=\"0.0\" fill=\"currentColor\" stroke-width=\"0.1\"/>\n",
       "<rect x=\"175.0\" y=\"-250.0\" width=\"6.25\" height=\"6.25\" opacity=\"0.0\" fill=\"currentColor\" stroke-width=\"0.1\"/>\n",
       "<rect x=\"181.25\" y=\"-250.0\" width=\"6.25\" height=\"6.25\" opacity=\"0.0\" fill=\"currentColor\" stroke-width=\"0.1\"/>\n",
       "<rect x=\"187.5\" y=\"-250.0\" width=\"6.25\" height=\"6.25\" opacity=\"0.0\" fill=\"currentColor\" stroke-width=\"0.1\"/>\n",
       "<rect x=\"193.75\" y=\"-250.0\" width=\"6.25\" height=\"6.25\" opacity=\"0.0\" fill=\"currentColor\" stroke-width=\"0.1\"/>\n",
       "<rect x=\"200.0\" y=\"-250.0\" width=\"6.25\" height=\"6.25\" opacity=\"0.0\" fill=\"currentColor\" stroke-width=\"0.1\"/>\n",
       "<rect x=\"206.25\" y=\"-250.0\" width=\"6.25\" height=\"6.25\" opacity=\"0.0\" fill=\"currentColor\" stroke-width=\"0.1\"/>\n",
       "<rect x=\"212.5\" y=\"-250.0\" width=\"6.25\" height=\"6.25\" opacity=\"0.0\" fill=\"currentColor\" stroke-width=\"0.1\"/>\n",
       "<rect x=\"218.75\" y=\"-250.0\" width=\"6.25\" height=\"6.25\" opacity=\"0.0\" fill=\"currentColor\" stroke-width=\"0.1\"/>\n",
       "<rect x=\"225.0\" y=\"-250.0\" width=\"6.25\" height=\"6.25\" opacity=\"0.0\" fill=\"currentColor\" stroke-width=\"0.1\"/>\n",
       "<rect x=\"231.25\" y=\"-250.0\" width=\"6.25\" height=\"6.25\" opacity=\"0.0\" fill=\"currentColor\" stroke-width=\"0.1\"/>\n",
       "<rect x=\"237.5\" y=\"-250.0\" width=\"6.25\" height=\"6.25\" opacity=\"0.0\" fill=\"currentColor\" stroke-width=\"0.1\"/>\n",
       "<rect x=\"243.75\" y=\"-250.0\" width=\"6.25\" height=\"6.25\" opacity=\"0.0\" fill=\"currentColor\" stroke-width=\"0.1\"/>\n",
       "</svg>\n",
       "</div>\n",
       "<div style=\"flex=grow:1;\">\n",
       "Regular(40, -4, 4, name='xaxis', label='xaxis')<br/>\n",
       "Regular(40, -4, 4, name='yaxis', label='yaxis')<br/>\n",
       "<hr style=\"margin-top:.2em; margin-bottom:.2em;\"/>\n",
       "Double() Σ=74985.0 <em>(75000.0 with flow)</em>\n",
       "\n",
       "</div>\n",
       "</div>\n",
       "</html>"
      ],
      "text/plain": [
       "Hist(\n",
       "  Regular(40, -4, 4, name='xaxis', label='xaxis'),\n",
       "  Regular(40, -4, 4, name='yaxis', label='yaxis'),\n",
       "  storage=Double()) # Sum: 74985.0 (75000.0 with flow)"
      ]
     },
     "execution_count": 49,
     "metadata": {},
     "output_type": "execute_result"
    }
   ],
   "source": [
    "directory[\"hpxpy\"].to_hist()"
   ]
  },
  {
   "cell_type": "code",
   "execution_count": 50,
   "id": "4a8cd869-45ed-4d90-b183-d3906f47d8d4",
   "metadata": {},
   "outputs": [
    {
     "data": {
      "text/html": [
       "<html>\n",
       "<div style=\"display:flex; align-items:center;\">\n",
       "<div style=\"width:290px;\">\n",
       "<svg xmlns=\"http://www.w3.org/2000/svg\" viewBox=\"-10 -105 270 120\">\n",
       "<line x1=\"-5\" y1=\"0\" x2=\"255\" y2=\"0\" style=\"fill:none;stroke-width:2;stroke:currentColor\"/>\n",
       "<text text-anchor=\"middle\" x=\"0\" y=\"15\" style=\"fill:currentColor;\">\n",
       "-4\n",
       "</text>\n",
       "<text text-anchor=\"middle\" x=\"250\" y=\"15\" style=\"fill:currentColor;\">\n",
       "4\n",
       "</text>\n",
       "<text text-anchor=\"middle\" x=\"125.0\" y=\"15\" style=\"fill:currentColor;\">\n",
       "xaxis\n",
       "</text>\n",
       "<polyline points=\"  0,0   0,-93.1 2.5,-93.1 2.5,-92.6   5,-92.6   5,-82.9 7.5,-82.9 7.5,-75  10,-75  10,-73 12.5,-73 12.5,-73.7  15,-73.7  15,-69 17.5,-69 17.5,-69.1  20,-69.1  20,-64.5 22.5,-64.5 22.5,-63.4  25,-63.4  25,-62.6 27.5,-62.6 27.5,-54.9  30,-54.9  30,-54.7 32.5,-54.7 32.5,-52.5  35,-52.5  35,-47.9 37.5,-47.9 37.5,-47.1  40,-47.1  40,-44.6 42.5,-44.6 42.5,-40.5  45,-40.5  45,-40.9 47.5,-40.9 47.5,-38.1  50,-38.1  50,-35.5 52.5,-35.5 52.5,-34.1  55,-34.1  55,-31.7 57.5,-31.7 57.5,-30.5  60,-30.5  60,-27.3 62.5,-27.3 62.5,-26.8  65,-26.8  65,-24.7 67.5,-24.7 67.5,-23.1  70,-23.1  70,-22.3 72.5,-22.3 72.5,-19.9  75,-19.9  75,-19.2 77.5,-19.2 77.5,-17.8  80,-17.8  80,-16.2 82.5,-16.2 82.5,-14.8  85,-14.8  85,-14.1 87.5,-14.1 87.5,-12.9  90,-12.9  90,-11.7 92.5,-11.7 92.5,-11  95,-11  95,-10 97.5,-10 97.5,-9.35 100,-9.35 100,-8.8 102.5,-8.8 102.5,-7.91 105,-7.91 105,-7.35 107.5,-7.35 107.5,-6.8 110,-6.8 110,-6.39 112.5,-6.39 112.5,-6.14 115,-6.14 115,-6.11 117.5,-6.11 117.5,-5.61 120,-5.61 120,-5.69 122.5,-5.69 122.5,-5.57 125,-5.57 125,-5.46 127.5,-5.46 127.5,-5.89 130,-5.89 130,-5.62 132.5,-5.62 132.5,-5.79 135,-5.79 135,-6.3 137.5,-6.3 137.5,-6.41 140,-6.41 140,-7.19 142.5,-7.19 142.5,-7.05 145,-7.05 145,-7.94 147.5,-7.94 147.5,-8.65 150,-8.65 150,-9.43 152.5,-9.43 152.5,-9.92 155,-9.92 155,-10.9 157.5,-10.9 157.5,-12 160,-12 160,-12.7 162.5,-12.7 162.5,-14 165,-14 165,-15 167.5,-15 167.5,-15.9 170,-15.9 170,-17.2 172.5,-17.2 172.5,-18.2 175,-18.2 175,-20.1 177.5,-20.1 177.5,-21.9 180,-21.9 180,-23.5 182.5,-23.5 182.5,-24.8 185,-24.8 185,-26.9 187.5,-26.9 187.5,-28.3 190,-28.3 190,-29.9 192.5,-29.9 192.5,-31.3 195,-31.3 195,-33.7 197.5,-33.7 197.5,-35 200,-35 200,-38.5 202.5,-38.5 202.5,-39.5 205,-39.5 205,-41.2 207.5,-41.2 207.5,-44.6 210,-44.6 210,-49.2 212.5,-49.2 212.5,-48 215,-48 215,-51.1 217.5,-51.1 217.5,-52.2 220,-52.2 220,-56.1 222.5,-56.1 222.5,-60.5 225,-60.5 225,-60.7 227.5,-60.7 227.5,-69.1 230,-69.1 230,-66.5 232.5,-66.5 232.5,-67.6 235,-67.6 235,-90.2 237.5,-90.2 237.5,-72.6 240,-72.6 240,-79.9 242.5,-79.9 242.5,-81.7 245,-81.7 245,-0 247.5,-0 247.5,-100 250,-100 250,0\" style=\"fill:none; stroke:currentColor;\"/>\n",
       "</svg>\n",
       "</div>\n",
       "<div style=\"flex=grow:1;\">\n",
       "Regular(100, -4, 4, name='xaxis', label='xaxis')<br/>\n",
       "<hr style=\"margin-top:.2em; margin-bottom:.2em;\"/>\n",
       "WeightedMean() Σ=WeightedMean(sum_of_weights=74993, sum_of_weights_squared=74993, value=2.00684, variance=1.97228) <em>(WeightedMean(sum_of_weights=74998, sum_of_weights_squared=74998, value=2.0079, variance=1.989) with flow)</em>\n",
       "\n",
       "</div>\n",
       "</div>\n",
       "</html>"
      ],
      "text/plain": [
       "Hist(Regular(100, -4, 4, name='xaxis', label='xaxis'), storage=WeightedMean()) # Sum: WeightedMean(sum_of_weights=74993, sum_of_weights_squared=74993, value=2.00684, variance=1.97228) (WeightedMean(sum_of_weights=74998, sum_of_weights_squared=74998, value=2.0079, variance=1.989) with flow)"
      ]
     },
     "execution_count": 50,
     "metadata": {},
     "output_type": "execute_result"
    }
   ],
   "source": [
    "directory[\"hprof\"].to_hist()"
   ]
  },
  {
   "cell_type": "markdown",
   "id": "289c90cb-43aa-4131-b0d5-7a9adcc3a35e",
   "metadata": {},
   "source": [
    "<br><br><br>\n",
    "\n",
    "### TTrees\n",
    "\n",
    "That's what you're here for, most likely."
   ]
  },
  {
   "cell_type": "code",
   "execution_count": 51,
   "id": "84668ca7-e2f0-4bcf-b469-a6599dd95bef",
   "metadata": {},
   "outputs": [
    {
     "data": {
      "text/plain": [
       "{'events;1': 'TTree'}"
      ]
     },
     "execution_count": 51,
     "metadata": {},
     "output_type": "execute_result"
    }
   ],
   "source": [
    "directory = uproot.open(\"data/Zmumu.root\")\n",
    "directory.classnames()"
   ]
  },
  {
   "cell_type": "code",
   "execution_count": 52,
   "id": "8840a0f7-47fd-452f-a71f-f647aa92a838",
   "metadata": {},
   "outputs": [
    {
     "name": "stdout",
     "output_type": "stream",
     "text": [
      "name                 | typename                 | interpretation                \n",
      "---------------------+--------------------------+-------------------------------\n",
      "Type                 | char*                    | AsStrings()\n",
      "Run                  | int32_t                  | AsDtype('>i4')\n",
      "Event                | int32_t                  | AsDtype('>i4')\n",
      "E1                   | double                   | AsDtype('>f8')\n",
      "px1                  | double                   | AsDtype('>f8')\n",
      "py1                  | double                   | AsDtype('>f8')\n",
      "pz1                  | double                   | AsDtype('>f8')\n",
      "pt1                  | double                   | AsDtype('>f8')\n",
      "eta1                 | double                   | AsDtype('>f8')\n",
      "phi1                 | double                   | AsDtype('>f8')\n",
      "Q1                   | int32_t                  | AsDtype('>i4')\n",
      "E2                   | double                   | AsDtype('>f8')\n",
      "px2                  | double                   | AsDtype('>f8')\n",
      "py2                  | double                   | AsDtype('>f8')\n",
      "pz2                  | double                   | AsDtype('>f8')\n",
      "pt2                  | double                   | AsDtype('>f8')\n",
      "eta2                 | double                   | AsDtype('>f8')\n",
      "phi2                 | double                   | AsDtype('>f8')\n",
      "Q2                   | int32_t                  | AsDtype('>i4')\n",
      "M                    | double                   | AsDtype('>f8')\n"
     ]
    }
   ],
   "source": [
    "events = directory[\"events\"]\n",
    "events.show()"
   ]
  },
  {
   "cell_type": "markdown",
   "id": "838cfcf9-44d9-4b72-890f-65b2957b3a0c",
   "metadata": {},
   "source": [
    "I've been advertising the above as a way to get a first look at a TTree, but you know you can get more detail through [keys](https://uproot.readthedocs.io/en/latest/uproot.behaviors.TTree.TTree.html#keys), [typenames](https://uproot.readthedocs.io/en/latest/uproot.behaviors.TTree.TTree.html#typenames), and [TBranch](https://uproot.readthedocs.io/en/latest/uproot.behaviors.TBranch.TBranch.html) [interpretation](https://uproot.readthedocs.io/en/latest/uproot.behaviors.TBranch.TBranch.html#interpretation)."
   ]
  },
  {
   "cell_type": "code",
   "execution_count": 53,
   "id": "ac188328-c3a6-429a-b06c-330108c373f4",
   "metadata": {},
   "outputs": [
    {
     "data": {
      "text/plain": [
       "['Type',\n",
       " 'Run',\n",
       " 'Event',\n",
       " 'E1',\n",
       " 'px1',\n",
       " 'py1',\n",
       " 'pz1',\n",
       " 'pt1',\n",
       " 'eta1',\n",
       " 'phi1',\n",
       " 'Q1',\n",
       " 'E2',\n",
       " 'px2',\n",
       " 'py2',\n",
       " 'pz2',\n",
       " 'pt2',\n",
       " 'eta2',\n",
       " 'phi2',\n",
       " 'Q2',\n",
       " 'M']"
      ]
     },
     "execution_count": 53,
     "metadata": {},
     "output_type": "execute_result"
    }
   ],
   "source": [
    "events.keys()"
   ]
  },
  {
   "cell_type": "code",
   "execution_count": 54,
   "id": "55d5fe28-6c57-4355-8222-37efa362d917",
   "metadata": {},
   "outputs": [
    {
     "data": {
      "text/plain": [
       "['Run', 'Event', 'Q1', 'Q2']"
      ]
     },
     "execution_count": 54,
     "metadata": {},
     "output_type": "execute_result"
    }
   ],
   "source": [
    "events.keys(filter_typename=\"/int.*/\")"
   ]
  },
  {
   "cell_type": "code",
   "execution_count": 55,
   "id": "c241cbc1-4dbf-41eb-9d10-8bcb16edd910",
   "metadata": {},
   "outputs": [
    {
     "data": {
      "text/plain": [
       "{'Type': 'char*',\n",
       " 'Run': 'int32_t',\n",
       " 'Event': 'int32_t',\n",
       " 'E1': 'double',\n",
       " 'px1': 'double',\n",
       " 'py1': 'double',\n",
       " 'pz1': 'double',\n",
       " 'pt1': 'double',\n",
       " 'eta1': 'double',\n",
       " 'phi1': 'double',\n",
       " 'Q1': 'int32_t',\n",
       " 'E2': 'double',\n",
       " 'px2': 'double',\n",
       " 'py2': 'double',\n",
       " 'pz2': 'double',\n",
       " 'pt2': 'double',\n",
       " 'eta2': 'double',\n",
       " 'phi2': 'double',\n",
       " 'Q2': 'int32_t',\n",
       " 'M': 'double'}"
      ]
     },
     "execution_count": 55,
     "metadata": {},
     "output_type": "execute_result"
    }
   ],
   "source": [
    "events.typenames()"
   ]
  },
  {
   "cell_type": "code",
   "execution_count": 56,
   "id": "56078339-36f6-4c3c-b295-e6bf10facc11",
   "metadata": {},
   "outputs": [
    {
     "data": {
      "text/plain": [
       "{'Type': AsStrings(),\n",
       " 'Run': AsDtype('>i4'),\n",
       " 'Event': AsDtype('>i4'),\n",
       " 'E1': AsDtype('>f8'),\n",
       " 'px1': AsDtype('>f8'),\n",
       " 'py1': AsDtype('>f8'),\n",
       " 'pz1': AsDtype('>f8'),\n",
       " 'pt1': AsDtype('>f8'),\n",
       " 'eta1': AsDtype('>f8'),\n",
       " 'phi1': AsDtype('>f8'),\n",
       " 'Q1': AsDtype('>i4'),\n",
       " 'E2': AsDtype('>f8'),\n",
       " 'px2': AsDtype('>f8'),\n",
       " 'py2': AsDtype('>f8'),\n",
       " 'pz2': AsDtype('>f8'),\n",
       " 'pt2': AsDtype('>f8'),\n",
       " 'eta2': AsDtype('>f8'),\n",
       " 'phi2': AsDtype('>f8'),\n",
       " 'Q2': AsDtype('>i4'),\n",
       " 'M': AsDtype('>f8')}"
      ]
     },
     "execution_count": 56,
     "metadata": {},
     "output_type": "execute_result"
    }
   ],
   "source": [
    "{name: branch.interpretation for name, branch in events.items()}"
   ]
  },
  {
   "cell_type": "code",
   "execution_count": 59,
   "id": "d8ffa5f9-fdd8-40ed-8eb4-d9222d4d7f69",
   "metadata": {},
   "outputs": [
    {
     "data": {
      "text/plain": [
       "10011"
      ]
     },
     "execution_count": 59,
     "metadata": {},
     "output_type": "execute_result"
    }
   ],
   "source": [
    "events.num_bytes"
   ]
  },
  {
   "cell_type": "markdown",
   "id": "911a62d6-6e17-4402-905e-99f155f189b5",
   "metadata": {},
   "source": [
    "<br><br><br>\n",
    "\n",
    "### Get one array from one TBranch\n",
    "\n",
    "This is the simplest method: [array](https://uproot.readthedocs.io/en/latest/uproot.behaviors.TBranch.TBranch.html#array) (singular)."
   ]
  },
  {
   "cell_type": "code",
   "execution_count": 60,
   "id": "ccd752e1-3aff-4a6e-84e7-1fdc7f4c736b",
   "metadata": {},
   "outputs": [
    {
     "data": {
      "text/plain": [
       "<TBranch 'M' at 0x7fad4e719c40>"
      ]
     },
     "execution_count": 60,
     "metadata": {},
     "output_type": "execute_result"
    }
   ],
   "source": [
    "events[\"M\"]"
   ]
  },
  {
   "cell_type": "code",
   "execution_count": 64,
   "id": "5b795434-72f3-41de-97b7-1adbcd1c5600",
   "metadata": {},
   "outputs": [
    {
     "data": {
      "text/plain": [
       "<Array [82.5, 83.6, 83.3, 82.1, 90.5] type='5 * float64'>"
      ]
     },
     "execution_count": 64,
     "metadata": {},
     "output_type": "execute_result"
    }
   ],
   "source": [
    "events[\"M\"].array(entry_stop=5)"
   ]
  },
  {
   "cell_type": "markdown",
   "id": "f059b7f6-293c-4a74-894a-dd946ad914ab",
   "metadata": {},
   "source": [
    "Some important parameters:\n",
    "\n",
    "   * `entry_start`, `entry_stop` to limit how much you read (if it's big)\n",
    "   * `library=\"np\"` for NumPy arrays, `library=\"ak\"` for Awkward Arrays, and `library=\"pd\"` for Pandas (Series or DataFrame)"
   ]
  },
  {
   "cell_type": "code",
   "execution_count": 65,
   "id": "5b8bd269-7663-4469-9e73-97c871f9edad",
   "metadata": {},
   "outputs": [
    {
     "data": {
      "text/plain": [
       "<Array [82.5, 83.6, 83.3, 82.1, 90.5] type='5 * float64'>"
      ]
     },
     "execution_count": 65,
     "metadata": {},
     "output_type": "execute_result"
    }
   ],
   "source": [
    "events[\"M\"].array(entry_stop=5)"
   ]
  },
  {
   "cell_type": "code",
   "execution_count": 67,
   "id": "c4c02b40-9e23-4a62-8729-be2417fb5db4",
   "metadata": {},
   "outputs": [
    {
     "data": {
      "text/plain": [
       "array([82.46269156, 83.62620401, 83.30846467, ..., 95.96547966,\n",
       "       96.49594381, 96.65672765])"
      ]
     },
     "execution_count": 67,
     "metadata": {},
     "output_type": "execute_result"
    }
   ],
   "source": [
    "events[\"M\"].array(library=\"np\")"
   ]
  },
  {
   "cell_type": "code",
   "execution_count": 68,
   "id": "34eee328-0853-4ef1-b1c0-a6c442239ead",
   "metadata": {},
   "outputs": [
    {
     "data": {
      "text/plain": [
       "<Array [82.5, 83.6, 83.3, ... 96, 96.5, 96.7] type='2304 * float64'>"
      ]
     },
     "execution_count": 68,
     "metadata": {},
     "output_type": "execute_result"
    }
   ],
   "source": [
    "events[\"M\"].array(library=\"ak\")   # default"
   ]
  },
  {
   "cell_type": "code",
   "execution_count": 70,
   "id": "8b75733b-e17d-4777-b7b0-43dfcc33661d",
   "metadata": {},
   "outputs": [
    {
     "data": {
      "text/plain": [
       "0       82.462692\n",
       "1       83.626204\n",
       "2       83.308465\n",
       "3       82.149373\n",
       "4       90.469123\n",
       "          ...    \n",
       "2299    60.047138\n",
       "2300    96.125376\n",
       "2301    95.965480\n",
       "2302    96.495944\n",
       "2303    96.656728\n",
       "Length: 2304, dtype: float64"
      ]
     },
     "execution_count": 70,
     "metadata": {},
     "output_type": "execute_result"
    }
   ],
   "source": [
    "events[\"M\"].array(library=\"pandas\")"
   ]
  },
  {
   "cell_type": "markdown",
   "id": "8051d41d-5651-4a54-b2e6-9af765553984",
   "metadata": {},
   "source": [
    "<br><br><br>\n",
    "\n",
    "### Get several TBranches as one array/array group\n",
    "\n",
    "[TTrees](https://uproot.readthedocs.io/en/latest/uproot.behaviors.TTree.TTree.html) and [TBranches](https://uproot.readthedocs.io/en/latest/uproot.behaviors.TBranch.TBranch.html) with subbranches have an [arrays](https://uproot.readthedocs.io/en/latest/uproot.behaviors.TBranch.HasBranches.html#arrays) (plural) method."
   ]
  },
  {
   "cell_type": "code",
   "execution_count": 71,
   "id": "f21ff375-80b0-4d82-8aee-e84482fd2b28",
   "metadata": {},
   "outputs": [
    {
     "data": {
      "text/plain": [
       "<Array [{Type: 'GT', Run: 148031, ... M: 96.7}] type='2304 * {\"Type\": string, \"R...'>"
      ]
     },
     "execution_count": 71,
     "metadata": {},
     "output_type": "execute_result"
    }
   ],
   "source": [
    "events.arrays()"
   ]
  },
  {
   "cell_type": "markdown",
   "id": "76c0cbd5-b7dc-4272-8380-18679cc0173f",
   "metadata": {},
   "source": [
    "(Don't do that if your file is large.)"
   ]
  },
  {
   "cell_type": "markdown",
   "id": "6df3e524-3156-4c6a-b39a-58c7b0e7b0fa",
   "metadata": {},
   "source": [
    "The return type is an \"array group,\" which has a different meaning for each of the backends: NumPy, Awkward Array, and Pandas."
   ]
  },
  {
   "cell_type": "code",
   "execution_count": 72,
   "id": "9da39831-9a56-4bed-a928-1d0d918da14b",
   "metadata": {},
   "outputs": [
    {
     "data": {
      "text/plain": [
       "{'Type': array(['GT', 'TT', 'GT', ..., 'TT', 'GT', 'GG'], dtype=object),\n",
       " 'Run': array([148031, 148031, 148031, ..., 148029, 148029, 148029], dtype=int32),\n",
       " 'Event': array([10507008, 10507008, 10507008, ..., 99991333, 99991333, 99991333],\n",
       "       dtype=int32),\n",
       " 'E1': array([82.20186639, 62.34492895, 62.34492895, ..., 81.27013558,\n",
       "        81.27013558, 81.56621735]),\n",
       " 'px1': array([-41.19528764,  35.11804977,  35.11804977, ...,  32.37749196,\n",
       "         32.37749196,  32.48539387]),\n",
       " 'py1': array([ 17.4332439 , -16.57036233, -16.57036233, ...,   1.19940578,\n",
       "          1.19940578,   1.2013503 ]),\n",
       " 'pz1': array([-68.96496181, -48.77524654, -48.77524654, ..., -74.53243061,\n",
       "        -74.53243061, -74.80837247]),\n",
       " 'pt1': array([44.7322, 38.8311, 38.8311, ..., 32.3997, 32.3997, 32.3997]),\n",
       " 'eta1': array([-1.21769, -1.05139, -1.05139, ..., -1.57044, -1.57044, -1.57044]),\n",
       " 'phi1': array([ 2.74126  , -0.440873 , -0.440873 , ...,  0.0370275,  0.0370275,\n",
       "         0.0370275]),\n",
       " 'Q1': array([ 1, -1, -1, ...,  1,  1,  1], dtype=int32),\n",
       " 'E2': array([ 60.62187459,  82.20186639,  81.58277833, ..., 168.78012134,\n",
       "        170.58313243, 170.58313243]),\n",
       " 'px2': array([ 34.14443725, -41.19528764, -40.88332344, ..., -68.04191497,\n",
       "        -68.79413604, -68.79413604]),\n",
       " 'py2': array([-16.11952457,  17.4332439 ,  17.29929704, ..., -26.10584737,\n",
       "        -26.39840043, -26.39840043]),\n",
       " 'pz2': array([ -47.42698439,  -68.96496181,  -68.44725519, ..., -152.2350181 ,\n",
       "        -153.84760383, -153.84760383]),\n",
       " 'pt2': array([38.8311, 44.7322, 44.7322, ..., 72.8781, 72.8781, 72.8781]),\n",
       " 'eta2': array([-1.05139, -1.21769, -1.21769, ..., -1.4827 , -1.4827 , -1.4827 ]),\n",
       " 'phi2': array([-0.440873,  2.74126 ,  2.74126 , ..., -2.77524 , -2.77524 ,\n",
       "        -2.77524 ]),\n",
       " 'Q2': array([-1,  1,  1, ..., -1, -1, -1], dtype=int32),\n",
       " 'M': array([82.46269156, 83.62620401, 83.30846467, ..., 95.96547966,\n",
       "        96.49594381, 96.65672765])}"
      ]
     },
     "execution_count": 72,
     "metadata": {},
     "output_type": "execute_result"
    }
   ],
   "source": [
    "events.arrays(library=\"np\")"
   ]
  },
  {
   "cell_type": "code",
   "execution_count": 74,
   "id": "4d960610-3e52-44d3-83b4-e275aff57c5d",
   "metadata": {},
   "outputs": [
    {
     "data": {
      "text/plain": [
       "2304 * {\"Type\": string, \"Run\": int32, \"Event\": int32, \"E1\": float64, \"px1\": float64, \"py1\": float64, \"pz1\": float64, \"pt1\": float64, \"eta1\": float64, \"phi1\": float64, \"Q1\": int32, \"E2\": float64, \"px2\": float64, \"py2\": float64, \"pz2\": float64, \"pt2\": float64, \"eta2\": float64, \"phi2\": float64, \"Q2\": int32, \"M\": float64}"
      ]
     },
     "execution_count": 74,
     "metadata": {},
     "output_type": "execute_result"
    }
   ],
   "source": [
    "events.arrays(library=\"ak\").type"
   ]
  },
  {
   "cell_type": "code",
   "execution_count": 75,
   "id": "54c33e36-d66b-4afb-a321-afab4f122e26",
   "metadata": {},
   "outputs": [
    {
     "data": {
      "text/html": [
       "<div>\n",
       "<style scoped>\n",
       "    .dataframe tbody tr th:only-of-type {\n",
       "        vertical-align: middle;\n",
       "    }\n",
       "\n",
       "    .dataframe tbody tr th {\n",
       "        vertical-align: top;\n",
       "    }\n",
       "\n",
       "    .dataframe thead th {\n",
       "        text-align: right;\n",
       "    }\n",
       "</style>\n",
       "<table border=\"1\" class=\"dataframe\">\n",
       "  <thead>\n",
       "    <tr style=\"text-align: right;\">\n",
       "      <th></th>\n",
       "      <th>Type</th>\n",
       "      <th>Run</th>\n",
       "      <th>Event</th>\n",
       "      <th>E1</th>\n",
       "      <th>px1</th>\n",
       "      <th>py1</th>\n",
       "      <th>pz1</th>\n",
       "      <th>pt1</th>\n",
       "      <th>eta1</th>\n",
       "      <th>phi1</th>\n",
       "      <th>Q1</th>\n",
       "      <th>E2</th>\n",
       "      <th>px2</th>\n",
       "      <th>py2</th>\n",
       "      <th>pz2</th>\n",
       "      <th>pt2</th>\n",
       "      <th>eta2</th>\n",
       "      <th>phi2</th>\n",
       "      <th>Q2</th>\n",
       "      <th>M</th>\n",
       "    </tr>\n",
       "  </thead>\n",
       "  <tbody>\n",
       "    <tr>\n",
       "      <th>0</th>\n",
       "      <td>GT</td>\n",
       "      <td>148031</td>\n",
       "      <td>10507008</td>\n",
       "      <td>82.201866</td>\n",
       "      <td>-41.195288</td>\n",
       "      <td>17.433244</td>\n",
       "      <td>-68.964962</td>\n",
       "      <td>44.7322</td>\n",
       "      <td>-1.217690</td>\n",
       "      <td>2.741260</td>\n",
       "      <td>1</td>\n",
       "      <td>60.621875</td>\n",
       "      <td>34.144437</td>\n",
       "      <td>-16.119525</td>\n",
       "      <td>-47.426984</td>\n",
       "      <td>38.8311</td>\n",
       "      <td>-1.051390</td>\n",
       "      <td>-0.440873</td>\n",
       "      <td>-1</td>\n",
       "      <td>82.462692</td>\n",
       "    </tr>\n",
       "    <tr>\n",
       "      <th>1</th>\n",
       "      <td>TT</td>\n",
       "      <td>148031</td>\n",
       "      <td>10507008</td>\n",
       "      <td>62.344929</td>\n",
       "      <td>35.118050</td>\n",
       "      <td>-16.570362</td>\n",
       "      <td>-48.775247</td>\n",
       "      <td>38.8311</td>\n",
       "      <td>-1.051390</td>\n",
       "      <td>-0.440873</td>\n",
       "      <td>-1</td>\n",
       "      <td>82.201866</td>\n",
       "      <td>-41.195288</td>\n",
       "      <td>17.433244</td>\n",
       "      <td>-68.964962</td>\n",
       "      <td>44.7322</td>\n",
       "      <td>-1.217690</td>\n",
       "      <td>2.741260</td>\n",
       "      <td>1</td>\n",
       "      <td>83.626204</td>\n",
       "    </tr>\n",
       "    <tr>\n",
       "      <th>2</th>\n",
       "      <td>GT</td>\n",
       "      <td>148031</td>\n",
       "      <td>10507008</td>\n",
       "      <td>62.344929</td>\n",
       "      <td>35.118050</td>\n",
       "      <td>-16.570362</td>\n",
       "      <td>-48.775247</td>\n",
       "      <td>38.8311</td>\n",
       "      <td>-1.051390</td>\n",
       "      <td>-0.440873</td>\n",
       "      <td>-1</td>\n",
       "      <td>81.582778</td>\n",
       "      <td>-40.883323</td>\n",
       "      <td>17.299297</td>\n",
       "      <td>-68.447255</td>\n",
       "      <td>44.7322</td>\n",
       "      <td>-1.217690</td>\n",
       "      <td>2.741260</td>\n",
       "      <td>1</td>\n",
       "      <td>83.308465</td>\n",
       "    </tr>\n",
       "    <tr>\n",
       "      <th>3</th>\n",
       "      <td>GG</td>\n",
       "      <td>148031</td>\n",
       "      <td>10507008</td>\n",
       "      <td>60.621875</td>\n",
       "      <td>34.144437</td>\n",
       "      <td>-16.119525</td>\n",
       "      <td>-47.426984</td>\n",
       "      <td>38.8311</td>\n",
       "      <td>-1.051390</td>\n",
       "      <td>-0.440873</td>\n",
       "      <td>-1</td>\n",
       "      <td>81.582778</td>\n",
       "      <td>-40.883323</td>\n",
       "      <td>17.299297</td>\n",
       "      <td>-68.447255</td>\n",
       "      <td>44.7322</td>\n",
       "      <td>-1.217690</td>\n",
       "      <td>2.741260</td>\n",
       "      <td>1</td>\n",
       "      <td>82.149373</td>\n",
       "    </tr>\n",
       "    <tr>\n",
       "      <th>4</th>\n",
       "      <td>GT</td>\n",
       "      <td>148031</td>\n",
       "      <td>105238546</td>\n",
       "      <td>41.826389</td>\n",
       "      <td>22.783582</td>\n",
       "      <td>15.036444</td>\n",
       "      <td>-31.689894</td>\n",
       "      <td>27.2981</td>\n",
       "      <td>-0.990688</td>\n",
       "      <td>0.583351</td>\n",
       "      <td>1</td>\n",
       "      <td>49.760726</td>\n",
       "      <td>-20.177373</td>\n",
       "      <td>-9.354149</td>\n",
       "      <td>44.513955</td>\n",
       "      <td>21.8913</td>\n",
       "      <td>1.444340</td>\n",
       "      <td>-2.707650</td>\n",
       "      <td>-1</td>\n",
       "      <td>90.469123</td>\n",
       "    </tr>\n",
       "    <tr>\n",
       "      <th>...</th>\n",
       "      <td>...</td>\n",
       "      <td>...</td>\n",
       "      <td>...</td>\n",
       "      <td>...</td>\n",
       "      <td>...</td>\n",
       "      <td>...</td>\n",
       "      <td>...</td>\n",
       "      <td>...</td>\n",
       "      <td>...</td>\n",
       "      <td>...</td>\n",
       "      <td>...</td>\n",
       "      <td>...</td>\n",
       "      <td>...</td>\n",
       "      <td>...</td>\n",
       "      <td>...</td>\n",
       "      <td>...</td>\n",
       "      <td>...</td>\n",
       "      <td>...</td>\n",
       "      <td>...</td>\n",
       "      <td>...</td>\n",
       "    </tr>\n",
       "    <tr>\n",
       "      <th>2299</th>\n",
       "      <td>GG</td>\n",
       "      <td>148029</td>\n",
       "      <td>99768888</td>\n",
       "      <td>32.701650</td>\n",
       "      <td>19.054651</td>\n",
       "      <td>14.833954</td>\n",
       "      <td>22.051323</td>\n",
       "      <td>24.1264</td>\n",
       "      <td>0.818806</td>\n",
       "      <td>0.661492</td>\n",
       "      <td>1</td>\n",
       "      <td>27.714554</td>\n",
       "      <td>-16.874052</td>\n",
       "      <td>-15.319644</td>\n",
       "      <td>-15.768964</td>\n",
       "      <td>22.8145</td>\n",
       "      <td>-0.645971</td>\n",
       "      <td>-2.404430</td>\n",
       "      <td>-1</td>\n",
       "      <td>60.047138</td>\n",
       "    </tr>\n",
       "    <tr>\n",
       "      <th>2300</th>\n",
       "      <td>GT</td>\n",
       "      <td>148029</td>\n",
       "      <td>99991333</td>\n",
       "      <td>168.780121</td>\n",
       "      <td>-68.041915</td>\n",
       "      <td>-26.105847</td>\n",
       "      <td>-152.235018</td>\n",
       "      <td>72.8781</td>\n",
       "      <td>-1.482700</td>\n",
       "      <td>-2.775240</td>\n",
       "      <td>-1</td>\n",
       "      <td>81.566217</td>\n",
       "      <td>32.485394</td>\n",
       "      <td>1.201350</td>\n",
       "      <td>-74.808372</td>\n",
       "      <td>32.3997</td>\n",
       "      <td>-1.570440</td>\n",
       "      <td>0.037027</td>\n",
       "      <td>1</td>\n",
       "      <td>96.125376</td>\n",
       "    </tr>\n",
       "    <tr>\n",
       "      <th>2301</th>\n",
       "      <td>TT</td>\n",
       "      <td>148029</td>\n",
       "      <td>99991333</td>\n",
       "      <td>81.270136</td>\n",
       "      <td>32.377492</td>\n",
       "      <td>1.199406</td>\n",
       "      <td>-74.532431</td>\n",
       "      <td>32.3997</td>\n",
       "      <td>-1.570440</td>\n",
       "      <td>0.037027</td>\n",
       "      <td>1</td>\n",
       "      <td>168.780121</td>\n",
       "      <td>-68.041915</td>\n",
       "      <td>-26.105847</td>\n",
       "      <td>-152.235018</td>\n",
       "      <td>72.8781</td>\n",
       "      <td>-1.482700</td>\n",
       "      <td>-2.775240</td>\n",
       "      <td>-1</td>\n",
       "      <td>95.965480</td>\n",
       "    </tr>\n",
       "    <tr>\n",
       "      <th>2302</th>\n",
       "      <td>GT</td>\n",
       "      <td>148029</td>\n",
       "      <td>99991333</td>\n",
       "      <td>81.270136</td>\n",
       "      <td>32.377492</td>\n",
       "      <td>1.199406</td>\n",
       "      <td>-74.532431</td>\n",
       "      <td>32.3997</td>\n",
       "      <td>-1.570440</td>\n",
       "      <td>0.037027</td>\n",
       "      <td>1</td>\n",
       "      <td>170.583132</td>\n",
       "      <td>-68.794136</td>\n",
       "      <td>-26.398400</td>\n",
       "      <td>-153.847604</td>\n",
       "      <td>72.8781</td>\n",
       "      <td>-1.482700</td>\n",
       "      <td>-2.775240</td>\n",
       "      <td>-1</td>\n",
       "      <td>96.495944</td>\n",
       "    </tr>\n",
       "    <tr>\n",
       "      <th>2303</th>\n",
       "      <td>GG</td>\n",
       "      <td>148029</td>\n",
       "      <td>99991333</td>\n",
       "      <td>81.566217</td>\n",
       "      <td>32.485394</td>\n",
       "      <td>1.201350</td>\n",
       "      <td>-74.808372</td>\n",
       "      <td>32.3997</td>\n",
       "      <td>-1.570440</td>\n",
       "      <td>0.037027</td>\n",
       "      <td>1</td>\n",
       "      <td>170.583132</td>\n",
       "      <td>-68.794136</td>\n",
       "      <td>-26.398400</td>\n",
       "      <td>-153.847604</td>\n",
       "      <td>72.8781</td>\n",
       "      <td>-1.482700</td>\n",
       "      <td>-2.775240</td>\n",
       "      <td>-1</td>\n",
       "      <td>96.656728</td>\n",
       "    </tr>\n",
       "  </tbody>\n",
       "</table>\n",
       "<p>2304 rows × 20 columns</p>\n",
       "</div>"
      ],
      "text/plain": [
       "     Type     Run      Event          E1        px1        py1         pz1  \\\n",
       "0      GT  148031   10507008   82.201866 -41.195288  17.433244  -68.964962   \n",
       "1      TT  148031   10507008   62.344929  35.118050 -16.570362  -48.775247   \n",
       "2      GT  148031   10507008   62.344929  35.118050 -16.570362  -48.775247   \n",
       "3      GG  148031   10507008   60.621875  34.144437 -16.119525  -47.426984   \n",
       "4      GT  148031  105238546   41.826389  22.783582  15.036444  -31.689894   \n",
       "...   ...     ...        ...         ...        ...        ...         ...   \n",
       "2299   GG  148029   99768888   32.701650  19.054651  14.833954   22.051323   \n",
       "2300   GT  148029   99991333  168.780121 -68.041915 -26.105847 -152.235018   \n",
       "2301   TT  148029   99991333   81.270136  32.377492   1.199406  -74.532431   \n",
       "2302   GT  148029   99991333   81.270136  32.377492   1.199406  -74.532431   \n",
       "2303   GG  148029   99991333   81.566217  32.485394   1.201350  -74.808372   \n",
       "\n",
       "          pt1      eta1      phi1  Q1          E2        px2        py2  \\\n",
       "0     44.7322 -1.217690  2.741260   1   60.621875  34.144437 -16.119525   \n",
       "1     38.8311 -1.051390 -0.440873  -1   82.201866 -41.195288  17.433244   \n",
       "2     38.8311 -1.051390 -0.440873  -1   81.582778 -40.883323  17.299297   \n",
       "3     38.8311 -1.051390 -0.440873  -1   81.582778 -40.883323  17.299297   \n",
       "4     27.2981 -0.990688  0.583351   1   49.760726 -20.177373  -9.354149   \n",
       "...       ...       ...       ...  ..         ...        ...        ...   \n",
       "2299  24.1264  0.818806  0.661492   1   27.714554 -16.874052 -15.319644   \n",
       "2300  72.8781 -1.482700 -2.775240  -1   81.566217  32.485394   1.201350   \n",
       "2301  32.3997 -1.570440  0.037027   1  168.780121 -68.041915 -26.105847   \n",
       "2302  32.3997 -1.570440  0.037027   1  170.583132 -68.794136 -26.398400   \n",
       "2303  32.3997 -1.570440  0.037027   1  170.583132 -68.794136 -26.398400   \n",
       "\n",
       "             pz2      pt2      eta2      phi2  Q2          M  \n",
       "0     -47.426984  38.8311 -1.051390 -0.440873  -1  82.462692  \n",
       "1     -68.964962  44.7322 -1.217690  2.741260   1  83.626204  \n",
       "2     -68.447255  44.7322 -1.217690  2.741260   1  83.308465  \n",
       "3     -68.447255  44.7322 -1.217690  2.741260   1  82.149373  \n",
       "4      44.513955  21.8913  1.444340 -2.707650  -1  90.469123  \n",
       "...          ...      ...       ...       ...  ..        ...  \n",
       "2299  -15.768964  22.8145 -0.645971 -2.404430  -1  60.047138  \n",
       "2300  -74.808372  32.3997 -1.570440  0.037027   1  96.125376  \n",
       "2301 -152.235018  72.8781 -1.482700 -2.775240  -1  95.965480  \n",
       "2302 -153.847604  72.8781 -1.482700 -2.775240  -1  96.495944  \n",
       "2303 -153.847604  72.8781 -1.482700 -2.775240  -1  96.656728  \n",
       "\n",
       "[2304 rows x 20 columns]"
      ]
     },
     "execution_count": 75,
     "metadata": {},
     "output_type": "execute_result"
    }
   ],
   "source": [
    "events.arrays(library=\"pd\")"
   ]
  },
  {
   "cell_type": "markdown",
   "id": "7de6739f-1dae-475e-9cd8-7b6500d85dc1",
   "metadata": {},
   "source": [
    "The first argument of this method takes a list of _expressions_, which could just be branch names:"
   ]
  },
  {
   "cell_type": "code",
   "execution_count": 76,
   "id": "8de31367-3dfc-4155-934b-fc7e19fb4bff",
   "metadata": {},
   "outputs": [
    {
     "data": {
      "text/html": [
       "<div>\n",
       "<style scoped>\n",
       "    .dataframe tbody tr th:only-of-type {\n",
       "        vertical-align: middle;\n",
       "    }\n",
       "\n",
       "    .dataframe tbody tr th {\n",
       "        vertical-align: top;\n",
       "    }\n",
       "\n",
       "    .dataframe thead th {\n",
       "        text-align: right;\n",
       "    }\n",
       "</style>\n",
       "<table border=\"1\" class=\"dataframe\">\n",
       "  <thead>\n",
       "    <tr style=\"text-align: right;\">\n",
       "      <th></th>\n",
       "      <th>px1</th>\n",
       "      <th>py1</th>\n",
       "      <th>px2</th>\n",
       "      <th>py2</th>\n",
       "    </tr>\n",
       "  </thead>\n",
       "  <tbody>\n",
       "    <tr>\n",
       "      <th>0</th>\n",
       "      <td>-41.195288</td>\n",
       "      <td>17.433244</td>\n",
       "      <td>34.144437</td>\n",
       "      <td>-16.119525</td>\n",
       "    </tr>\n",
       "    <tr>\n",
       "      <th>1</th>\n",
       "      <td>35.118050</td>\n",
       "      <td>-16.570362</td>\n",
       "      <td>-41.195288</td>\n",
       "      <td>17.433244</td>\n",
       "    </tr>\n",
       "    <tr>\n",
       "      <th>2</th>\n",
       "      <td>35.118050</td>\n",
       "      <td>-16.570362</td>\n",
       "      <td>-40.883323</td>\n",
       "      <td>17.299297</td>\n",
       "    </tr>\n",
       "    <tr>\n",
       "      <th>3</th>\n",
       "      <td>34.144437</td>\n",
       "      <td>-16.119525</td>\n",
       "      <td>-40.883323</td>\n",
       "      <td>17.299297</td>\n",
       "    </tr>\n",
       "    <tr>\n",
       "      <th>4</th>\n",
       "      <td>22.783582</td>\n",
       "      <td>15.036444</td>\n",
       "      <td>-20.177373</td>\n",
       "      <td>-9.354149</td>\n",
       "    </tr>\n",
       "    <tr>\n",
       "      <th>...</th>\n",
       "      <td>...</td>\n",
       "      <td>...</td>\n",
       "      <td>...</td>\n",
       "      <td>...</td>\n",
       "    </tr>\n",
       "    <tr>\n",
       "      <th>2299</th>\n",
       "      <td>19.054651</td>\n",
       "      <td>14.833954</td>\n",
       "      <td>-16.874052</td>\n",
       "      <td>-15.319644</td>\n",
       "    </tr>\n",
       "    <tr>\n",
       "      <th>2300</th>\n",
       "      <td>-68.041915</td>\n",
       "      <td>-26.105847</td>\n",
       "      <td>32.485394</td>\n",
       "      <td>1.201350</td>\n",
       "    </tr>\n",
       "    <tr>\n",
       "      <th>2301</th>\n",
       "      <td>32.377492</td>\n",
       "      <td>1.199406</td>\n",
       "      <td>-68.041915</td>\n",
       "      <td>-26.105847</td>\n",
       "    </tr>\n",
       "    <tr>\n",
       "      <th>2302</th>\n",
       "      <td>32.377492</td>\n",
       "      <td>1.199406</td>\n",
       "      <td>-68.794136</td>\n",
       "      <td>-26.398400</td>\n",
       "    </tr>\n",
       "    <tr>\n",
       "      <th>2303</th>\n",
       "      <td>32.485394</td>\n",
       "      <td>1.201350</td>\n",
       "      <td>-68.794136</td>\n",
       "      <td>-26.398400</td>\n",
       "    </tr>\n",
       "  </tbody>\n",
       "</table>\n",
       "<p>2304 rows × 4 columns</p>\n",
       "</div>"
      ],
      "text/plain": [
       "            px1        py1        px2        py2\n",
       "0    -41.195288  17.433244  34.144437 -16.119525\n",
       "1     35.118050 -16.570362 -41.195288  17.433244\n",
       "2     35.118050 -16.570362 -40.883323  17.299297\n",
       "3     34.144437 -16.119525 -40.883323  17.299297\n",
       "4     22.783582  15.036444 -20.177373  -9.354149\n",
       "...         ...        ...        ...        ...\n",
       "2299  19.054651  14.833954 -16.874052 -15.319644\n",
       "2300 -68.041915 -26.105847  32.485394   1.201350\n",
       "2301  32.377492   1.199406 -68.041915 -26.105847\n",
       "2302  32.377492   1.199406 -68.794136 -26.398400\n",
       "2303  32.485394   1.201350 -68.794136 -26.398400\n",
       "\n",
       "[2304 rows x 4 columns]"
      ]
     },
     "execution_count": 76,
     "metadata": {},
     "output_type": "execute_result"
    }
   ],
   "source": [
    "events.arrays([\"px1\", \"py1\", \"px2\", \"py2\"], library=\"pd\")"
   ]
  },
  {
   "cell_type": "markdown",
   "id": "e287d362-567d-4130-ab79-523aefde8085",
   "metadata": {},
   "source": [
    "Or it can be computed expressions."
   ]
  },
  {
   "cell_type": "code",
   "execution_count": 77,
   "id": "1748c362-f86c-4cb5-9fb0-f6dde13b0311",
   "metadata": {},
   "outputs": [
    {
     "data": {
      "text/html": [
       "<div>\n",
       "<style scoped>\n",
       "    .dataframe tbody tr th:only-of-type {\n",
       "        vertical-align: middle;\n",
       "    }\n",
       "\n",
       "    .dataframe tbody tr th {\n",
       "        vertical-align: top;\n",
       "    }\n",
       "\n",
       "    .dataframe thead th {\n",
       "        text-align: right;\n",
       "    }\n",
       "</style>\n",
       "<table border=\"1\" class=\"dataframe\">\n",
       "  <thead>\n",
       "    <tr style=\"text-align: right;\">\n",
       "      <th></th>\n",
       "      <th>sqrt(px1**2 + py1**2)</th>\n",
       "      <th>sqrt(px2**2 + py2**2)</th>\n",
       "    </tr>\n",
       "  </thead>\n",
       "  <tbody>\n",
       "    <tr>\n",
       "      <th>0</th>\n",
       "      <td>44.7322</td>\n",
       "      <td>37.7582</td>\n",
       "    </tr>\n",
       "    <tr>\n",
       "      <th>1</th>\n",
       "      <td>38.8311</td>\n",
       "      <td>44.7322</td>\n",
       "    </tr>\n",
       "    <tr>\n",
       "      <th>2</th>\n",
       "      <td>38.8311</td>\n",
       "      <td>44.3927</td>\n",
       "    </tr>\n",
       "    <tr>\n",
       "      <th>3</th>\n",
       "      <td>37.7582</td>\n",
       "      <td>44.3927</td>\n",
       "    </tr>\n",
       "    <tr>\n",
       "      <th>4</th>\n",
       "      <td>27.2981</td>\n",
       "      <td>22.2402</td>\n",
       "    </tr>\n",
       "    <tr>\n",
       "      <th>...</th>\n",
       "      <td>...</td>\n",
       "      <td>...</td>\n",
       "    </tr>\n",
       "    <tr>\n",
       "      <th>2299</th>\n",
       "      <td>24.1480</td>\n",
       "      <td>22.7909</td>\n",
       "    </tr>\n",
       "    <tr>\n",
       "      <th>2300</th>\n",
       "      <td>72.8781</td>\n",
       "      <td>32.5076</td>\n",
       "    </tr>\n",
       "    <tr>\n",
       "      <th>2301</th>\n",
       "      <td>32.3997</td>\n",
       "      <td>72.8781</td>\n",
       "    </tr>\n",
       "    <tr>\n",
       "      <th>2302</th>\n",
       "      <td>32.3997</td>\n",
       "      <td>73.6852</td>\n",
       "    </tr>\n",
       "    <tr>\n",
       "      <th>2303</th>\n",
       "      <td>32.5076</td>\n",
       "      <td>73.6852</td>\n",
       "    </tr>\n",
       "  </tbody>\n",
       "</table>\n",
       "<p>2304 rows × 2 columns</p>\n",
       "</div>"
      ],
      "text/plain": [
       "      sqrt(px1**2 + py1**2)  sqrt(px2**2 + py2**2)\n",
       "0                   44.7322                37.7582\n",
       "1                   38.8311                44.7322\n",
       "2                   38.8311                44.3927\n",
       "3                   37.7582                44.3927\n",
       "4                   27.2981                22.2402\n",
       "...                     ...                    ...\n",
       "2299                24.1480                22.7909\n",
       "2300                72.8781                32.5076\n",
       "2301                32.3997                72.8781\n",
       "2302                32.3997                73.6852\n",
       "2303                32.5076                73.6852\n",
       "\n",
       "[2304 rows x 2 columns]"
      ]
     },
     "execution_count": 77,
     "metadata": {},
     "output_type": "execute_result"
    }
   ],
   "source": [
    "events.arrays([\"sqrt(px1**2 + py1**2)\", \"sqrt(px2**2 + py2**2)\"], library=\"pd\")"
   ]
  },
  {
   "cell_type": "markdown",
   "id": "9b2921cb-a826-4f22-bdf0-e2284ea22fcc",
   "metadata": {},
   "source": [
    "This is to support any [aliases](https://uproot.readthedocs.io/en/latest/uproot.behaviors.TTree.TTree.html#aliases) that might be in the [TTree](https://uproot.readthedocs.io/en/latest/uproot.behaviors.TTree.TTree.html), but you can make up your own `aliases` on the spot."
   ]
  },
  {
   "cell_type": "code",
   "execution_count": 79,
   "id": "68963c00-7435-48f9-b989-d33388498ad1",
   "metadata": {},
   "outputs": [
    {
     "data": {
      "text/html": [
       "<div>\n",
       "<style scoped>\n",
       "    .dataframe tbody tr th:only-of-type {\n",
       "        vertical-align: middle;\n",
       "    }\n",
       "\n",
       "    .dataframe tbody tr th {\n",
       "        vertical-align: top;\n",
       "    }\n",
       "\n",
       "    .dataframe thead th {\n",
       "        text-align: right;\n",
       "    }\n",
       "</style>\n",
       "<table border=\"1\" class=\"dataframe\">\n",
       "  <thead>\n",
       "    <tr style=\"text-align: right;\">\n",
       "      <th></th>\n",
       "      <th>pt1</th>\n",
       "      <th>pt2</th>\n",
       "    </tr>\n",
       "  </thead>\n",
       "  <tbody>\n",
       "    <tr>\n",
       "      <th>0</th>\n",
       "      <td>44.7322</td>\n",
       "      <td>38.8311</td>\n",
       "    </tr>\n",
       "    <tr>\n",
       "      <th>1</th>\n",
       "      <td>38.8311</td>\n",
       "      <td>44.7322</td>\n",
       "    </tr>\n",
       "    <tr>\n",
       "      <th>2</th>\n",
       "      <td>38.8311</td>\n",
       "      <td>44.7322</td>\n",
       "    </tr>\n",
       "    <tr>\n",
       "      <th>3</th>\n",
       "      <td>38.8311</td>\n",
       "      <td>44.7322</td>\n",
       "    </tr>\n",
       "    <tr>\n",
       "      <th>4</th>\n",
       "      <td>27.2981</td>\n",
       "      <td>21.8913</td>\n",
       "    </tr>\n",
       "    <tr>\n",
       "      <th>...</th>\n",
       "      <td>...</td>\n",
       "      <td>...</td>\n",
       "    </tr>\n",
       "    <tr>\n",
       "      <th>2299</th>\n",
       "      <td>24.1264</td>\n",
       "      <td>22.8145</td>\n",
       "    </tr>\n",
       "    <tr>\n",
       "      <th>2300</th>\n",
       "      <td>72.8781</td>\n",
       "      <td>32.3997</td>\n",
       "    </tr>\n",
       "    <tr>\n",
       "      <th>2301</th>\n",
       "      <td>32.3997</td>\n",
       "      <td>72.8781</td>\n",
       "    </tr>\n",
       "    <tr>\n",
       "      <th>2302</th>\n",
       "      <td>32.3997</td>\n",
       "      <td>72.8781</td>\n",
       "    </tr>\n",
       "    <tr>\n",
       "      <th>2303</th>\n",
       "      <td>32.3997</td>\n",
       "      <td>72.8781</td>\n",
       "    </tr>\n",
       "  </tbody>\n",
       "</table>\n",
       "<p>2304 rows × 2 columns</p>\n",
       "</div>"
      ],
      "text/plain": [
       "          pt1      pt2\n",
       "0     44.7322  38.8311\n",
       "1     38.8311  44.7322\n",
       "2     38.8311  44.7322\n",
       "3     38.8311  44.7322\n",
       "4     27.2981  21.8913\n",
       "...       ...      ...\n",
       "2299  24.1264  22.8145\n",
       "2300  72.8781  32.3997\n",
       "2301  32.3997  72.8781\n",
       "2302  32.3997  72.8781\n",
       "2303  32.3997  72.8781\n",
       "\n",
       "[2304 rows x 2 columns]"
      ]
     },
     "execution_count": 79,
     "metadata": {},
     "output_type": "execute_result"
    }
   ],
   "source": [
    "events.arrays([\"pt1\", \"pt2\"], {\"pt1\": \"sqrt(px1**2 + py1**2)\", \"pt2\": \"sqrt(px2**2 + py2**2)\"}, library=\"pd\")"
   ]
  },
  {
   "cell_type": "markdown",
   "id": "a8440c30-fc83-4383-b453-2912f8d4e1b0",
   "metadata": {},
   "source": [
    "The `expressions` parameter is not a good way to select branches by name.\n",
    "\n",
    "   * nested branches, paths with \"`/`\", _would be interpreted as division!_\n",
    "   * wildcards, paths with \"`*`\", _would be interpreted as multiplication!_\n",
    "\n",
    "To select branches by name, use `filter_name`, `filter_typename`, `filter_branch` (all in the [arrays](https://uproot.readthedocs.io/en/latest/uproot.behaviors.TBranch.HasBranches.html#arrays) documentation)."
   ]
  },
  {
   "cell_type": "code",
   "execution_count": 80,
   "id": "41291a31-b592-48ca-b50f-e76ec77cef8e",
   "metadata": {},
   "outputs": [
    {
     "data": {
      "text/html": [
       "<div>\n",
       "<style scoped>\n",
       "    .dataframe tbody tr th:only-of-type {\n",
       "        vertical-align: middle;\n",
       "    }\n",
       "\n",
       "    .dataframe tbody tr th {\n",
       "        vertical-align: top;\n",
       "    }\n",
       "\n",
       "    .dataframe thead th {\n",
       "        text-align: right;\n",
       "    }\n",
       "</style>\n",
       "<table border=\"1\" class=\"dataframe\">\n",
       "  <thead>\n",
       "    <tr style=\"text-align: right;\">\n",
       "      <th></th>\n",
       "      <th>px1</th>\n",
       "      <th>py1</th>\n",
       "      <th>pz1</th>\n",
       "      <th>px2</th>\n",
       "      <th>py2</th>\n",
       "      <th>pz2</th>\n",
       "    </tr>\n",
       "  </thead>\n",
       "  <tbody>\n",
       "    <tr>\n",
       "      <th>0</th>\n",
       "      <td>-41.195288</td>\n",
       "      <td>17.433244</td>\n",
       "      <td>-68.964962</td>\n",
       "      <td>34.144437</td>\n",
       "      <td>-16.119525</td>\n",
       "      <td>-47.426984</td>\n",
       "    </tr>\n",
       "    <tr>\n",
       "      <th>1</th>\n",
       "      <td>35.118050</td>\n",
       "      <td>-16.570362</td>\n",
       "      <td>-48.775247</td>\n",
       "      <td>-41.195288</td>\n",
       "      <td>17.433244</td>\n",
       "      <td>-68.964962</td>\n",
       "    </tr>\n",
       "    <tr>\n",
       "      <th>2</th>\n",
       "      <td>35.118050</td>\n",
       "      <td>-16.570362</td>\n",
       "      <td>-48.775247</td>\n",
       "      <td>-40.883323</td>\n",
       "      <td>17.299297</td>\n",
       "      <td>-68.447255</td>\n",
       "    </tr>\n",
       "    <tr>\n",
       "      <th>3</th>\n",
       "      <td>34.144437</td>\n",
       "      <td>-16.119525</td>\n",
       "      <td>-47.426984</td>\n",
       "      <td>-40.883323</td>\n",
       "      <td>17.299297</td>\n",
       "      <td>-68.447255</td>\n",
       "    </tr>\n",
       "    <tr>\n",
       "      <th>4</th>\n",
       "      <td>22.783582</td>\n",
       "      <td>15.036444</td>\n",
       "      <td>-31.689894</td>\n",
       "      <td>-20.177373</td>\n",
       "      <td>-9.354149</td>\n",
       "      <td>44.513955</td>\n",
       "    </tr>\n",
       "    <tr>\n",
       "      <th>...</th>\n",
       "      <td>...</td>\n",
       "      <td>...</td>\n",
       "      <td>...</td>\n",
       "      <td>...</td>\n",
       "      <td>...</td>\n",
       "      <td>...</td>\n",
       "    </tr>\n",
       "    <tr>\n",
       "      <th>2299</th>\n",
       "      <td>19.054651</td>\n",
       "      <td>14.833954</td>\n",
       "      <td>22.051323</td>\n",
       "      <td>-16.874052</td>\n",
       "      <td>-15.319644</td>\n",
       "      <td>-15.768964</td>\n",
       "    </tr>\n",
       "    <tr>\n",
       "      <th>2300</th>\n",
       "      <td>-68.041915</td>\n",
       "      <td>-26.105847</td>\n",
       "      <td>-152.235018</td>\n",
       "      <td>32.485394</td>\n",
       "      <td>1.201350</td>\n",
       "      <td>-74.808372</td>\n",
       "    </tr>\n",
       "    <tr>\n",
       "      <th>2301</th>\n",
       "      <td>32.377492</td>\n",
       "      <td>1.199406</td>\n",
       "      <td>-74.532431</td>\n",
       "      <td>-68.041915</td>\n",
       "      <td>-26.105847</td>\n",
       "      <td>-152.235018</td>\n",
       "    </tr>\n",
       "    <tr>\n",
       "      <th>2302</th>\n",
       "      <td>32.377492</td>\n",
       "      <td>1.199406</td>\n",
       "      <td>-74.532431</td>\n",
       "      <td>-68.794136</td>\n",
       "      <td>-26.398400</td>\n",
       "      <td>-153.847604</td>\n",
       "    </tr>\n",
       "    <tr>\n",
       "      <th>2303</th>\n",
       "      <td>32.485394</td>\n",
       "      <td>1.201350</td>\n",
       "      <td>-74.808372</td>\n",
       "      <td>-68.794136</td>\n",
       "      <td>-26.398400</td>\n",
       "      <td>-153.847604</td>\n",
       "    </tr>\n",
       "  </tbody>\n",
       "</table>\n",
       "<p>2304 rows × 6 columns</p>\n",
       "</div>"
      ],
      "text/plain": [
       "            px1        py1         pz1        px2        py2         pz2\n",
       "0    -41.195288  17.433244  -68.964962  34.144437 -16.119525  -47.426984\n",
       "1     35.118050 -16.570362  -48.775247 -41.195288  17.433244  -68.964962\n",
       "2     35.118050 -16.570362  -48.775247 -40.883323  17.299297  -68.447255\n",
       "3     34.144437 -16.119525  -47.426984 -40.883323  17.299297  -68.447255\n",
       "4     22.783582  15.036444  -31.689894 -20.177373  -9.354149   44.513955\n",
       "...         ...        ...         ...        ...        ...         ...\n",
       "2299  19.054651  14.833954   22.051323 -16.874052 -15.319644  -15.768964\n",
       "2300 -68.041915 -26.105847 -152.235018  32.485394   1.201350  -74.808372\n",
       "2301  32.377492   1.199406  -74.532431 -68.041915 -26.105847 -152.235018\n",
       "2302  32.377492   1.199406  -74.532431 -68.794136 -26.398400 -153.847604\n",
       "2303  32.485394   1.201350  -74.808372 -68.794136 -26.398400 -153.847604\n",
       "\n",
       "[2304 rows x 6 columns]"
      ]
     },
     "execution_count": 80,
     "metadata": {},
     "output_type": "execute_result"
    }
   ],
   "source": [
    "events.arrays(filter_name=\"p[xyz]*\", library=\"pd\")"
   ]
  },
  {
   "cell_type": "markdown",
   "id": "c5f4731f-0ecf-4d97-b1c2-88e3392fad89",
   "metadata": {},
   "source": [
    "(These filters have the same meaning as in [keys](https://uproot.readthedocs.io/en/latest/uproot.behaviors.TBranch.HasBranches.html#keys) and [typenames](https://uproot.readthedocs.io/en/latest/uproot.behaviors.TBranch.HasBranches.html#typenames), but those methods do not read potentially large datasets.)"
   ]
  },
  {
   "cell_type": "code",
   "execution_count": 84,
   "id": "ad9eb821-5e9e-449d-8fc1-0be9e41e3a32",
   "metadata": {},
   "outputs": [
    {
     "data": {
      "text/plain": [
       "['px1', 'py1', 'pz1', 'px2', 'py2', 'pz2']"
      ]
     },
     "execution_count": 84,
     "metadata": {},
     "output_type": "execute_result"
    }
   ],
   "source": [
    "events.keys(filter_name=[\"p[xy]*\", \"pz*\"])"
   ]
  },
  {
   "cell_type": "code",
   "execution_count": 82,
   "id": "6cbfef35-c602-44a3-89cf-405b459774bd",
   "metadata": {},
   "outputs": [
    {
     "data": {
      "text/plain": [
       "{'px1': 'double',\n",
       " 'py1': 'double',\n",
       " 'pz1': 'double',\n",
       " 'px2': 'double',\n",
       " 'py2': 'double',\n",
       " 'pz2': 'double'}"
      ]
     },
     "execution_count": 82,
     "metadata": {},
     "output_type": "execute_result"
    }
   ],
   "source": [
    "events.typenames(filter_name=\"p[xyz]*\")"
   ]
  },
  {
   "cell_type": "markdown",
   "id": "cf71a6c2-6195-4105-a760-e1fde4308838",
   "metadata": {},
   "source": [
    "<br><br><br>\n",
    "\n",
    "### Get arrays in manageable chunks\n",
    "\n",
    "The [iterate](https://uproot.readthedocs.io/en/latest/uproot.behaviors.TBranch.HasBranches.html#iterate) method is like [arrays](https://uproot.readthedocs.io/en/latest/uproot.behaviors.TBranch.HasBranches.html#arrays), but it can be used in a loop over chunks of the array.\n",
    "\n",
    "How large are the chunks? You should set that with `step_size`."
   ]
  },
  {
   "cell_type": "code",
   "execution_count": 85,
   "id": "c4ef6f3c-928e-4c8e-b6de-f64b354614e5",
   "metadata": {},
   "outputs": [
    {
     "name": "stdout",
     "output_type": "stream",
     "text": [
      "<Array [{Type: 'GT', Run: 148031, ... M: 91.2}] type='300 * {\"Type\": string, \"Ru...'>\n",
      "<Array [{Type: 'GT', Run: 148031, ... M: 93.6}] type='300 * {\"Type\": string, \"Ru...'>\n",
      "<Array [{Type: 'GT', Run: 148031, ... M: 91.8}] type='300 * {\"Type\": string, \"Ru...'>\n",
      "<Array [{Type: 'TT', Run: 148031, ... M: 94.2}] type='300 * {\"Type\": string, \"Ru...'>\n",
      "<Array [{Type: 'TT', Run: 148031, ... M: 92.9}] type='300 * {\"Type\": string, \"Ru...'>\n",
      "<Array [{Type: 'GT', Run: 148031, ... M: 87.7}] type='300 * {\"Type\": string, \"Ru...'>\n",
      "<Array [{Type: 'TT', Run: 148029, ... M: 81.1}] type='300 * {\"Type\": string, \"Ru...'>\n",
      "<Array [{Type: 'TT', Run: 148029, ... M: 96.7}] type='204 * {\"Type\": string, \"Ru...'>\n"
     ]
    }
   ],
   "source": [
    "for arrays in events.iterate(step_size=300):\n",
    "    print(repr(arrays))"
   ]
  },
  {
   "cell_type": "code",
   "execution_count": 86,
   "id": "7bfca46d-9370-4d94-9aee-e74af0a787ad",
   "metadata": {},
   "outputs": [
    {
     "name": "stdout",
     "output_type": "stream",
     "text": [
      "<Array [{Type: 'GT', Run: 148031, ... M: 89.6}] type='667 * {\"Type\": string, \"Ru...'>\n",
      "<Array [{Type: 'TT', Run: 148031, ... M: 18.1}] type='667 * {\"Type\": string, \"Ru...'>\n",
      "<Array [{Type: 'GT', Run: 148031, ... M: 94.7}] type='667 * {\"Type\": string, \"Ru...'>\n",
      "<Array [{Type: 'GT', Run: 148029, ... M: 96.7}] type='303 * {\"Type\": string, \"Ru...'>\n"
     ]
    }
   ],
   "source": [
    "for arrays in events.iterate(step_size=\"50 kB\"):   # 50 kB is very small! for illustrative purposes only!\n",
    "    print(repr(arrays))"
   ]
  },
  {
   "cell_type": "markdown",
   "id": "a25bccb4-4ec7-4beb-a941-2fcef6265c5b",
   "metadata": {},
   "source": [
    "<br><br><br>\n",
    "\n",
    "### Collections of files (like TChain)\n",
    "\n",
    "If you want to read a bunch of files in one call, it has to be a function, rather than a method of [TTree](https://uproot.readthedocs.io/en/latest/uproot.behaviors.TTree.TTree.html).\n",
    "\n",
    "   * The equivalent of [TTree](https://uproot.readthedocs.io/en/latest/uproot.behaviors.TTree.TTree.html) [arrays](https://uproot.readthedocs.io/en/latest/uproot.behaviors.TTree.TTree.html#arrays) is [uproot.concatenate](https://uproot.readthedocs.io/en/latest/uproot.behaviors.TBranch.concatenate.html). _(Reads everything at once: use this as a convenience on datasets you know are small!)_\n",
    "   * The equivalent of [TTree](https://uproot.readthedocs.io/en/latest/uproot.behaviors.TTree.TTree.html) [iterate](https://uproot.readthedocs.io/en/latest/uproot.behaviors.TTree.TTree.html#iterate) is [uproot.iterate](https://uproot.readthedocs.io/en/latest/uproot.behaviors.TBranch.iterate.html). _(This is the most useful one.)_\n",
    "   * There's also an [uproot.lazy](https://uproot.readthedocs.io/en/latest/uproot.behaviors.TBranch.lazy.html) _(More on this below.)_"
   ]
  },
  {
   "cell_type": "code",
   "execution_count": 87,
   "id": "1f3d34b3-9b80-4727-ba81-9e231f05907b",
   "metadata": {},
   "outputs": [],
   "source": [
    "import IPython\n",
    "import matplotlib.pyplot as plt\n",
    "import matplotlib.pylab\n",
    "\n",
    "import hist"
   ]
  },
  {
   "cell_type": "code",
   "execution_count": 88,
   "id": "73eda65a-136b-44c8-b994-3e41204f11cb",
   "metadata": {
    "tags": []
   },
   "outputs": [
    {
     "ename": "KeyboardInterrupt",
     "evalue": "",
     "output_type": "error",
     "traceback": [
      "\u001b[0;31m---------------------------------------------------------------------------\u001b[0m",
      "\u001b[0;31mKeyboardInterrupt\u001b[0m                         Traceback (most recent call last)",
      "\u001b[0;32m<ipython-input-88-e813a9237bcb>\u001b[0m in \u001b[0;36m<module>\u001b[0;34m\u001b[0m\n\u001b[1;32m     37\u001b[0m     \u001b[0mdrawables\u001b[0m \u001b[0;34m=\u001b[0m \u001b[0mh1\u001b[0m\u001b[0;34m.\u001b[0m\u001b[0mplot\u001b[0m\u001b[0;34m(\u001b[0m\u001b[0mcolor\u001b[0m\u001b[0;34m=\u001b[0m\u001b[0;34m\"blue\"\u001b[0m\u001b[0;34m)\u001b[0m\u001b[0;34m\u001b[0m\u001b[0;34m\u001b[0m\u001b[0m\n\u001b[1;32m     38\u001b[0m     \u001b[0mplt\u001b[0m\u001b[0;34m.\u001b[0m\u001b[0myscale\u001b[0m\u001b[0;34m(\u001b[0m\u001b[0;34m\"log\"\u001b[0m\u001b[0;34m)\u001b[0m\u001b[0;34m\u001b[0m\u001b[0;34m\u001b[0m\u001b[0m\n\u001b[0;32m---> 39\u001b[0;31m     \u001b[0mIPython\u001b[0m\u001b[0;34m.\u001b[0m\u001b[0mdisplay\u001b[0m\u001b[0;34m.\u001b[0m\u001b[0mdisplay\u001b[0m\u001b[0;34m(\u001b[0m\u001b[0mmatplotlib\u001b[0m\u001b[0;34m.\u001b[0m\u001b[0mpylab\u001b[0m\u001b[0;34m.\u001b[0m\u001b[0mgcf\u001b[0m\u001b[0;34m(\u001b[0m\u001b[0;34m)\u001b[0m\u001b[0;34m)\u001b[0m\u001b[0;34m\u001b[0m\u001b[0;34m\u001b[0m\u001b[0m\n\u001b[0m\u001b[1;32m     40\u001b[0m     \u001b[0mIPython\u001b[0m\u001b[0;34m.\u001b[0m\u001b[0mdisplay\u001b[0m\u001b[0;34m.\u001b[0m\u001b[0mclear_output\u001b[0m\u001b[0;34m(\u001b[0m\u001b[0mwait\u001b[0m\u001b[0;34m=\u001b[0m\u001b[0;32mTrue\u001b[0m\u001b[0;34m)\u001b[0m\u001b[0;34m\u001b[0m\u001b[0;34m\u001b[0m\u001b[0m\n",
      "\u001b[0;32m~/miniconda3/lib/python3.8/site-packages/IPython/core/display.py\u001b[0m in \u001b[0;36mdisplay\u001b[0;34m(include, exclude, metadata, transient, display_id, *objs, **kwargs)\u001b[0m\n\u001b[1;32m    318\u001b[0m             \u001b[0mpublish_display_data\u001b[0m\u001b[0;34m(\u001b[0m\u001b[0mdata\u001b[0m\u001b[0;34m=\u001b[0m\u001b[0mobj\u001b[0m\u001b[0;34m,\u001b[0m \u001b[0mmetadata\u001b[0m\u001b[0;34m=\u001b[0m\u001b[0mmetadata\u001b[0m\u001b[0;34m,\u001b[0m \u001b[0;34m**\u001b[0m\u001b[0mkwargs\u001b[0m\u001b[0;34m)\u001b[0m\u001b[0;34m\u001b[0m\u001b[0;34m\u001b[0m\u001b[0m\n\u001b[1;32m    319\u001b[0m         \u001b[0;32melse\u001b[0m\u001b[0;34m:\u001b[0m\u001b[0;34m\u001b[0m\u001b[0;34m\u001b[0m\u001b[0m\n\u001b[0;32m--> 320\u001b[0;31m             \u001b[0mformat_dict\u001b[0m\u001b[0;34m,\u001b[0m \u001b[0mmd_dict\u001b[0m \u001b[0;34m=\u001b[0m \u001b[0mformat\u001b[0m\u001b[0;34m(\u001b[0m\u001b[0mobj\u001b[0m\u001b[0;34m,\u001b[0m \u001b[0minclude\u001b[0m\u001b[0;34m=\u001b[0m\u001b[0minclude\u001b[0m\u001b[0;34m,\u001b[0m \u001b[0mexclude\u001b[0m\u001b[0;34m=\u001b[0m\u001b[0mexclude\u001b[0m\u001b[0;34m)\u001b[0m\u001b[0;34m\u001b[0m\u001b[0;34m\u001b[0m\u001b[0m\n\u001b[0m\u001b[1;32m    321\u001b[0m             \u001b[0;32mif\u001b[0m \u001b[0;32mnot\u001b[0m \u001b[0mformat_dict\u001b[0m\u001b[0;34m:\u001b[0m\u001b[0;34m\u001b[0m\u001b[0;34m\u001b[0m\u001b[0m\n\u001b[1;32m    322\u001b[0m                 \u001b[0;31m# nothing to display (e.g. _ipython_display_ took over)\u001b[0m\u001b[0;34m\u001b[0m\u001b[0;34m\u001b[0m\u001b[0;34m\u001b[0m\u001b[0m\n",
      "\u001b[0;32m~/miniconda3/lib/python3.8/site-packages/IPython/core/formatters.py\u001b[0m in \u001b[0;36mformat\u001b[0;34m(self, obj, include, exclude)\u001b[0m\n\u001b[1;32m    178\u001b[0m             \u001b[0mmd\u001b[0m \u001b[0;34m=\u001b[0m \u001b[0;32mNone\u001b[0m\u001b[0;34m\u001b[0m\u001b[0;34m\u001b[0m\u001b[0m\n\u001b[1;32m    179\u001b[0m             \u001b[0;32mtry\u001b[0m\u001b[0;34m:\u001b[0m\u001b[0;34m\u001b[0m\u001b[0;34m\u001b[0m\u001b[0m\n\u001b[0;32m--> 180\u001b[0;31m                 \u001b[0mdata\u001b[0m \u001b[0;34m=\u001b[0m \u001b[0mformatter\u001b[0m\u001b[0;34m(\u001b[0m\u001b[0mobj\u001b[0m\u001b[0;34m)\u001b[0m\u001b[0;34m\u001b[0m\u001b[0;34m\u001b[0m\u001b[0m\n\u001b[0m\u001b[1;32m    181\u001b[0m             \u001b[0;32mexcept\u001b[0m\u001b[0;34m:\u001b[0m\u001b[0;34m\u001b[0m\u001b[0;34m\u001b[0m\u001b[0m\n\u001b[1;32m    182\u001b[0m                 \u001b[0;31m# FIXME: log the exception\u001b[0m\u001b[0;34m\u001b[0m\u001b[0;34m\u001b[0m\u001b[0;34m\u001b[0m\u001b[0m\n",
      "\u001b[0;32m~/miniconda3/lib/python3.8/site-packages/decorator.py\u001b[0m in \u001b[0;36mfun\u001b[0;34m(*args, **kw)\u001b[0m\n\u001b[1;32m    230\u001b[0m             \u001b[0;32mif\u001b[0m \u001b[0;32mnot\u001b[0m \u001b[0mkwsyntax\u001b[0m\u001b[0;34m:\u001b[0m\u001b[0;34m\u001b[0m\u001b[0;34m\u001b[0m\u001b[0m\n\u001b[1;32m    231\u001b[0m                 \u001b[0margs\u001b[0m\u001b[0;34m,\u001b[0m \u001b[0mkw\u001b[0m \u001b[0;34m=\u001b[0m \u001b[0mfix\u001b[0m\u001b[0;34m(\u001b[0m\u001b[0margs\u001b[0m\u001b[0;34m,\u001b[0m \u001b[0mkw\u001b[0m\u001b[0;34m,\u001b[0m \u001b[0msig\u001b[0m\u001b[0;34m)\u001b[0m\u001b[0;34m\u001b[0m\u001b[0;34m\u001b[0m\u001b[0m\n\u001b[0;32m--> 232\u001b[0;31m             \u001b[0;32mreturn\u001b[0m \u001b[0mcaller\u001b[0m\u001b[0;34m(\u001b[0m\u001b[0mfunc\u001b[0m\u001b[0;34m,\u001b[0m \u001b[0;34m*\u001b[0m\u001b[0;34m(\u001b[0m\u001b[0mextras\u001b[0m \u001b[0;34m+\u001b[0m \u001b[0margs\u001b[0m\u001b[0;34m)\u001b[0m\u001b[0;34m,\u001b[0m \u001b[0;34m**\u001b[0m\u001b[0mkw\u001b[0m\u001b[0;34m)\u001b[0m\u001b[0;34m\u001b[0m\u001b[0;34m\u001b[0m\u001b[0m\n\u001b[0m\u001b[1;32m    233\u001b[0m     \u001b[0mfun\u001b[0m\u001b[0;34m.\u001b[0m\u001b[0m__name__\u001b[0m \u001b[0;34m=\u001b[0m \u001b[0mfunc\u001b[0m\u001b[0;34m.\u001b[0m\u001b[0m__name__\u001b[0m\u001b[0;34m\u001b[0m\u001b[0;34m\u001b[0m\u001b[0m\n\u001b[1;32m    234\u001b[0m     \u001b[0mfun\u001b[0m\u001b[0;34m.\u001b[0m\u001b[0m__doc__\u001b[0m \u001b[0;34m=\u001b[0m \u001b[0mfunc\u001b[0m\u001b[0;34m.\u001b[0m\u001b[0m__doc__\u001b[0m\u001b[0;34m\u001b[0m\u001b[0;34m\u001b[0m\u001b[0m\n",
      "\u001b[0;32m~/miniconda3/lib/python3.8/site-packages/IPython/core/formatters.py\u001b[0m in \u001b[0;36mcatch_format_error\u001b[0;34m(method, self, *args, **kwargs)\u001b[0m\n\u001b[1;32m    222\u001b[0m     \u001b[0;34m\"\"\"show traceback on failed format call\"\"\"\u001b[0m\u001b[0;34m\u001b[0m\u001b[0;34m\u001b[0m\u001b[0m\n\u001b[1;32m    223\u001b[0m     \u001b[0;32mtry\u001b[0m\u001b[0;34m:\u001b[0m\u001b[0;34m\u001b[0m\u001b[0;34m\u001b[0m\u001b[0m\n\u001b[0;32m--> 224\u001b[0;31m         \u001b[0mr\u001b[0m \u001b[0;34m=\u001b[0m \u001b[0mmethod\u001b[0m\u001b[0;34m(\u001b[0m\u001b[0mself\u001b[0m\u001b[0;34m,\u001b[0m \u001b[0;34m*\u001b[0m\u001b[0margs\u001b[0m\u001b[0;34m,\u001b[0m \u001b[0;34m**\u001b[0m\u001b[0mkwargs\u001b[0m\u001b[0;34m)\u001b[0m\u001b[0;34m\u001b[0m\u001b[0;34m\u001b[0m\u001b[0m\n\u001b[0m\u001b[1;32m    225\u001b[0m     \u001b[0;32mexcept\u001b[0m \u001b[0mNotImplementedError\u001b[0m\u001b[0;34m:\u001b[0m\u001b[0;34m\u001b[0m\u001b[0;34m\u001b[0m\u001b[0m\n\u001b[1;32m    226\u001b[0m         \u001b[0;31m# don't warn on NotImplementedErrors\u001b[0m\u001b[0;34m\u001b[0m\u001b[0;34m\u001b[0m\u001b[0;34m\u001b[0m\u001b[0m\n",
      "\u001b[0;32m~/miniconda3/lib/python3.8/site-packages/IPython/core/formatters.py\u001b[0m in \u001b[0;36m__call__\u001b[0;34m(self, obj)\u001b[0m\n\u001b[1;32m    339\u001b[0m                 \u001b[0;32mpass\u001b[0m\u001b[0;34m\u001b[0m\u001b[0;34m\u001b[0m\u001b[0m\n\u001b[1;32m    340\u001b[0m             \u001b[0;32melse\u001b[0m\u001b[0;34m:\u001b[0m\u001b[0;34m\u001b[0m\u001b[0;34m\u001b[0m\u001b[0m\n\u001b[0;32m--> 341\u001b[0;31m                 \u001b[0;32mreturn\u001b[0m \u001b[0mprinter\u001b[0m\u001b[0;34m(\u001b[0m\u001b[0mobj\u001b[0m\u001b[0;34m)\u001b[0m\u001b[0;34m\u001b[0m\u001b[0;34m\u001b[0m\u001b[0m\n\u001b[0m\u001b[1;32m    342\u001b[0m             \u001b[0;31m# Finally look for special method names\u001b[0m\u001b[0;34m\u001b[0m\u001b[0;34m\u001b[0m\u001b[0;34m\u001b[0m\u001b[0m\n\u001b[1;32m    343\u001b[0m             \u001b[0mmethod\u001b[0m \u001b[0;34m=\u001b[0m \u001b[0mget_real_method\u001b[0m\u001b[0;34m(\u001b[0m\u001b[0mobj\u001b[0m\u001b[0;34m,\u001b[0m \u001b[0mself\u001b[0m\u001b[0;34m.\u001b[0m\u001b[0mprint_method\u001b[0m\u001b[0;34m)\u001b[0m\u001b[0;34m\u001b[0m\u001b[0;34m\u001b[0m\u001b[0m\n",
      "\u001b[0;32m~/miniconda3/lib/python3.8/site-packages/IPython/core/pylabtools.py\u001b[0m in \u001b[0;36m<lambda>\u001b[0;34m(fig)\u001b[0m\n\u001b[1;32m    248\u001b[0m \u001b[0;34m\u001b[0m\u001b[0m\n\u001b[1;32m    249\u001b[0m     \u001b[0;32mif\u001b[0m \u001b[0;34m'png'\u001b[0m \u001b[0;32min\u001b[0m \u001b[0mformats\u001b[0m\u001b[0;34m:\u001b[0m\u001b[0;34m\u001b[0m\u001b[0;34m\u001b[0m\u001b[0m\n\u001b[0;32m--> 250\u001b[0;31m         \u001b[0mpng_formatter\u001b[0m\u001b[0;34m.\u001b[0m\u001b[0mfor_type\u001b[0m\u001b[0;34m(\u001b[0m\u001b[0mFigure\u001b[0m\u001b[0;34m,\u001b[0m \u001b[0;32mlambda\u001b[0m \u001b[0mfig\u001b[0m\u001b[0;34m:\u001b[0m \u001b[0mprint_figure\u001b[0m\u001b[0;34m(\u001b[0m\u001b[0mfig\u001b[0m\u001b[0;34m,\u001b[0m \u001b[0;34m'png'\u001b[0m\u001b[0;34m,\u001b[0m \u001b[0;34m**\u001b[0m\u001b[0mkwargs\u001b[0m\u001b[0;34m)\u001b[0m\u001b[0;34m)\u001b[0m\u001b[0;34m\u001b[0m\u001b[0;34m\u001b[0m\u001b[0m\n\u001b[0m\u001b[1;32m    251\u001b[0m     \u001b[0;32mif\u001b[0m \u001b[0;34m'retina'\u001b[0m \u001b[0;32min\u001b[0m \u001b[0mformats\u001b[0m \u001b[0;32mor\u001b[0m \u001b[0;34m'png2x'\u001b[0m \u001b[0;32min\u001b[0m \u001b[0mformats\u001b[0m\u001b[0;34m:\u001b[0m\u001b[0;34m\u001b[0m\u001b[0;34m\u001b[0m\u001b[0m\n\u001b[1;32m    252\u001b[0m         \u001b[0mpng_formatter\u001b[0m\u001b[0;34m.\u001b[0m\u001b[0mfor_type\u001b[0m\u001b[0;34m(\u001b[0m\u001b[0mFigure\u001b[0m\u001b[0;34m,\u001b[0m \u001b[0;32mlambda\u001b[0m \u001b[0mfig\u001b[0m\u001b[0;34m:\u001b[0m \u001b[0mretina_figure\u001b[0m\u001b[0;34m(\u001b[0m\u001b[0mfig\u001b[0m\u001b[0;34m,\u001b[0m \u001b[0;34m**\u001b[0m\u001b[0mkwargs\u001b[0m\u001b[0;34m)\u001b[0m\u001b[0;34m)\u001b[0m\u001b[0;34m\u001b[0m\u001b[0;34m\u001b[0m\u001b[0m\n",
      "\u001b[0;32m~/miniconda3/lib/python3.8/site-packages/IPython/core/pylabtools.py\u001b[0m in \u001b[0;36mprint_figure\u001b[0;34m(fig, fmt, bbox_inches, **kwargs)\u001b[0m\n\u001b[1;32m    132\u001b[0m         \u001b[0mFigureCanvasBase\u001b[0m\u001b[0;34m(\u001b[0m\u001b[0mfig\u001b[0m\u001b[0;34m)\u001b[0m\u001b[0;34m\u001b[0m\u001b[0;34m\u001b[0m\u001b[0m\n\u001b[1;32m    133\u001b[0m \u001b[0;34m\u001b[0m\u001b[0m\n\u001b[0;32m--> 134\u001b[0;31m     \u001b[0mfig\u001b[0m\u001b[0;34m.\u001b[0m\u001b[0mcanvas\u001b[0m\u001b[0;34m.\u001b[0m\u001b[0mprint_figure\u001b[0m\u001b[0;34m(\u001b[0m\u001b[0mbytes_io\u001b[0m\u001b[0;34m,\u001b[0m \u001b[0;34m**\u001b[0m\u001b[0mkw\u001b[0m\u001b[0;34m)\u001b[0m\u001b[0;34m\u001b[0m\u001b[0;34m\u001b[0m\u001b[0m\n\u001b[0m\u001b[1;32m    135\u001b[0m     \u001b[0mdata\u001b[0m \u001b[0;34m=\u001b[0m \u001b[0mbytes_io\u001b[0m\u001b[0;34m.\u001b[0m\u001b[0mgetvalue\u001b[0m\u001b[0;34m(\u001b[0m\u001b[0;34m)\u001b[0m\u001b[0;34m\u001b[0m\u001b[0;34m\u001b[0m\u001b[0m\n\u001b[1;32m    136\u001b[0m     \u001b[0;32mif\u001b[0m \u001b[0mfmt\u001b[0m \u001b[0;34m==\u001b[0m \u001b[0;34m'svg'\u001b[0m\u001b[0;34m:\u001b[0m\u001b[0;34m\u001b[0m\u001b[0;34m\u001b[0m\u001b[0m\n",
      "\u001b[0;32m~/miniconda3/lib/python3.8/site-packages/matplotlib/backend_bases.py\u001b[0m in \u001b[0;36mprint_figure\u001b[0;34m(self, filename, dpi, facecolor, edgecolor, orientation, format, bbox_inches, pad_inches, bbox_extra_artists, backend, **kwargs)\u001b[0m\n\u001b[1;32m   2232\u001b[0m             \u001b[0;32mif\u001b[0m \u001b[0mbbox_inches\u001b[0m\u001b[0;34m:\u001b[0m\u001b[0;34m\u001b[0m\u001b[0;34m\u001b[0m\u001b[0m\n\u001b[1;32m   2233\u001b[0m                 \u001b[0;32mif\u001b[0m \u001b[0mbbox_inches\u001b[0m \u001b[0;34m==\u001b[0m \u001b[0;34m\"tight\"\u001b[0m\u001b[0;34m:\u001b[0m\u001b[0;34m\u001b[0m\u001b[0;34m\u001b[0m\u001b[0m\n\u001b[0;32m-> 2234\u001b[0;31m                     bbox_inches = self.figure.get_tightbbox(\n\u001b[0m\u001b[1;32m   2235\u001b[0m                         renderer, bbox_extra_artists=bbox_extra_artists)\n\u001b[1;32m   2236\u001b[0m                     \u001b[0;32mif\u001b[0m \u001b[0mpad_inches\u001b[0m \u001b[0;32mis\u001b[0m \u001b[0;32mNone\u001b[0m\u001b[0;34m:\u001b[0m\u001b[0;34m\u001b[0m\u001b[0;34m\u001b[0m\u001b[0m\n",
      "\u001b[0;32m~/miniconda3/lib/python3.8/site-packages/matplotlib/figure.py\u001b[0m in \u001b[0;36mget_tightbbox\u001b[0;34m(self, renderer, bbox_extra_artists)\u001b[0m\n\u001b[1;32m   1643\u001b[0m                 \u001b[0;31m# need this conditional....\u001b[0m\u001b[0;34m\u001b[0m\u001b[0;34m\u001b[0m\u001b[0;34m\u001b[0m\u001b[0m\n\u001b[1;32m   1644\u001b[0m                 \u001b[0;32mtry\u001b[0m\u001b[0;34m:\u001b[0m\u001b[0;34m\u001b[0m\u001b[0;34m\u001b[0m\u001b[0m\n\u001b[0;32m-> 1645\u001b[0;31m                     bbox = ax.get_tightbbox(\n\u001b[0m\u001b[1;32m   1646\u001b[0m                         renderer, bbox_extra_artists=bbox_extra_artists)\n\u001b[1;32m   1647\u001b[0m                 \u001b[0;32mexcept\u001b[0m \u001b[0mTypeError\u001b[0m\u001b[0;34m:\u001b[0m\u001b[0;34m\u001b[0m\u001b[0;34m\u001b[0m\u001b[0m\n",
      "\u001b[0;32m~/miniconda3/lib/python3.8/site-packages/matplotlib/axes/_base.py\u001b[0m in \u001b[0;36mget_tightbbox\u001b[0;34m(self, renderer, call_axes_locator, bbox_extra_artists, for_layout_only)\u001b[0m\n\u001b[1;32m   4444\u001b[0m             \u001b[0;32mif\u001b[0m \u001b[0mself\u001b[0m\u001b[0;34m.\u001b[0m\u001b[0myaxis\u001b[0m\u001b[0;34m.\u001b[0m\u001b[0mget_visible\u001b[0m\u001b[0;34m(\u001b[0m\u001b[0;34m)\u001b[0m\u001b[0;34m:\u001b[0m\u001b[0;34m\u001b[0m\u001b[0;34m\u001b[0m\u001b[0m\n\u001b[1;32m   4445\u001b[0m                 \u001b[0;32mtry\u001b[0m\u001b[0;34m:\u001b[0m\u001b[0;34m\u001b[0m\u001b[0;34m\u001b[0m\u001b[0m\n\u001b[0;32m-> 4446\u001b[0;31m                     bb_yaxis = self.yaxis.get_tightbbox(\n\u001b[0m\u001b[1;32m   4447\u001b[0m                         renderer, for_layout_only=for_layout_only)\n\u001b[1;32m   4448\u001b[0m                 \u001b[0;32mexcept\u001b[0m \u001b[0mTypeError\u001b[0m\u001b[0;34m:\u001b[0m\u001b[0;34m\u001b[0m\u001b[0;34m\u001b[0m\u001b[0m\n",
      "\u001b[0;32m~/miniconda3/lib/python3.8/site-packages/matplotlib/axis.py\u001b[0m in \u001b[0;36mget_tightbbox\u001b[0;34m(self, renderer, for_layout_only)\u001b[0m\n\u001b[1;32m   1081\u001b[0m         \u001b[0mticks_to_draw\u001b[0m \u001b[0;34m=\u001b[0m \u001b[0mself\u001b[0m\u001b[0;34m.\u001b[0m\u001b[0m_update_ticks\u001b[0m\u001b[0;34m(\u001b[0m\u001b[0;34m)\u001b[0m\u001b[0;34m\u001b[0m\u001b[0;34m\u001b[0m\u001b[0m\n\u001b[1;32m   1082\u001b[0m \u001b[0;34m\u001b[0m\u001b[0m\n\u001b[0;32m-> 1083\u001b[0;31m         \u001b[0mself\u001b[0m\u001b[0;34m.\u001b[0m\u001b[0m_update_label_position\u001b[0m\u001b[0;34m(\u001b[0m\u001b[0mrenderer\u001b[0m\u001b[0;34m)\u001b[0m\u001b[0;34m\u001b[0m\u001b[0;34m\u001b[0m\u001b[0m\n\u001b[0m\u001b[1;32m   1084\u001b[0m \u001b[0;34m\u001b[0m\u001b[0m\n\u001b[1;32m   1085\u001b[0m         \u001b[0;31m# go back to just this axis's tick labels\u001b[0m\u001b[0;34m\u001b[0m\u001b[0;34m\u001b[0m\u001b[0;34m\u001b[0m\u001b[0m\n",
      "\u001b[0;32m~/miniconda3/lib/python3.8/site-packages/matplotlib/axis.py\u001b[0m in \u001b[0;36m_update_label_position\u001b[0;34m(self, renderer)\u001b[0m\n\u001b[1;32m   2350\u001b[0m         \u001b[0;31m# get bounding boxes for this axis and any siblings\u001b[0m\u001b[0;34m\u001b[0m\u001b[0;34m\u001b[0m\u001b[0;34m\u001b[0m\u001b[0m\n\u001b[1;32m   2351\u001b[0m         \u001b[0;31m# that have been set by `fig.align_ylabels()`\u001b[0m\u001b[0;34m\u001b[0m\u001b[0;34m\u001b[0m\u001b[0;34m\u001b[0m\u001b[0m\n\u001b[0;32m-> 2352\u001b[0;31m         \u001b[0mbboxes\u001b[0m\u001b[0;34m,\u001b[0m \u001b[0mbboxes2\u001b[0m \u001b[0;34m=\u001b[0m \u001b[0mself\u001b[0m\u001b[0;34m.\u001b[0m\u001b[0m_get_tick_boxes_siblings\u001b[0m\u001b[0;34m(\u001b[0m\u001b[0mrenderer\u001b[0m\u001b[0;34m=\u001b[0m\u001b[0mrenderer\u001b[0m\u001b[0;34m)\u001b[0m\u001b[0;34m\u001b[0m\u001b[0;34m\u001b[0m\u001b[0m\n\u001b[0m\u001b[1;32m   2353\u001b[0m \u001b[0;34m\u001b[0m\u001b[0m\n\u001b[1;32m   2354\u001b[0m         \u001b[0mx\u001b[0m\u001b[0;34m,\u001b[0m \u001b[0my\u001b[0m \u001b[0;34m=\u001b[0m \u001b[0mself\u001b[0m\u001b[0;34m.\u001b[0m\u001b[0mlabel\u001b[0m\u001b[0;34m.\u001b[0m\u001b[0mget_position\u001b[0m\u001b[0;34m(\u001b[0m\u001b[0;34m)\u001b[0m\u001b[0;34m\u001b[0m\u001b[0;34m\u001b[0m\u001b[0m\n",
      "\u001b[0;32m~/miniconda3/lib/python3.8/site-packages/matplotlib/axis.py\u001b[0m in \u001b[0;36m_get_tick_boxes_siblings\u001b[0;34m(self, renderer)\u001b[0m\n\u001b[1;32m   1865\u001b[0m         \u001b[0;32mfor\u001b[0m \u001b[0max\u001b[0m \u001b[0;32min\u001b[0m \u001b[0mgrouper\u001b[0m\u001b[0;34m.\u001b[0m\u001b[0mget_siblings\u001b[0m\u001b[0;34m(\u001b[0m\u001b[0mself\u001b[0m\u001b[0;34m.\u001b[0m\u001b[0maxes\u001b[0m\u001b[0;34m)\u001b[0m\u001b[0;34m:\u001b[0m\u001b[0;34m\u001b[0m\u001b[0;34m\u001b[0m\u001b[0m\n\u001b[1;32m   1866\u001b[0m             \u001b[0maxis\u001b[0m \u001b[0;34m=\u001b[0m \u001b[0max\u001b[0m\u001b[0;34m.\u001b[0m\u001b[0m_get_axis_map\u001b[0m\u001b[0;34m(\u001b[0m\u001b[0;34m)\u001b[0m\u001b[0;34m[\u001b[0m\u001b[0maxis_name\u001b[0m\u001b[0;34m]\u001b[0m\u001b[0;34m\u001b[0m\u001b[0;34m\u001b[0m\u001b[0m\n\u001b[0;32m-> 1867\u001b[0;31m             \u001b[0mticks_to_draw\u001b[0m \u001b[0;34m=\u001b[0m \u001b[0maxis\u001b[0m\u001b[0;34m.\u001b[0m\u001b[0m_update_ticks\u001b[0m\u001b[0;34m(\u001b[0m\u001b[0;34m)\u001b[0m\u001b[0;34m\u001b[0m\u001b[0;34m\u001b[0m\u001b[0m\n\u001b[0m\u001b[1;32m   1868\u001b[0m             \u001b[0mtlb\u001b[0m\u001b[0;34m,\u001b[0m \u001b[0mtlb2\u001b[0m \u001b[0;34m=\u001b[0m \u001b[0maxis\u001b[0m\u001b[0;34m.\u001b[0m\u001b[0m_get_tick_bboxes\u001b[0m\u001b[0;34m(\u001b[0m\u001b[0mticks_to_draw\u001b[0m\u001b[0;34m,\u001b[0m \u001b[0mrenderer\u001b[0m\u001b[0;34m)\u001b[0m\u001b[0;34m\u001b[0m\u001b[0;34m\u001b[0m\u001b[0m\n\u001b[1;32m   1869\u001b[0m             \u001b[0mbboxes\u001b[0m\u001b[0;34m.\u001b[0m\u001b[0mextend\u001b[0m\u001b[0;34m(\u001b[0m\u001b[0mtlb\u001b[0m\u001b[0;34m)\u001b[0m\u001b[0;34m\u001b[0m\u001b[0;34m\u001b[0m\u001b[0m\n",
      "\u001b[0;32m~/miniconda3/lib/python3.8/site-packages/matplotlib/axis.py\u001b[0m in \u001b[0;36m_update_ticks\u001b[0;34m(self)\u001b[0m\n\u001b[1;32m   1029\u001b[0m             \u001b[0mtick\u001b[0m\u001b[0;34m.\u001b[0m\u001b[0mset_label1\u001b[0m\u001b[0;34m(\u001b[0m\u001b[0mlabel\u001b[0m\u001b[0;34m)\u001b[0m\u001b[0;34m\u001b[0m\u001b[0;34m\u001b[0m\u001b[0m\n\u001b[1;32m   1030\u001b[0m             \u001b[0mtick\u001b[0m\u001b[0;34m.\u001b[0m\u001b[0mset_label2\u001b[0m\u001b[0;34m(\u001b[0m\u001b[0mlabel\u001b[0m\u001b[0;34m)\u001b[0m\u001b[0;34m\u001b[0m\u001b[0;34m\u001b[0m\u001b[0m\n\u001b[0;32m-> 1031\u001b[0;31m         \u001b[0mminor_locs\u001b[0m \u001b[0;34m=\u001b[0m \u001b[0mself\u001b[0m\u001b[0;34m.\u001b[0m\u001b[0mget_minorticklocs\u001b[0m\u001b[0;34m(\u001b[0m\u001b[0;34m)\u001b[0m\u001b[0;34m\u001b[0m\u001b[0;34m\u001b[0m\u001b[0m\n\u001b[0m\u001b[1;32m   1032\u001b[0m         \u001b[0mminor_labels\u001b[0m \u001b[0;34m=\u001b[0m \u001b[0mself\u001b[0m\u001b[0;34m.\u001b[0m\u001b[0mminor\u001b[0m\u001b[0;34m.\u001b[0m\u001b[0mformatter\u001b[0m\u001b[0;34m.\u001b[0m\u001b[0mformat_ticks\u001b[0m\u001b[0;34m(\u001b[0m\u001b[0mminor_locs\u001b[0m\u001b[0;34m)\u001b[0m\u001b[0;34m\u001b[0m\u001b[0;34m\u001b[0m\u001b[0m\n\u001b[1;32m   1033\u001b[0m         \u001b[0mminor_ticks\u001b[0m \u001b[0;34m=\u001b[0m \u001b[0mself\u001b[0m\u001b[0;34m.\u001b[0m\u001b[0mget_minor_ticks\u001b[0m\u001b[0;34m(\u001b[0m\u001b[0mlen\u001b[0m\u001b[0;34m(\u001b[0m\u001b[0mminor_locs\u001b[0m\u001b[0;34m)\u001b[0m\u001b[0;34m)\u001b[0m\u001b[0;34m\u001b[0m\u001b[0;34m\u001b[0m\u001b[0m\n",
      "\u001b[0;32m~/miniconda3/lib/python3.8/site-packages/matplotlib/axis.py\u001b[0m in \u001b[0;36mget_minorticklocs\u001b[0;34m(self)\u001b[0m\n\u001b[1;32m   1268\u001b[0m         \u001b[0mtol\u001b[0m \u001b[0;34m=\u001b[0m \u001b[0;34m(\u001b[0m\u001b[0mhi\u001b[0m \u001b[0;34m-\u001b[0m \u001b[0mlo\u001b[0m\u001b[0;34m)\u001b[0m \u001b[0;34m*\u001b[0m \u001b[0;36m1e-5\u001b[0m\u001b[0;34m\u001b[0m\u001b[0;34m\u001b[0m\u001b[0m\n\u001b[1;32m   1269\u001b[0m         \u001b[0;32mif\u001b[0m \u001b[0mself\u001b[0m\u001b[0;34m.\u001b[0m\u001b[0mremove_overlapping_locs\u001b[0m\u001b[0;34m:\u001b[0m\u001b[0;34m\u001b[0m\u001b[0;34m\u001b[0m\u001b[0m\n\u001b[0;32m-> 1270\u001b[0;31m             minor_locs = [\n\u001b[0m\u001b[1;32m   1271\u001b[0m                 \u001b[0mloc\u001b[0m \u001b[0;32mfor\u001b[0m \u001b[0mloc\u001b[0m\u001b[0;34m,\u001b[0m \u001b[0mtr_loc\u001b[0m \u001b[0;32min\u001b[0m \u001b[0mzip\u001b[0m\u001b[0;34m(\u001b[0m\u001b[0mminor_locs\u001b[0m\u001b[0;34m,\u001b[0m \u001b[0mtr_minor_locs\u001b[0m\u001b[0;34m)\u001b[0m\u001b[0;34m\u001b[0m\u001b[0;34m\u001b[0m\u001b[0m\n\u001b[1;32m   1272\u001b[0m                 if ~np.isclose(tr_loc, tr_major_locs, atol=tol, rtol=0).any()]\n",
      "\u001b[0;32m~/miniconda3/lib/python3.8/site-packages/matplotlib/axis.py\u001b[0m in \u001b[0;36m<listcomp>\u001b[0;34m(.0)\u001b[0m\n\u001b[1;32m   1270\u001b[0m             minor_locs = [\n\u001b[1;32m   1271\u001b[0m                 \u001b[0mloc\u001b[0m \u001b[0;32mfor\u001b[0m \u001b[0mloc\u001b[0m\u001b[0;34m,\u001b[0m \u001b[0mtr_loc\u001b[0m \u001b[0;32min\u001b[0m \u001b[0mzip\u001b[0m\u001b[0;34m(\u001b[0m\u001b[0mminor_locs\u001b[0m\u001b[0;34m,\u001b[0m \u001b[0mtr_minor_locs\u001b[0m\u001b[0;34m)\u001b[0m\u001b[0;34m\u001b[0m\u001b[0;34m\u001b[0m\u001b[0m\n\u001b[0;32m-> 1272\u001b[0;31m                 if ~np.isclose(tr_loc, tr_major_locs, atol=tol, rtol=0).any()]\n\u001b[0m\u001b[1;32m   1273\u001b[0m         \u001b[0;32mreturn\u001b[0m \u001b[0mminor_locs\u001b[0m\u001b[0;34m\u001b[0m\u001b[0;34m\u001b[0m\u001b[0m\n\u001b[1;32m   1274\u001b[0m \u001b[0;34m\u001b[0m\u001b[0m\n",
      "\u001b[0;32m~/miniconda3/lib/python3.8/site-packages/numpy/core/_methods.py\u001b[0m in \u001b[0;36m_any\u001b[0;34m(a, axis, dtype, out, keepdims, where)\u001b[0m\n\u001b[1;32m     54\u001b[0m     \u001b[0;31m# Parsing keyword arguments is currently fairly slow, so avoid it for now\u001b[0m\u001b[0;34m\u001b[0m\u001b[0;34m\u001b[0m\u001b[0;34m\u001b[0m\u001b[0m\n\u001b[1;32m     55\u001b[0m     \u001b[0;32mif\u001b[0m \u001b[0mwhere\u001b[0m \u001b[0;32mis\u001b[0m \u001b[0;32mTrue\u001b[0m\u001b[0;34m:\u001b[0m\u001b[0;34m\u001b[0m\u001b[0;34m\u001b[0m\u001b[0m\n\u001b[0;32m---> 56\u001b[0;31m         \u001b[0;32mreturn\u001b[0m \u001b[0mumr_any\u001b[0m\u001b[0;34m(\u001b[0m\u001b[0ma\u001b[0m\u001b[0;34m,\u001b[0m \u001b[0maxis\u001b[0m\u001b[0;34m,\u001b[0m \u001b[0mdtype\u001b[0m\u001b[0;34m,\u001b[0m \u001b[0mout\u001b[0m\u001b[0;34m,\u001b[0m \u001b[0mkeepdims\u001b[0m\u001b[0;34m)\u001b[0m\u001b[0;34m\u001b[0m\u001b[0;34m\u001b[0m\u001b[0m\n\u001b[0m\u001b[1;32m     57\u001b[0m     \u001b[0;32mreturn\u001b[0m \u001b[0mumr_any\u001b[0m\u001b[0;34m(\u001b[0m\u001b[0ma\u001b[0m\u001b[0;34m,\u001b[0m \u001b[0maxis\u001b[0m\u001b[0;34m,\u001b[0m \u001b[0mdtype\u001b[0m\u001b[0;34m,\u001b[0m \u001b[0mout\u001b[0m\u001b[0;34m,\u001b[0m \u001b[0mkeepdims\u001b[0m\u001b[0;34m,\u001b[0m \u001b[0mwhere\u001b[0m\u001b[0;34m=\u001b[0m\u001b[0mwhere\u001b[0m\u001b[0;34m)\u001b[0m\u001b[0;34m\u001b[0m\u001b[0;34m\u001b[0m\u001b[0m\n\u001b[1;32m     58\u001b[0m \u001b[0;34m\u001b[0m\u001b[0m\n",
      "\u001b[0;31mKeyboardInterrupt\u001b[0m: "
     ]
    },
    {
     "data": {
      "image/png": "[encoded data removed]",
      "text/plain": [
       "<Figure size 432x288 with 1 Axes>"
      ]
     },
     "metadata": {
      "needs_background": "light"
     },
     "output_type": "display_data"
    }
   ],
   "source": [
    "h1 = hist.Hist.new.Reg(500, 0, 500, name=\"mass\").Double()\n",
    "drawables = []\n",
    "\n",
    "for muons in uproot.iterate(\n",
    "    # filename(s)\n",
    "    [\"root://eospublic.cern.ch//eos/opendata/cms/derived-data/AOD2NanoAODOutreachTool/Run2012BC_DoubleMuParked_Muons.root:Events\"],\n",
    "\n",
    "    # branches to read as expressions\n",
    "    [\"Muon_pt\", \"Muon_eta\", \"Muon_phi\", \"Muon_charge\"],\n",
    "\n",
    "    # cut to apply to expressions\n",
    "    cut=\"nMuon >= 2\",\n",
    "\n",
    "    # library dependent; for library=\"ak\", try to split branch names at underscore and make nested records (poor man's NanoEvents)\n",
    "    how=\"zip\",\n",
    "\n",
    "    # the all-important step_size!\n",
    "    step_size=\"1 MB\",\n",
    "\n",
    "    # options you would normally pass to uproot.open\n",
    "    xrootd_handler=uproot.MultithreadedXRootDSource,\n",
    "    num_workers=10,\n",
    "):\n",
    "    # do everything you're going to do to this array\n",
    "    os_cut = muons[:, \"Muon\", \"charge\", 0] != muons[:, \"Muon\", \"charge\", 1]\n",
    "    mu1 = muons[os_cut, 0, \"Muon\"]\n",
    "    mu2 = muons[os_cut, 1, \"Muon\"]\n",
    "\n",
    "    # such as filling a histogram\n",
    "    h1.fill(np.sqrt(2*mu1.pt*mu2.pt*(np.cosh(mu1.eta - mu2.eta) - np.cos(mu1.phi - mu2.phi))))\n",
    "\n",
    "    # a little magic to animate it; hardest part is removing the previous plots\n",
    "    for drawable in drawables:\n",
    "        drawable.stairs.remove()\n",
    "        drawable.errorbar.remove()\n",
    "        drawable.legend_artist.remove()\n",
    "    drawables = h1.plot(color=\"blue\")\n",
    "    plt.yscale(\"log\")\n",
    "    IPython.display.display(matplotlib.pylab.gcf())\n",
    "    IPython.display.clear_output(wait=True)"
   ]
  },
  {
   "cell_type": "markdown",
   "id": "67265d3c-34ea-44b3-9132-a885e9598cf7",
   "metadata": {},
   "source": [
    "<br><br><br>\n",
    "\n",
    "### Lazy arrays\n",
    "\n",
    "Lazy arrays were introduced so that you can explore a large dataset without knowing ahead of time what parts you're going to read."
   ]
  },
  {
   "cell_type": "code",
   "execution_count": 89,
   "id": "ba9b57d0-58f7-4c01-a5be-9b568a8cd87e",
   "metadata": {},
   "outputs": [
    {
     "data": {
      "text/plain": [
       "<Array [{nMuon: 2, Muon_pt: [10.8, ... -1, 1]}] type='61540413 * {\"nMuon\": uint3...'>"
      ]
     },
     "execution_count": 89,
     "metadata": {},
     "output_type": "execute_result"
    }
   ],
   "source": [
    "events = uproot.lazy(\n",
    "    # filename(s)\n",
    "    [\"root://eospublic.cern.ch//eos/opendata/cms/derived-data/AOD2NanoAODOutreachTool/Run2012BC_DoubleMuParked_Muons.root:Events\"],\n",
    "    # step_size is still important\n",
    "    step_size=\"1 MB\",\n",
    ")\n",
    "events"
   ]
  },
  {
   "cell_type": "code",
   "execution_count": 90,
   "id": "c93fd314-b1d4-47ce-bdbe-52e632b1180a",
   "metadata": {},
   "outputs": [
    {
     "data": {
      "text/plain": [
       "61540413 * {\"nMuon\": uint32, \"Muon_pt\": var * float32, \"Muon_eta\": var * float32, \"Muon_phi\": var * float32, \"Muon_mass\": var * float32, \"Muon_charge\": var * int32}"
      ]
     },
     "execution_count": 90,
     "metadata": {},
     "output_type": "execute_result"
    }
   ],
   "source": [
    "events.type"
   ]
  },
  {
   "cell_type": "code",
   "execution_count": 91,
   "id": "099bc0d7-e4c9-4d45-bec7-d51b06c30084",
   "metadata": {},
   "outputs": [
    {
     "data": {
      "text/plain": [
       "61540413"
      ]
     },
     "execution_count": 91,
     "metadata": {},
     "output_type": "execute_result"
    }
   ],
   "source": [
    "len(events)"
   ]
  },
  {
   "cell_type": "markdown",
   "id": "7d0725a0-2103-4a0f-a597-29a2b0f4da93",
   "metadata": {},
   "source": [
    "It _looks like_ we've read that big remote file.\n",
    "\n",
    "But actually (if we peek in the lazy array's cache), we've only read 3 TBaskets."
   ]
  },
  {
   "cell_type": "code",
   "execution_count": 92,
   "id": "5536866c-694e-4d5a-aaa1-5740f993a1be",
   "metadata": {},
   "outputs": [
    {
     "data": {
      "text/plain": [
       "['b0aab1f0-7ab5-11e9-8e62-0101007fbeef:/Events;75:nMuon(0):AsDtype(Bu4(),Lu4()):0-27433:ak',\n",
       " 'b0aab1f0-7ab5-11e9-8e62-0101007fbeef:/Events;75:Muon_charge(5):AsJagged(AsDtype(Bi4(),Li4()),0):61532219-61540413:ak',\n",
       " 'b0aab1f0-7ab5-11e9-8e62-0101007fbeef:/Events;75:Muon_pt(1):AsJagged(AsDtype(Bf4(),Lf4()),0):0-27433:ak']"
      ]
     },
     "execution_count": 92,
     "metadata": {},
     "output_type": "execute_result"
    }
   ],
   "source": [
    "events._caches[0].keys()"
   ]
  },
  {
   "cell_type": "code",
   "execution_count": 93,
   "id": "791537dc-482d-4f56-896e-f3109b7a0440",
   "metadata": {},
   "outputs": [
    {
     "data": {
      "text/plain": [
       "<Array [[10.8, 15.7], [10.5, ... [27.7, 20]] type='61540413 * var * float32'>"
      ]
     },
     "execution_count": 93,
     "metadata": {},
     "output_type": "execute_result"
    }
   ],
   "source": [
    "events.Muon_pt"
   ]
  },
  {
   "cell_type": "markdown",
   "id": "99da44b3-1c50-4d35-a898-e353c98736d7",
   "metadata": {},
   "source": [
    "Now 4 TBaskets..."
   ]
  },
  {
   "cell_type": "code",
   "execution_count": 94,
   "id": "f01a6c87-6a9d-4990-a55e-49deea3f3dcf",
   "metadata": {},
   "outputs": [
    {
     "data": {
      "text/plain": [
       "['b0aab1f0-7ab5-11e9-8e62-0101007fbeef:/Events;75:nMuon(0):AsDtype(Bu4(),Lu4()):0-27433:ak',\n",
       " 'b0aab1f0-7ab5-11e9-8e62-0101007fbeef:/Events;75:Muon_charge(5):AsJagged(AsDtype(Bi4(),Li4()),0):61532219-61540413:ak',\n",
       " 'b0aab1f0-7ab5-11e9-8e62-0101007fbeef:/Events;75:Muon_pt(1):AsJagged(AsDtype(Bf4(),Lf4()),0):0-27433:ak',\n",
       " 'b0aab1f0-7ab5-11e9-8e62-0101007fbeef:/Events;75:Muon_pt(1):AsJagged(AsDtype(Bf4(),Lf4()),0):61532219-61540413:ak']"
      ]
     },
     "execution_count": 94,
     "metadata": {},
     "output_type": "execute_result"
    }
   ],
   "source": [
    "events._caches[0].keys()"
   ]
  },
  {
   "cell_type": "markdown",
   "id": "43dfae28-46bb-4311-92bc-4bcc1cffcefd",
   "metadata": {},
   "source": [
    "<div style=\"font-size: 25px; margin: 10px; padding: 30px; border: 1px dashed black;\">\n",
    "    Big important warning: <b>this access pattern is not read or memory efficient!</b>\n",
    "</div>"
   ]
  },
  {
   "cell_type": "markdown",
   "id": "d98ea07d-36ef-4b16-b36c-9c217de3e1b1",
   "metadata": {},
   "source": [
    "This pattern is much better for exploration, to compute quantities without having to decide ahead of time which branches you'll need.\n",
    "\n",
    "**Recommendation:** develop with lazy arrays, but then put the calculation into an [iterate](https://uproot.readthedocs.io/en/latest/uproot.behaviors.TBranch.iterate.html) loop or a [Coffea Processor](https://coffeateam.github.io/coffea/notebooks/processor.html)."
   ]
  }
 ],
 "metadata": {
  "kernelspec": {
   "display_name": "Python 3",
   "language": "python",
   "name": "python3"
  },
  "language_info": {
   "codemirror_mode": {
    "name": "ipython",
    "version": 3
   },
   "file_extension": ".py",
   "mimetype": "text/x-python",
   "name": "python",
   "nbconvert_exporter": "python",
   "pygments_lexer": "ipython3",
   "version": "3.8.10"
  }
 },
 "nbformat": 4,
 "nbformat_minor": 5
}
