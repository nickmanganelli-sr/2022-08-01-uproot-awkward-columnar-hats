{
 "cells": [
  {
   "cell_type": "markdown",
   "id": "4c5e9a71-9080-4024-afa1-05535ee9b98d",
   "metadata": {},
   "source": [
    "# 1. Python performance"
   ]
  },
  {
   "cell_type": "markdown",
   "id": "77541e67-83cf-4535-adc7-2df5e3194787",
   "metadata": {},
   "source": [
    "<br><br><br><br><br>\n",
    "\n",
    "## Python is now mainstream"
   ]
  },
  {
   "cell_type": "markdown",
   "id": "e4d50b5a-8b8a-4785-aeda-6d0f9ef8f385",
   "metadata": {},
   "source": [
    "Below is an analysis of GitHub repos created by CMS physicists (i.e. \"everyone who forked cms-sw/cmssw\").\n",
    "\n",
    "GitHub labels these repos as C/C++, Python, or Jupyter: the Python and Jupyter categories are now the most common.\n",
    "\n",
    "<img src=\"img/lhlhc-github-languages.svg\" style=\"width: 800px\">"
   ]
  },
  {
   "cell_type": "markdown",
   "id": "ea977366-ed48-4401-9767-395f0d305c15",
   "metadata": {},
   "source": [
    "Furthermore, if we search for strings inside these repos, words like \"`numpy`\" are found in more repos than words like \"`TFile`\" (proxy for ROOT).\n",
    "\n",
    "`\"uproot\"` is also fairly common, but not as much as the likes of NumPy and ROOT.\n",
    "\n",
    "<img src=\"img/lhlhc-github-overlay-lin.svg\" style=\"width: 800px\">"
   ]
  },
  {
   "cell_type": "markdown",
   "id": "8e6dff03-d4ef-42b0-805a-48201ffcc11d",
   "metadata": {},
   "source": [
    "We also asked questions about this at last year's PyHEP workshop (408 respondents, about 90 in CMS).\n",
    "\n",
    "You use Python about equally with C++, and primarily for analysis (not just machine learning).\n",
    "\n",
    "<img src=\"img/pyhep2020-survey-5.svg\" style=\"width: 80%\">"
   ]
  },
  {
   "cell_type": "markdown",
   "id": "603c45ff-8fa6-4c3e-88b4-e7ba189ac7b1",
   "metadata": {},
   "source": [
    "<br><br><br><br><br>\n",
    "\n",
    "## General facts about Python\n",
    "\n",
    "   1. Python is fun and easy.\n",
    "   2. Python is slow.\n",
    "\n",
    "But if you're working with large datasets, you need it to be fast.\n",
    "\n",
    "What can you do?"
   ]
  },
  {
   "cell_type": "markdown",
   "id": "e66323d0-8dac-40d4-b911-7ff7571362e1",
   "metadata": {},
   "source": [
    "<br><br><br><br><br>\n",
    "\n",
    "<div style=\"font-size: 25px; margin-bottom: 30px;\">\n",
    "    Try this one weird trick!\n",
    "</div>\n",
    "\n",
    "<div style=\"font-size: 25px; border: 1px dashed black; padding: 15px; margin-bottom: 30px;\">\n",
    "    <div><b>Step 1:</b> isolate the \"number crunching\" part of your task</div>\n",
    "    <div><b>Step 2:</b> offload that part to compiled code</div>\n",
    "</div>\n",
    "\n",
    "This will be the core message of our overview of Uproot and Awkward Array."
   ]
  },
  {
   "cell_type": "markdown",
   "id": "2aa55921-1317-435f-a01e-2050c9ffb74d",
   "metadata": {},
   "source": [
    "<br><br><br><br><br>\n",
    "\n",
    "## Way-too-simple example\n",
    "\n",
    "Let's say that you have a lot of $p_x$ and $p_y$ values and you want to compute $p_T$."
   ]
  },
  {
   "cell_type": "code",
   "execution_count": null,
   "id": "2735f6aa-3c5c-4cf6-a913-03d33401f6df",
   "metadata": {},
   "outputs": [],
   "source": [
    "import random\n",
    "import math\n",
    "\n",
    "px = [random.gauss(0, 10) for i in range(100000)]\n",
    "py = [random.gauss(0, 10) for i in range(100000)]"
   ]
  },
  {
   "cell_type": "markdown",
   "id": "299494f6-5b6e-46d2-90b1-f75b4d6fb7a8",
   "metadata": {},
   "source": [
    "The pure Python way to do this is with a loop:"
   ]
  },
  {
   "cell_type": "code",
   "execution_count": null,
   "id": "f54b6469-aa54-4402-aafd-7351a4fa8490",
   "metadata": {},
   "outputs": [],
   "source": [
    "%%timeit\n",
    "\n",
    "pt = []\n",
    "for px_i, py_i in zip(px, py):\n",
    "    pt.append(math.sqrt(px_i**2 + py_i**2))"
   ]
  },
  {
   "cell_type": "markdown",
   "id": "bded5721-57e2-4e94-8bc2-b7021d960af4",
   "metadata": {},
   "source": [
    "But Python is slow: each step in the for loop performs type-checking, boxing/unboxing number classes, chasing references, etc.\n",
    "\n",
    "Putting it in a list comprehension doesn't help (much), because that's still a Python for loop."
   ]
  },
  {
   "cell_type": "code",
   "execution_count": null,
   "id": "59c7034f-50bd-483d-83a5-6faabc3b6916",
   "metadata": {},
   "outputs": [],
   "source": [
    "%%timeit\n",
    "\n",
    "pt = [math.sqrt(px_i**2 + py_i**2) for px_i, py_i in zip(px, py)]"
   ]
  },
  {
   "cell_type": "markdown",
   "id": "d3ff1e87-4751-4e96-b933-6e040abca396",
   "metadata": {},
   "source": [
    "That's why we use NumPy."
   ]
  },
  {
   "cell_type": "code",
   "execution_count": null,
   "id": "2c0dccd9-a070-43f7-bfaa-29809bd32d99",
   "metadata": {},
   "outputs": [],
   "source": [
    "import numpy as np\n",
    "\n",
    "px = np.array(px)\n",
    "py = np.array(py)\n",
    "px, py"
   ]
  },
  {
   "cell_type": "code",
   "execution_count": null,
   "id": "f40fb93c-e2f5-4152-ba15-0fa23a9a772c",
   "metadata": {},
   "outputs": [],
   "source": [
    "%%timeit\n",
    "\n",
    "pt = np.sqrt(px**2 + py**2)"
   ]
  },
  {
   "cell_type": "markdown",
   "id": "8104ca03-f664-4a1d-9322-f7c88ec54554",
   "metadata": {},
   "source": [
    "But notice that just \"using NumPy\" isn't what makes it faster: it's the fact that all the data were handled in few Python function calls.\n",
    "\n",
    "Calling NumPy on individual items in a loop doesn't help. (In fact, it's worse than iteration over builtin Python lists.)"
   ]
  },
  {
   "cell_type": "code",
   "execution_count": null,
   "id": "c97cedc9-fd2d-4f70-9199-80d8b66c6c8b",
   "metadata": {},
   "outputs": [],
   "source": [
    "%%timeit\n",
    "\n",
    "pt = [np.sqrt(px_i**2 + py_i**2) for px_i, py_i in zip(px, py)]"
   ]
  },
  {
   "cell_type": "markdown",
   "id": "f80085e3-7638-4a81-aafd-3774780a723e",
   "metadata": {},
   "source": [
    "Rough way to estimate performance of small datasets: count the number of Python steps."
   ]
  },
  {
   "cell_type": "markdown",
   "id": "09ace54e-67a1-4ebe-9922-bf08c39236c3",
   "metadata": {},
   "source": [
    "<br><br><br>\n",
    "\n",
    "Unfortunately, some problems (not this one) are more easily expressed one item at a time (e.g. one event at a time).\n",
    "\n",
    "You can still write iterative loops if they are in compiled code.\n",
    "\n",
    "ROOT can compile C++ functions and make them accessible in Python with PyROOT and RDataFrame (example in the next notebook)."
   ]
  },
  {
   "cell_type": "code",
   "execution_count": null,
   "id": "5a4f2deb-9e7b-4ad1-a2c8-57798b2d0865",
   "metadata": {},
   "outputs": [],
   "source": [
    "import ROOT"
   ]
  },
  {
   "cell_type": "code",
   "execution_count": null,
   "id": "42cee181-2c91-4cdb-87a5-b2284a3f917b",
   "metadata": {},
   "outputs": [],
   "source": [
    "ROOT.gInterpreter.Declare('''\n",
    "void compute_pt(int32_t N, double* px, double* py, double* pt) {\n",
    "    for (int32_t i = 0; i < N; i++) {\n",
    "        pt[i] = sqrt(px[i]*px[i] + py[i]* py[i]);\n",
    "    }\n",
    "}\n",
    "''')"
   ]
  },
  {
   "cell_type": "code",
   "execution_count": null,
   "id": "b24ebb53-dad6-468d-ba41-a4eb90e66c5c",
   "metadata": {},
   "outputs": [],
   "source": [
    "pt = np.empty_like(px)\n",
    "ROOT.compute_pt(len(px), px, py, pt)\n",
    "pt"
   ]
  },
  {
   "cell_type": "code",
   "execution_count": null,
   "id": "e5498601-b116-44c2-9a7f-69ad779ea58a",
   "metadata": {},
   "outputs": [],
   "source": [
    "%%timeit\n",
    "\n",
    "ROOT.compute_pt(len(px), px, py, pt)"
   ]
  },
  {
   "cell_type": "markdown",
   "id": "a4ad16c4-0a6d-4d94-8f6e-cddbaa6368e5",
   "metadata": {},
   "source": [
    "ROOT is just-in-time (JIT) compiling the C++ code.\n",
    "\n",
    "You can also JIT-compile a subset of _Python_ code using Numba."
   ]
  },
  {
   "cell_type": "code",
   "execution_count": null,
   "id": "c8aa7ef9-5151-4357-b30e-360b8770c3ac",
   "metadata": {},
   "outputs": [],
   "source": [
    "import numba as nb\n",
    "\n",
    "@nb.jit\n",
    "def compute_pt(px, py):\n",
    "    pt = np.empty_like(px)\n",
    "    for i, (px_i, py_i) in enumerate(zip(px, py)):\n",
    "        pt[i] = np.sqrt(px_i**2 + py_i**2)\n",
    "    return pt"
   ]
  },
  {
   "cell_type": "code",
   "execution_count": null,
   "id": "864d1e30-55cf-4656-b0bc-3d5eb5afc087",
   "metadata": {},
   "outputs": [],
   "source": [
    "compute_pt(px, py)"
   ]
  },
  {
   "cell_type": "code",
   "execution_count": null,
   "id": "b6acbcdb-786d-4c83-ac46-9b33bb409187",
   "metadata": {},
   "outputs": [],
   "source": [
    "%%timeit\n",
    "\n",
    "compute_pt(px, py)"
   ]
  },
  {
   "cell_type": "markdown",
   "id": "a24e1eb9-6ffe-423f-968c-56de4249763e",
   "metadata": {},
   "source": [
    "For a tutorial on Numba, [watch this](https://youtu.be/X_BJrmofRWQ)."
   ]
  },
  {
   "cell_type": "markdown",
   "id": "dcfcc573-11b1-4441-9dd6-ffd4fb6a532b",
   "metadata": {},
   "source": [
    "<br><br><br><br><br>\n",
    "\n",
    "## Not-too-simple example\n",
    "\n",
    "Let's do a more interesting calculation: reproduce this cellular automata ([source](http://www.ericweisstein.com/encyclopedias/life/Puffer.html)):\n",
    "\n",
    "<img src=\"img/game-of-life-puffer.gif\" style=\"width: 813px\">"
   ]
  },
  {
   "cell_type": "markdown",
   "id": "61779609-95a2-4cf5-bd9f-a9084c451510",
   "metadata": {},
   "source": [
    "It works by applying the following rules to a 2-dimensional grid of boolean-valued cells:\n",
    "\n",
    "   * If the cell is filled and is surrounded by more than 1 and fewer than 4 filled cells, it will remain filled.\n",
    "   * If the cell is empty and is surrounded by 3 filled cells, it will become filled.\n",
    "   * Otherwise, the cell is or becomes empty.\n",
    "\n",
    "For the self-propelling \"puffer\" pattern, the grid must be initially filled like this:"
   ]
  },
  {
   "cell_type": "code",
   "execution_count": null,
   "id": "86c8f56d-f6ab-4b68-ba4e-43714fab59a6",
   "metadata": {},
   "outputs": [],
   "source": [
    "WIDTH = 128\n",
    "HEIGHT = 32\n",
    "\n",
    "def new_world():\n",
    "    world = [[0 for i in range(WIDTH)] for j in range(HEIGHT)]\n",
    "\n",
    "    for x, y in [\n",
    "        ( 4, 125), ( 3, 124), ( 3, 123), ( 3, 122), ( 3, 121), ( 3, 120), ( 3, 119), ( 4, 119), ( 5, 119), ( 6, 120),\n",
    "        (10, 121), (11, 120), (12, 119), (12, 120), (13, 120), (13, 121), (14, 121),\n",
    "        (20, 121), (19, 120), (18, 120), (18, 119), (17, 121), (17, 120), (16, 121),\n",
    "        (26, 125), (27, 124), (27, 123), (27, 122), (27, 121), (27, 120), (27, 119), (26, 119), (25, 119), (24, 120)\n",
    "    ]:\n",
    "        world[x][y] = 1\n",
    "\n",
    "    return world\n",
    "\n",
    "world = new_world()"
   ]
  },
  {
   "cell_type": "code",
   "execution_count": null,
   "id": "33c2867d-735e-4f12-8cb2-9dcb6fb927c1",
   "metadata": {},
   "outputs": [],
   "source": [
    "def show(world):\n",
    "    for row in world:\n",
    "        stars = \"\".join(\"*\" if cell else \" \" for cell in row)\n",
    "        print(\"|\" + stars + \"|\")\n",
    "\n",
    "show(world)"
   ]
  },
  {
   "cell_type": "markdown",
   "id": "4bcc1935-6bef-4eb5-aca0-3541c94cb2f0",
   "metadata": {},
   "source": [
    "<br><br><br><br><br>\n",
    "\n",
    "### Try it in Python!"
   ]
  },
  {
   "cell_type": "code",
   "execution_count": null,
   "id": "91a9a90d-3a11-4499-91b1-b2ec0e252718",
   "metadata": {},
   "outputs": [],
   "source": [
    "def step_python(world):\n",
    "    outworld = []\n",
    "    for i, row in enumerate(world):\n",
    "        outrow = []\n",
    "        for j, cell in enumerate(row):\n",
    "            # count the number of living neighbors\n",
    "            num_neighbors = 0\n",
    "            for di in -1, 0, 1:\n",
    "                for dj in -1, 0, 1:\n",
    "                    if (di, dj) != (0, 0):\n",
    "                        if world[(i + di) % HEIGHT][(j + dj) % WIDTH]:\n",
    "                            num_neighbors += 1\n",
    "\n",
    "            # use that information to decide if the next value of this cell is 0 or 1\n",
    "            if cell and 1 < num_neighbors < 4:\n",
    "                outrow.append(1)\n",
    "            elif not cell and num_neighbors == 3:\n",
    "                outrow.append(1)\n",
    "            else:\n",
    "                outrow.append(0)\n",
    "\n",
    "        outworld.append(outrow)\n",
    "    return outworld"
   ]
  },
  {
   "cell_type": "markdown",
   "id": "9f301340-101f-40ef-b319-94aa95f04e39",
   "metadata": {},
   "source": [
    "Repeatedly evaluate the next cell to animate it."
   ]
  },
  {
   "cell_type": "code",
   "execution_count": null,
   "id": "3aa7c48f-4fa6-431c-829a-5b54d4ff2eb9",
   "metadata": {},
   "outputs": [],
   "source": [
    "world = step_python(world)\n",
    "show(world)"
   ]
  },
  {
   "cell_type": "markdown",
   "id": "38538fdc-aab0-4755-bb2a-749de7ce30f3",
   "metadata": {},
   "source": [
    "But the Python implementation is slow."
   ]
  },
  {
   "cell_type": "code",
   "execution_count": null,
   "id": "9956bd61-65d7-4e7f-82ff-322984f27f80",
   "metadata": {},
   "outputs": [],
   "source": [
    "%%timeit\n",
    "\n",
    "step_python(world)"
   ]
  },
  {
   "cell_type": "markdown",
   "id": "d9aa9fa0-bb41-435c-a617-014fa13ef681",
   "metadata": {},
   "source": [
    "<br><br><br><br><br>\n",
    "\n",
    "### Try it in C!"
   ]
  },
  {
   "cell_type": "code",
   "execution_count": null,
   "id": "48bb4555-96b4-44c3-97d4-54cd587d8adc",
   "metadata": {},
   "outputs": [],
   "source": [
    "%%writefile game-of-life.c\n",
    "\n",
    "#include <stdint.h>\n",
    "\n",
    "const int32_t WIDTH = 128;\n",
    "const int32_t HEIGHT = 32;\n",
    "\n",
    "void step_c(int8_t* inarray, int8_t* outarray) {\n",
    "    for (int32_t i = 0; i < HEIGHT; i++) {\n",
    "        for (int32_t j = 0; j < WIDTH; j++) {\n",
    "            // count the number of living neighbors\n",
    "            int32_t num_neighbors = 0;\n",
    "            for (int32_t di = -1; di <= 1; di++) {\n",
    "                for (int32_t dj = -1; dj <= 1; dj++) {\n",
    "                    if (!(di == 0 && dj == 0)) {\n",
    "                        if (inarray[((i + di + HEIGHT) % HEIGHT) * WIDTH + ((j + dj + WIDTH) % WIDTH)]) {\n",
    "                            num_neighbors++;\n",
    "                        }\n",
    "                    }\n",
    "                }\n",
    "            }\n",
    "\n",
    "            // use that information to decide if the next value of this cell is 0 or 1\n",
    "            int8_t cell = inarray[i * WIDTH + j];\n",
    "            if (cell && 1 < num_neighbors && num_neighbors < 4) {\n",
    "                outarray[i * WIDTH + j] = 1;\n",
    "            }\n",
    "            else if (!cell && num_neighbors == 3) {\n",
    "                outarray[i * WIDTH + j] = 1;\n",
    "            }\n",
    "            else {\n",
    "                outarray[i * WIDTH + j] = 0;\n",
    "            }\n",
    "        }\n",
    "    }\n",
    "\n",
    "    // copy the outarray buffer to the inarray buffer (so the above can be repeated)\n",
    "    for (int32_t i = 0; i < HEIGHT; i++) {\n",
    "        for (int32_t j = 0; j < WIDTH; j++) {\n",
    "            inarray[i * WIDTH + j] = outarray[i * WIDTH + j];\n",
    "        }\n",
    "    }\n",
    "}"
   ]
  },
  {
   "cell_type": "code",
   "execution_count": null,
   "id": "507e532b-592a-4593-a40a-c8151fe033bc",
   "metadata": {},
   "outputs": [],
   "source": [
    "!gcc -std=c99 game-of-life.c -O3 -shared -o game-of-life.so"
   ]
  },
  {
   "cell_type": "markdown",
   "id": "a993b75c-e92d-4f79-8e6a-1f30f66225e3",
   "metadata": {},
   "source": [
    "Here's a different way to access C code (not C++, or use `extern C`) in Python: ctypes."
   ]
  },
  {
   "cell_type": "code",
   "execution_count": null,
   "id": "90aa4962-dafa-4248-83c5-953101445c14",
   "metadata": {},
   "outputs": [],
   "source": [
    "import ctypes\n",
    "\n",
    "ArrayType = ctypes.c_int8 * WIDTH * HEIGHT\n",
    "\n",
    "step_c = ctypes.cdll.LoadLibrary(\"./game-of-life.so\").step_c\n",
    "step_c.argtypes = [ArrayType, ArrayType]\n",
    "step_c.restype = None"
   ]
  },
  {
   "cell_type": "code",
   "execution_count": null,
   "id": "16457b6b-470c-4705-b12b-dca6054608a7",
   "metadata": {},
   "outputs": [],
   "source": [
    "inarray = ArrayType()\n",
    "outarray = ArrayType()\n",
    "\n",
    "for i, row in enumerate(new_world()):\n",
    "    for j, cell in enumerate(row):\n",
    "        inarray[i][j] = cell"
   ]
  },
  {
   "cell_type": "code",
   "execution_count": null,
   "id": "ba88c60b-80ab-4c25-b211-1dc9be3d931e",
   "metadata": {},
   "outputs": [],
   "source": [
    "step_c(inarray, outarray, 1)\n",
    "show(outarray)"
   ]
  },
  {
   "cell_type": "markdown",
   "id": "b1d3cc47-60de-4a6e-843f-8e178abb91a2",
   "metadata": {},
   "source": [
    "The C code is much faster."
   ]
  },
  {
   "cell_type": "code",
   "execution_count": null,
   "id": "9b9138fc-ca6e-437e-8413-ddf6124ff4d2",
   "metadata": {},
   "outputs": [],
   "source": [
    "%%timeit\n",
    "\n",
    "step_c(inarray, outarray)"
   ]
  },
  {
   "cell_type": "markdown",
   "id": "4e3dfa35-2fd3-4056-af2e-ff5ca1f54869",
   "metadata": {},
   "source": [
    "<br><br><br><br><br>\n",
    "\n",
    "### Try it in NumPy!\n",
    "\n",
    "The NumPy implementation is tricky because we have to mix data from different cells.\n",
    "\n",
    "   * [np.roll](https://numpy.org/doc/stable/reference/generated/numpy.roll.html) rotates an array, which we use to add up the neighbors an array at a time.\n",
    "   * `&` and `|` perform bitwise logic, but be careful! Comparisons like `<`, `==`, `>` have to be parenthesized because of [order of operations](https://docs.python.org/3/reference/expressions.html#operator-precedence)."
   ]
  },
  {
   "cell_type": "code",
   "execution_count": null,
   "id": "9e72e268-c6ab-4603-856d-35cb9eeb285e",
   "metadata": {},
   "outputs": [],
   "source": [
    "import numpy as np\n",
    "\n",
    "def step_numpy(world):\n",
    "    num_neighbors = np.zeros(world.shape, dtype=int)                        # initialize neighbors count\n",
    "    num_neighbors += np.roll(np.roll(world,  1, axis=0),  1, axis=1)        # add southwest\n",
    "    num_neighbors += np.roll(np.roll(world,  1, axis=0),  0, axis=1)        # add south\n",
    "    num_neighbors += np.roll(np.roll(world,  1, axis=0), -1, axis=1)        # add southeast\n",
    "    num_neighbors += np.roll(np.roll(world,  0, axis=0),  1, axis=1)        # add west\n",
    "    num_neighbors += np.roll(np.roll(world,  0, axis=0), -1, axis=1)        # add east\n",
    "    num_neighbors += np.roll(np.roll(world, -1, axis=0),  1, axis=1)        # add northwest\n",
    "    num_neighbors += np.roll(np.roll(world, -1, axis=0),  0, axis=1)        # add north\n",
    "    num_neighbors += np.roll(np.roll(world, -1, axis=0), -1, axis=1)        # add northeast\n",
    "\n",
    "    survivors = ((world == 1) & (num_neighbors > 1) & (num_neighbors < 4))  # old cells that survive\n",
    "    births    = ((world == 0) & (num_neighbors == 3))                       # new cells that are born\n",
    "\n",
    "    return (births | survivors).astype(world.dtype)                         # union as booleans\n",
    "\n",
    "world = np.array(new_world())"
   ]
  },
  {
   "cell_type": "code",
   "execution_count": null,
   "id": "ac1e6a2d-adae-4a53-bbba-61d11fa36339",
   "metadata": {
    "tags": []
   },
   "outputs": [],
   "source": [
    "world = step_numpy(world)\n",
    "show(world)"
   ]
  },
  {
   "cell_type": "markdown",
   "id": "f1f7e4f6-cd71-4564-b248-6bb48756ec1e",
   "metadata": {},
   "source": [
    "NumPy is _between_ the pure Python and the C code because the C code scans the data in a single pass.\n",
    "\n",
    "NumPy makes many passes over the data (creating temporary arrays) in each `np.roll`."
   ]
  },
  {
   "cell_type": "code",
   "execution_count": null,
   "id": "b4de4905-59eb-42e0-97ec-52bd7f370cce",
   "metadata": {},
   "outputs": [],
   "source": [
    "%%timeit\n",
    "\n",
    "step_numpy(world)"
   ]
  },
  {
   "cell_type": "markdown",
   "id": "8a094b14-ffd9-4361-ad67-f94d5322169a",
   "metadata": {},
   "source": [
    "<br><br><br><br><br>\n",
    "\n",
    "### Try it in SciPy!\n",
    "\n",
    "The many-passes problem can be reduced by finding a function that computes what we want in a single pass.\n",
    "\n",
    "SciPy has one: counting neighbors is a special case of convolution: [scipy.signal.convolve2d](https://docs.scipy.org/doc/scipy/reference/generated/scipy.signal.convolve2d.html)."
   ]
  },
  {
   "cell_type": "code",
   "execution_count": null,
   "id": "fbb5563b-e453-47fe-90c8-7dcd9efa4565",
   "metadata": {},
   "outputs": [],
   "source": [
    "import scipy.signal\n",
    "\n",
    "num_neighbors_convolver = np.array([[1, 1, 1],\n",
    "                                    [1, 0, 1],\n",
    "                                    [1, 1, 1]])\n",
    "\n",
    "def step_scipy(world):\n",
    "    # this is the step that can now be one function call:\n",
    "    num_neighbors = scipy.signal.convolve2d(world, num_neighbors_convolver, mode=\"same\", boundary=\"wrap\")\n",
    "    \n",
    "    survivors = ((world == 1) & (num_neighbors > 1) & (num_neighbors < 4))  # old cells that survive\n",
    "    births    = ((world == 0) & (num_neighbors == 3))                       # new cells that are born\n",
    "\n",
    "    return (births | survivors).astype(world.dtype)                         # union as booleans\n",
    "\n",
    "world = np.array(new_world())"
   ]
  },
  {
   "cell_type": "code",
   "execution_count": null,
   "id": "8becee6a-0f0b-4f09-bd5d-a98d673ef3e3",
   "metadata": {},
   "outputs": [],
   "source": [
    "world = step_scipy(world)\n",
    "show(world)"
   ]
  },
  {
   "cell_type": "markdown",
   "id": "5e2d3566-ff69-4ba1-9cdf-4e6d16860f15",
   "metadata": {},
   "source": [
    "This version performs fewer passes and is a little better."
   ]
  },
  {
   "cell_type": "code",
   "execution_count": null,
   "id": "b2297b1a-c711-4828-bb6e-b3a8f6341189",
   "metadata": {},
   "outputs": [],
   "source": [
    "%%timeit\n",
    "\n",
    "step_scipy(world)"
   ]
  },
  {
   "cell_type": "markdown",
   "id": "d2f1e535-91f0-48dd-bec0-6f7b728da172",
   "metadata": {},
   "source": [
    "<br><br><br><br><br>\n",
    "\n",
    "### Try it in Numba!\n",
    "\n",
    "JIT-compilation is the ultimate solution to the many-pass problem. Numba lets us write code that looks like our pure Python function."
   ]
  },
  {
   "cell_type": "code",
   "execution_count": null,
   "id": "32ceecc1-55ff-464f-9da7-6d7cfd75f843",
   "metadata": {},
   "outputs": [],
   "source": [
    "import numba as nb\n",
    "\n",
    "@nb.jit\n",
    "def step_numba(world):\n",
    "    outworld = np.empty_like(world)\n",
    "    for i, row in enumerate(world):\n",
    "        for j, cell in enumerate(row):\n",
    "            # count the number of living neighbors\n",
    "            num_neighbors = 0\n",
    "            for di in -1, 0, 1:\n",
    "                for dj in -1, 0, 1:\n",
    "                    if (di, dj) != (0, 0):\n",
    "                        if world[(i + di) % HEIGHT][(j + dj) % WIDTH]:\n",
    "                            num_neighbors += 1\n",
    "\n",
    "            # use that information to decide if the next value of this cell is 0 or 1\n",
    "            if cell and 1 < num_neighbors < 4:\n",
    "                outworld[i, j] = 1\n",
    "            elif not cell and num_neighbors == 3:\n",
    "                outworld[i, j] = 1\n",
    "            else:\n",
    "                outworld[i, j] = 0\n",
    "\n",
    "    return outworld\n",
    "\n",
    "world = np.array(new_world())"
   ]
  },
  {
   "cell_type": "code",
   "execution_count": null,
   "id": "83c93009-dccc-4e9d-b4b9-2f40134fa4ac",
   "metadata": {},
   "outputs": [],
   "source": [
    "world = step_numba(world)\n",
    "show(world)"
   ]
  },
  {
   "cell_type": "markdown",
   "id": "5108a969-18b1-4903-99ce-4610e896066b",
   "metadata": {},
   "source": [
    "It's _almost_ as fast as C code, but easier to integrate into a Python session."
   ]
  },
  {
   "cell_type": "code",
   "execution_count": null,
   "id": "b2298028-9970-4e5c-bc8f-c46488c0a8a3",
   "metadata": {},
   "outputs": [],
   "source": [
    "%%timeit\n",
    "\n",
    "step_numba(world)"
   ]
  },
  {
   "cell_type": "markdown",
   "id": "8016d046-645c-4bc7-b4cc-39b53fd5a93c",
   "metadata": {},
   "source": [
    "<br><br><br><br><br>\n",
    "\n",
    "### Now let's watch an animation\n",
    "\n",
    "We wanted to compute this function quickly so that we can use it to make animations."
   ]
  },
  {
   "cell_type": "code",
   "execution_count": null,
   "id": "97b17a17-675e-4327-b402-b35b14740456",
   "metadata": {},
   "outputs": [],
   "source": [
    "import matplotlib\n",
    "import matplotlib.pyplot as plt\n",
    "\n",
    "world = np.array(new_world())\n",
    "\n",
    "fig = plt.figure(figsize=(8.13, 2.97), dpi=125)\n",
    "plt.imshow(world)"
   ]
  },
  {
   "cell_type": "code",
   "execution_count": null,
   "id": "bade38c0-60e5-459e-bce4-ec9fcfa6159d",
   "metadata": {},
   "outputs": [],
   "source": [
    "from matplotlib.animation import FuncAnimation\n",
    "matplotlib.rc(\"animation\", html=\"jshtml\")\n",
    "fig = plt.figure(figsize=(8.13, 2.97), dpi=125)\n",
    "\n",
    "plt.figure(1)\n",
    "graphic = plt.imshow(world)\n",
    "plt.close(1)\n",
    "\n",
    "def update(i):\n",
    "    global world, graphic\n",
    "    world = step_numba(world)\n",
    "    graphic.set_array(world)\n",
    "    return [graphic]\n",
    "\n",
    "FuncAnimation(fig, update, frames=250, interval=50, blit=True)"
   ]
  }
 ],
 "metadata": {
  "kernelspec": {
   "display_name": "Python 3",
   "language": "python",
   "name": "python3"
  },
  "language_info": {
   "codemirror_mode": {
    "name": "ipython",
    "version": 3
   },
   "file_extension": ".py",
   "mimetype": "text/x-python",
   "name": "python",
   "nbconvert_exporter": "python",
   "pygments_lexer": "ipython3",
   "version": "3.8.10"
  }
 },
 "nbformat": 4,
 "nbformat_minor": 5
}
